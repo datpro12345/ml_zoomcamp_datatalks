{
 "cells": [
  {
   "metadata": {},
   "cell_type": "markdown",
   "source": [
    "# I. Business understanding\n",
    "\n",
    "In the Business Understanding phase, the main goal is to define the project objectives and requirements from a business perspective.\n",
    "\n",
    "#### **Objective:**\n",
    "The primary objective of this project is to build a predictive model that can accurately estimate the Manufacturer's Suggested Retail Price (MSRP) of a car based on various attributes. This prediction can be useful for:\n",
    "\n",
    "- **Car manufacturers**: To set competitive prices for new car models.\n",
    "- **Dealerships**: To evaluate the market value of used cars.\n",
    "- **Consumers**: To assess whether a car is priced fairly when buying or selling.\n",
    "- **Market analysts**: To understand pricing trends and factors influencing car prices.\n",
    "\n",
    "#### **Key Business Questions:**\n",
    "\n",
    "1. **What factors influence car prices the most?**\n",
    "   - Understanding the impact of factors such as engine horsepower, number of cylinders, year of manufacture, brand (make), and vehicle size/style on car pricing.\n",
    "   \n",
    "2. **How can we use these factors to predict MSRP?**\n",
    "   - Develop a model that uses these factors to accurately predict the MSRP of a car.\n",
    "\n",
    "3. **How can the model help improve business decisions?**\n",
    "   - Identify how the model’s predictions can support pricing strategies, inventory management, and sales negotiations.\n",
    "\n",
    "4. **What is the potential financial impact of mispricing?**\n",
    "   - Consider the costs associated with underpricing or overpricing cars, including lost revenue or reduced competitiveness.\n",
    "\n",
    "#### **Target Variable:**\n",
    "- **`msrp`**: This is the target variable that we are trying to predict. It represents the Manufacturer's Suggested Retail Price of the car.\n",
    "\n",
    "#### **Features (Columns):**\n",
    "Each of the columns you’ve listed represents a feature that could potentially influence the car’s MSRP. Here’s a brief description of each and how it might relate to the business problem:\n",
    "\n",
    "- **`make`**: The manufacturer of the car. Different brands have different market perceptions and pricing strategies.\n",
    "  \n",
    "- **`model`**: Specific model of the car. Some models are more popular and therefore might have a higher MSRP.\n",
    "\n",
    "- **`year`**: The manufacturing year of the car. Newer cars typically have higher MSRPs.\n",
    "\n",
    "- **`engine_fuel_type`**: Type of fuel used by the engine (e.g., petrol, diesel, electric). Fuel type can influence the price due to performance, efficiency, and market demand factors.\n",
    "\n",
    "- **`engine_hp`**: Horsepower of the engine. Higher horsepower often correlates with higher prices.\n",
    "\n",
    "- **`engine_cylinders`**: Number of cylinders in the engine. This can influence the power and performance, which in turn affects the price.\n",
    "\n",
    "- **`transmission_type`**: Type of transmission (e.g., automatic, manual). Transmission type can impact consumer preference and pricing.\n",
    "\n",
    "- **`driven_wheels`**: The wheels that receive power from the engine (e.g., front-wheel drive, all-wheel drive). This feature affects performance and is often reflected in the MSRP.\n",
    "\n",
    "- **`number_of_doors`**: Number of doors in the car. This is related to vehicle style and practicality, which can influence the price.\n",
    "\n",
    "- **`market_category`**: A categorization of the vehicle (e.g., luxury, crossover). This is directly related to pricing as different categories target different market segments.\n",
    "\n",
    "- **`vehicle_size`**: Size of the vehicle (e.g., compact, midsize, large). Larger vehicles often have higher MSRPs.\n",
    "\n",
    "- **`vehicle_style`**: Style of the vehicle (e.g., sedan, SUV, hatchback). The style impacts consumer preference and pricing.\n",
    "\n",
    "- **`highway_mpg`**: Fuel efficiency on highways. Cars with better fuel efficiency might have different pricing strategies.\n",
    "\n",
    "- **`city_mpg`**: Fuel efficiency in city driving. Similar to highway mpg, it influences consumer perception and pricing.\n",
    "\n",
    "- **`popularity`**: Popularity of the vehicle or brand. More popular vehicles might be priced higher due to demand.\n",
    "\n",
    "#### **Potential Constraints:**\n",
    "- **Market Fluctuations**: Car prices can fluctuate based on market conditions, economic factors, and consumer preferences.\n",
    "- **Data Limitations**: Ensure that the data is up-to-date and representative of the current market.\n",
    "- **Regulatory Considerations**: Prices might be influenced by government regulations or incentives for certain types of vehicles (e.g., electric cars).\n",
    "\n",
    "#### **Success Criteria:**\n",
    "- **Accuracy**: The predictive model should have a high degree of accuracy, minimizing the difference between the predicted MSRP and the actual MSRP.\n",
    "- **Business Impact**: The model should provide actionable insights that can be used to improve pricing strategies and decision-making processes.\n",
    "- **Scalability**: The model should be scalable and applicable to different markets or regions, considering local pricing dynamics.\n"
   ],
   "id": "37cc160220111f5c"
  },
  {
   "cell_type": "code",
   "id": "initial_id",
   "metadata": {
    "collapsed": true,
    "ExecuteTime": {
     "end_time": "2024-08-25T09:52:23.371840Z",
     "start_time": "2024-08-25T09:52:23.367299Z"
    }
   },
   "source": [
    "#import some necessary librairies\n",
    "\n",
    "import numpy as np # linear algebra\n",
    "import pandas as pd # data processing, CSV file I/O (e.g. pd.read_csv)\n",
    "%matplotlib inline\n",
    "import matplotlib.pyplot as plt  # Matlab-style plotting\n",
    "import seaborn as sns\n",
    "color = sns.color_palette()\n",
    "sns.set_style('darkgrid')\n",
    "import warnings\n",
    "def ignore_warn(*args, **kwargs):\n",
    "    pass\n",
    "warnings.warn = ignore_warn #ignore annoying warning (from sklearn and seaborn)\n",
    "\n",
    "\n",
    "from scipy import stats\n",
    "from scipy.stats import norm, skew #for some statistics"
   ],
   "outputs": [],
   "execution_count": 37
  },
  {
   "metadata": {
    "ExecuteTime": {
     "end_time": "2024-08-25T09:03:38.929294Z",
     "start_time": "2024-08-25T09:03:38.897289Z"
    }
   },
   "cell_type": "code",
   "source": [
    "#Now let's import and put the train and test datasets in  pandas dataframe\n",
    "train = pd.read_csv('data.csv')"
   ],
   "id": "aa3f2380a555e5f7",
   "outputs": [],
   "execution_count": 2
  },
  {
   "metadata": {
    "ExecuteTime": {
     "end_time": "2024-08-25T09:03:43.396805Z",
     "start_time": "2024-08-25T09:03:43.385371Z"
    }
   },
   "cell_type": "code",
   "source": [
    "##display the first five rows of the train dataset.\n",
    "train.head(5)"
   ],
   "id": "48901d3f3b62f160",
   "outputs": [
    {
     "data": {
      "text/plain": [
       "  Make       Model  Year             Engine Fuel Type  Engine HP  \\\n",
       "0  BMW  1 Series M  2011  premium unleaded (required)      335.0   \n",
       "1  BMW    1 Series  2011  premium unleaded (required)      300.0   \n",
       "2  BMW    1 Series  2011  premium unleaded (required)      300.0   \n",
       "3  BMW    1 Series  2011  premium unleaded (required)      230.0   \n",
       "4  BMW    1 Series  2011  premium unleaded (required)      230.0   \n",
       "\n",
       "   Engine Cylinders Transmission Type     Driven_Wheels  Number of Doors  \\\n",
       "0               6.0            MANUAL  rear wheel drive              2.0   \n",
       "1               6.0            MANUAL  rear wheel drive              2.0   \n",
       "2               6.0            MANUAL  rear wheel drive              2.0   \n",
       "3               6.0            MANUAL  rear wheel drive              2.0   \n",
       "4               6.0            MANUAL  rear wheel drive              2.0   \n",
       "\n",
       "                         Market Category Vehicle Size Vehicle Style  \\\n",
       "0  Factory Tuner,Luxury,High-Performance      Compact         Coupe   \n",
       "1                     Luxury,Performance      Compact   Convertible   \n",
       "2                Luxury,High-Performance      Compact         Coupe   \n",
       "3                     Luxury,Performance      Compact         Coupe   \n",
       "4                                 Luxury      Compact   Convertible   \n",
       "\n",
       "   highway MPG  city mpg  Popularity   MSRP  \n",
       "0           26        19        3916  46135  \n",
       "1           28        19        3916  40650  \n",
       "2           28        20        3916  36350  \n",
       "3           28        18        3916  29450  \n",
       "4           28        18        3916  34500  "
      ],
      "text/html": [
       "<div>\n",
       "<style scoped>\n",
       "    .dataframe tbody tr th:only-of-type {\n",
       "        vertical-align: middle;\n",
       "    }\n",
       "\n",
       "    .dataframe tbody tr th {\n",
       "        vertical-align: top;\n",
       "    }\n",
       "\n",
       "    .dataframe thead th {\n",
       "        text-align: right;\n",
       "    }\n",
       "</style>\n",
       "<table border=\"1\" class=\"dataframe\">\n",
       "  <thead>\n",
       "    <tr style=\"text-align: right;\">\n",
       "      <th></th>\n",
       "      <th>Make</th>\n",
       "      <th>Model</th>\n",
       "      <th>Year</th>\n",
       "      <th>Engine Fuel Type</th>\n",
       "      <th>Engine HP</th>\n",
       "      <th>Engine Cylinders</th>\n",
       "      <th>Transmission Type</th>\n",
       "      <th>Driven_Wheels</th>\n",
       "      <th>Number of Doors</th>\n",
       "      <th>Market Category</th>\n",
       "      <th>Vehicle Size</th>\n",
       "      <th>Vehicle Style</th>\n",
       "      <th>highway MPG</th>\n",
       "      <th>city mpg</th>\n",
       "      <th>Popularity</th>\n",
       "      <th>MSRP</th>\n",
       "    </tr>\n",
       "  </thead>\n",
       "  <tbody>\n",
       "    <tr>\n",
       "      <th>0</th>\n",
       "      <td>BMW</td>\n",
       "      <td>1 Series M</td>\n",
       "      <td>2011</td>\n",
       "      <td>premium unleaded (required)</td>\n",
       "      <td>335.0</td>\n",
       "      <td>6.0</td>\n",
       "      <td>MANUAL</td>\n",
       "      <td>rear wheel drive</td>\n",
       "      <td>2.0</td>\n",
       "      <td>Factory Tuner,Luxury,High-Performance</td>\n",
       "      <td>Compact</td>\n",
       "      <td>Coupe</td>\n",
       "      <td>26</td>\n",
       "      <td>19</td>\n",
       "      <td>3916</td>\n",
       "      <td>46135</td>\n",
       "    </tr>\n",
       "    <tr>\n",
       "      <th>1</th>\n",
       "      <td>BMW</td>\n",
       "      <td>1 Series</td>\n",
       "      <td>2011</td>\n",
       "      <td>premium unleaded (required)</td>\n",
       "      <td>300.0</td>\n",
       "      <td>6.0</td>\n",
       "      <td>MANUAL</td>\n",
       "      <td>rear wheel drive</td>\n",
       "      <td>2.0</td>\n",
       "      <td>Luxury,Performance</td>\n",
       "      <td>Compact</td>\n",
       "      <td>Convertible</td>\n",
       "      <td>28</td>\n",
       "      <td>19</td>\n",
       "      <td>3916</td>\n",
       "      <td>40650</td>\n",
       "    </tr>\n",
       "    <tr>\n",
       "      <th>2</th>\n",
       "      <td>BMW</td>\n",
       "      <td>1 Series</td>\n",
       "      <td>2011</td>\n",
       "      <td>premium unleaded (required)</td>\n",
       "      <td>300.0</td>\n",
       "      <td>6.0</td>\n",
       "      <td>MANUAL</td>\n",
       "      <td>rear wheel drive</td>\n",
       "      <td>2.0</td>\n",
       "      <td>Luxury,High-Performance</td>\n",
       "      <td>Compact</td>\n",
       "      <td>Coupe</td>\n",
       "      <td>28</td>\n",
       "      <td>20</td>\n",
       "      <td>3916</td>\n",
       "      <td>36350</td>\n",
       "    </tr>\n",
       "    <tr>\n",
       "      <th>3</th>\n",
       "      <td>BMW</td>\n",
       "      <td>1 Series</td>\n",
       "      <td>2011</td>\n",
       "      <td>premium unleaded (required)</td>\n",
       "      <td>230.0</td>\n",
       "      <td>6.0</td>\n",
       "      <td>MANUAL</td>\n",
       "      <td>rear wheel drive</td>\n",
       "      <td>2.0</td>\n",
       "      <td>Luxury,Performance</td>\n",
       "      <td>Compact</td>\n",
       "      <td>Coupe</td>\n",
       "      <td>28</td>\n",
       "      <td>18</td>\n",
       "      <td>3916</td>\n",
       "      <td>29450</td>\n",
       "    </tr>\n",
       "    <tr>\n",
       "      <th>4</th>\n",
       "      <td>BMW</td>\n",
       "      <td>1 Series</td>\n",
       "      <td>2011</td>\n",
       "      <td>premium unleaded (required)</td>\n",
       "      <td>230.0</td>\n",
       "      <td>6.0</td>\n",
       "      <td>MANUAL</td>\n",
       "      <td>rear wheel drive</td>\n",
       "      <td>2.0</td>\n",
       "      <td>Luxury</td>\n",
       "      <td>Compact</td>\n",
       "      <td>Convertible</td>\n",
       "      <td>28</td>\n",
       "      <td>18</td>\n",
       "      <td>3916</td>\n",
       "      <td>34500</td>\n",
       "    </tr>\n",
       "  </tbody>\n",
       "</table>\n",
       "</div>"
      ]
     },
     "execution_count": 3,
     "metadata": {},
     "output_type": "execute_result"
    }
   ],
   "execution_count": 3
  },
  {
   "metadata": {},
   "cell_type": "markdown",
   "source": [
    "# II. Data Understanding\n",
    "\n",
    "After defining the business objectives and the problem in the Business Understanding phase, the next step in the CRISP-DM process is **Data Understanding**. This phase involves collecting, exploring, and analyzing the data to gain insights and determine the data's quality, relevance, and characteristics. The goal is to ensure that the data is suitable for the analysis and modeling tasks that will follow.\n",
    "\n",
    "Here’s how you can approach the Data Understanding phase for your car price prediction project:\n",
    "\n",
    "### 1. **Data Collection**\n",
    "   - **Objective:** Gather all relevant data necessary for the analysis.\n",
    "   - **Available Data:** In your project, you have a dataset containing the following columns: \n",
    "     - `'make'`, `'model'`, `'year'`, `'engine_fuel_type'`, `'engine_hp'`, `'engine_cylinders'`, `'transmission_type'`, `'driven_wheels'`, `'number_of_doors'`, `'market_category'`, `'vehicle_size'`, `'vehicle_style'`, `'highway_mpg'`, `'city_mpg'`, `'popularity'`, `'msrp'`.\n",
    "   - **Actions:**\n",
    "     - Verify that you have all the columns and data needed for the project.\n",
    "     - Ensure the data is accessible and in a usable format (e.g., CSV, Excel, database).\n",
    "\n",
    "### 2. **Data Description**\n",
    "   - **Objective:** Describe the data to understand its structure and types.\n",
    "   - **Actions:**\n",
    "     - **Data Types:** Examine the data types of each column to ensure they are appropriate (e.g., `'year'` should be an integer, `'make'` and `'model'` should be categorical).\n",
    "     - **Data Distribution:** Understand the distribution of each feature. This includes examining statistics such as mean, median, standard deviation, and range for numerical features like `'engine_hp'` and `'msrp'`.\n",
    "     - **Class Balance:** For categorical variables like `'make'`, `'engine_fuel_type'`, and `'transmission_type'`, check the balance of different categories. Imbalances might require special handling during modeling.\n",
    "\n",
    "\n",
    "### 3. **Initial Data Exploration**\n",
    "   - **Objective:** Conduct an initial exploration to uncover patterns, relationships, and potential issues in the data.\n",
    "   - **Actions:**\n",
    "     - **Correlation Analysis:** Generate a correlation matrix to see how numerical features relate to the target variable (`'msrp'`) and to each other. This helps identify potential predictors and multicollinearity issues.\n",
    "     - **Visual Exploration:** Use plots such as histograms, box plots, scatter plots, and heatmaps to visualize data distribution and relationships. For example:\n",
    "       - **Histograms:** To visualize the distribution of `'msrp'`.\n",
    "       - **Box Plots:** To identify outliers in numerical features like `'engine_hp'`.\n",
    "       - **Scatter Plots:** To explore relationships between features, e.g., `'engine_hp'` vs. `'msrp'`.\n",
    "       - **Heatmap:** To visualize correlations between numerical variables.\n",
    "   \n",
    "\n",
    "\n",
    "### 4. **Assess Data Quality**\n",
    "   - **Objective:** Identify and address any data quality issues that could impact the analysis.\n",
    "   - **Actions:**\n",
    "     - **Missing Values:** Check for missing data in each column. Assess the extent of missing values and determine appropriate handling strategies (e.g., imputation, removal).\n",
    "     - **Outliers:** Identify outliers in numerical features. Outliers can skew analysis and might need to be addressed, especially in the target variable (`'msrp'`).\n",
    "     - **Consistency Checks:** Ensure data consistency across different features. For example, check if the `'number_of_doors'` is consistent with the `'vehicle_style'`.\n",
    "     - **Duplicates:** Check for and handle duplicate rows, as they can introduce bias in the analysis.\n",
    "\n",
    "   \n",
    "### 5. **Data Distribution and Relationships**\n",
    "   - **Objective:** Deepen your understanding of how features relate to the target variable (`'msrp'`) and to each other.\n",
    "   - **Actions:**\n",
    "     - **Target Variable Analysis:** Explore the distribution of `'msrp'` after any transformations. Look for skewness, kurtosis, and other distribution characteristics.\n",
    "     - **Feature Interaction:** Explore interactions between features and how they collectively affect the target variable. For example, how do `'engine_hp'` and `'vehicle_size'` together influence `'msrp'`?\n",
    "     - **Market Segmentation:** If applicable, explore if different segments (e.g., luxury vs. economy cars) exhibit different patterns.\n",
    "\n",
    "\n",
    "### Summary of Data Understanding:\n",
    "During the Data Understanding phase, you’ve collected, described, and explored the dataset to gain insights into its structure and characteristics. Key activities include understanding the distribution of features, assessing correlations, identifying data quality issues, and exploring how different features relate to the target variable (`'msrp'`). These insights are crucial for guiding the next phase—Data Preparation—where you'll clean and transform the data for modeling."
   ],
   "id": "afc32d6b77320dd3"
  },
  {
   "metadata": {},
   "cell_type": "markdown",
   "source": [
    "### 2. **Data Description**\n",
    "   - **Objective:** Describe the data to understand its structure and types."
   ],
   "id": "427dcef85495265b"
  },
  {
   "metadata": {},
   "cell_type": "markdown",
   "source": [
    "\n",
    "- Check Missing values\n",
    "- Check Duplicates\n",
    "\n",
    "- Check data type\n",
    "\n",
    "- Check the number of unique values of each column\n",
    "\n",
    "- Check statistics of the dataset\n",
    "\n",
    "- Check various categories present in the different categorical columns"
   ],
   "id": "abd1fe1e16531eab"
  },
  {
   "metadata": {
    "ExecuteTime": {
     "end_time": "2024-08-25T10:07:01.850912Z",
     "start_time": "2024-08-25T10:07:01.845478Z"
    }
   },
   "cell_type": "code",
   "source": [
    "# check Missing value\n",
    "train.isnull().sum()"
   ],
   "id": "11fff4ebe6f70e64",
   "outputs": [
    {
     "data": {
      "text/plain": [
       "make                    0\n",
       "model                   0\n",
       "year                    0\n",
       "engine_fuel_type        3\n",
       "engine_hp              69\n",
       "engine_cylinders       30\n",
       "transmission_type       0\n",
       "driven_wheels           0\n",
       "number_of_doors         6\n",
       "market_category      3742\n",
       "vehicle_size            0\n",
       "vehicle_style           0\n",
       "highway_mpg             0\n",
       "city_mpg                0\n",
       "popularity              0\n",
       "msrp                    0\n",
       "dtype: int64"
      ]
     },
     "execution_count": 40,
     "metadata": {},
     "output_type": "execute_result"
    }
   ],
   "execution_count": 40
  },
  {
   "metadata": {
    "ExecuteTime": {
     "end_time": "2024-08-25T10:07:27.648511Z",
     "start_time": "2024-08-25T10:07:27.636304Z"
    }
   },
   "cell_type": "code",
   "source": [
    "# Check Duplication\n",
    "train.duplicated().sum()"
   ],
   "id": "e4a794d528ae5f58",
   "outputs": [
    {
     "data": {
      "text/plain": [
       "715"
      ]
     },
     "execution_count": 42,
     "metadata": {},
     "output_type": "execute_result"
    }
   ],
   "execution_count": 42
  },
  {
   "metadata": {
    "ExecuteTime": {
     "end_time": "2024-08-25T10:07:50.709944Z",
     "start_time": "2024-08-25T10:07:50.705905Z"
    }
   },
   "cell_type": "code",
   "source": [
    "#Check datatype\n",
    "train.dtypes"
   ],
   "id": "eb5eec4c65677fed",
   "outputs": [
    {
     "data": {
      "text/plain": [
       "make                  object\n",
       "model                 object\n",
       "year                   int64\n",
       "engine_fuel_type      object\n",
       "engine_hp            float64\n",
       "engine_cylinders     float64\n",
       "transmission_type     object\n",
       "driven_wheels         object\n",
       "number_of_doors      float64\n",
       "market_category       object\n",
       "vehicle_size          object\n",
       "vehicle_style         object\n",
       "highway_mpg            int64\n",
       "city_mpg               int64\n",
       "popularity             int64\n",
       "msrp                 float64\n",
       "dtype: object"
      ]
     },
     "execution_count": 44,
     "metadata": {},
     "output_type": "execute_result"
    }
   ],
   "execution_count": 44
  },
  {
   "metadata": {
    "ExecuteTime": {
     "end_time": "2024-08-25T10:08:05.942750Z",
     "start_time": "2024-08-25T10:08:05.935360Z"
    }
   },
   "cell_type": "code",
   "source": [
    "# Check the number of unique values of each column\n",
    "train.nunique()"
   ],
   "id": "54737687da48ebd3",
   "outputs": [
    {
     "data": {
      "text/plain": [
       "make                   48\n",
       "model                 914\n",
       "year                   28\n",
       "engine_fuel_type       10\n",
       "engine_hp             356\n",
       "engine_cylinders        9\n",
       "transmission_type       5\n",
       "driven_wheels           4\n",
       "number_of_doors         3\n",
       "market_category        71\n",
       "vehicle_size            3\n",
       "vehicle_style          16\n",
       "highway_mpg            59\n",
       "city_mpg               69\n",
       "popularity             48\n",
       "msrp                 6049\n",
       "dtype: int64"
      ]
     },
     "execution_count": 46,
     "metadata": {},
     "output_type": "execute_result"
    }
   ],
   "execution_count": 46
  },
  {
   "metadata": {
    "ExecuteTime": {
     "end_time": "2024-08-25T10:08:20.907405Z",
     "start_time": "2024-08-25T10:08:20.896819Z"
    }
   },
   "cell_type": "code",
   "source": [
    "#Check statistics of data set\n",
    "train.describe()"
   ],
   "id": "98d1ecdbe7b7f7d6",
   "outputs": [
    {
     "data": {
      "text/plain": [
       "               year    engine_hp  engine_cylinders  number_of_doors  \\\n",
       "count  11914.000000  11845.00000      11884.000000     11908.000000   \n",
       "mean    2010.384338    249.38607          5.628829         3.436093   \n",
       "std        7.579740    109.19187          1.780559         0.881315   \n",
       "min     1990.000000     55.00000          0.000000         2.000000   \n",
       "25%     2007.000000    170.00000          4.000000         2.000000   \n",
       "50%     2015.000000    227.00000          6.000000         4.000000   \n",
       "75%     2016.000000    300.00000          6.000000         4.000000   \n",
       "max     2017.000000   1001.00000         16.000000         4.000000   \n",
       "\n",
       "        highway_mpg      city_mpg    popularity          msrp  \n",
       "count  11914.000000  11914.000000  11914.000000  11914.000000  \n",
       "mean      26.637485     19.733255   1554.911197     10.113729  \n",
       "std        8.863001      8.987798   1441.855347      1.105703  \n",
       "min       12.000000      7.000000      2.000000      7.601402  \n",
       "25%       22.000000     16.000000    549.000000      9.952325  \n",
       "50%       26.000000     18.000000   1385.000000     10.308819  \n",
       "75%       30.000000     22.000000   2009.000000     10.650939  \n",
       "max      354.000000    137.000000   5657.000000     14.541078  "
      ],
      "text/html": [
       "<div>\n",
       "<style scoped>\n",
       "    .dataframe tbody tr th:only-of-type {\n",
       "        vertical-align: middle;\n",
       "    }\n",
       "\n",
       "    .dataframe tbody tr th {\n",
       "        vertical-align: top;\n",
       "    }\n",
       "\n",
       "    .dataframe thead th {\n",
       "        text-align: right;\n",
       "    }\n",
       "</style>\n",
       "<table border=\"1\" class=\"dataframe\">\n",
       "  <thead>\n",
       "    <tr style=\"text-align: right;\">\n",
       "      <th></th>\n",
       "      <th>year</th>\n",
       "      <th>engine_hp</th>\n",
       "      <th>engine_cylinders</th>\n",
       "      <th>number_of_doors</th>\n",
       "      <th>highway_mpg</th>\n",
       "      <th>city_mpg</th>\n",
       "      <th>popularity</th>\n",
       "      <th>msrp</th>\n",
       "    </tr>\n",
       "  </thead>\n",
       "  <tbody>\n",
       "    <tr>\n",
       "      <th>count</th>\n",
       "      <td>11914.000000</td>\n",
       "      <td>11845.00000</td>\n",
       "      <td>11884.000000</td>\n",
       "      <td>11908.000000</td>\n",
       "      <td>11914.000000</td>\n",
       "      <td>11914.000000</td>\n",
       "      <td>11914.000000</td>\n",
       "      <td>11914.000000</td>\n",
       "    </tr>\n",
       "    <tr>\n",
       "      <th>mean</th>\n",
       "      <td>2010.384338</td>\n",
       "      <td>249.38607</td>\n",
       "      <td>5.628829</td>\n",
       "      <td>3.436093</td>\n",
       "      <td>26.637485</td>\n",
       "      <td>19.733255</td>\n",
       "      <td>1554.911197</td>\n",
       "      <td>10.113729</td>\n",
       "    </tr>\n",
       "    <tr>\n",
       "      <th>std</th>\n",
       "      <td>7.579740</td>\n",
       "      <td>109.19187</td>\n",
       "      <td>1.780559</td>\n",
       "      <td>0.881315</td>\n",
       "      <td>8.863001</td>\n",
       "      <td>8.987798</td>\n",
       "      <td>1441.855347</td>\n",
       "      <td>1.105703</td>\n",
       "    </tr>\n",
       "    <tr>\n",
       "      <th>min</th>\n",
       "      <td>1990.000000</td>\n",
       "      <td>55.00000</td>\n",
       "      <td>0.000000</td>\n",
       "      <td>2.000000</td>\n",
       "      <td>12.000000</td>\n",
       "      <td>7.000000</td>\n",
       "      <td>2.000000</td>\n",
       "      <td>7.601402</td>\n",
       "    </tr>\n",
       "    <tr>\n",
       "      <th>25%</th>\n",
       "      <td>2007.000000</td>\n",
       "      <td>170.00000</td>\n",
       "      <td>4.000000</td>\n",
       "      <td>2.000000</td>\n",
       "      <td>22.000000</td>\n",
       "      <td>16.000000</td>\n",
       "      <td>549.000000</td>\n",
       "      <td>9.952325</td>\n",
       "    </tr>\n",
       "    <tr>\n",
       "      <th>50%</th>\n",
       "      <td>2015.000000</td>\n",
       "      <td>227.00000</td>\n",
       "      <td>6.000000</td>\n",
       "      <td>4.000000</td>\n",
       "      <td>26.000000</td>\n",
       "      <td>18.000000</td>\n",
       "      <td>1385.000000</td>\n",
       "      <td>10.308819</td>\n",
       "    </tr>\n",
       "    <tr>\n",
       "      <th>75%</th>\n",
       "      <td>2016.000000</td>\n",
       "      <td>300.00000</td>\n",
       "      <td>6.000000</td>\n",
       "      <td>4.000000</td>\n",
       "      <td>30.000000</td>\n",
       "      <td>22.000000</td>\n",
       "      <td>2009.000000</td>\n",
       "      <td>10.650939</td>\n",
       "    </tr>\n",
       "    <tr>\n",
       "      <th>max</th>\n",
       "      <td>2017.000000</td>\n",
       "      <td>1001.00000</td>\n",
       "      <td>16.000000</td>\n",
       "      <td>4.000000</td>\n",
       "      <td>354.000000</td>\n",
       "      <td>137.000000</td>\n",
       "      <td>5657.000000</td>\n",
       "      <td>14.541078</td>\n",
       "    </tr>\n",
       "  </tbody>\n",
       "</table>\n",
       "</div>"
      ]
     },
     "execution_count": 48,
     "metadata": {},
     "output_type": "execute_result"
    }
   ],
   "execution_count": 48
  },
  {
   "metadata": {
    "ExecuteTime": {
     "end_time": "2024-08-25T09:21:17.881463Z",
     "start_time": "2024-08-25T09:21:17.877007Z"
    }
   },
   "cell_type": "code",
   "source": "train.columns = train.columns.str.lower().str.replace(' ', '_')",
   "id": "3df7d0fdd89f3a6f",
   "outputs": [],
   "execution_count": 10
  },
  {
   "metadata": {
    "ExecuteTime": {
     "end_time": "2024-08-25T09:21:38.752174Z",
     "start_time": "2024-08-25T09:21:38.745690Z"
    }
   },
   "cell_type": "code",
   "source": "train['make'].str.lower().str.replace(' ', '_')",
   "id": "6b97d0f879a03a7a",
   "outputs": [
    {
     "data": {
      "text/plain": [
       "0            bmw\n",
       "1            bmw\n",
       "2            bmw\n",
       "3            bmw\n",
       "4            bmw\n",
       "          ...   \n",
       "11909      acura\n",
       "11910      acura\n",
       "11911      acura\n",
       "11912      acura\n",
       "11913    lincoln\n",
       "Name: make, Length: 11914, dtype: object"
      ]
     },
     "execution_count": 12,
     "metadata": {},
     "output_type": "execute_result"
    }
   ],
   "execution_count": 12
  },
  {
   "metadata": {
    "ExecuteTime": {
     "end_time": "2024-08-25T09:22:02.716955Z",
     "start_time": "2024-08-25T09:22:02.711066Z"
    }
   },
   "cell_type": "code",
   "source": [
    "strings = list(train.dtypes[train.dtypes == 'object'].index)\n",
    "strings"
   ],
   "id": "4962acc1e36d910f",
   "outputs": [
    {
     "data": {
      "text/plain": [
       "['make',\n",
       " 'model',\n",
       " 'engine_fuel_type',\n",
       " 'transmission_type',\n",
       " 'driven_wheels',\n",
       " 'market_category',\n",
       " 'vehicle_size',\n",
       " 'vehicle_style']"
      ]
     },
     "execution_count": 14,
     "metadata": {},
     "output_type": "execute_result"
    }
   ],
   "execution_count": 14
  },
  {
   "metadata": {
    "ExecuteTime": {
     "end_time": "2024-08-25T09:22:45.214607Z",
     "start_time": "2024-08-25T09:22:45.181102Z"
    }
   },
   "cell_type": "code",
   "source": [
    "for col in strings:\n",
    "    train[col] = train[col].str.lower().str.replace(' ', '_')"
   ],
   "id": "dbe260b94f2137a7",
   "outputs": [],
   "execution_count": 16
  },
  {
   "metadata": {
    "ExecuteTime": {
     "end_time": "2024-08-25T09:22:59.423400Z",
     "start_time": "2024-08-25T09:22:59.419643Z"
    }
   },
   "cell_type": "code",
   "source": "train.dtypes",
   "id": "946e21f463562005",
   "outputs": [
    {
     "data": {
      "text/plain": [
       "make                  object\n",
       "model                 object\n",
       "year                   int64\n",
       "engine_fuel_type      object\n",
       "engine_hp            float64\n",
       "engine_cylinders     float64\n",
       "transmission_type     object\n",
       "driven_wheels         object\n",
       "number_of_doors      float64\n",
       "market_category       object\n",
       "vehicle_size          object\n",
       "vehicle_style         object\n",
       "highway_mpg            int64\n",
       "city_mpg               int64\n",
       "popularity             int64\n",
       "msrp                   int64\n",
       "dtype: object"
      ]
     },
     "execution_count": 18,
     "metadata": {},
     "output_type": "execute_result"
    }
   ],
   "execution_count": 18
  },
  {
   "metadata": {},
   "cell_type": "markdown",
   "source": "## Data processing ",
   "id": "cd51a011f62bfcce"
  },
  {
   "metadata": {},
   "cell_type": "markdown",
   "source": [
    "### Target Variable\n",
    "\n",
    "- (MSRP) is the price that a product's manufacturer recommends it be sold for at the point of sale \n",
    "- msrp is the variable we need to predict. So let's do some analysis on this variable first.\n",
    "\n"
   ],
   "id": "f31cb0dc77f9db7d"
  },
  {
   "metadata": {
    "ExecuteTime": {
     "end_time": "2024-08-25T09:27:35.477980Z",
     "start_time": "2024-08-25T09:27:35.138748Z"
    }
   },
   "cell_type": "code",
   "source": [
    "sns.distplot(train['msrp'] , fit=norm);\n",
    "\n",
    "# Get the fitted parameters used by the function\n",
    "(mu, sigma) = norm.fit(train['msrp'])\n",
    "print( '\\n mu = {:.2f} and sigma = {:.2f}\\n'.format(mu, sigma))\n",
    "\n",
    "#Now plot the distribution\n",
    "plt.legend(['Normal dist. ($\\mu=$ {:.2f} and $\\sigma=$ {:.2f} )'.format(mu, sigma)],\n",
    "           loc='best')\n",
    "plt.ylabel('Frequency')\n",
    "plt.title('SalePrice distribution')\n",
    "\n",
    "#Get also the QQ-plot\n",
    "fig = plt.figure()\n",
    "res = stats.probplot(train['msrp'], plot=plt)\n",
    "plt.show()"
   ],
   "id": "d7f0042cf7c12091",
   "outputs": [
    {
     "name": "stdout",
     "output_type": "stream",
     "text": [
      "\n",
      " mu = 40594.74 and sigma = 60106.58\n",
      "\n"
     ]
    },
    {
     "data": {
      "text/plain": [
       "<Figure size 640x480 with 1 Axes>"
      ],
      "image/png": "[encoded data removed]"
     },
     "metadata": {},
     "output_type": "display_data"
    },
    {
     "data": {
      "text/plain": [
       "<Figure size 640x480 with 1 Axes>"
      ],
      "image/png": "[encoded data removed]"
     },
     "metadata": {},
     "output_type": "display_data"
    }
   ],
   "execution_count": 23
  },
  {
   "metadata": {},
   "cell_type": "markdown",
   "source": "The analysis of the distribution and the Q-Q plot shows that the 'msrp' variable is heavily skewed with significant outliers. It does not follow a normal distribution, which could affect any analysis or modeling that assumes normality.",
   "id": "2300aff43919812f"
  },
  {
   "metadata": {},
   "cell_type": "markdown",
   "source": "### Log-transformation of the target variable",
   "id": "70174a3c34d85f4e"
  },
  {
   "metadata": {
    "ExecuteTime": {
     "end_time": "2024-08-25T09:33:07.102462Z",
     "start_time": "2024-08-25T09:33:06.791044Z"
    }
   },
   "cell_type": "code",
   "source": [
    "#We use the numpy fuction log1p which  applies log(1+x) to all elements of the column\n",
    "train[\"msrp\"] = np.log1p(train[\"msrp\"])\n",
    "\n",
    "#Check the new distribution \n",
    "sns.distplot(train['msrp'] , fit=norm);\n",
    "\n",
    "# Get the fitted parameters used by the function\n",
    "(mu, sigma) = norm.fit(train['msrp'])\n",
    "print( '\\n mu = {:.2f} and sigma = {:.2f}\\n'.format(mu, sigma))\n",
    "\n",
    "#Now plot the distribution\n",
    "plt.legend(['Normal dist. ($\\mu=$ {:.2f} and $\\sigma=$ {:.2f} )'.format(mu, sigma)],\n",
    "           loc='best')\n",
    "plt.ylabel('Frequency')\n",
    "plt.title('SalePrice distribution')\n",
    "\n",
    "#Get also the QQ-plot\n",
    "fig = plt.figure()\n",
    "res = stats.probplot(train['msrp'], plot=plt)\n",
    "plt.show()"
   ],
   "id": "e56fa352a1a955e1",
   "outputs": [
    {
     "name": "stdout",
     "output_type": "stream",
     "text": [
      "\n",
      " mu = 10.11 and sigma = 1.11\n",
      "\n"
     ]
    },
    {
     "data": {
      "text/plain": [
       "<Figure size 640x480 with 1 Axes>"
      ],
      "image/png": "[encoded data removed]"
     },
     "metadata": {},
     "output_type": "display_data"
    },
    {
     "data": {
      "text/plain": [
       "<Figure size 640x480 with 1 Axes>"
      ],
      "image/png": "[encoded data removed]"
     },
     "metadata": {},
     "output_type": "display_data"
    }
   ],
   "execution_count": 24
  },
  {
   "metadata": {},
   "cell_type": "markdown",
   "source": "### Missing Data",
   "id": "2317daa84b4c4705"
  },
  {
   "metadata": {
    "ExecuteTime": {
     "end_time": "2024-08-25T09:37:33.425389Z",
     "start_time": "2024-08-25T09:37:33.413777Z"
    }
   },
   "cell_type": "code",
   "source": [
    "all_data_na = (train.isnull().sum() / len(train)) * 100\n",
    "all_data_na = all_data_na.drop(all_data_na[all_data_na == 0].index).sort_values(ascending=False)[:30]\n",
    "missing_data = pd.DataFrame({'Missing Ratio' :all_data_na})\n",
    "missing_data"
   ],
   "id": "f6c08a2f724b746a",
   "outputs": [
    {
     "data": {
      "text/plain": [
       "                  Missing Ratio\n",
       "market_category       31.408427\n",
       "engine_hp              0.579151\n",
       "engine_cylinders       0.251805\n",
       "number_of_doors        0.050361\n",
       "engine_fuel_type       0.025180"
      ],
      "text/html": [
       "<div>\n",
       "<style scoped>\n",
       "    .dataframe tbody tr th:only-of-type {\n",
       "        vertical-align: middle;\n",
       "    }\n",
       "\n",
       "    .dataframe tbody tr th {\n",
       "        vertical-align: top;\n",
       "    }\n",
       "\n",
       "    .dataframe thead th {\n",
       "        text-align: right;\n",
       "    }\n",
       "</style>\n",
       "<table border=\"1\" class=\"dataframe\">\n",
       "  <thead>\n",
       "    <tr style=\"text-align: right;\">\n",
       "      <th></th>\n",
       "      <th>Missing Ratio</th>\n",
       "    </tr>\n",
       "  </thead>\n",
       "  <tbody>\n",
       "    <tr>\n",
       "      <th>market_category</th>\n",
       "      <td>31.408427</td>\n",
       "    </tr>\n",
       "    <tr>\n",
       "      <th>engine_hp</th>\n",
       "      <td>0.579151</td>\n",
       "    </tr>\n",
       "    <tr>\n",
       "      <th>engine_cylinders</th>\n",
       "      <td>0.251805</td>\n",
       "    </tr>\n",
       "    <tr>\n",
       "      <th>number_of_doors</th>\n",
       "      <td>0.050361</td>\n",
       "    </tr>\n",
       "    <tr>\n",
       "      <th>engine_fuel_type</th>\n",
       "      <td>0.025180</td>\n",
       "    </tr>\n",
       "  </tbody>\n",
       "</table>\n",
       "</div>"
      ]
     },
     "execution_count": 27,
     "metadata": {},
     "output_type": "execute_result"
    }
   ],
   "execution_count": 27
  },
  {
   "metadata": {
    "ExecuteTime": {
     "end_time": "2024-08-25T09:38:12.128558Z",
     "start_time": "2024-08-25T09:38:12.005341Z"
    }
   },
   "cell_type": "code",
   "source": [
    "f, ax = plt.subplots(figsize=(12, 9))\n",
    "plt.xticks(rotation=90)\n",
    "sns.barplot(x=all_data_na.index, y=all_data_na)\n",
    "plt.xlabel('Features', fontsize=15)\n",
    "plt.ylabel('Percent of missing values', fontsize=15)\n",
    "plt.title('Percent missing data by feature', fontsize=15)"
   ],
   "id": "55c6114f50386946",
   "outputs": [
    {
     "data": {
      "text/plain": [
       "Text(0.5, 1.0, 'Percent missing data by feature')"
      ]
     },
     "execution_count": 30,
     "metadata": {},
     "output_type": "execute_result"
    },
    {
     "data": {
      "text/plain": [
       "<Figure size 1200x900 with 1 Axes>"
      ],
      "image/png": "[encoded data removed]"
     },
     "metadata": {},
     "output_type": "display_data"
    }
   ],
   "execution_count": 30
  },
  {
   "metadata": {},
   "cell_type": "markdown",
   "source": "### Data Correlation",
   "id": "c92fb245b63232e8"
  },
  {
   "metadata": {
    "ExecuteTime": {
     "end_time": "2024-08-25T09:41:08.623739Z",
     "start_time": "2024-08-25T09:41:08.619181Z"
    }
   },
   "cell_type": "code",
   "source": [
    "numeric_cols = train.select_dtypes(include=['int64', 'float64']).columns\n",
    "\n",
    "# Tạo DataFrame chỉ chứa các cột số\n",
    "numeric_df = train[numeric_cols]"
   ],
   "id": "9ef1f930174af0f",
   "outputs": [],
   "execution_count": 33
  },
  {
   "metadata": {
    "ExecuteTime": {
     "end_time": "2024-08-25T09:42:58.262500Z",
     "start_time": "2024-08-25T09:42:58.102562Z"
    }
   },
   "cell_type": "code",
   "source": [
    "#Correlation map to see how features are correlated with SalePrice\n",
    "corrmat = numeric_df.corr()\n",
    "# Vẽ biểu đồ heatmap với bảng màu \"coolwarm\"\n",
    "plt.subplots(figsize=(12, 9))\n",
    "sns.heatmap(corrmat, vmax=0.9, square=True, cmap=\"coolwarm\", annot=True)\n",
    "plt.show()"
   ],
   "id": "a84f4f1aee087f67",
   "outputs": [
    {
     "data": {
      "text/plain": [
       "<Figure size 1200x900 with 2 Axes>"
      ],
      "image/png": "[encoded data removed]"
     },
     "metadata": {},
     "output_type": "display_data"
    }
   ],
   "execution_count": 36
  },
  {
   "metadata": {
    "ExecuteTime": {
     "end_time": "2024-08-25T09:52:45.392203Z",
     "start_time": "2024-08-25T09:52:45.388876Z"
    }
   },
   "cell_type": "code",
   "source": "train.columns",
   "id": "44babd017a012b00",
   "outputs": [
    {
     "data": {
      "text/plain": [
       "Index(['make', 'model', 'year', 'engine_fuel_type', 'engine_hp',\n",
       "       'engine_cylinders', 'transmission_type', 'driven_wheels',\n",
       "       'number_of_doors', 'market_category', 'vehicle_size', 'vehicle_style',\n",
       "       'highway_mpg', 'city_mpg', 'popularity', 'msrp'],\n",
       "      dtype='object')"
      ]
     },
     "execution_count": 38,
     "metadata": {},
     "output_type": "execute_result"
    }
   ],
   "execution_count": 38
  },
  {
   "metadata": {},
   "cell_type": "markdown",
   "source": "### Setting up the validation framework",
   "id": "422a9fddb311d89d"
  },
  {
   "metadata": {
    "ExecuteTime": {
     "end_time": "2024-08-25T15:53:14.272506Z",
     "start_time": "2024-08-25T15:53:14.260838Z"
    }
   },
   "cell_type": "code",
   "source": [
    "# Calculate the number of samples in the entire dataset\n",
    "df = train.copy()\n",
    "\n",
    "n = len(df)\n",
    "\n",
    "# Determine the number of samples for each dataset: train, validation, and test\n",
    "n_val = int(n * 0.2)  # 20% of the data for validation\n",
    "n_test = int(n * 0.2)  # 20% of the data for testing\n",
    "n_train = n - n_val - n_test  # The remaining 60% for training\n",
    "\n",
    "# Shuffle the data to ensure randomness and reduce bias\n",
    "idx = np.arange(n)\n",
    "np.random.seed(2)  # Setting a seed for reproducibility\n",
    "np.random.shuffle(idx)  # Shuffle the indices\n",
    "\n",
    "# Split the dataset into train, validation, and test sets based on indices\n",
    "df_train = df.iloc[idx[:n_train]]\n",
    "df_val = df.iloc[idx[n_train:n_train+n_val]]\n",
    "df_test = df.iloc[idx[n_train+n_val:]]\n",
    "\n",
    "# Assuming 'y' is the target variable in the original DataFrame\n",
    "y = df['msrp']  \n",
    "\n",
    "# Split the target variable into y_train, y_val, and y_test\n",
    "y_train = y.iloc[idx[:n_train]]\n",
    "y_val = y.iloc[idx[n_train:n_train+n_val]]\n",
    "y_test = y.iloc[idx[n_train+n_val:]]\n",
    "\n",
    "# Reset the index for each dataset to simplify further operations\n",
    "df_train = df_train.reset_index(drop=True)\n",
    "df_val = df_val.reset_index(drop=True)\n",
    "df_test = df_test.reset_index(drop=True)\n",
    "\n",
    "y_train = y_train.reset_index(drop=True)\n",
    "y_val = y_val.reset_index(drop=True)\n",
    "y_test = y_test.reset_index(drop=True)\n",
    "\n",
    "# Now the dataset is split into three parts: df_train, df_val, and df_test\n",
    "# Similarly, the target variable is split into y_train, y_val, and y_test\n"
   ],
   "id": "d03b42acb2f7d0fd",
   "outputs": [],
   "execution_count": 53
  },
  {
   "metadata": {
    "ExecuteTime": {
     "end_time": "2024-08-25T15:53:15.836016Z",
     "start_time": "2024-08-25T15:53:15.832367Z"
    }
   },
   "cell_type": "code",
   "source": [
    "del df_train['msrp']\n",
    "del df_val['msrp']\n",
    "del df_test['msrp']"
   ],
   "id": "fb11ee42877aeca0",
   "outputs": [],
   "execution_count": 54
  },
  {
   "metadata": {},
   "cell_type": "markdown",
   "source": "### Car price baseline model     ",
   "id": "a935736941086888"
  },
  {
   "metadata": {
    "ExecuteTime": {
     "end_time": "2024-08-25T15:37:06.064714Z",
     "start_time": "2024-08-25T15:37:06.060463Z"
    }
   },
   "cell_type": "code",
   "source": [
    "print(df_train.columns)\n",
    "\n",
    "base = ['engine_hp', 'engine_cylinders', 'highway_mpg', 'city_mpg', 'popularity']\n",
    "\n",
    "X_train = df_train[base].fillna(0).values"
   ],
   "id": "a16db1ffb9d3fea9",
   "outputs": [
    {
     "name": "stdout",
     "output_type": "stream",
     "text": [
      "Index(['make', 'model', 'year', 'engine_fuel_type', 'engine_hp',\n",
      "       'engine_cylinders', 'transmission_type', 'driven_wheels',\n",
      "       'number_of_doors', 'market_category', 'vehicle_size', 'vehicle_style',\n",
      "       'highway_mpg', 'city_mpg', 'popularity', 'msrp'],\n",
      "      dtype='object')\n"
     ]
    }
   ],
   "execution_count": 50
  },
  {
   "metadata": {
    "ExecuteTime": {
     "end_time": "2024-08-25T15:48:26.524352Z",
     "start_time": "2024-08-25T15:48:26.522211Z"
    }
   },
   "cell_type": "code",
   "source": [
    "def train_linear_regression(X, y):\n",
    "    ones = np.ones(X.shape[0])  # Create a column of ones for the intercept term\n",
    "    X = np.column_stack([ones, X])  # Add the intercept term to the features\n",
    "\n",
    "    XTX = X.T.dot(X)  # Compute X^T * X\n",
    "    XTX_inv = np.linalg.inv(XTX)  # Compute the inverse of X^T * X\n",
    "    w_full = XTX_inv.dot(X.T).dot(y)  # Compute the weights using the normal equation\n",
    "\n",
    "    return w_full[0], w_full[1:]  # Return the intercept and the weights for the features"
   ],
   "id": "9d4bba41853e8956",
   "outputs": [],
   "execution_count": 51
  },
  {
   "metadata": {
    "ExecuteTime": {
     "end_time": "2024-08-25T15:53:27.270116Z",
     "start_time": "2024-08-25T15:53:27.247451Z"
    }
   },
   "cell_type": "code",
   "source": [
    "w0, w = train_linear_regression(X_train, y_train)\n",
    "\n",
    "y_pred = w0 + X_train.dot(w)"
   ],
   "id": "469acd0b92e20c4e",
   "outputs": [],
   "execution_count": 55
  },
  {
   "metadata": {
    "ExecuteTime": {
     "end_time": "2024-08-25T15:56:22.435940Z",
     "start_time": "2024-08-25T15:56:22.432568Z"
    }
   },
   "cell_type": "code",
   "source": [
    "print(w)\n",
    "print(w0)"
   ],
   "id": "20c5f761720bcb8d",
   "outputs": [
    {
     "name": "stdout",
     "output_type": "stream",
     "text": [
      "[ 9.70589522e-03 -1.59103494e-01  1.43792133e-02  1.49441072e-02\n",
      " -9.06908672e-06]\n",
      "7.927257388070112\n"
     ]
    }
   ],
   "execution_count": 56
  },
  {
   "metadata": {
    "ExecuteTime": {
     "end_time": "2024-08-25T15:56:36.838213Z",
     "start_time": "2024-08-25T15:56:36.664388Z"
    }
   },
   "cell_type": "code",
   "source": [
    "sns.histplot(y_pred, color='red', alpha=0.5, bins=50)\n",
    "sns.histplot(y_train, color='blue', alpha=0.5, bins=50)"
   ],
   "id": "ef7bf7f3d5bd447f",
   "outputs": [
    {
     "data": {
      "text/plain": [
       "<Axes: xlabel='msrp', ylabel='Count'>"
      ]
     },
     "execution_count": 57,
     "metadata": {},
     "output_type": "execute_result"
    },
    {
     "data": {
      "text/plain": [
       "<Figure size 640x480 with 1 Axes>"
      ],
      "image/png": "[encoded data removed]"
     },
     "metadata": {},
     "output_type": "display_data"
    }
   ],
   "execution_count": 57
  },
  {
   "metadata": {},
   "cell_type": "markdown",
   "source": "**RMSE**",
   "id": "efaf280cceedee5a"
  },
  {
   "metadata": {
    "ExecuteTime": {
     "end_time": "2024-08-25T15:57:14.403075Z",
     "start_time": "2024-08-25T15:57:14.400773Z"
    }
   },
   "cell_type": "code",
   "source": [
    "def rmse(y, y_pred):\n",
    "    se = (y - y_pred) ** 2\n",
    "    mse = se.mean()\n",
    "    return np.sqrt(mse)"
   ],
   "id": "612e2735bead9890",
   "outputs": [],
   "execution_count": 58
  },
  {
   "metadata": {
    "ExecuteTime": {
     "end_time": "2024-08-25T15:57:17.882797Z",
     "start_time": "2024-08-25T15:57:17.879489Z"
    }
   },
   "cell_type": "code",
   "source": "rmse(y_train, y_pred)",
   "id": "66c7386f0976233f",
   "outputs": [
    {
     "data": {
      "text/plain": [
       "0.7554192603920132"
      ]
     },
     "execution_count": 59,
     "metadata": {},
     "output_type": "execute_result"
    }
   ],
   "execution_count": 59
  },
  {
   "metadata": {},
   "cell_type": "markdown",
   "source": "**Validating the model**",
   "id": "c22e497a47b40684"
  },
  {
   "metadata": {
    "ExecuteTime": {
     "end_time": "2024-08-25T15:58:41.141870Z",
     "start_time": "2024-08-25T15:58:41.139629Z"
    }
   },
   "cell_type": "code",
   "source": [
    "def prepare_X(df):\n",
    "    df_num = df[base]\n",
    "    df_num = df_num.fillna(0)\n",
    "    X = df_num.values\n",
    "    return X"
   ],
   "id": "cda8fcdef4744167",
   "outputs": [],
   "execution_count": 60
  },
  {
   "metadata": {
    "ExecuteTime": {
     "end_time": "2024-08-25T15:58:46.153966Z",
     "start_time": "2024-08-25T15:58:46.103533Z"
    }
   },
   "cell_type": "code",
   "source": [
    "X_train = prepare_X(df_train)\n",
    "w0, w = train_linear_regression(X_train, y_train)\n",
    "\n",
    "X_val = prepare_X(df_val)\n",
    "y_pred = w0 + X_val.dot(w)\n",
    "rmse(y_val, y_pred)"
   ],
   "id": "6161f6633efb79e6",
   "outputs": [
    {
     "data": {
      "text/plain": [
       "0.7616530991301608"
      ]
     },
     "execution_count": 61,
     "metadata": {},
     "output_type": "execute_result"
    }
   ],
   "execution_count": 61
  },
  {
   "metadata": {},
   "cell_type": "markdown",
   "source": "#### Categorical variables",
   "id": "331bc8ea19c0804"
  },
  {
   "metadata": {
    "ExecuteTime": {
     "end_time": "2024-08-25T17:39:41.617360Z",
     "start_time": "2024-08-25T17:39:41.608813Z"
    }
   },
   "cell_type": "code",
   "source": [
    "categorical_columns = [\n",
    "    'make', 'model', 'engine_fuel_type', 'driven_wheels', 'market_category',\n",
    "    'vehicle_size', 'vehicle_style']\n",
    "\n",
    "categorical = {}\n",
    "\n",
    "for c in categorical_columns:\n",
    "    categorical[c] = list(df_train[c].value_counts().head().index)"
   ],
   "id": "91028c7a451a31ef",
   "outputs": [],
   "execution_count": 66
  },
  {
   "metadata": {
    "ExecuteTime": {
     "end_time": "2024-08-25T17:39:42.422620Z",
     "start_time": "2024-08-25T17:39:42.418879Z"
    }
   },
   "cell_type": "code",
   "source": [
    "def prepare_X(df):\n",
    "    df = df.copy()\n",
    "\n",
    "    df['age'] = 2017 - df['year']\n",
    "    features = base + ['age']\n",
    "\n",
    "    for v in [2, 3, 4]:\n",
    "        df['num_doors_%d' % v] = (df.number_of_doors == v).astype(int)\n",
    "        features.append('num_doors_%d' % v)\n",
    "\n",
    "    for name, values in categorical.items():\n",
    "        for value in values:\n",
    "            df['%s_%s' % (name, value)] = (df[name] == value).astype(int)\n",
    "            features.append('%s_%s' % (name, value))\n",
    "\n",
    "    df_num = df[features]\n",
    "    df_num = df_num.fillna(0)\n",
    "    X = df_num.values\n",
    "\n",
    "    return X"
   ],
   "id": "6bd5ecbf9077c178",
   "outputs": [],
   "execution_count": 67
  },
  {
   "metadata": {
    "ExecuteTime": {
     "end_time": "2024-08-25T17:39:46.856778Z",
     "start_time": "2024-08-25T17:39:46.785839Z"
    }
   },
   "cell_type": "code",
   "source": [
    "X_train = prepare_X(df_train)\n",
    "w0, w = train_linear_regression(X_train, y_train)\n",
    "\n",
    "X_val = prepare_X(df_val)\n",
    "y_pred = w0 + X_val.dot(w)\n",
    "rmse(y_val, y_pred)"
   ],
   "id": "da3191c8ff1ad1cd",
   "outputs": [
    {
     "data": {
      "text/plain": [
       "1186.874474023634"
      ]
     },
     "execution_count": 68,
     "metadata": {},
     "output_type": "execute_result"
    }
   ],
   "execution_count": 68
  },
  {
   "metadata": {
    "ExecuteTime": {
     "end_time": "2024-08-25T17:39:48.715710Z",
     "start_time": "2024-08-25T17:39:48.712396Z"
    }
   },
   "cell_type": "code",
   "source": "w0, w",
   "id": "a1e69c90e4c765ce",
   "outputs": [
    {
     "data": {
      "text/plain": [
       "(2.2188634096833324e+16,\n",
       " array([-6.81651096e+00, -1.90869095e+01, -7.89425107e+01, -1.07770343e+02,\n",
       "         2.38930533e-02, -6.94050130e+01, -1.14785375e+05, -1.15494870e+05,\n",
       "        -1.14639299e+05,  8.54320819e+01, -1.67639211e+02, -6.76150963e+01,\n",
       "         6.93313567e+02, -3.55053392e+01,  1.32882227e+02, -8.85080058e+02,\n",
       "         2.25736344e+02,  1.79815398e+02, -2.86732774e+03, -4.83465025e+03,\n",
       "        -4.34862174e+03, -4.64476730e+03, -4.98520840e+03, -4.63356569e+03,\n",
       "        -2.21886341e+16, -2.21886341e+16, -2.21886341e+16, -2.21886341e+16,\n",
       "        -1.35401806e+01, -1.07956356e+01,  6.00168522e+01,  2.59147889e+02,\n",
       "         6.16557670e+01, -1.12572838e+02, -2.55658781e+02, -2.56718835e+02,\n",
       "        -1.44115660e-01, -2.62579827e-02,  1.75913981e-01,  3.65037816e-01,\n",
       "        -2.90235596e-01]))"
      ]
     },
     "execution_count": 69,
     "metadata": {},
     "output_type": "execute_result"
    }
   ],
   "execution_count": 69
  },
  {
   "metadata": {},
   "cell_type": "markdown",
   "source": "### Regularization",
   "id": "92c638587ceb7d9d"
  },
  {
   "metadata": {
    "ExecuteTime": {
     "end_time": "2024-08-25T17:40:24.377460Z",
     "start_time": "2024-08-25T17:40:24.374319Z"
    }
   },
   "cell_type": "code",
   "source": [
    "def train_linear_regression_reg(X, y, r=0.001):\n",
    "    ones = np.ones(X.shape[0])\n",
    "    X = np.column_stack([ones, X])\n",
    "\n",
    "    XTX = X.T.dot(X)\n",
    "    XTX = XTX + r * np.eye(XTX.shape[0])\n",
    "\n",
    "    XTX_inv = np.linalg.inv(XTX)\n",
    "    w_full = XTX_inv.dot(X.T).dot(y)\n",
    "\n",
    "    return w_full[0], w_full[1:]"
   ],
   "id": "32e95797437bf92e",
   "outputs": [],
   "execution_count": 70
  },
  {
   "metadata": {
    "ExecuteTime": {
     "end_time": "2024-08-25T17:40:29.777881Z",
     "start_time": "2024-08-25T17:40:29.717386Z"
    }
   },
   "cell_type": "code",
   "source": [
    "X_train = prepare_X(df_train)\n",
    "w0, w = train_linear_regression_reg(X_train, y_train, r=0.01)\n",
    "\n",
    "X_val = prepare_X(df_val)\n",
    "y_pred = w0 + X_val.dot(w)\n",
    "rmse(y_val, y_pred)"
   ],
   "id": "8e633ea46d926f90",
   "outputs": [
    {
     "data": {
      "text/plain": [
       "0.4608208286204368"
      ]
     },
     "execution_count": 71,
     "metadata": {},
     "output_type": "execute_result"
    }
   ],
   "execution_count": 71
  },
  {
   "metadata": {},
   "cell_type": "markdown",
   "source": "### Tuning the Model",
   "id": "f3f746e6e7ef754c"
  },
  {
   "metadata": {
    "ExecuteTime": {
     "end_time": "2024-08-25T17:52:54.105001Z",
     "start_time": "2024-08-25T17:52:53.733750Z"
    }
   },
   "cell_type": "code",
   "source": [
    "for r in [0.0, 0.00001, 0.0001, 0.001, 0.1, 1, 10]:\n",
    "    X_train = prepare_X(df_train)\n",
    "    w0, w = train_linear_regression_reg(X_train, y_train, r=r)\n",
    "\n",
    "    X_val = prepare_X(df_val)\n",
    "    y_pred = w0 + X_val.dot(w)\n",
    "    score = rmse(y_val, y_pred)\n",
    "\n",
    "    print(r, w0, score)"
   ],
   "id": "928417740fd4f292",
   "outputs": [
    {
     "name": "stdout",
     "output_type": "stream",
     "text": [
      "0.0 2.2188634096833324e+16 1186.874474023634\n",
      "1e-05 6.398609911018562 0.4608153059057127\n",
      "0.0001 7.123460125218161 0.4608153639451674\n",
      "0.001 7.130893282891831 0.4608158584430818\n",
      "0.1 7.000232411796987 0.4608736549113679\n",
      "1 6.2507478473706115 0.46158128382725866\n",
      "10 4.72951258567708 0.4726098772668483\n"
     ]
    }
   ],
   "execution_count": 72
  },
  {
   "metadata": {
    "ExecuteTime": {
     "end_time": "2024-08-25T17:52:58.510536Z",
     "start_time": "2024-08-25T17:52:58.412970Z"
    }
   },
   "cell_type": "code",
   "source": [
    "r = 0.001\n",
    "X_train = prepare_X(df_train)\n",
    "w0, w = train_linear_regression_reg(X_train, y_train, r=r)\n",
    "\n",
    "X_val = prepare_X(df_val)\n",
    "y_pred = w0 + X_val.dot(w)\n",
    "score = rmse(y_val, y_pred)\n",
    "score"
   ],
   "id": "3e4f0ea74e12c0c8",
   "outputs": [
    {
     "data": {
      "text/plain": [
       "0.4608158584430818"
      ]
     },
     "execution_count": 73,
     "metadata": {},
     "output_type": "execute_result"
    }
   ],
   "execution_count": 73
  },
  {
   "metadata": {},
   "cell_type": "markdown",
   "source": "## Using the model",
   "id": "b7e873324cf86ef7"
  },
  {
   "metadata": {
    "ExecuteTime": {
     "end_time": "2024-08-25T18:17:24.848838Z",
     "start_time": "2024-08-25T18:17:24.842781Z"
    }
   },
   "cell_type": "code",
   "source": [
    "# Combine the training and validation datasets into a single full training set\n",
    "df_full_train = pd.concat([df_train, df_val])\n",
    "\n",
    "# Reset the index of the full training set to ensure continuous indexing\n",
    "df_full_train = df_full_train.reset_index(drop=True)\n"
   ],
   "id": "8e3ba9d50cade81c",
   "outputs": [],
   "execution_count": 74
  },
  {
   "metadata": {
    "ExecuteTime": {
     "end_time": "2024-08-25T18:17:33.903807Z",
     "start_time": "2024-08-25T18:17:33.884179Z"
    }
   },
   "cell_type": "code",
   "source": [
    "# Prepare the feature matrix for the full training set\n",
    "X_full_train = prepare_X(df_full_train)"
   ],
   "id": "3065a938d9147054",
   "outputs": [],
   "execution_count": 75
  },
  {
   "metadata": {
    "ExecuteTime": {
     "end_time": "2024-08-25T18:17:39.794221Z",
     "start_time": "2024-08-25T18:17:39.792213Z"
    }
   },
   "cell_type": "code",
   "source": [
    "# Combine the target values from training and validation sets\n",
    "y_full_train = np.concatenate([y_train, y_val])\n"
   ],
   "id": "b5fadaa471f19015",
   "outputs": [],
   "execution_count": 76
  },
  {
   "metadata": {
    "ExecuteTime": {
     "end_time": "2024-08-25T18:17:43.995819Z",
     "start_time": "2024-08-25T18:17:43.982535Z"
    }
   },
   "cell_type": "code",
   "source": [
    "# Train the regularized linear regression model on the full training set\n",
    "# Use the optimal regularization parameter found in the tuning step (r=0.001)\n",
    "w0, w = train_linear_regression_reg(X_full_train, y_full_train, r=0.001)\n"
   ],
   "id": "37612fee4a719a94",
   "outputs": [],
   "execution_count": 77
  },
  {
   "metadata": {
    "ExecuteTime": {
     "end_time": "2024-08-25T18:17:48.290737Z",
     "start_time": "2024-08-25T18:17:48.263302Z"
    }
   },
   "cell_type": "code",
   "source": [
    "# Prepare the feature matrix for the test set\n",
    "X_test = prepare_X(df_test)\n",
    "\n",
    "# Use the trained model to predict on the test set\n",
    "y_pred = w0 + X_test.dot(w)\n",
    "\n",
    "# Calculate the RMSE to evaluate the model's performance on the test set\n",
    "score = rmse(y_test, y_pred)\n",
    "print(f\"RMSE on the test set: {score}\")\n"
   ],
   "id": "88e2f4c8921ff152",
   "outputs": [
    {
     "name": "stdout",
     "output_type": "stream",
     "text": [
      "RMSE on the test set: 0.4600753970560443\n"
     ]
    }
   ],
   "execution_count": 78
  },
  {
   "metadata": {
    "ExecuteTime": {
     "end_time": "2024-08-25T18:17:58.018905Z",
     "start_time": "2024-08-25T18:17:58.009105Z"
    }
   },
   "cell_type": "code",
   "source": [
    "# Example of predicting the price for a specific car in the test set\n",
    "car = df_test.iloc[20].to_dict()  # Select a specific car from the test set\n",
    "df_small = pd.DataFrame([car])    # Create a DataFrame for this car\n",
    "\n",
    "# Prepare the feature matrix for the selected car\n",
    "X_small = prepare_X(df_small)\n",
    "\n",
    "# Predict the price for the selected car\n",
    "y_pred_single = w0 + X_small.dot(w)\n",
    "y_pred_single = y_pred_single[0]\n",
    "\n",
    "# Convert the predicted log price back to the original scale\n",
    "predicted_price = np.expm1(y_pred_single)\n",
    "print(f\"Predicted price for the selected car: {predicted_price}\")\n",
    "\n",
    "# Convert the actual price in y_test back to the original scale for comparison\n",
    "actual_price = np.expm1(y_test[20])\n",
    "print(f\"Actual price for the selected car: {actual_price}\")\n"
   ],
   "id": "e976afd060999548",
   "outputs": [
    {
     "name": "stdout",
     "output_type": "stream",
     "text": [
      "Predicted price for the selected car: 41459.33645013401\n",
      "Actual price for the selected car: 35000.00000000001\n"
     ]
    }
   ],
   "execution_count": 79
  },
  {
   "metadata": {
    "ExecuteTime": {
     "end_time": "2024-08-25T18:18:07.182242Z",
     "start_time": "2024-08-25T18:18:07.176909Z"
    }
   },
   "cell_type": "code",
   "source": [
    "# Create a DataFrame to compare actual vs predicted values on the test set\n",
    "pred_df = pd.DataFrame({\n",
    "    'Actual Value': np.expm1(y_test),  # Convert log-transformed actual values back to original scale\n",
    "    'Predicted Value': np.expm1(y_pred),  # Convert log-transformed predicted values back to original scale\n",
    "    'Difference': np.expm1(y_test) - np.expm1(y_pred)  # Calculate the difference between actual and predicted values\n",
    "})\n",
    "\n",
    "# Display the DataFrame\n",
    "pred_df"
   ],
   "id": "4e7a142c4e54eb84",
   "outputs": [
    {
     "data": {
      "text/plain": [
       "      Actual Value  Predicted Value    Difference\n",
       "0           2000.0      3483.075033  -1483.075033\n",
       "1           3211.0     11750.789873  -8539.789873\n",
       "2          31120.0     33981.487583  -2861.487583\n",
       "3           2000.0      2099.746538    -99.746538\n",
       "4          29905.0     26046.414010   3858.585990\n",
       "...            ...              ...           ...\n",
       "2377        2052.0      4587.819045  -2535.819045\n",
       "2378       25995.0     27402.346879  -1407.346879\n",
       "2379       29100.0     14926.175051  14173.824949\n",
       "2380       22200.0     24269.017107  -2069.017107\n",
       "2381       32995.0     39749.775833  -6754.775833\n",
       "\n",
       "[2382 rows x 3 columns]"
      ],
      "text/html": [
       "<div>\n",
       "<style scoped>\n",
       "    .dataframe tbody tr th:only-of-type {\n",
       "        vertical-align: middle;\n",
       "    }\n",
       "\n",
       "    .dataframe tbody tr th {\n",
       "        vertical-align: top;\n",
       "    }\n",
       "\n",
       "    .dataframe thead th {\n",
       "        text-align: right;\n",
       "    }\n",
       "</style>\n",
       "<table border=\"1\" class=\"dataframe\">\n",
       "  <thead>\n",
       "    <tr style=\"text-align: right;\">\n",
       "      <th></th>\n",
       "      <th>Actual Value</th>\n",
       "      <th>Predicted Value</th>\n",
       "      <th>Difference</th>\n",
       "    </tr>\n",
       "  </thead>\n",
       "  <tbody>\n",
       "    <tr>\n",
       "      <th>0</th>\n",
       "      <td>2000.0</td>\n",
       "      <td>3483.075033</td>\n",
       "      <td>-1483.075033</td>\n",
       "    </tr>\n",
       "    <tr>\n",
       "      <th>1</th>\n",
       "      <td>3211.0</td>\n",
       "      <td>11750.789873</td>\n",
       "      <td>-8539.789873</td>\n",
       "    </tr>\n",
       "    <tr>\n",
       "      <th>2</th>\n",
       "      <td>31120.0</td>\n",
       "      <td>33981.487583</td>\n",
       "      <td>-2861.487583</td>\n",
       "    </tr>\n",
       "    <tr>\n",
       "      <th>3</th>\n",
       "      <td>2000.0</td>\n",
       "      <td>2099.746538</td>\n",
       "      <td>-99.746538</td>\n",
       "    </tr>\n",
       "    <tr>\n",
       "      <th>4</th>\n",
       "      <td>29905.0</td>\n",
       "      <td>26046.414010</td>\n",
       "      <td>3858.585990</td>\n",
       "    </tr>\n",
       "    <tr>\n",
       "      <th>...</th>\n",
       "      <td>...</td>\n",
       "      <td>...</td>\n",
       "      <td>...</td>\n",
       "    </tr>\n",
       "    <tr>\n",
       "      <th>2377</th>\n",
       "      <td>2052.0</td>\n",
       "      <td>4587.819045</td>\n",
       "      <td>-2535.819045</td>\n",
       "    </tr>\n",
       "    <tr>\n",
       "      <th>2378</th>\n",
       "      <td>25995.0</td>\n",
       "      <td>27402.346879</td>\n",
       "      <td>-1407.346879</td>\n",
       "    </tr>\n",
       "    <tr>\n",
       "      <th>2379</th>\n",
       "      <td>29100.0</td>\n",
       "      <td>14926.175051</td>\n",
       "      <td>14173.824949</td>\n",
       "    </tr>\n",
       "    <tr>\n",
       "      <th>2380</th>\n",
       "      <td>22200.0</td>\n",
       "      <td>24269.017107</td>\n",
       "      <td>-2069.017107</td>\n",
       "    </tr>\n",
       "    <tr>\n",
       "      <th>2381</th>\n",
       "      <td>32995.0</td>\n",
       "      <td>39749.775833</td>\n",
       "      <td>-6754.775833</td>\n",
       "    </tr>\n",
       "  </tbody>\n",
       "</table>\n",
       "<p>2382 rows × 3 columns</p>\n",
       "</div>"
      ]
     },
     "execution_count": 80,
     "metadata": {},
     "output_type": "execute_result"
    }
   ],
   "execution_count": 80
  },
  {
   "metadata": {},
   "cell_type": "code",
   "outputs": [],
   "execution_count": null,
   "source": "",
   "id": "d0b81b86b40f8317"
  }
 ],
 "metadata": {
  "kernelspec": {
   "display_name": "Python 3",
   "language": "python",
   "name": "python3"
  },
  "language_info": {
   "codemirror_mode": {
    "name": "ipython",
    "version": 2
   },
   "file_extension": ".py",
   "mimetype": "text/x-python",
   "name": "python",
   "nbconvert_exporter": "python",
   "pygments_lexer": "ipython2",
   "version": "2.7.6"
  }
 },
 "nbformat": 4,
 "nbformat_minor": 5
}
