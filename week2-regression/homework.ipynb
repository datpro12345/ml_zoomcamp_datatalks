{
 "cells": [
  {
   "metadata": {},
   "cell_type": "markdown",
   "source": "# 0. Download Data",
   "id": "ee02c3645b2f57cf"
  },
  {
   "metadata": {
    "ExecuteTime": {
     "end_time": "2024-10-06T07:09:28.823695Z",
     "start_time": "2024-10-06T07:09:27.465427Z"
    }
   },
   "cell_type": "code",
   "source": [
    "import requests\n",
    "\n",
    "url = \"https://raw.githubusercontent.com/alexeygrigorev/datasets/master/laptops.csv\"\n",
    "response = requests.get(url)\n",
    "\n",
    "with open(\"laptops.csv\", \"wb\") as file:\n",
    "    file.write(response.content)\n"
   ],
   "id": "cd4c3764b7755234",
   "outputs": [],
   "execution_count": 4
  },
  {
   "metadata": {},
   "cell_type": "markdown",
   "source": "# 1. Exploratory Data Analysis (EDA)",
   "id": "dcd774436689039d"
  },
  {
   "metadata": {
    "ExecuteTime": {
     "end_time": "2024-10-08T16:05:32.562011Z",
     "start_time": "2024-10-08T16:05:31.410030Z"
    }
   },
   "cell_type": "code",
   "source": [
    "import pandas as pd\n",
    "import numpy as np\n",
    "from sklearn.linear_model import LinearRegression\n",
    "from sklearn.metrics import mean_squared_error"
   ],
   "id": "a893e5d98f867520",
   "outputs": [],
   "execution_count": 1
  },
  {
   "metadata": {
    "ExecuteTime": {
     "end_time": "2024-10-08T16:05:32.575451Z",
     "start_time": "2024-10-08T16:05:32.563084Z"
    }
   },
   "cell_type": "code",
   "source": [
    "# import dataset to df\n",
    "df = pd.read_csv(\"laptops.csv\")"
   ],
   "id": "a8e75eaffcf81c84",
   "outputs": [],
   "execution_count": 2
  },
  {
   "metadata": {
    "ExecuteTime": {
     "end_time": "2024-10-08T16:05:32.587523Z",
     "start_time": "2024-10-08T16:05:32.576043Z"
    }
   },
   "cell_type": "code",
   "source": [
    "# df first 5 rows\n",
    "df"
   ],
   "id": "52e6cc4cdf441705",
   "outputs": [
    {
     "data": {
      "text/plain": [
       "                                                 Laptop       Status   Brand  \\\n",
       "0     ASUS ExpertBook B1 B1502CBA-EJ0436X Intel Core...          New    Asus   \n",
       "1     Alurin Go Start Intel Celeron N4020/8GB/256GB ...          New  Alurin   \n",
       "2     ASUS ExpertBook B1 B1502CBA-EJ0424X Intel Core...          New    Asus   \n",
       "3     MSI Katana GF66 12UC-082XES Intel Core i7-1270...          New     MSI   \n",
       "4     HP 15S-FQ5085NS Intel Core i5-1235U/16GB/512GB...          New      HP   \n",
       "...                                                 ...          ...     ...   \n",
       "2155  Razer Blade 17 FHD 360Hz Intel Core i7-11800H/...  Refurbished   Razer   \n",
       "2156  Razer Blade 17 FHD 360Hz Intel Core i7-11800H/...  Refurbished   Razer   \n",
       "2157  Razer Blade 17 FHD 360Hz Intel Core i7-11800H/...  Refurbished   Razer   \n",
       "2158  Razer Book 13 Intel Evo Core i7-1165G7/16GB/1T...  Refurbished   Razer   \n",
       "2159  Razer Book FHD+ Intel Evo Core i7-1165G7/16GB/...  Refurbished   Razer   \n",
       "\n",
       "           Model                CPU  RAM  Storage Storage type       GPU  \\\n",
       "0     ExpertBook      Intel Core i5    8      512          SSD       NaN   \n",
       "1             Go      Intel Celeron    8      256          SSD       NaN   \n",
       "2     ExpertBook      Intel Core i3    8      256          SSD       NaN   \n",
       "3         Katana      Intel Core i7   16     1000          SSD  RTX 3050   \n",
       "4            15S      Intel Core i5   16      512          SSD       NaN   \n",
       "...          ...                ...  ...      ...          ...       ...   \n",
       "2155       Blade      Intel Core i7   16     1000          SSD  RTX 3060   \n",
       "2156       Blade      Intel Core i7   16     1000          SSD  RTX 3070   \n",
       "2157       Blade      Intel Core i7   32     1000          SSD  RTX 3080   \n",
       "2158        Book  Intel Evo Core i7   16     1000          SSD       NaN   \n",
       "2159        Book  Intel Evo Core i7   16      256          SSD       NaN   \n",
       "\n",
       "      Screen Touch  Final Price  \n",
       "0       15.6    No      1009.00  \n",
       "1       15.6    No       299.00  \n",
       "2       15.6    No       789.00  \n",
       "3       15.6    No      1199.00  \n",
       "4       15.6    No       669.01  \n",
       "...      ...   ...          ...  \n",
       "2155    17.3    No      2699.99  \n",
       "2156    17.3    No      2899.99  \n",
       "2157    17.3    No      3399.99  \n",
       "2158    13.4   Yes      1899.99  \n",
       "2159    13.4   Yes      1699.99  \n",
       "\n",
       "[2160 rows x 12 columns]"
      ],
      "text/html": [
       "<div>\n",
       "<style scoped>\n",
       "    .dataframe tbody tr th:only-of-type {\n",
       "        vertical-align: middle;\n",
       "    }\n",
       "\n",
       "    .dataframe tbody tr th {\n",
       "        vertical-align: top;\n",
       "    }\n",
       "\n",
       "    .dataframe thead th {\n",
       "        text-align: right;\n",
       "    }\n",
       "</style>\n",
       "<table border=\"1\" class=\"dataframe\">\n",
       "  <thead>\n",
       "    <tr style=\"text-align: right;\">\n",
       "      <th></th>\n",
       "      <th>Laptop</th>\n",
       "      <th>Status</th>\n",
       "      <th>Brand</th>\n",
       "      <th>Model</th>\n",
       "      <th>CPU</th>\n",
       "      <th>RAM</th>\n",
       "      <th>Storage</th>\n",
       "      <th>Storage type</th>\n",
       "      <th>GPU</th>\n",
       "      <th>Screen</th>\n",
       "      <th>Touch</th>\n",
       "      <th>Final Price</th>\n",
       "    </tr>\n",
       "  </thead>\n",
       "  <tbody>\n",
       "    <tr>\n",
       "      <th>0</th>\n",
       "      <td>ASUS ExpertBook B1 B1502CBA-EJ0436X Intel Core...</td>\n",
       "      <td>New</td>\n",
       "      <td>Asus</td>\n",
       "      <td>ExpertBook</td>\n",
       "      <td>Intel Core i5</td>\n",
       "      <td>8</td>\n",
       "      <td>512</td>\n",
       "      <td>SSD</td>\n",
       "      <td>NaN</td>\n",
       "      <td>15.6</td>\n",
       "      <td>No</td>\n",
       "      <td>1009.00</td>\n",
       "    </tr>\n",
       "    <tr>\n",
       "      <th>1</th>\n",
       "      <td>Alurin Go Start Intel Celeron N4020/8GB/256GB ...</td>\n",
       "      <td>New</td>\n",
       "      <td>Alurin</td>\n",
       "      <td>Go</td>\n",
       "      <td>Intel Celeron</td>\n",
       "      <td>8</td>\n",
       "      <td>256</td>\n",
       "      <td>SSD</td>\n",
       "      <td>NaN</td>\n",
       "      <td>15.6</td>\n",
       "      <td>No</td>\n",
       "      <td>299.00</td>\n",
       "    </tr>\n",
       "    <tr>\n",
       "      <th>2</th>\n",
       "      <td>ASUS ExpertBook B1 B1502CBA-EJ0424X Intel Core...</td>\n",
       "      <td>New</td>\n",
       "      <td>Asus</td>\n",
       "      <td>ExpertBook</td>\n",
       "      <td>Intel Core i3</td>\n",
       "      <td>8</td>\n",
       "      <td>256</td>\n",
       "      <td>SSD</td>\n",
       "      <td>NaN</td>\n",
       "      <td>15.6</td>\n",
       "      <td>No</td>\n",
       "      <td>789.00</td>\n",
       "    </tr>\n",
       "    <tr>\n",
       "      <th>3</th>\n",
       "      <td>MSI Katana GF66 12UC-082XES Intel Core i7-1270...</td>\n",
       "      <td>New</td>\n",
       "      <td>MSI</td>\n",
       "      <td>Katana</td>\n",
       "      <td>Intel Core i7</td>\n",
       "      <td>16</td>\n",
       "      <td>1000</td>\n",
       "      <td>SSD</td>\n",
       "      <td>RTX 3050</td>\n",
       "      <td>15.6</td>\n",
       "      <td>No</td>\n",
       "      <td>1199.00</td>\n",
       "    </tr>\n",
       "    <tr>\n",
       "      <th>4</th>\n",
       "      <td>HP 15S-FQ5085NS Intel Core i5-1235U/16GB/512GB...</td>\n",
       "      <td>New</td>\n",
       "      <td>HP</td>\n",
       "      <td>15S</td>\n",
       "      <td>Intel Core i5</td>\n",
       "      <td>16</td>\n",
       "      <td>512</td>\n",
       "      <td>SSD</td>\n",
       "      <td>NaN</td>\n",
       "      <td>15.6</td>\n",
       "      <td>No</td>\n",
       "      <td>669.01</td>\n",
       "    </tr>\n",
       "    <tr>\n",
       "      <th>...</th>\n",
       "      <td>...</td>\n",
       "      <td>...</td>\n",
       "      <td>...</td>\n",
       "      <td>...</td>\n",
       "      <td>...</td>\n",
       "      <td>...</td>\n",
       "      <td>...</td>\n",
       "      <td>...</td>\n",
       "      <td>...</td>\n",
       "      <td>...</td>\n",
       "      <td>...</td>\n",
       "      <td>...</td>\n",
       "    </tr>\n",
       "    <tr>\n",
       "      <th>2155</th>\n",
       "      <td>Razer Blade 17 FHD 360Hz Intel Core i7-11800H/...</td>\n",
       "      <td>Refurbished</td>\n",
       "      <td>Razer</td>\n",
       "      <td>Blade</td>\n",
       "      <td>Intel Core i7</td>\n",
       "      <td>16</td>\n",
       "      <td>1000</td>\n",
       "      <td>SSD</td>\n",
       "      <td>RTX 3060</td>\n",
       "      <td>17.3</td>\n",
       "      <td>No</td>\n",
       "      <td>2699.99</td>\n",
       "    </tr>\n",
       "    <tr>\n",
       "      <th>2156</th>\n",
       "      <td>Razer Blade 17 FHD 360Hz Intel Core i7-11800H/...</td>\n",
       "      <td>Refurbished</td>\n",
       "      <td>Razer</td>\n",
       "      <td>Blade</td>\n",
       "      <td>Intel Core i7</td>\n",
       "      <td>16</td>\n",
       "      <td>1000</td>\n",
       "      <td>SSD</td>\n",
       "      <td>RTX 3070</td>\n",
       "      <td>17.3</td>\n",
       "      <td>No</td>\n",
       "      <td>2899.99</td>\n",
       "    </tr>\n",
       "    <tr>\n",
       "      <th>2157</th>\n",
       "      <td>Razer Blade 17 FHD 360Hz Intel Core i7-11800H/...</td>\n",
       "      <td>Refurbished</td>\n",
       "      <td>Razer</td>\n",
       "      <td>Blade</td>\n",
       "      <td>Intel Core i7</td>\n",
       "      <td>32</td>\n",
       "      <td>1000</td>\n",
       "      <td>SSD</td>\n",
       "      <td>RTX 3080</td>\n",
       "      <td>17.3</td>\n",
       "      <td>No</td>\n",
       "      <td>3399.99</td>\n",
       "    </tr>\n",
       "    <tr>\n",
       "      <th>2158</th>\n",
       "      <td>Razer Book 13 Intel Evo Core i7-1165G7/16GB/1T...</td>\n",
       "      <td>Refurbished</td>\n",
       "      <td>Razer</td>\n",
       "      <td>Book</td>\n",
       "      <td>Intel Evo Core i7</td>\n",
       "      <td>16</td>\n",
       "      <td>1000</td>\n",
       "      <td>SSD</td>\n",
       "      <td>NaN</td>\n",
       "      <td>13.4</td>\n",
       "      <td>Yes</td>\n",
       "      <td>1899.99</td>\n",
       "    </tr>\n",
       "    <tr>\n",
       "      <th>2159</th>\n",
       "      <td>Razer Book FHD+ Intel Evo Core i7-1165G7/16GB/...</td>\n",
       "      <td>Refurbished</td>\n",
       "      <td>Razer</td>\n",
       "      <td>Book</td>\n",
       "      <td>Intel Evo Core i7</td>\n",
       "      <td>16</td>\n",
       "      <td>256</td>\n",
       "      <td>SSD</td>\n",
       "      <td>NaN</td>\n",
       "      <td>13.4</td>\n",
       "      <td>Yes</td>\n",
       "      <td>1699.99</td>\n",
       "    </tr>\n",
       "  </tbody>\n",
       "</table>\n",
       "<p>2160 rows × 12 columns</p>\n",
       "</div>"
      ]
     },
     "execution_count": 3,
     "metadata": {},
     "output_type": "execute_result"
    }
   ],
   "execution_count": 3
  },
  {
   "metadata": {},
   "cell_type": "markdown",
   "source": "### Preparing the dataset",
   "id": "9bde7d35c7226744"
  },
  {
   "metadata": {
    "ExecuteTime": {
     "end_time": "2024-10-08T16:05:32.592235Z",
     "start_time": "2024-10-08T16:05:32.588730Z"
    }
   },
   "cell_type": "code",
   "source": [
    "# Normalize the column names as instructed\n",
    "df.columns = df.columns.str.lower().str.replace(' ', '_')\n",
    "\n",
    "# Select only the relevant columns: 'ram', 'storage', 'screen', 'final_price'\n",
    "df_filtered = df[['ram', 'storage', 'screen', 'final_price']]"
   ],
   "id": "876a85b2344a6a4a",
   "outputs": [],
   "execution_count": 4
  },
  {
   "metadata": {
    "ExecuteTime": {
     "end_time": "2024-10-08T16:05:32.599186Z",
     "start_time": "2024-10-08T16:05:32.594028Z"
    }
   },
   "cell_type": "code",
   "source": "df_filtered",
   "id": "a2b212c09bed0d47",
   "outputs": [
    {
     "data": {
      "text/plain": [
       "      ram  storage  screen  final_price\n",
       "0       8      512    15.6      1009.00\n",
       "1       8      256    15.6       299.00\n",
       "2       8      256    15.6       789.00\n",
       "3      16     1000    15.6      1199.00\n",
       "4      16      512    15.6       669.01\n",
       "...   ...      ...     ...          ...\n",
       "2155   16     1000    17.3      2699.99\n",
       "2156   16     1000    17.3      2899.99\n",
       "2157   32     1000    17.3      3399.99\n",
       "2158   16     1000    13.4      1899.99\n",
       "2159   16      256    13.4      1699.99\n",
       "\n",
       "[2160 rows x 4 columns]"
      ],
      "text/html": [
       "<div>\n",
       "<style scoped>\n",
       "    .dataframe tbody tr th:only-of-type {\n",
       "        vertical-align: middle;\n",
       "    }\n",
       "\n",
       "    .dataframe tbody tr th {\n",
       "        vertical-align: top;\n",
       "    }\n",
       "\n",
       "    .dataframe thead th {\n",
       "        text-align: right;\n",
       "    }\n",
       "</style>\n",
       "<table border=\"1\" class=\"dataframe\">\n",
       "  <thead>\n",
       "    <tr style=\"text-align: right;\">\n",
       "      <th></th>\n",
       "      <th>ram</th>\n",
       "      <th>storage</th>\n",
       "      <th>screen</th>\n",
       "      <th>final_price</th>\n",
       "    </tr>\n",
       "  </thead>\n",
       "  <tbody>\n",
       "    <tr>\n",
       "      <th>0</th>\n",
       "      <td>8</td>\n",
       "      <td>512</td>\n",
       "      <td>15.6</td>\n",
       "      <td>1009.00</td>\n",
       "    </tr>\n",
       "    <tr>\n",
       "      <th>1</th>\n",
       "      <td>8</td>\n",
       "      <td>256</td>\n",
       "      <td>15.6</td>\n",
       "      <td>299.00</td>\n",
       "    </tr>\n",
       "    <tr>\n",
       "      <th>2</th>\n",
       "      <td>8</td>\n",
       "      <td>256</td>\n",
       "      <td>15.6</td>\n",
       "      <td>789.00</td>\n",
       "    </tr>\n",
       "    <tr>\n",
       "      <th>3</th>\n",
       "      <td>16</td>\n",
       "      <td>1000</td>\n",
       "      <td>15.6</td>\n",
       "      <td>1199.00</td>\n",
       "    </tr>\n",
       "    <tr>\n",
       "      <th>4</th>\n",
       "      <td>16</td>\n",
       "      <td>512</td>\n",
       "      <td>15.6</td>\n",
       "      <td>669.01</td>\n",
       "    </tr>\n",
       "    <tr>\n",
       "      <th>...</th>\n",
       "      <td>...</td>\n",
       "      <td>...</td>\n",
       "      <td>...</td>\n",
       "      <td>...</td>\n",
       "    </tr>\n",
       "    <tr>\n",
       "      <th>2155</th>\n",
       "      <td>16</td>\n",
       "      <td>1000</td>\n",
       "      <td>17.3</td>\n",
       "      <td>2699.99</td>\n",
       "    </tr>\n",
       "    <tr>\n",
       "      <th>2156</th>\n",
       "      <td>16</td>\n",
       "      <td>1000</td>\n",
       "      <td>17.3</td>\n",
       "      <td>2899.99</td>\n",
       "    </tr>\n",
       "    <tr>\n",
       "      <th>2157</th>\n",
       "      <td>32</td>\n",
       "      <td>1000</td>\n",
       "      <td>17.3</td>\n",
       "      <td>3399.99</td>\n",
       "    </tr>\n",
       "    <tr>\n",
       "      <th>2158</th>\n",
       "      <td>16</td>\n",
       "      <td>1000</td>\n",
       "      <td>13.4</td>\n",
       "      <td>1899.99</td>\n",
       "    </tr>\n",
       "    <tr>\n",
       "      <th>2159</th>\n",
       "      <td>16</td>\n",
       "      <td>256</td>\n",
       "      <td>13.4</td>\n",
       "      <td>1699.99</td>\n",
       "    </tr>\n",
       "  </tbody>\n",
       "</table>\n",
       "<p>2160 rows × 4 columns</p>\n",
       "</div>"
      ]
     },
     "execution_count": 5,
     "metadata": {},
     "output_type": "execute_result"
    }
   ],
   "execution_count": 5
  },
  {
   "metadata": {},
   "cell_type": "markdown",
   "source": [
    "- Now, instead of 'Final Price', we have 'final_price'\n",
    "\n",
    "- Next following columns: `'ram', 'storage', 'screen', 'final_price'`"
   ],
   "id": "877773d94b549608"
  },
  {
   "metadata": {
    "ExecuteTime": {
     "end_time": "2024-10-08T16:05:32.604452Z",
     "start_time": "2024-10-08T16:05:32.600363Z"
    }
   },
   "cell_type": "code",
   "source": "df_filtered.dtypes",
   "id": "e43eb79c248d0ccd",
   "outputs": [
    {
     "data": {
      "text/plain": [
       "ram              int64\n",
       "storage          int64\n",
       "screen         float64\n",
       "final_price    float64\n",
       "dtype: object"
      ]
     },
     "execution_count": 6,
     "metadata": {},
     "output_type": "execute_result"
    }
   ],
   "execution_count": 6
  },
  {
   "metadata": {
    "ExecuteTime": {
     "end_time": "2024-10-08T16:05:33.049344Z",
     "start_time": "2024-10-08T16:05:32.605218Z"
    }
   },
   "cell_type": "code",
   "source": [
    "import matplotlib.pyplot as plt\n",
    "\n",
    "# Extract the 'final_price' column\n",
    "final_price = df_filtered['final_price']\n",
    "\n",
    "# Plot the distribution of the 'final_price' variable\n",
    "plt.figure(figsize=(10, 6))\n",
    "plt.hist(final_price.dropna(), bins=50, edgecolor='k')\n",
    "plt.xlabel('Final Price')\n",
    "plt.ylabel('Frequency')\n",
    "plt.title('Distribution of Final Price')\n",
    "plt.show()"
   ],
   "id": "32d2e6a8e29673e9",
   "outputs": [
    {
     "data": {
      "text/plain": [
       "<Figure size 1000x600 with 1 Axes>"
      ],
      "image/png": "[encoded data removed]"
     },
     "metadata": {},
     "output_type": "display_data"
    }
   ],
   "execution_count": 7
  },
  {
   "metadata": {},
   "cell_type": "markdown",
   "source": [
    "### Question 1: There's one column with missing values. What is it?\n",
    "\n",
    "\n",
    "There's one column with missing values. What is it?\n",
    "\n",
    "- [ ] 'ram'\n",
    "- [ ] 'storage'\n",
    "- [x] 'screen'\n",
    "- [ ] 'final_price'"
   ],
   "id": "c80d23313532032"
  },
  {
   "metadata": {
    "ExecuteTime": {
     "end_time": "2024-10-08T16:05:33.054821Z",
     "start_time": "2024-10-08T16:05:33.050013Z"
    }
   },
   "cell_type": "code",
   "source": [
    "# Check for missing values to identify the column with missing data\n",
    "missing_values = df_filtered.isnull().sum()\n",
    "\n",
    "# Display the missing values count\n",
    "missing_values"
   ],
   "id": "a56671cadf44ee8d",
   "outputs": [
    {
     "data": {
      "text/plain": [
       "ram            0\n",
       "storage        0\n",
       "screen         4\n",
       "final_price    0\n",
       "dtype: int64"
      ]
     },
     "execution_count": 8,
     "metadata": {},
     "output_type": "execute_result"
    }
   ],
   "execution_count": 8
  },
  {
   "metadata": {},
   "cell_type": "markdown",
   "source": [
    "### Question 2: What's the median (50% percentile) for variable 'ram'?\n",
    "\n",
    "- [ ] 8\n",
    "- [x] 16\n",
    "- [ ] 24\n",
    "- [ ] 32"
   ],
   "id": "7f31611fb7cdcaff"
  },
  {
   "metadata": {
    "ExecuteTime": {
     "end_time": "2024-10-08T16:05:33.060237Z",
     "start_time": "2024-10-08T16:05:33.056834Z"
    }
   },
   "cell_type": "code",
   "source": [
    "# Extract the 'ram' column and calculate the median\n",
    "ram_median = df_filtered['ram'].median()\n",
    "\n",
    "# Print the median value\n",
    "print(\"Median (50% percentile) for variable 'ram':\", ram_median)"
   ],
   "id": "43b1da89f07da870",
   "outputs": [
    {
     "name": "stdout",
     "output_type": "stream",
     "text": [
      "Median (50% percentile) for variable 'ram': 16.0\n"
     ]
    }
   ],
   "execution_count": 9
  },
  {
   "metadata": {},
   "cell_type": "markdown",
   "source": [
    "# 2. Data Splitting\n",
    "\n",
    "Prepare and split the dataset\n",
    "\n",
    "- Shuffle the dataset (the filtered one you created above), use seed 42.\n",
    "- Split your data in train/val/test sets, with \n",
    " distribution.\n",
    "- Apply the log transformation to the median_house_value variable using the np.log1p() function."
   ],
   "id": "d40e0351fce6226"
  },
  {
   "metadata": {
    "ExecuteTime": {
     "end_time": "2024-10-08T16:05:33.078387Z",
     "start_time": "2024-10-08T16:05:33.061108Z"
    }
   },
   "cell_type": "code",
   "source": [
    "# Convert all columns to numeric, forcing errors to NaN\n",
    "df = df.apply(pd.to_numeric, errors='coerce')\n",
    "\n",
    "# Identify columns with missing values\n",
    "missing_column = 'screen'\n",
    "\n",
    "# Shuffle the DataFrame with a random seed of 42\n",
    "df_shuffled = df.sample(frac=1, random_state=42).reset_index(drop=True)\n",
    "\n",
    "# Calculate the number of samples for each set\n",
    "train_size = int(0.6 * len(df_shuffled))\n",
    "val_size = int(0.2 * len(df_shuffled))\n",
    "test_size = len(df_shuffled) - train_size - val_size\n",
    "\n",
    "# Split the DataFrame into train, validation, and test sets\n",
    "X_train = df_shuffled[:train_size]\n",
    "X_val = df_shuffled[train_size:train_size + val_size]\n",
    "X_test = df_shuffled[train_size + val_size:]\n",
    "\n",
    "# Extract the target variable and apply log transformation\n",
    "Y_train = np.log1p(X_train['final_price']).values\n",
    "Y_val = np.log1p(X_val['final_price']).values\n",
    "Y_test = np.log1p(X_test['final_price']).values\n",
    "\n",
    "# Remove the target variable from the feature sets\n",
    "X_train = X_train.drop(columns=['final_price'])\n",
    "X_val = X_val.drop(columns=['final_price'])\n",
    "X_test = X_test.drop(columns=['final_price'])"
   ],
   "id": "b95402f64bde6038",
   "outputs": [],
   "execution_count": 10
  },
  {
   "metadata": {},
   "cell_type": "markdown",
   "source": [
    "# 3. Linear Regression\n",
    "\n"
   ],
   "id": "d790288b02c641d4"
  },
  {
   "metadata": {},
   "cell_type": "markdown",
   "source": [
    "Consider a hypothetical dataset with multiple features $X_{1},\\cdots, X_{d}$ and a target variable $Y$ as shown:\n",
    "\n",
    "$$\n",
    "\\left( \\begin{array}{c|cccc|c}\n",
    "~    &X_{0}&X_{1}&\\cdots & X_{d}  & Y\\\\\n",
    "\\hline\n",
    "x_{1} &1& x_{11}& \\cdots&x_{1d}&y_1 \\\\\n",
    "\\vdots&\\vdots&\\vdots&\\ddots&\\vdots&\\vdots\\\\\n",
    "x_{n}&1&x_{n1}&\\cdots&x_{nd}&y_n\n",
    "\\end{array} \\right).$$\n",
    "\n",
    "Here, each row vector $ \\mathbf{x}_i = (1, x_{i1}, \\ldots, x_{id}) $ represents an instance of the dataset with $ d+1 $ values. The first column, $ X_0 $, is the intercept term and is set to 1 for all instances. The dataset is separated in a feature matrix $\\mathbf{X}$ and a target vector $\\mathbf{Y}$:\n",
    "\n",
    "\n",
    "$$\\mathbf{X}=\n",
    "\\left( \\begin{array}{cccc}\n",
    " 1& x_{11}& \\cdots&x_{1d} \\\\\n",
    "\\vdots&\\vdots&\\ddots&\\vdots&\\\\\n",
    "1&x_{n1}&\\cdots&x_{nd}\n",
    "\\end{array} \\right) ~~~ \\text{and} ~~~ \n",
    "\n",
    "\\mathbf{Y} = \\left( \\begin{array}{c}\n",
    "y_1\\\\\n",
    "\\vdots\\\\\n",
    "y_n\n",
    "\\end{array} \\right)\n",
    "$$\n",
    "\n",
    "\n",
    "\n",
    "\n",
    "The linear regression model for multiple features $ X_1, \\ldots, X_d $ can be represented as:\n",
    "\n",
    "\n",
    "$$\\mathbf{\\hat{Y}} = \\mathbf{X}\\mathbf{w} $$\n",
    "\n",
    "Here, $\\mathbf{w} = (w_0, \\ldots, w_d)^T$ denotes the column vector of weights that the model seeks to learn for optimal regression. $\\mathbf{\\hat{Y}}$ represents the predicted values, and $\\mathbf{Y}$ stands for the true values (or target values). The error function commonly used is the sum of squared errors (SSE):\n",
    "\n",
    "$$\\text{SSE} = \\sum_{i}^{n} ||{\\epsilon}_i||^2 = \\mathbf{\\epsilon}\\mathbf{\\epsilon}^T$$\n",
    "\n",
    "where $\\mathbf{\\epsilon} = \\mathbf{\\hat{Y}} - \\mathbf{Y}$.\n",
    "\n",
    "Rearranging the error function gives:\n",
    "\n",
    "$$\n",
    "\\begin{align*}\n",
    "\\text{SSE} &= (\\mathbf{\\hat{Y}} - \\mathbf{Y})^T(\\mathbf{\\hat{Y}} - \\mathbf{Y})\\\\\n",
    "&=\\mathbf{Y}^T \\mathbf{Y}  - 2\\mathbf{Y}^T \\mathbf{\\hat{Y}} + \\mathbf{\\hat{Y}}^T \\mathbf{\\hat{Y}}\\\\\n",
    "&=\\mathbf{Y}^T \\mathbf{Y}  - 2\\mathbf{Y}^T  (\\mathbf{X}\\mathbf{w}) + ( \\mathbf{X}\\mathbf{w})^T ( \\mathbf{X}\\mathbf{w})\\\\\n",
    "&=\\mathbf{Y}^T \\mathbf{Y}  - 2 \\mathbf{w}^T (\\mathbf{X}^T\\mathbf{Y}) + \\mathbf{w}^T( \\mathbf{X}^T\\mathbf{X}) \\mathbf{w}\n",
    "\\end{align*}\n",
    "$$\n",
    "\n",
    "The goal is to minimize this error to optimize the ideal weights. Instead of using gradient descent, we take the derivative of the SSE with respect to the weights, set it equal to zero, and find a local minimum of the SSE function. This leads to the following optimal weights for the optimization problem:\n",
    "\n",
    "$$\n",
    "\\begin{align*}\n",
    "\\frac{\\partial (\\text{SSE})}{\\partial \\mathbf{w}} & = -2\\mathbf{X}^T\\mathbf{Y} + (\\mathbf{X}^T\\mathbf{X})\\mathbf{w} + \\mathbf{w}^T(\\mathbf{X}^T\\mathbf{X})\\\\\n",
    "& = -2\\mathbf{X}^T\\mathbf{Y} + 2(\\mathbf{X}^T\\mathbf{X})\\mathbf{w} = 0\n",
    "\\end{align*}\n",
    "$$\n",
    "\n",
    "Solving for the optimal weights, we get the following analytical solution:\n",
    "\n",
    "$$\\mathbf{w} = (\\mathbf{X}^T\\mathbf{X})^{-1}\\mathbf{X}^T\\mathbf{Y}$$\n",
    "\n",
    "In summary, for a given dataset with multiple features, we can represent the linear regression model as a product of weights and input features. The objective is to minimize the sum of squared errors (SSE) to find the optimal weights for the model. By taking the derivative of the SSE with respect to the weights and setting it to zero, we can determine the optimal weights for the optimization problem using the above equation."
   ],
   "id": "15e5658952e172bb"
  },
  {
   "metadata": {},
   "cell_type": "markdown",
   "source": [
    "### Question 3\n",
    "\n",
    "- We need to deal with missing values for the column from Q1.\n",
    "- We have two options: fill it with 0 or with the mean of this variable.\n",
    "- Try both options. For each, train a linear regression model without regularization using the code from the lessons.\n",
    "- For computing the mean, use the training only!\n",
    "- Use the validation dataset to evaluate the models and compare the RMSE of each option.\n",
    "- Round the RMSE scores to 2 decimal digits using round(score, 2)\n",
    "\n",
    "#### Which option gives better RMSE?\n",
    "\n",
    "Options:\n",
    "\n",
    "- [x] With 0\n",
    "- [ ] With mean\n",
    "- [ ] Both are equally good"
   ],
   "id": "51350243e542ab28"
  },
  {
   "metadata": {
    "ExecuteTime": {
     "end_time": "2024-10-08T16:05:33.104954Z",
     "start_time": "2024-10-08T16:05:33.079115Z"
    }
   },
   "cell_type": "code",
   "source": [
    "import pandas as pd\n",
    "from sklearn.model_selection import train_test_split\n",
    "from sklearn.linear_model import LinearRegression\n",
    "from sklearn.metrics import mean_squared_error\n",
    "import numpy as np\n",
    "\n",
    "# Load the dataset\n",
    "laptops_df = pd.read_csv('laptops.csv')\n",
    "\n",
    "# Normalize column names\n",
    "laptops_df.columns = laptops_df.columns.str.lower().str.replace(' ', '_')\n",
    "\n",
    "# Select relevant columns\n",
    "laptops_df = laptops_df[['ram', 'storage', 'screen', 'final_price']]\n",
    "\n",
    "# Split the dataset\n",
    "train_val, test = train_test_split(laptops_df, test_size=0.2, random_state=42)\n",
    "train, val = train_test_split(train_val, test_size=0.25, random_state=42)  # 0.25 x 0.8 = 0.2\n",
    "\n",
    "# Option 1: Fill missing values with 0\n",
    "train_0 = train.fillna(0)\n",
    "val_0 = val.fillna(0)\n",
    "\n",
    "# Train the model\n",
    "model_0 = LinearRegression()\n",
    "model_0.fit(train_0.drop('final_price', axis=1), train_0['final_price'])\n",
    "\n",
    "# Predict and calculate RMSE\n",
    "predictions_0 = model_0.predict(val_0.drop('final_price', axis=1))\n",
    "rmse_0 = np.sqrt(mean_squared_error(val_0['final_price'], predictions_0))\n",
    "\n",
    "# Option 2: Fill missing values with mean\n",
    "mean_values = train.mean()\n",
    "train_mean = train.fillna(mean_values)\n",
    "val_mean = val.fillna(mean_values)\n",
    "\n",
    "# Train the model\n",
    "model_mean = LinearRegression()\n",
    "model_mean.fit(train_mean.drop('final_price', axis=1), train_mean['final_price'])\n",
    "\n",
    "# Predict and calculate RMSE\n",
    "predictions_mean = model_mean.predict(val_mean.drop('final_price', axis=1))\n",
    "rmse_mean = np.sqrt(mean_squared_error(val_mean['final_price'], predictions_mean))\n",
    "\n",
    "# Round RMSE scores\n",
    "rmse_0_rounded = round(rmse_0, 2)\n",
    "rmse_mean_rounded = round(rmse_mean, 2)\n",
    "\n",
    "rmse_0_rounded, rmse_mean_rounded"
   ],
   "id": "c5484018a9c92dc4",
   "outputs": [
    {
     "data": {
      "text/plain": [
       "(581.35, 579.98)"
      ]
     },
     "execution_count": 11,
     "metadata": {},
     "output_type": "execute_result"
    }
   ],
   "execution_count": 11
  },
  {
   "metadata": {
    "ExecuteTime": {
     "end_time": "2024-10-08T16:05:33.123783Z",
     "start_time": "2024-10-08T16:05:33.106686Z"
    }
   },
   "cell_type": "code",
   "source": [
    "from sklearn.model_selection import train_test_split\n",
    "import numpy as np\n",
    "from sklearn.linear_model import LinearRegression\n",
    "from sklearn.metrics import mean_squared_error\n",
    "\n",
    "# Shuffle the dataset using seed 42\n",
    "df_filtered = df_filtered.sample(frac=1, random_state=42).reset_index(drop=True)\n",
    "\n",
    "# Split data into train (60%), validation (20%), and test (20%) sets\n",
    "df_train, df_temp = train_test_split(df_filtered, test_size=0.4, random_state=42)\n",
    "df_val, df_test = train_test_split(df_temp, test_size=0.5, random_state=42)\n",
    "\n",
    "# Prepare features and target variable for the train and validation sets\n",
    "X_train = df_train[['ram', 'storage', 'screen']]\n",
    "y_train = df_train['final_price']\n",
    "X_val = df_val[['ram', 'storage', 'screen']]\n",
    "y_val = df_val['final_price']\n",
    "\n",
    "# Two approaches for handling missing values in the 'screen' column\n",
    "# 1. Fill missing values with 0\n",
    "X_train_0 = X_train.fillna(0)\n",
    "X_val_0 = X_val.fillna(0)\n",
    "\n",
    "# 2. Fill missing values with the mean (only calculated on training set)\n",
    "mean_screen = X_train['screen'].mean()\n",
    "X_train_mean = X_train.fillna(mean_screen)\n",
    "X_val_mean = X_val.fillna(mean_screen)\n",
    "\n",
    "# Train two linear regression models (without regularization)\n",
    "lr_0 = LinearRegression()\n",
    "lr_0.fit(X_train_0, y_train)\n",
    "\n",
    "lr_mean = LinearRegression()\n",
    "lr_mean.fit(X_train_mean, y_train)\n",
    "\n",
    "# Predict on the validation set\n",
    "y_pred_0 = lr_0.predict(X_val_0)\n",
    "y_pred_mean = lr_mean.predict(X_val_mean)\n",
    "\n",
    "# Compute RMSE for both models\n",
    "rmse_0 = np.sqrt(mean_squared_error(y_val, y_pred_0))\n",
    "rmse_mean = np.sqrt(mean_squared_error(y_val, y_pred_mean))\n",
    "\n",
    "rmse_0, rmse_mean\n"
   ],
   "id": "25b07491ffbc6ce3",
   "outputs": [
    {
     "data": {
      "text/plain": [
       "(675.0844456600815, 675.1574065408341)"
      ]
     },
     "execution_count": 12,
     "metadata": {},
     "output_type": "execute_result"
    }
   ],
   "execution_count": 12
  },
  {
   "metadata": {},
   "cell_type": "markdown",
   "source": [
    "The RMSE (Root Mean Squared Error) for the two models are:\n",
    "\n",
    "- Filling missing values with 0: 675.08\n",
    "- Filling missing values with the mean: 675.16\n",
    "\n",
    "The option of filling missing values with 0 gives a slightly better RMSE."
   ],
   "id": "91656a3305cfd2c3"
  },
  {
   "metadata": {},
   "cell_type": "markdown",
   "source": "# **4. Ridge Regression ($L_2$)**",
   "id": "17feef1de798a313"
  },
  {
   "metadata": {},
   "cell_type": "markdown",
   "source": [
    "If two or more columns of a matrix are not orthogonal to each other (i.e., they are correlated), it implies that the matrix is not invertible (singular matrix). Consequently, the optimal weights equation:\n",
    "\n",
    "$$\\mathbf{w} = (\\mathbf{X}^T\\mathbf{X})^{-1}\\mathbf{X}^T\\mathbf{Y}$$\n",
    "\n",
    "becomes problematic, as the inverse matrix $(\\mathbf{X}^T\\mathbf{X})$ is either hard to compute accurately or non-existent. This can result in large or unstable estimates of the regression coefficients, which can lead to poor model performance.\n",
    "\n",
    "Regularization aims to ensure the existence of the inverse by forcing the matrix to be invertible, controlling the weights of the model so that they behave correctly and do not become too large.\n",
    "\n",
    "Instead of simple minimizing the squared residual error $||\\mathbf{Y} - \\mathbf{\\hat{Y}}||^2$, we add a regularization term involving the squared norm of the weights vector $|| \\mathbf{w} ||^2$:\n",
    "\n",
    "$$L(\\mathbf{w}) = ||\\mathbf{Y} - \\mathbf{\\hat{Y}}||^2 + \\alpha || \\mathbf{w} ||^2$$\n",
    "\n",
    "The goal is to minimize $L(\\mathbf{w})$. To achieve this, we take the derivative of $L(\\mathbf{w})$ with respect to the weights, set it equal to zero, and find a local minimum of the function. This results in the following optimal weights:\n",
    "\n",
    "$$\\frac{dL(\\mathbf{w})}{d\\mathbf{w}} = -2\\mathbf{X}^T\\mathbf{Y} + 2(\\mathbf{X}^T\\mathbf{X})\\mathbf{w} +2 \\alpha \\mathbf{w}= 0$$\n",
    "\n",
    "therefore, the optimal solution is\n",
    "\n",
    "$$\\mathbf{w} = (\\mathbf{X}^T\\mathbf{X}+ \\alpha \\mathbf{I})^{-1}\\mathbf{X}^T\\mathbf{Y}$$\n",
    "\n",
    "where $\\mathbf{I}$ is the identity matrix. The matrix $(\\mathbf{X}^T\\mathbf{X}+ \\alpha \\mathbf{I})$ is always invertible for $\\alpha > 0$. \n",
    "\n",
    "The reason behind this is that $\\mathbf{X}^T\\mathbf{X}$ is always symmetric and positive semi-definite, meaning all its eigenvalues are non-negative. However, this does not guarantee invertibility, as eigenvalues can still be zero, resulting in a singular matrix.\n",
    "\n",
    "When adding the two matrices, $(\\mathbf{X}^T\\mathbf{X} + \\alpha \\mathbf{I})$, the resulting matrix's eigenvalues are the sums of the corresponding eigenvalues of the original matrices. Since the eigenvalues of $\\mathbf{X}^T\\mathbf{X}$ are non-negative and those of $\\alpha \\mathbf{I}$ are positive, the eigenvalues of $(\\mathbf{X}^T\\mathbf{X} + \\alpha \\mathbf{I})$ are strictly positive. A symmetric matrix with strictly positive eigenvalues is positive definite, which are always invertible as none of their eigenvalues are equal to zero. Consequently, the matrix $(\\mathbf{X}^T\\mathbf{X} + \\alpha \\mathbf{I})$ is always invertible for $\\alpha > 0$."
   ],
   "id": "d93a060c255465b3"
  },
  {
   "metadata": {},
   "cell_type": "markdown",
   "source": [
    "### Question 4\n",
    "- Now let's train a regularized linear regression.\n",
    "- For this question, fill the NAs with 0.\n",
    "- Try different values of r from this list: [0, 0.01, 0.1, 1, 5, 10, 100].\n",
    "- Use RMSE to evaluate the model on the validation dataset.\n",
    "- Round the RMSE scores to 2 decimal digits.\n",
    "\n",
    "Which r gives the best RMSE?\n",
    "\n",
    "If there are multiple options, select the smallest r.\n",
    "\n",
    "Options:\n",
    "\n",
    "- [ ] 0\n",
    "- [ ] 0.01\n",
    "- [ ] 1\n",
    "- [ ] 10\n",
    "- [x] 100"
   ],
   "id": "57faf272cfb776f1"
  },
  {
   "metadata": {
    "ExecuteTime": {
     "end_time": "2024-10-08T16:05:33.147811Z",
     "start_time": "2024-10-08T16:05:33.125528Z"
    }
   },
   "cell_type": "code",
   "source": [
    "from sklearn.linear_model import Ridge\n",
    "\n",
    "# Different regularization strengths to test\n",
    "r_values = [0, 0.01, 0.1, 1, 5, 10, 100]\n",
    "\n",
    "# List to store the RMSE values for each r\n",
    "rmse_r_values = []\n",
    "\n",
    "# Loop through each regularization value and train a model\n",
    "for r in r_values:\n",
    "    # Train a Ridge regression model (L2 regularization)\n",
    "    ridge_model = Ridge(alpha=r)\n",
    "    ridge_model.fit(X_train_0, y_train)\n",
    "\n",
    "    # Predict on the validation set\n",
    "    y_pred_ridge = ridge_model.predict(X_val_0)\n",
    "\n",
    "    # Compute RMSE for the model\n",
    "    rmse_r = np.sqrt(mean_squared_error(y_val, y_pred_ridge))\n",
    "    rmse_r_values.append((r, rmse_r))\n",
    "\n",
    "# Convert results to a DataFrame for easy visualization\n",
    "rmse_r_df = pd.DataFrame(rmse_r_values, columns=['r', 'rmse'])\n",
    "\n",
    "rmse_r_rounded = round(rmse_r_df, 2)\n",
    "\n",
    "rmse_r_rounded"
   ],
   "id": "6d88ed13fa2cf475",
   "outputs": [
    {
     "data": {
      "text/plain": [
       "        r    rmse\n",
       "0    0.00  675.08\n",
       "1    0.01  675.08\n",
       "2    0.10  675.08\n",
       "3    1.00  675.08\n",
       "4    5.00  675.08\n",
       "5   10.00  675.08\n",
       "6  100.00  675.01"
      ],
      "text/html": [
       "<div>\n",
       "<style scoped>\n",
       "    .dataframe tbody tr th:only-of-type {\n",
       "        vertical-align: middle;\n",
       "    }\n",
       "\n",
       "    .dataframe tbody tr th {\n",
       "        vertical-align: top;\n",
       "    }\n",
       "\n",
       "    .dataframe thead th {\n",
       "        text-align: right;\n",
       "    }\n",
       "</style>\n",
       "<table border=\"1\" class=\"dataframe\">\n",
       "  <thead>\n",
       "    <tr style=\"text-align: right;\">\n",
       "      <th></th>\n",
       "      <th>r</th>\n",
       "      <th>rmse</th>\n",
       "    </tr>\n",
       "  </thead>\n",
       "  <tbody>\n",
       "    <tr>\n",
       "      <th>0</th>\n",
       "      <td>0.00</td>\n",
       "      <td>675.08</td>\n",
       "    </tr>\n",
       "    <tr>\n",
       "      <th>1</th>\n",
       "      <td>0.01</td>\n",
       "      <td>675.08</td>\n",
       "    </tr>\n",
       "    <tr>\n",
       "      <th>2</th>\n",
       "      <td>0.10</td>\n",
       "      <td>675.08</td>\n",
       "    </tr>\n",
       "    <tr>\n",
       "      <th>3</th>\n",
       "      <td>1.00</td>\n",
       "      <td>675.08</td>\n",
       "    </tr>\n",
       "    <tr>\n",
       "      <th>4</th>\n",
       "      <td>5.00</td>\n",
       "      <td>675.08</td>\n",
       "    </tr>\n",
       "    <tr>\n",
       "      <th>5</th>\n",
       "      <td>10.00</td>\n",
       "      <td>675.08</td>\n",
       "    </tr>\n",
       "    <tr>\n",
       "      <th>6</th>\n",
       "      <td>100.00</td>\n",
       "      <td>675.01</td>\n",
       "    </tr>\n",
       "  </tbody>\n",
       "</table>\n",
       "</div>"
      ]
     },
     "execution_count": 13,
     "metadata": {},
     "output_type": "execute_result"
    }
   ],
   "execution_count": 13
  },
  {
   "metadata": {},
   "cell_type": "markdown",
   "source": "The regularization value r=100 gives the best RMSE among the tested values",
   "id": "c8f69db6b72c6baf"
  },
  {
   "metadata": {},
   "cell_type": "markdown",
   "source": [
    "### Question 5 \n",
    "\n",
    "* We used seed 42 for splitting the data. Let's find out how selecting the seed influences our score.\n",
    "* Try different seed values: `[0, 1, 2, 3, 4, 5, 6, 7, 8, 9]`.\n",
    "* For each seed, do the train/validation/test split with 60%/20%/20% distribution.\n",
    "* Fill the missing values with 0 and train a model without regularization.\n",
    "* For each seed, evaluate the model on the validation dataset and collect the RMSE scores. \n",
    "* What's the standard deviation of all the scores? To compute the standard deviation, use `np.std`.\n",
    "* Round the result to 3 decimal digits (`round(std, 3)`)\n",
    "\n",
    "What's the value of std?\n",
    "\n",
    "- [ ] 19.176\n",
    "- [x] 29.176\n",
    "- [ ] 39.176\n",
    "- [ ] 49.176\n",
    "\n",
    "> Note: Standard deviation shows how different the values are.\n",
    "> If it's low, then all values are approximately the same.\n",
    "> If it's high, the values are different. \n",
    "> If standard deviation of scores is low, then our model is *stable*."
   ],
   "id": "5564863c5764c93c"
  },
  {
   "metadata": {
    "ExecuteTime": {
     "end_time": "2024-10-08T16:05:33.201694Z",
     "start_time": "2024-10-08T16:05:33.153554Z"
    }
   },
   "cell_type": "code",
   "source": [
    "# List of seed values to test\n",
    "seeds = [0, 1, 2, 3, 4, 5, 6, 7, 8, 9]\n",
    "\n",
    "# List to store RMSE values for each seed\n",
    "rmse_seeds = []\n",
    "\n",
    "# Loop through each seed, split the data, and compute RMSE\n",
    "for seed in seeds:\n",
    "    # Split data into train (60%), validation (20%), and test (20%) sets with different seed values\n",
    "    df_train, df_temp = train_test_split(df_filtered, test_size=0.4, random_state=seed)\n",
    "    df_val, df_test = train_test_split(df_temp, test_size=0.5, random_state=seed)\n",
    "\n",
    "    # Prepare features and target variable for the train and validation sets\n",
    "    X_train = df_train[['ram', 'storage', 'screen']].fillna(0)\n",
    "    y_train = df_train['final_price']\n",
    "    X_val = df_val[['ram', 'storage', 'screen']].fillna(0)\n",
    "    y_val = df_val['final_price']\n",
    "\n",
    "    # Train a linear regression model\n",
    "    lr_seed = LinearRegression()\n",
    "    lr_seed.fit(X_train, y_train)\n",
    "\n",
    "    # Predict on the validation set\n",
    "    y_pred_seed = lr_seed.predict(X_val)\n",
    "\n",
    "    # Compute RMSE for the model\n",
    "    rmse_seed = np.sqrt(mean_squared_error(y_val, y_pred_seed))\n",
    "    rmse_seeds.append(rmse_seed)\n",
    "\n",
    "# Calculate the standard deviation of the RMSE values\n",
    "rmse_std = np.std(rmse_seeds)\n",
    "\n",
    "rmse_std\n"
   ],
   "id": "de4a953c91603e8f",
   "outputs": [
    {
     "data": {
      "text/plain": [
       "29.442043689360084"
      ]
     },
     "execution_count": 14,
     "metadata": {},
     "output_type": "execute_result"
    }
   ],
   "execution_count": 14
  },
  {
   "metadata": {},
   "cell_type": "markdown",
   "source": "The standard deviation of the RMSE scores across different seed values is approximately 29.442.",
   "id": "8ba5c1ab23dcc719"
  },
  {
   "metadata": {},
   "cell_type": "markdown",
   "source": [
    "### Question 6\n",
    "\n",
    "* Split the dataset like previously, use seed 9.\n",
    "* Combine train and validation datasets.\n",
    "* Fill the missing values with 0 and train a model with `r=0.001`. \n",
    "* What's the RMSE on the test dataset?\n",
    "\n",
    "Options:\n",
    "\n",
    "- [ ] 598.60\n",
    "- [ ] 608.60\n",
    "- [ ] 618.60\n",
    "- [ ] 628.60"
   ],
   "id": "1b3cf67b807cbf0f"
  },
  {
   "metadata": {
    "ExecuteTime": {
     "end_time": "2024-10-08T16:05:33.215023Z",
     "start_time": "2024-10-08T16:05:33.203874Z"
    }
   },
   "cell_type": "code",
   "source": [
    "# Split the dataset using seed 9\n",
    "df_train, df_temp = train_test_split(df_filtered, test_size=0.4, random_state=9)\n",
    "df_val, df_test = train_test_split(df_temp, test_size=0.5, random_state=9)\n",
    "\n",
    "# Combine train and validation datasets\n",
    "df_combined = pd.concat([df_train, df_val])\n",
    "\n",
    "# Prepare features and target variable for the combined train and test sets\n",
    "X_combined = df_combined[['ram', 'storage', 'screen']].fillna(0)\n",
    "y_combined = df_combined['final_price']\n",
    "X_test = df_test[['ram', 'storage', 'screen']].fillna(0)\n",
    "y_test = df_test['final_price']\n",
    "\n",
    "# Train a Ridge regression model with r=0.001\n",
    "ridge_model_final = Ridge(alpha=0.001)\n",
    "ridge_model_final.fit(X_combined, y_combined)\n",
    "\n",
    "# Predict on the test set\n",
    "y_pred_test = ridge_model_final.predict(X_test)\n",
    "\n",
    "# Compute RMSE on the test set\n",
    "rmse_test = np.sqrt(mean_squared_error(y_test, y_pred_test))\n",
    "\n",
    "rmse_test"
   ],
   "id": "c13d83fd4c56565a",
   "outputs": [
    {
     "data": {
      "text/plain": [
       "537.1479527897068"
      ]
     },
     "execution_count": 15,
     "metadata": {},
     "output_type": "execute_result"
    }
   ],
   "execution_count": 15
  },
  {
   "metadata": {},
   "cell_type": "markdown",
   "source": "The RMSE on the test dataset when using seed 9 and a regularization value  `r=0.001` is approximately `537.15`. This value is lower than the options provided in the question, so it seems there's a difference in the expected RMSE.",
   "id": "553f9d5a16fb8394"
  },
  {
   "metadata": {
    "ExecuteTime": {
     "end_time": "2024-10-08T16:05:33.308480Z",
     "start_time": "2024-10-08T16:05:33.217541Z"
    }
   },
   "cell_type": "code",
   "source": [
    "import matplotlib.pyplot as plt\n",
    "\n",
    "# Plot the true values vs predicted values for the test set\n",
    "plt.figure(figsize=(8, 6))\n",
    "plt.scatter(y_test, y_pred_test, color='blue', alpha=0.6, edgecolor='k')\n",
    "plt.plot([y_test.min(), y_test.max()], [y_test.min(), y_test.max()], 'r--', lw=2)\n",
    "plt.xlabel('Actual Final Price')\n",
    "plt.ylabel('Predicted Final Price')\n",
    "plt.title('Actual vs Predicted Final Price (Test Set)')\n",
    "plt.grid(True)\n",
    "plt.show()\n"
   ],
   "id": "778c6e49922ea116",
   "outputs": [
    {
     "data": {
      "text/plain": [
       "<Figure size 800x600 with 1 Axes>"
      ],
      "image/png": "[encoded data removed]"
     },
     "metadata": {},
     "output_type": "display_data"
    }
   ],
   "execution_count": 16
  },
  {
   "metadata": {
    "ExecuteTime": {
     "end_time": "2024-10-08T16:05:33.324560Z",
     "start_time": "2024-10-08T16:05:33.312459Z"
    }
   },
   "cell_type": "code",
   "source": [
    "# Get the coefficients (weights) from the Ridge model with r=100\n",
    "ridge_model_r100 = Ridge(alpha=100)\n",
    "ridge_model_r100.fit(X_train_0, y_train)\n",
    "\n",
    "# Coefficients (weights) for the model\n",
    "weights = ridge_model_r100.coef_\n",
    "\n",
    "# Associate each coefficient with its corresponding feature (ram, storage, screen)\n",
    "coefficients_df = pd.DataFrame({\n",
    "    'Feature': ['ram', 'storage', 'screen'],\n",
    "    'Weight (w)': weights\n",
    "})\n",
    "\n",
    "coefficients_df\n"
   ],
   "id": "56f3bd4023350899",
   "outputs": [
    {
     "data": {
      "text/plain": [
       "   Feature  Weight (w)\n",
       "0      ram    2.305659\n",
       "1  storage   -0.112393\n",
       "2   screen   14.852656"
      ],
      "text/html": [
       "<div>\n",
       "<style scoped>\n",
       "    .dataframe tbody tr th:only-of-type {\n",
       "        vertical-align: middle;\n",
       "    }\n",
       "\n",
       "    .dataframe tbody tr th {\n",
       "        vertical-align: top;\n",
       "    }\n",
       "\n",
       "    .dataframe thead th {\n",
       "        text-align: right;\n",
       "    }\n",
       "</style>\n",
       "<table border=\"1\" class=\"dataframe\">\n",
       "  <thead>\n",
       "    <tr style=\"text-align: right;\">\n",
       "      <th></th>\n",
       "      <th>Feature</th>\n",
       "      <th>Weight (w)</th>\n",
       "    </tr>\n",
       "  </thead>\n",
       "  <tbody>\n",
       "    <tr>\n",
       "      <th>0</th>\n",
       "      <td>ram</td>\n",
       "      <td>2.305659</td>\n",
       "    </tr>\n",
       "    <tr>\n",
       "      <th>1</th>\n",
       "      <td>storage</td>\n",
       "      <td>-0.112393</td>\n",
       "    </tr>\n",
       "    <tr>\n",
       "      <th>2</th>\n",
       "      <td>screen</td>\n",
       "      <td>14.852656</td>\n",
       "    </tr>\n",
       "  </tbody>\n",
       "</table>\n",
       "</div>"
      ]
     },
     "execution_count": 17,
     "metadata": {},
     "output_type": "execute_result"
    }
   ],
   "execution_count": 17
  },
  {
   "metadata": {
    "ExecuteTime": {
     "end_time": "2024-10-08T16:05:33.331404Z",
     "start_time": "2024-10-08T16:05:33.326188Z"
    }
   },
   "cell_type": "code",
   "source": "",
   "id": "a5b5848b9721d429",
   "outputs": [],
   "execution_count": 17
  }
 ],
 "metadata": {
  "kernelspec": {
   "display_name": "Python (kaggle)",
   "language": "python",
   "name": "kaggle"
  },
  "language_info": {
   "codemirror_mode": {
    "name": "ipython",
    "version": 2
   },
   "file_extension": ".py",
   "mimetype": "text/x-python",
   "name": "python",
   "nbconvert_exporter": "python",
   "pygments_lexer": "ipython2",
   "version": "2.7.6"
  }
 },
 "nbformat": 4,
 "nbformat_minor": 5
}
