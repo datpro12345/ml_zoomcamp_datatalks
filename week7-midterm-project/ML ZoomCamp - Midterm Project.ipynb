{
 "cells": [
  {
   "cell_type": "markdown",
   "id": "5ee6fdd6",
   "metadata": {},
   "source": [
    "# Stroke Prediction Dataset\n",
    "\n",
    "Data Source - https://www.kaggle.com/fedesoriano/stroke-prediction-dataset\n",
    "\n",
    "\n",
    "## Loading the Data and Studying it -  "
   ]
  },
  {
   "cell_type": "code",
   "execution_count": 6,
   "id": "da2a3ba7",
   "metadata": {},
   "outputs": [],
   "source": [
    "# loading all the basic libraries:\n",
    "import pandas as pd\n",
    "import numpy as np\n",
    "import matplotlib.pyplot as plt\n",
    "import seaborn as sns\n",
    "\n",
    "%matplotlib inline"
   ]
  },
  {
   "cell_type": "code",
   "execution_count": 7,
   "id": "52510e60",
   "metadata": {},
   "outputs": [
    {
     "data": {
      "text/html": [
       "<div>\n",
       "<style scoped>\n",
       "    .dataframe tbody tr th:only-of-type {\n",
       "        vertical-align: middle;\n",
       "    }\n",
       "\n",
       "    .dataframe tbody tr th {\n",
       "        vertical-align: top;\n",
       "    }\n",
       "\n",
       "    .dataframe thead th {\n",
       "        text-align: right;\n",
       "    }\n",
       "</style>\n",
       "<table border=\"1\" class=\"dataframe\">\n",
       "  <thead>\n",
       "    <tr style=\"text-align: right;\">\n",
       "      <th></th>\n",
       "      <th>id</th>\n",
       "      <th>gender</th>\n",
       "      <th>age</th>\n",
       "      <th>hypertension</th>\n",
       "      <th>heart_disease</th>\n",
       "      <th>ever_married</th>\n",
       "      <th>work_type</th>\n",
       "      <th>Residence_type</th>\n",
       "      <th>avg_glucose_level</th>\n",
       "      <th>bmi</th>\n",
       "      <th>smoking_status</th>\n",
       "      <th>stroke</th>\n",
       "    </tr>\n",
       "  </thead>\n",
       "  <tbody>\n",
       "    <tr>\n",
       "      <th>0</th>\n",
       "      <td>9046</td>\n",
       "      <td>Male</td>\n",
       "      <td>67.0</td>\n",
       "      <td>0</td>\n",
       "      <td>1</td>\n",
       "      <td>Yes</td>\n",
       "      <td>Private</td>\n",
       "      <td>Urban</td>\n",
       "      <td>228.69</td>\n",
       "      <td>36.6</td>\n",
       "      <td>formerly smoked</td>\n",
       "      <td>1</td>\n",
       "    </tr>\n",
       "    <tr>\n",
       "      <th>1</th>\n",
       "      <td>51676</td>\n",
       "      <td>Female</td>\n",
       "      <td>61.0</td>\n",
       "      <td>0</td>\n",
       "      <td>0</td>\n",
       "      <td>Yes</td>\n",
       "      <td>Self-employed</td>\n",
       "      <td>Rural</td>\n",
       "      <td>202.21</td>\n",
       "      <td>NaN</td>\n",
       "      <td>never smoked</td>\n",
       "      <td>1</td>\n",
       "    </tr>\n",
       "    <tr>\n",
       "      <th>2</th>\n",
       "      <td>31112</td>\n",
       "      <td>Male</td>\n",
       "      <td>80.0</td>\n",
       "      <td>0</td>\n",
       "      <td>1</td>\n",
       "      <td>Yes</td>\n",
       "      <td>Private</td>\n",
       "      <td>Rural</td>\n",
       "      <td>105.92</td>\n",
       "      <td>32.5</td>\n",
       "      <td>never smoked</td>\n",
       "      <td>1</td>\n",
       "    </tr>\n",
       "    <tr>\n",
       "      <th>3</th>\n",
       "      <td>60182</td>\n",
       "      <td>Female</td>\n",
       "      <td>49.0</td>\n",
       "      <td>0</td>\n",
       "      <td>0</td>\n",
       "      <td>Yes</td>\n",
       "      <td>Private</td>\n",
       "      <td>Urban</td>\n",
       "      <td>171.23</td>\n",
       "      <td>34.4</td>\n",
       "      <td>smokes</td>\n",
       "      <td>1</td>\n",
       "    </tr>\n",
       "    <tr>\n",
       "      <th>4</th>\n",
       "      <td>1665</td>\n",
       "      <td>Female</td>\n",
       "      <td>79.0</td>\n",
       "      <td>1</td>\n",
       "      <td>0</td>\n",
       "      <td>Yes</td>\n",
       "      <td>Self-employed</td>\n",
       "      <td>Rural</td>\n",
       "      <td>174.12</td>\n",
       "      <td>24.0</td>\n",
       "      <td>never smoked</td>\n",
       "      <td>1</td>\n",
       "    </tr>\n",
       "  </tbody>\n",
       "</table>\n",
       "</div>"
      ],
      "text/plain": [
       "      id  gender   age  hypertension  heart_disease ever_married  \\\n",
       "0   9046    Male  67.0             0              1          Yes   \n",
       "1  51676  Female  61.0             0              0          Yes   \n",
       "2  31112    Male  80.0             0              1          Yes   \n",
       "3  60182  Female  49.0             0              0          Yes   \n",
       "4   1665  Female  79.0             1              0          Yes   \n",
       "\n",
       "       work_type Residence_type  avg_glucose_level   bmi   smoking_status  \\\n",
       "0        Private          Urban             228.69  36.6  formerly smoked   \n",
       "1  Self-employed          Rural             202.21   NaN     never smoked   \n",
       "2        Private          Rural             105.92  32.5     never smoked   \n",
       "3        Private          Urban             171.23  34.4           smokes   \n",
       "4  Self-employed          Rural             174.12  24.0     never smoked   \n",
       "\n",
       "   stroke  \n",
       "0       1  \n",
       "1       1  \n",
       "2       1  \n",
       "3       1  \n",
       "4       1  "
      ]
     },
     "execution_count": 7,
     "metadata": {},
     "output_type": "execute_result"
    }
   ],
   "source": [
    "# Importing the data from Kaggle as a csv file and converting it into a Pandas DataFrame:\n",
    "data = pd.read_csv('healthcare-dataset-stroke-data.csv')\n",
    "\n",
    "# Viewing the snapshot of first 5 rows of the loaded dataset:\n",
    "data.head()"
   ]
  },
  {
   "cell_type": "markdown",
   "id": "b1575402",
   "metadata": {},
   "source": [
    "A snapshot of the dataset shows it to be a mix of categorical and numerical variables. The column 'stroke' appears to be the target column which would become our target variable (y) when selecting models. \n",
    "\n",
    "Also the target variable is a binary classification column with labels 0 ('not at risk of stroke') and 1 ('at risk of stroke'). This would form the basis of predicitons in future.\n",
    "\n",
    "As some features are categorical I would need to use one-hot encoding before training different models."
   ]
  },
  {
   "cell_type": "code",
   "execution_count": 8,
   "id": "477ce688",
   "metadata": {},
   "outputs": [
    {
     "data": {
      "text/plain": [
       "(5110, 12)"
      ]
     },
     "execution_count": 8,
     "metadata": {},
     "output_type": "execute_result"
    }
   ],
   "source": [
    "# Checking the size of dataset - total rows and columns:\n",
    "data.shape"
   ]
  },
  {
   "cell_type": "code",
   "execution_count": 9,
   "id": "0a81d5f6",
   "metadata": {},
   "outputs": [
    {
     "name": "stdout",
     "output_type": "stream",
     "text": [
      "<class 'pandas.core.frame.DataFrame'>\n",
      "RangeIndex: 5110 entries, 0 to 5109\n",
      "Data columns (total 12 columns):\n",
      " #   Column             Non-Null Count  Dtype  \n",
      "---  ------             --------------  -----  \n",
      " 0   id                 5110 non-null   int64  \n",
      " 1   gender             5110 non-null   object \n",
      " 2   age                5110 non-null   float64\n",
      " 3   hypertension       5110 non-null   int64  \n",
      " 4   heart_disease      5110 non-null   int64  \n",
      " 5   ever_married       5110 non-null   object \n",
      " 6   work_type          5110 non-null   object \n",
      " 7   Residence_type     5110 non-null   object \n",
      " 8   avg_glucose_level  5110 non-null   float64\n",
      " 9   bmi                4909 non-null   float64\n",
      " 10  smoking_status     5110 non-null   object \n",
      " 11  stroke             5110 non-null   int64  \n",
      "dtypes: float64(3), int64(4), object(5)\n",
      "memory usage: 479.2+ KB\n"
     ]
    }
   ],
   "source": [
    "# Getting the basic information about the dataset:\n",
    "data.info()"
   ]
  },
  {
   "cell_type": "code",
   "execution_count": 10,
   "id": "4a7aef4f",
   "metadata": {},
   "outputs": [
    {
     "data": {
      "text/html": [
       "<div>\n",
       "<style scoped>\n",
       "    .dataframe tbody tr th:only-of-type {\n",
       "        vertical-align: middle;\n",
       "    }\n",
       "\n",
       "    .dataframe tbody tr th {\n",
       "        vertical-align: top;\n",
       "    }\n",
       "\n",
       "    .dataframe thead th {\n",
       "        text-align: right;\n",
       "    }\n",
       "</style>\n",
       "<table border=\"1\" class=\"dataframe\">\n",
       "  <thead>\n",
       "    <tr style=\"text-align: right;\">\n",
       "      <th></th>\n",
       "      <th>id</th>\n",
       "      <th>age</th>\n",
       "      <th>hypertension</th>\n",
       "      <th>heart_disease</th>\n",
       "      <th>avg_glucose_level</th>\n",
       "      <th>bmi</th>\n",
       "      <th>stroke</th>\n",
       "    </tr>\n",
       "  </thead>\n",
       "  <tbody>\n",
       "    <tr>\n",
       "      <th>count</th>\n",
       "      <td>5110.00</td>\n",
       "      <td>5110.00</td>\n",
       "      <td>5110.0</td>\n",
       "      <td>5110.00</td>\n",
       "      <td>5110.00</td>\n",
       "      <td>4909.00</td>\n",
       "      <td>5110.00</td>\n",
       "    </tr>\n",
       "    <tr>\n",
       "      <th>mean</th>\n",
       "      <td>36517.83</td>\n",
       "      <td>43.23</td>\n",
       "      <td>0.1</td>\n",
       "      <td>0.05</td>\n",
       "      <td>106.15</td>\n",
       "      <td>28.89</td>\n",
       "      <td>0.05</td>\n",
       "    </tr>\n",
       "    <tr>\n",
       "      <th>std</th>\n",
       "      <td>21161.72</td>\n",
       "      <td>22.61</td>\n",
       "      <td>0.3</td>\n",
       "      <td>0.23</td>\n",
       "      <td>45.28</td>\n",
       "      <td>7.85</td>\n",
       "      <td>0.22</td>\n",
       "    </tr>\n",
       "    <tr>\n",
       "      <th>min</th>\n",
       "      <td>67.00</td>\n",
       "      <td>0.08</td>\n",
       "      <td>0.0</td>\n",
       "      <td>0.00</td>\n",
       "      <td>55.12</td>\n",
       "      <td>10.30</td>\n",
       "      <td>0.00</td>\n",
       "    </tr>\n",
       "    <tr>\n",
       "      <th>25%</th>\n",
       "      <td>17741.25</td>\n",
       "      <td>25.00</td>\n",
       "      <td>0.0</td>\n",
       "      <td>0.00</td>\n",
       "      <td>77.24</td>\n",
       "      <td>23.50</td>\n",
       "      <td>0.00</td>\n",
       "    </tr>\n",
       "    <tr>\n",
       "      <th>50%</th>\n",
       "      <td>36932.00</td>\n",
       "      <td>45.00</td>\n",
       "      <td>0.0</td>\n",
       "      <td>0.00</td>\n",
       "      <td>91.88</td>\n",
       "      <td>28.10</td>\n",
       "      <td>0.00</td>\n",
       "    </tr>\n",
       "    <tr>\n",
       "      <th>75%</th>\n",
       "      <td>54682.00</td>\n",
       "      <td>61.00</td>\n",
       "      <td>0.0</td>\n",
       "      <td>0.00</td>\n",
       "      <td>114.09</td>\n",
       "      <td>33.10</td>\n",
       "      <td>0.00</td>\n",
       "    </tr>\n",
       "    <tr>\n",
       "      <th>max</th>\n",
       "      <td>72940.00</td>\n",
       "      <td>82.00</td>\n",
       "      <td>1.0</td>\n",
       "      <td>1.00</td>\n",
       "      <td>271.74</td>\n",
       "      <td>97.60</td>\n",
       "      <td>1.00</td>\n",
       "    </tr>\n",
       "  </tbody>\n",
       "</table>\n",
       "</div>"
      ],
      "text/plain": [
       "             id      age  hypertension  heart_disease  avg_glucose_level  \\\n",
       "count   5110.00  5110.00        5110.0        5110.00            5110.00   \n",
       "mean   36517.83    43.23           0.1           0.05             106.15   \n",
       "std    21161.72    22.61           0.3           0.23              45.28   \n",
       "min       67.00     0.08           0.0           0.00              55.12   \n",
       "25%    17741.25    25.00           0.0           0.00              77.24   \n",
       "50%    36932.00    45.00           0.0           0.00              91.88   \n",
       "75%    54682.00    61.00           0.0           0.00             114.09   \n",
       "max    72940.00    82.00           1.0           1.00             271.74   \n",
       "\n",
       "           bmi   stroke  \n",
       "count  4909.00  5110.00  \n",
       "mean     28.89     0.05  \n",
       "std       7.85     0.22  \n",
       "min      10.30     0.00  \n",
       "25%      23.50     0.00  \n",
       "50%      28.10     0.00  \n",
       "75%      33.10     0.00  \n",
       "max      97.60     1.00  "
      ]
     },
     "execution_count": 10,
     "metadata": {},
     "output_type": "execute_result"
    }
   ],
   "source": [
    "# Getting a statistical summary of the dataset (rounded to 2 decimals):\n",
    "data.describe().round(2)"
   ]
  },
  {
   "cell_type": "code",
   "execution_count": 11,
   "id": "f30e7092",
   "metadata": {},
   "outputs": [
    {
     "name": "stdout",
     "output_type": "stream",
     "text": [
      "id\n",
      "[ 9046 51676 31112 60182  1665]\n",
      "5110\n",
      "\n",
      "gender\n",
      "['Male' 'Female' 'Other']\n",
      "3\n",
      "\n",
      "age\n",
      "[67. 61. 80. 49. 79.]\n",
      "104\n",
      "\n",
      "hypertension\n",
      "[0 1]\n",
      "2\n",
      "\n",
      "heart_disease\n",
      "[1 0]\n",
      "2\n",
      "\n",
      "ever_married\n",
      "['Yes' 'No']\n",
      "2\n",
      "\n",
      "work_type\n",
      "['Private' 'Self-employed' 'Govt_job' 'children' 'Never_worked']\n",
      "5\n",
      "\n",
      "Residence_type\n",
      "['Urban' 'Rural']\n",
      "2\n",
      "\n",
      "avg_glucose_level\n",
      "[228.69 202.21 105.92 171.23 174.12]\n",
      "3979\n",
      "\n",
      "bmi\n",
      "[36.6  nan 32.5 34.4 24. ]\n",
      "418\n",
      "\n",
      "smoking_status\n",
      "['formerly smoked' 'never smoked' 'smokes' 'Unknown']\n",
      "4\n",
      "\n",
      "stroke\n",
      "[1 0]\n",
      "2\n",
      "\n"
     ]
    }
   ],
   "source": [
    "# Exploring the unique values in each column of dataset - using a for loop:\n",
    "for col in data.columns:\n",
    "    print(col)   # printing the column name\n",
    "    print(data[col].unique()[:5])  # viewing the first 5 unique values from each column\n",
    "    print(data[col].nunique())   # total count of unique values in the column\n",
    "    print()  # adding a line break between column data"
   ]
  },
  {
   "cell_type": "markdown",
   "id": "d48ae8e4",
   "metadata": {},
   "source": [
    "## Data Cleaning and Formatting - "
   ]
  },
  {
   "cell_type": "markdown",
   "id": "a4124d3c",
   "metadata": {},
   "source": [
    "#### Formatting Columns - "
   ]
  },
  {
   "cell_type": "code",
   "execution_count": 12,
   "id": "bed20742",
   "metadata": {},
   "outputs": [
    {
     "data": {
      "text/html": [
       "<div>\n",
       "<style scoped>\n",
       "    .dataframe tbody tr th:only-of-type {\n",
       "        vertical-align: middle;\n",
       "    }\n",
       "\n",
       "    .dataframe tbody tr th {\n",
       "        vertical-align: top;\n",
       "    }\n",
       "\n",
       "    .dataframe thead th {\n",
       "        text-align: right;\n",
       "    }\n",
       "</style>\n",
       "<table border=\"1\" class=\"dataframe\">\n",
       "  <thead>\n",
       "    <tr style=\"text-align: right;\">\n",
       "      <th></th>\n",
       "      <th>id</th>\n",
       "      <th>gender</th>\n",
       "      <th>age</th>\n",
       "      <th>hypertension</th>\n",
       "      <th>heart_disease</th>\n",
       "      <th>ever_married</th>\n",
       "      <th>work_type</th>\n",
       "      <th>residence_type</th>\n",
       "      <th>avg_glucose_level</th>\n",
       "      <th>bmi</th>\n",
       "      <th>smoking_status</th>\n",
       "      <th>stroke</th>\n",
       "    </tr>\n",
       "  </thead>\n",
       "  <tbody>\n",
       "    <tr>\n",
       "      <th>0</th>\n",
       "      <td>9046</td>\n",
       "      <td>Male</td>\n",
       "      <td>67.0</td>\n",
       "      <td>0</td>\n",
       "      <td>1</td>\n",
       "      <td>Yes</td>\n",
       "      <td>private</td>\n",
       "      <td>Urban</td>\n",
       "      <td>228.69</td>\n",
       "      <td>36.6</td>\n",
       "      <td>formerly smoked</td>\n",
       "      <td>1</td>\n",
       "    </tr>\n",
       "    <tr>\n",
       "      <th>1</th>\n",
       "      <td>51676</td>\n",
       "      <td>Female</td>\n",
       "      <td>61.0</td>\n",
       "      <td>0</td>\n",
       "      <td>0</td>\n",
       "      <td>Yes</td>\n",
       "      <td>self-employed</td>\n",
       "      <td>Rural</td>\n",
       "      <td>202.21</td>\n",
       "      <td>NaN</td>\n",
       "      <td>never smoked</td>\n",
       "      <td>1</td>\n",
       "    </tr>\n",
       "    <tr>\n",
       "      <th>2</th>\n",
       "      <td>31112</td>\n",
       "      <td>Male</td>\n",
       "      <td>80.0</td>\n",
       "      <td>0</td>\n",
       "      <td>1</td>\n",
       "      <td>Yes</td>\n",
       "      <td>private</td>\n",
       "      <td>Rural</td>\n",
       "      <td>105.92</td>\n",
       "      <td>32.5</td>\n",
       "      <td>never smoked</td>\n",
       "      <td>1</td>\n",
       "    </tr>\n",
       "    <tr>\n",
       "      <th>3</th>\n",
       "      <td>60182</td>\n",
       "      <td>Female</td>\n",
       "      <td>49.0</td>\n",
       "      <td>0</td>\n",
       "      <td>0</td>\n",
       "      <td>Yes</td>\n",
       "      <td>private</td>\n",
       "      <td>Urban</td>\n",
       "      <td>171.23</td>\n",
       "      <td>34.4</td>\n",
       "      <td>smokes</td>\n",
       "      <td>1</td>\n",
       "    </tr>\n",
       "    <tr>\n",
       "      <th>4</th>\n",
       "      <td>1665</td>\n",
       "      <td>Female</td>\n",
       "      <td>79.0</td>\n",
       "      <td>1</td>\n",
       "      <td>0</td>\n",
       "      <td>Yes</td>\n",
       "      <td>self-employed</td>\n",
       "      <td>Rural</td>\n",
       "      <td>174.12</td>\n",
       "      <td>24.0</td>\n",
       "      <td>never smoked</td>\n",
       "      <td>1</td>\n",
       "    </tr>\n",
       "  </tbody>\n",
       "</table>\n",
       "</div>"
      ],
      "text/plain": [
       "      id  gender   age  hypertension  heart_disease ever_married  \\\n",
       "0   9046    Male  67.0             0              1          Yes   \n",
       "1  51676  Female  61.0             0              0          Yes   \n",
       "2  31112    Male  80.0             0              1          Yes   \n",
       "3  60182  Female  49.0             0              0          Yes   \n",
       "4   1665  Female  79.0             1              0          Yes   \n",
       "\n",
       "       work_type residence_type  avg_glucose_level   bmi   smoking_status  \\\n",
       "0        private          Urban             228.69  36.6  formerly smoked   \n",
       "1  self-employed          Rural             202.21   NaN     never smoked   \n",
       "2        private          Rural             105.92  32.5     never smoked   \n",
       "3        private          Urban             171.23  34.4           smokes   \n",
       "4  self-employed          Rural             174.12  24.0     never smoked   \n",
       "\n",
       "   stroke  \n",
       "0       1  \n",
       "1       1  \n",
       "2       1  \n",
       "3       1  \n",
       "4       1  "
      ]
     },
     "execution_count": 12,
     "metadata": {},
     "output_type": "execute_result"
    }
   ],
   "source": [
    "# Formatting the column names and row values to lower case:\n",
    "data.columns = data.columns.str.lower()\n",
    "data['smoking_status'] = data['smoking_status'].str.lower()\n",
    "data['work_type'] = data['work_type'].str.lower()\n",
    "data.head()"
   ]
  },
  {
   "cell_type": "markdown",
   "id": "32a0470c",
   "metadata": {},
   "source": [
    "#### Missing Values Detection and Imputation - "
   ]
  },
  {
   "cell_type": "code",
   "execution_count": 13,
   "id": "8fdd7ff5",
   "metadata": {},
   "outputs": [
    {
     "data": {
      "text/plain": [
       "id                     0\n",
       "gender                 0\n",
       "age                    0\n",
       "hypertension           0\n",
       "heart_disease          0\n",
       "ever_married           0\n",
       "work_type              0\n",
       "residence_type         0\n",
       "avg_glucose_level      0\n",
       "bmi                  201\n",
       "smoking_status         0\n",
       "stroke                 0\n",
       "dtype: int64"
      ]
     },
     "execution_count": 13,
     "metadata": {},
     "output_type": "execute_result"
    }
   ],
   "source": [
    "# Getting the sum count of missing values in each column:\n",
    "data.isnull().sum()"
   ]
  },
  {
   "cell_type": "code",
   "execution_count": 14,
   "id": "6e547f6a",
   "metadata": {},
   "outputs": [
    {
     "data": {
      "text/plain": [
       "id                   0\n",
       "gender               0\n",
       "age                  0\n",
       "hypertension         0\n",
       "heart_disease        0\n",
       "ever_married         0\n",
       "work_type            0\n",
       "residence_type       0\n",
       "avg_glucose_level    0\n",
       "bmi                  0\n",
       "smoking_status       0\n",
       "stroke               0\n",
       "dtype: int64"
      ]
     },
     "execution_count": 14,
     "metadata": {},
     "output_type": "execute_result"
    }
   ],
   "source": [
    "# Imputing missing values in BMI column with mean BMI values:\n",
    "data['bmi'] = data['bmi'].fillna(np.mean(data['bmi']))\n",
    "\n",
    "# Re-checking the missing values in dataset:\n",
    "data.isnull().sum()"
   ]
  },
  {
   "cell_type": "markdown",
   "id": "2aeb27a8",
   "metadata": {},
   "source": [
    "#### Dealing with Irrelevant Values - "
   ]
  },
  {
   "cell_type": "code",
   "execution_count": 15,
   "id": "34668a8c",
   "metadata": {},
   "outputs": [
    {
     "data": {
      "text/html": [
       "<div>\n",
       "<style scoped>\n",
       "    .dataframe tbody tr th:only-of-type {\n",
       "        vertical-align: middle;\n",
       "    }\n",
       "\n",
       "    .dataframe tbody tr th {\n",
       "        vertical-align: top;\n",
       "    }\n",
       "\n",
       "    .dataframe thead th {\n",
       "        text-align: right;\n",
       "    }\n",
       "</style>\n",
       "<table border=\"1\" class=\"dataframe\">\n",
       "  <thead>\n",
       "    <tr style=\"text-align: right;\">\n",
       "      <th></th>\n",
       "      <th>gender</th>\n",
       "      <th>age</th>\n",
       "      <th>hypertension</th>\n",
       "      <th>heart_disease</th>\n",
       "      <th>ever_married</th>\n",
       "      <th>work_type</th>\n",
       "      <th>residence_type</th>\n",
       "      <th>avg_glucose_level</th>\n",
       "      <th>bmi</th>\n",
       "      <th>smoking_status</th>\n",
       "      <th>stroke</th>\n",
       "    </tr>\n",
       "  </thead>\n",
       "  <tbody>\n",
       "    <tr>\n",
       "      <th>0</th>\n",
       "      <td>Male</td>\n",
       "      <td>67.0</td>\n",
       "      <td>0</td>\n",
       "      <td>1</td>\n",
       "      <td>Yes</td>\n",
       "      <td>private</td>\n",
       "      <td>Urban</td>\n",
       "      <td>228.69</td>\n",
       "      <td>36.600000</td>\n",
       "      <td>formerly smoked</td>\n",
       "      <td>1</td>\n",
       "    </tr>\n",
       "    <tr>\n",
       "      <th>1</th>\n",
       "      <td>Female</td>\n",
       "      <td>61.0</td>\n",
       "      <td>0</td>\n",
       "      <td>0</td>\n",
       "      <td>Yes</td>\n",
       "      <td>self-employed</td>\n",
       "      <td>Rural</td>\n",
       "      <td>202.21</td>\n",
       "      <td>28.893237</td>\n",
       "      <td>never smoked</td>\n",
       "      <td>1</td>\n",
       "    </tr>\n",
       "    <tr>\n",
       "      <th>2</th>\n",
       "      <td>Male</td>\n",
       "      <td>80.0</td>\n",
       "      <td>0</td>\n",
       "      <td>1</td>\n",
       "      <td>Yes</td>\n",
       "      <td>private</td>\n",
       "      <td>Rural</td>\n",
       "      <td>105.92</td>\n",
       "      <td>32.500000</td>\n",
       "      <td>never smoked</td>\n",
       "      <td>1</td>\n",
       "    </tr>\n",
       "    <tr>\n",
       "      <th>3</th>\n",
       "      <td>Female</td>\n",
       "      <td>49.0</td>\n",
       "      <td>0</td>\n",
       "      <td>0</td>\n",
       "      <td>Yes</td>\n",
       "      <td>private</td>\n",
       "      <td>Urban</td>\n",
       "      <td>171.23</td>\n",
       "      <td>34.400000</td>\n",
       "      <td>smokes</td>\n",
       "      <td>1</td>\n",
       "    </tr>\n",
       "    <tr>\n",
       "      <th>4</th>\n",
       "      <td>Female</td>\n",
       "      <td>79.0</td>\n",
       "      <td>1</td>\n",
       "      <td>0</td>\n",
       "      <td>Yes</td>\n",
       "      <td>self-employed</td>\n",
       "      <td>Rural</td>\n",
       "      <td>174.12</td>\n",
       "      <td>24.000000</td>\n",
       "      <td>never smoked</td>\n",
       "      <td>1</td>\n",
       "    </tr>\n",
       "  </tbody>\n",
       "</table>\n",
       "</div>"
      ],
      "text/plain": [
       "   gender   age  hypertension  heart_disease ever_married      work_type  \\\n",
       "0    Male  67.0             0              1          Yes        private   \n",
       "1  Female  61.0             0              0          Yes  self-employed   \n",
       "2    Male  80.0             0              1          Yes        private   \n",
       "3  Female  49.0             0              0          Yes        private   \n",
       "4  Female  79.0             1              0          Yes  self-employed   \n",
       "\n",
       "  residence_type  avg_glucose_level        bmi   smoking_status  stroke  \n",
       "0          Urban             228.69  36.600000  formerly smoked       1  \n",
       "1          Rural             202.21  28.893237     never smoked       1  \n",
       "2          Rural             105.92  32.500000     never smoked       1  \n",
       "3          Urban             171.23  34.400000           smokes       1  \n",
       "4          Rural             174.12  24.000000     never smoked       1  "
      ]
     },
     "execution_count": 15,
     "metadata": {},
     "output_type": "execute_result"
    }
   ],
   "source": [
    "# Dropping id column from dataset:\n",
    "data.drop(columns=['id'], inplace=True)\n",
    "data.head()"
   ]
  },
  {
   "cell_type": "code",
   "execution_count": 16,
   "id": "1ec4067a",
   "metadata": {},
   "outputs": [
    {
     "data": {
      "text/plain": [
       "Female    2994\n",
       "Male      2115\n",
       "Other        1\n",
       "Name: gender, dtype: int64"
      ]
     },
     "execution_count": 16,
     "metadata": {},
     "output_type": "execute_result"
    }
   ],
   "source": [
    "# Getting a count of gender column values:\n",
    "data.gender.value_counts()"
   ]
  },
  {
   "cell_type": "markdown",
   "id": "2bedc79f",
   "metadata": {},
   "source": [
    "We see that the gender column has one row with Other category. As this row is irrelevant we would not delete the row but replace its gender value with the mode of gender column. "
   ]
  },
  {
   "cell_type": "code",
   "execution_count": 17,
   "id": "3b5b19a6",
   "metadata": {},
   "outputs": [],
   "source": [
    "# Getting the mode of gender column:\n",
    "gender_mode = list(data.gender.mode().values)[0]\n",
    "\n",
    "# Replacing 'Other' gender category row to mode of gender column:\n",
    "data['gender'] = data['gender'].replace('Other', gender_mode)"
   ]
  },
  {
   "cell_type": "code",
   "execution_count": 18,
   "id": "51e00ceb",
   "metadata": {},
   "outputs": [
    {
     "data": {
      "text/plain": [
       "Female    2995\n",
       "Male      2115\n",
       "Name: gender, dtype: int64"
      ]
     },
     "execution_count": 18,
     "metadata": {},
     "output_type": "execute_result"
    }
   ],
   "source": [
    "# Re-checking the count of gender column values after imputation:\n",
    "data.gender.value_counts()"
   ]
  },
  {
   "cell_type": "markdown",
   "id": "0454d5ce",
   "metadata": {},
   "source": [
    "We replace the 'Other' gender category row with mode value which increases value count for Female rows by 1 to 2995 rows."
   ]
  },
  {
   "cell_type": "markdown",
   "id": "641b99e7",
   "metadata": {},
   "source": [
    "#### Separating Numerical anf Categorical Features for use in Training ML Models  - "
   ]
  },
  {
   "cell_type": "code",
   "execution_count": 19,
   "id": "b1b45fea",
   "metadata": {},
   "outputs": [],
   "source": [
    "# Separating numerical variable columns and categorical variable columns from the dataset:\n",
    "numerical = ['age', 'avg_glucose_level', 'bmi']\n",
    "\n",
    "# remaining columns are categorical variable columns:\n",
    "categorical = ['gender','hypertension','heart_disease', 'ever_married', 'work_type', \n",
    "                        'residence_type','smoking_status']"
   ]
  },
  {
   "cell_type": "markdown",
   "id": "f17adc72",
   "metadata": {},
   "source": [
    "## Exploratory Data Analysis (EDA) - \n",
    "\n",
    "Now that the dataset has been cleaned and formatted we exlore it by performing some Exploratory Data Analysis and draw insights from different visualizations created. \n",
    "\n",
    "Below are some key questions answered about Stroke Prediction dataset:-"
   ]
  },
  {
   "cell_type": "markdown",
   "id": "0b3885d9",
   "metadata": {},
   "source": [
    "##### Ques 1 - Who are at most risk of experiencing stroke and who are at least risk?"
   ]
  },
  {
   "cell_type": "code",
   "execution_count": 20,
   "id": "e3b6aae2",
   "metadata": {},
   "outputs": [
    {
     "name": "stderr",
     "output_type": "stream",
     "text": [
      "D:\\Anaconda_install_files\\envs\\ml-zoomcamp\\lib\\site-packages\\seaborn\\categorical.py:3717: UserWarning: The `factorplot` function has been renamed to `catplot`. The original name will be removed in a future release. Please update your code. Note that the default `kind` in `factorplot` (`'point'`) has changed `'strip'` in `catplot`.\n",
      "  warnings.warn(msg)\n"
     ]
    },
    {
     "data": {
      "image/png": "[encoded data removed]",
      "text/plain": [
       "<Figure size 402.375x360 with 1 Axes>"
      ]
     },
     "metadata": {
      "needs_background": "light"
     },
     "output_type": "display_data"
    }
   ],
   "source": [
    "# Visualizing the relation between work_type, age and risk of stroke:\n",
    "sns.factorplot(x=\"work_type\", y=\"age\", hue=\"stroke\", data=data, kind=\"bar\")\n",
    "plt.show()"
   ]
  },
  {
   "cell_type": "markdown",
   "id": "2ee235de",
   "metadata": {},
   "source": [
    "People with a higher risk of having stroke, were self-employed, in private or government jobs. While those with no work experience and childern had lower risk of a stroke. \n",
    "\n",
    "Also, there was a high association of work_type feature with age."
   ]
  },
  {
   "cell_type": "code",
   "execution_count": 22,
   "id": "2b4b79f2",
   "metadata": {},
   "outputs": [
    {
     "name": "stderr",
     "output_type": "stream",
     "text": [
      "D:\\Anaconda_install_files\\envs\\ml-zoomcamp\\lib\\site-packages\\seaborn\\categorical.py:3717: UserWarning: The `factorplot` function has been renamed to `catplot`. The original name will be removed in a future release. Please update your code. Note that the default `kind` in `factorplot` (`'point'`) has changed `'strip'` in `catplot`.\n",
      "  warnings.warn(msg)\n"
     ]
    },
    {
     "data": {
      "image/png": "[encoded data removed]",
      "text/plain": [
       "<Figure size 762.375x360 with 2 Axes>"
      ]
     },
     "metadata": {
      "needs_background": "light"
     },
     "output_type": "display_data"
    }
   ],
   "source": [
    "# Visualizing the relation between smoking habits, glucose levels and risk of stroke:\n",
    "sns.factorplot(x='smoking_status',y='avg_glucose_level',hue = 'stroke' ,data=data, kind='bar',col='residence_type')\n",
    "plt.show()"
   ]
  },
  {
   "cell_type": "markdown",
   "id": "169720b9",
   "metadata": {},
   "source": [
    "People with a higher risk of stroke are more likely to be smokers or smoked formerly. They also tend to have higher average glucose levels.\n",
    "\n",
    "Also, this pattern can be seen in both residential settings - Rural as well as Urban."
   ]
  },
  {
   "cell_type": "markdown",
   "id": "2c3befe0",
   "metadata": {},
   "source": [
    "##### Ques 2 - What age/avg_glucose_level/bmi level people have a likelihood of experiencing stroke?"
   ]
  },
  {
   "cell_type": "code",
   "execution_count": 24,
   "id": "0e482d1e",
   "metadata": {},
   "outputs": [
    {
     "data": {
      "image/png": "[encoded data removed]",
      "text/plain": [
       "<Figure size 432x288 with 1 Axes>"
      ]
     },
     "metadata": {
      "needs_background": "light"
     },
     "output_type": "display_data"
    }
   ],
   "source": [
    "# Visualizing the relation between gender, bmi levels and risk of stroke:\n",
    "sns.boxplot(x='stroke',y='bmi',data=data,palette='rainbow',hue='gender')\n",
    "plt.show()"
   ]
  },
  {
   "cell_type": "markdown",
   "id": "08a21066",
   "metadata": {},
   "source": [
    "People with a higher risk of stroke, irrespective of being male or female had slightly higher bmi levels. Although, there were large set of outliers in each case."
   ]
  },
  {
   "cell_type": "code",
   "execution_count": 25,
   "id": "00a8fe81",
   "metadata": {},
   "outputs": [
    {
     "data": {
      "image/png": "[encoded data removed]",
      "text/plain": [
       "<Figure size 432x288 with 1 Axes>"
      ]
     },
     "metadata": {
      "needs_background": "light"
     },
     "output_type": "display_data"
    }
   ],
   "source": [
    "# Visualizing the relation between marital status, age and risk of stroke:\n",
    "sns.violinplot(x=\"stroke\", y=\"age\", data=data,palette='rainbow',hue='ever_married')\n",
    "plt.show()"
   ]
  },
  {
   "cell_type": "markdown",
   "id": "700f2f56",
   "metadata": {},
   "source": [
    "People that ever married had a higher risk of having stroke. Also, people with stroke have higher mean age."
   ]
  },
  {
   "cell_type": "markdown",
   "id": "dbcbafca",
   "metadata": {},
   "source": [
    "#### Ques 3 - Which were the most highly correlated features with stroke?\n",
    "\n",
    "To answer this question I computed the correlation of Stroke variable separately with Numerical features & Categorical features.\n",
    "\n",
    "##### Correlation with Numerical Features - \n",
    "\n",
    "Correlation with numerical features is calculated using a Heatmap."
   ]
  },
  {
   "cell_type": "code",
   "execution_count": 28,
   "id": "dd59ccd7",
   "metadata": {},
   "outputs": [],
   "source": [
    "# Assigning the numerical features to a variable:\n",
    "numeric = ['age','avg_glucose_level','bmi']"
   ]
  },
  {
   "cell_type": "code",
   "execution_count": 43,
   "id": "3e5ddb3d",
   "metadata": {},
   "outputs": [
    {
     "data": {
      "text/plain": [
       "age                  0.245\n",
       "avg_glucose_level    0.132\n",
       "bmi                  0.039\n",
       "dtype: float64"
      ]
     },
     "execution_count": 43,
     "metadata": {},
     "output_type": "execute_result"
    }
   ],
   "source": [
    "# Measuring the correlation of stroke variable with numerical features - using corrwith():\n",
    "data[numeric].corrwith(data.stroke).round(3)"
   ]
  },
  {
   "cell_type": "code",
   "execution_count": 42,
   "id": "ca272ea0",
   "metadata": {},
   "outputs": [
    {
     "data": {
      "image/png": "[encoded data removed]",
      "text/plain": [
       "<Figure size 432x288 with 2 Axes>"
      ]
     },
     "metadata": {
      "needs_background": "light"
     },
     "output_type": "display_data"
    }
   ],
   "source": [
    "# Creating a correlation heatmap of relation among all numerical features and stroke variable:\n",
    "numerical_with_stroke = ['age','avg_glucose_level','bmi', 'stroke']\n",
    "heatmap = sns.heatmap(data[numerical_with_stroke].corr(), annot=True)\n",
    "\n",
    "# Adding a title to the plot:\n",
    "heatmap.set_title('Correlation Heatmap for Numerical Features')\n",
    "plt.show()"
   ]
  },
  {
   "cell_type": "markdown",
   "id": "9e3827cf",
   "metadata": {},
   "source": [
    "From the above computation of correlation between stroke and numerical features we see that 'age' column has the highest correlation with stroke."
   ]
  },
  {
   "cell_type": "markdown",
   "id": "9c714c0f",
   "metadata": {},
   "source": [
    "##### Correlation with Categorical Features - \n",
    "\n",
    "Correlation with categorical features is calculated using a Chi-square test."
   ]
  },
  {
   "cell_type": "code",
   "execution_count": 44,
   "id": "287575b0",
   "metadata": {},
   "outputs": [
    {
     "name": "stdout",
     "output_type": "stream",
     "text": [
      "gender ----> p-value of Chi-sq test is: 0.558\n",
      "ever_married ----> p-value of Chi-sq test is: 0.0\n",
      "work_type ----> p-value of Chi-sq test is: 0.0\n",
      "residence_type ----> p-value of Chi-sq test is: 0.2983\n",
      "smoking_status ----> p-value of Chi-sq test is: 0.0\n"
     ]
    }
   ],
   "source": [
    "# Chi-square test between categorical features and Stroke variable to find the correlation - \n",
    "# H0: The variables are not correlated with each other. \n",
    "# importing the required function:\n",
    "from scipy.stats import chi2_contingency\n",
    "\n",
    "# looping through each of the categorical features in dataset:\n",
    "for i in ['gender','ever_married', 'work_type', 'residence_type','smoking_status']:\n",
    "    \n",
    "    # Cross-tabulation between Stroke and categorical feature:\n",
    "    CrosstabResult = pd.crosstab(index=data[i],columns=data['stroke'])\n",
    "    \n",
    "    # performing Chi-sq test:\n",
    "    ChisqResult = chi2_contingency(CrosstabResult)\n",
    "    \n",
    "    # p-value is the probability of H0 being True, if p-value > 0.5, we accept HO - \n",
    "    print(i,'---->', 'p-value of Chi-sq test is:', round((ChisqResult[1]),4))"
   ]
  },
  {
   "cell_type": "markdown",
   "id": "fc6ff7cc",
   "metadata": {},
   "source": [
    "From the above Chi-square computations we find that for categorical feature 'gender', p-value > 0.5 so we accept the null hypothesis and say that 'gender' is not correlated to risk of stroke. \n",
    "\n",
    "For all other features, 'work_type', 'ever_married', 'smoking_status' and 'residence_type', respective p-value < 0.5 so, we reject the H0 and say they are correlated with risk of stroke variable."
   ]
  },
  {
   "cell_type": "markdown",
   "id": "bc1ae30d",
   "metadata": {},
   "source": [
    "###### Regardless of patient’s gender, and where they stayed (Rural or Urban), they have the same likelihood to experience stroke."
   ]
  },
  {
   "cell_type": "markdown",
   "id": "f01c9df2",
   "metadata": {},
   "source": [
    "## Setting up the validation framework - \n",
    "\n",
    "\n",
    "#### Splitting the dataset & Defining Feature Matrix and Target Variable -"
   ]
  },
  {
   "cell_type": "code",
   "execution_count": 45,
   "id": "f90db192",
   "metadata": {},
   "outputs": [
    {
     "data": {
      "text/plain": [
       "((3066, 11), (1022, 11), (1022, 11))"
      ]
     },
     "execution_count": 45,
     "metadata": {},
     "output_type": "execute_result"
    }
   ],
   "source": [
    "from sklearn.model_selection import train_test_split\n",
    "\n",
    "# splitting the dataset using sklearn into 60-20-20:\n",
    "# Step 1 - splitting dataset into full train and test subsets first:\n",
    "df_full_train, df_test = train_test_split(data, test_size=0.2,random_state=1) \n",
    "\n",
    "# Step 2 - splitting full train subset again into training set and validation set:\n",
    "df_train, df_val = train_test_split(df_full_train, test_size=0.25,random_state = 1)\n",
    "\n",
    "# checking the size of 3 subsets:\n",
    "df_train.shape, df_val.shape, df_test.shape"
   ]
  },
  {
   "cell_type": "code",
   "execution_count": 46,
   "id": "b35cb4f7",
   "metadata": {},
   "outputs": [],
   "source": [
    "# Resetting indices for each of the subset: \n",
    "df_train = df_train.reset_index(drop=True)\n",
    "df_val = df_val.reset_index(drop=True)\n",
    "df_test = df_test.reset_index(drop=True)"
   ]
  },
  {
   "cell_type": "code",
   "execution_count": 47,
   "id": "bd2fdaab",
   "metadata": {},
   "outputs": [],
   "source": [
    "# Getting our target variable column ('stroke') subsets as respective Numpy arrays:\n",
    "y_train = df_train.stroke.values\n",
    "y_val = df_val.stroke.values\n",
    "y_test = df_test.stroke.values"
   ]
  },
  {
   "cell_type": "code",
   "execution_count": 48,
   "id": "7ad81919",
   "metadata": {},
   "outputs": [],
   "source": [
    "# Deleting 'stroke' column from feature matrix subsets:\n",
    "del df_train['stroke']\n",
    "del df_val['stroke']\n",
    "del df_test['stroke']"
   ]
  },
  {
   "cell_type": "code",
   "execution_count": 49,
   "id": "5961fae1",
   "metadata": {},
   "outputs": [
    {
     "data": {
      "text/plain": [
       "((3066, 10), (1022, 10), (1022, 10))"
      ]
     },
     "execution_count": 49,
     "metadata": {},
     "output_type": "execute_result"
    }
   ],
   "source": [
    "# Re-checking the size of 3 subsets after deleting the target column:\n",
    "df_train.shape, df_val.shape, df_test.shape"
   ]
  },
  {
   "cell_type": "markdown",
   "id": "0be388fa",
   "metadata": {},
   "source": [
    "#### Feature Importance -\n",
    "\n",
    "To understand the importance of fetaures in dataset Mutual Information metric is computed for different features with the stroke variable.\n",
    "\n",
    "\n",
    "In later part of this Notebook I have also computed Feature importance from different ML models using scikit-learn parameters."
   ]
  },
  {
   "cell_type": "code",
   "execution_count": 50,
   "id": "59b79583",
   "metadata": {},
   "outputs": [],
   "source": [
    "# Implementing mutual information in sklearn:\n",
    "from sklearn.metrics import mutual_info_score\n",
    "\n",
    "# Computing the Mutual information score for all feature columns - using apply() function:\n",
    "# as apply() function takes only one argument we need to wrap mutual_info_score function into a function:\n",
    "# Step 1 - embedding the mutual_info_score function in another function - \n",
    "def mutual_info_stroke_score(series):\n",
    "    return mutual_info_score(series, df_full_train.stroke)"
   ]
  },
  {
   "cell_type": "code",
   "execution_count": 52,
   "id": "169f4fab",
   "metadata": {},
   "outputs": [
    {
     "name": "stderr",
     "output_type": "stream",
     "text": [
      "D:\\Anaconda_install_files\\envs\\ml-zoomcamp\\lib\\site-packages\\sklearn\\metrics\\cluster\\_supervised.py:58: UserWarning: Clustering metrics expects discrete values but received continuous values for label, and binary values for target\n",
      "  warnings.warn(msg, UserWarning)\n",
      "D:\\Anaconda_install_files\\envs\\ml-zoomcamp\\lib\\site-packages\\sklearn\\metrics\\cluster\\_supervised.py:58: UserWarning: Clustering metrics expects discrete values but received continuous values for label, and binary values for target\n",
      "  warnings.warn(msg, UserWarning)\n",
      "D:\\Anaconda_install_files\\envs\\ml-zoomcamp\\lib\\site-packages\\sklearn\\metrics\\cluster\\_supervised.py:58: UserWarning: Clustering metrics expects discrete values but received continuous values for label, and binary values for target\n",
      "  warnings.warn(msg, UserWarning)\n"
     ]
    },
    {
     "data": {
      "text/plain": [
       "avg_glucose_level    0.170\n",
       "bmi                  0.046\n",
       "age                  0.043\n",
       "work_type            0.006\n",
       "hypertension         0.006\n",
       "heart_disease        0.006\n",
       "ever_married         0.005\n",
       "smoking_status       0.002\n",
       "residence_type       0.000\n",
       "gender               0.000\n",
       "dtype: float64"
      ]
     },
     "execution_count": 52,
     "metadata": {},
     "output_type": "execute_result"
    }
   ],
   "source": [
    "# Step 2 - calling above function in apply() function so as to apply it to each column from df - \n",
    "mi = df_full_train[categorical + numerical].apply(mutual_info_stroke_score)  # here applied only to categorical columns\n",
    "\n",
    "# getting the mutual information scores for features sorted in descending order and rounded to 3 decimals:\n",
    "round(mi.sort_values(ascending=False),3)"
   ]
  },
  {
   "cell_type": "markdown",
   "id": "ef9c9923",
   "metadata": {},
   "source": [
    "From the above output we see that avg_glucose_level is the most important feature while gender is the least important."
   ]
  },
  {
   "cell_type": "markdown",
   "id": "0c84f56d",
   "metadata": {},
   "source": [
    "#### Difference & Risk Ratio - \n",
    "\n",
    "Risk Ratios or relative risk, is a metric that measures the risk-taking place in a particular group and comparing the results with the risk-taking place in another group. Here it helps in finding which categories of people are more at a risk of getting stroke."
   ]
  },
  {
   "cell_type": "code",
   "execution_count": 165,
   "id": "2a8fab88",
   "metadata": {},
   "outputs": [
    {
     "data": {
      "text/plain": [
       "0.05"
      ]
     },
     "execution_count": 165,
     "metadata": {},
     "output_type": "execute_result"
    }
   ],
   "source": [
    "# Looking at the stroke rate – percentage of users getting stroke as a mean of stroke column:\n",
    "global_stroke_rate = df_full_train.stroke.mean()  \n",
    "round(global_stroke_rate,2)"
   ]
  },
  {
   "cell_type": "code",
   "execution_count": 166,
   "id": "5808a263",
   "metadata": {},
   "outputs": [
    {
     "name": "stdout",
     "output_type": "stream",
     "text": [
      "gender\n"
     ]
    },
    {
     "data": {
      "text/html": [
       "<div>\n",
       "<style scoped>\n",
       "    .dataframe tbody tr th:only-of-type {\n",
       "        vertical-align: middle;\n",
       "    }\n",
       "\n",
       "    .dataframe tbody tr th {\n",
       "        vertical-align: top;\n",
       "    }\n",
       "\n",
       "    .dataframe thead th {\n",
       "        text-align: right;\n",
       "    }\n",
       "</style>\n",
       "<table border=\"1\" class=\"dataframe\">\n",
       "  <thead>\n",
       "    <tr style=\"text-align: right;\">\n",
       "      <th></th>\n",
       "      <th>mean</th>\n",
       "      <th>count</th>\n",
       "      <th>diff</th>\n",
       "      <th>risk</th>\n",
       "    </tr>\n",
       "    <tr>\n",
       "      <th>gender</th>\n",
       "      <th></th>\n",
       "      <th></th>\n",
       "      <th></th>\n",
       "      <th></th>\n",
       "    </tr>\n",
       "  </thead>\n",
       "  <tbody>\n",
       "    <tr>\n",
       "      <th>Female</th>\n",
       "      <td>0.047919</td>\n",
       "      <td>2379</td>\n",
       "      <td>0.001686</td>\n",
       "      <td>1.036477</td>\n",
       "    </tr>\n",
       "    <tr>\n",
       "      <th>Male</th>\n",
       "      <td>0.043885</td>\n",
       "      <td>1709</td>\n",
       "      <td>-0.002348</td>\n",
       "      <td>0.949223</td>\n",
       "    </tr>\n",
       "  </tbody>\n",
       "</table>\n",
       "</div>"
      ],
      "text/plain": [
       "            mean  count      diff      risk\n",
       "gender                                     \n",
       "Female  0.047919   2379  0.001686  1.036477\n",
       "Male    0.043885   1709 -0.002348  0.949223"
      ]
     },
     "metadata": {},
     "output_type": "display_data"
    },
    {
     "name": "stdout",
     "output_type": "stream",
     "text": [
      "\n",
      "\n",
      "hypertension\n"
     ]
    },
    {
     "data": {
      "text/html": [
       "<div>\n",
       "<style scoped>\n",
       "    .dataframe tbody tr th:only-of-type {\n",
       "        vertical-align: middle;\n",
       "    }\n",
       "\n",
       "    .dataframe tbody tr th {\n",
       "        vertical-align: top;\n",
       "    }\n",
       "\n",
       "    .dataframe thead th {\n",
       "        text-align: right;\n",
       "    }\n",
       "</style>\n",
       "<table border=\"1\" class=\"dataframe\">\n",
       "  <thead>\n",
       "    <tr style=\"text-align: right;\">\n",
       "      <th></th>\n",
       "      <th>mean</th>\n",
       "      <th>count</th>\n",
       "      <th>diff</th>\n",
       "      <th>risk</th>\n",
       "    </tr>\n",
       "    <tr>\n",
       "      <th>hypertension</th>\n",
       "      <th></th>\n",
       "      <th></th>\n",
       "      <th></th>\n",
       "      <th></th>\n",
       "    </tr>\n",
       "  </thead>\n",
       "  <tbody>\n",
       "    <tr>\n",
       "      <th>0</th>\n",
       "      <td>0.037649</td>\n",
       "      <td>3692</td>\n",
       "      <td>-0.008584</td>\n",
       "      <td>0.814333</td>\n",
       "    </tr>\n",
       "    <tr>\n",
       "      <th>1</th>\n",
       "      <td>0.126263</td>\n",
       "      <td>396</td>\n",
       "      <td>0.080030</td>\n",
       "      <td>2.731014</td>\n",
       "    </tr>\n",
       "  </tbody>\n",
       "</table>\n",
       "</div>"
      ],
      "text/plain": [
       "                  mean  count      diff      risk\n",
       "hypertension                                     \n",
       "0             0.037649   3692 -0.008584  0.814333\n",
       "1             0.126263    396  0.080030  2.731014"
      ]
     },
     "metadata": {},
     "output_type": "display_data"
    },
    {
     "name": "stdout",
     "output_type": "stream",
     "text": [
      "\n",
      "\n",
      "heart_disease\n"
     ]
    },
    {
     "data": {
      "text/html": [
       "<div>\n",
       "<style scoped>\n",
       "    .dataframe tbody tr th:only-of-type {\n",
       "        vertical-align: middle;\n",
       "    }\n",
       "\n",
       "    .dataframe tbody tr th {\n",
       "        vertical-align: top;\n",
       "    }\n",
       "\n",
       "    .dataframe thead th {\n",
       "        text-align: right;\n",
       "    }\n",
       "</style>\n",
       "<table border=\"1\" class=\"dataframe\">\n",
       "  <thead>\n",
       "    <tr style=\"text-align: right;\">\n",
       "      <th></th>\n",
       "      <th>mean</th>\n",
       "      <th>count</th>\n",
       "      <th>diff</th>\n",
       "      <th>risk</th>\n",
       "    </tr>\n",
       "    <tr>\n",
       "      <th>heart_disease</th>\n",
       "      <th></th>\n",
       "      <th></th>\n",
       "      <th></th>\n",
       "      <th></th>\n",
       "    </tr>\n",
       "  </thead>\n",
       "  <tbody>\n",
       "    <tr>\n",
       "      <th>0</th>\n",
       "      <td>0.039576</td>\n",
       "      <td>3866</td>\n",
       "      <td>-0.006657</td>\n",
       "      <td>0.856010</td>\n",
       "    </tr>\n",
       "    <tr>\n",
       "      <th>1</th>\n",
       "      <td>0.162162</td>\n",
       "      <td>222</td>\n",
       "      <td>0.115929</td>\n",
       "      <td>3.507508</td>\n",
       "    </tr>\n",
       "  </tbody>\n",
       "</table>\n",
       "</div>"
      ],
      "text/plain": [
       "                   mean  count      diff      risk\n",
       "heart_disease                                     \n",
       "0              0.039576   3866 -0.006657  0.856010\n",
       "1              0.162162    222  0.115929  3.507508"
      ]
     },
     "metadata": {},
     "output_type": "display_data"
    },
    {
     "name": "stdout",
     "output_type": "stream",
     "text": [
      "\n",
      "\n",
      "ever_married\n"
     ]
    },
    {
     "data": {
      "text/html": [
       "<div>\n",
       "<style scoped>\n",
       "    .dataframe tbody tr th:only-of-type {\n",
       "        vertical-align: middle;\n",
       "    }\n",
       "\n",
       "    .dataframe tbody tr th {\n",
       "        vertical-align: top;\n",
       "    }\n",
       "\n",
       "    .dataframe thead th {\n",
       "        text-align: right;\n",
       "    }\n",
       "</style>\n",
       "<table border=\"1\" class=\"dataframe\">\n",
       "  <thead>\n",
       "    <tr style=\"text-align: right;\">\n",
       "      <th></th>\n",
       "      <th>mean</th>\n",
       "      <th>count</th>\n",
       "      <th>diff</th>\n",
       "      <th>risk</th>\n",
       "    </tr>\n",
       "    <tr>\n",
       "      <th>ever_married</th>\n",
       "      <th></th>\n",
       "      <th></th>\n",
       "      <th></th>\n",
       "      <th></th>\n",
       "    </tr>\n",
       "  </thead>\n",
       "  <tbody>\n",
       "    <tr>\n",
       "      <th>No</th>\n",
       "      <td>0.019244</td>\n",
       "      <td>1403</td>\n",
       "      <td>-0.026988</td>\n",
       "      <td>0.416251</td>\n",
       "    </tr>\n",
       "    <tr>\n",
       "      <th>Yes</th>\n",
       "      <td>0.060335</td>\n",
       "      <td>2685</td>\n",
       "      <td>0.014102</td>\n",
       "      <td>1.305028</td>\n",
       "    </tr>\n",
       "  </tbody>\n",
       "</table>\n",
       "</div>"
      ],
      "text/plain": [
       "                  mean  count      diff      risk\n",
       "ever_married                                     \n",
       "No            0.019244   1403 -0.026988  0.416251\n",
       "Yes           0.060335   2685  0.014102  1.305028"
      ]
     },
     "metadata": {},
     "output_type": "display_data"
    },
    {
     "name": "stdout",
     "output_type": "stream",
     "text": [
      "\n",
      "\n",
      "work_type\n"
     ]
    },
    {
     "data": {
      "text/html": [
       "<div>\n",
       "<style scoped>\n",
       "    .dataframe tbody tr th:only-of-type {\n",
       "        vertical-align: middle;\n",
       "    }\n",
       "\n",
       "    .dataframe tbody tr th {\n",
       "        vertical-align: top;\n",
       "    }\n",
       "\n",
       "    .dataframe thead th {\n",
       "        text-align: right;\n",
       "    }\n",
       "</style>\n",
       "<table border=\"1\" class=\"dataframe\">\n",
       "  <thead>\n",
       "    <tr style=\"text-align: right;\">\n",
       "      <th></th>\n",
       "      <th>mean</th>\n",
       "      <th>count</th>\n",
       "      <th>diff</th>\n",
       "      <th>risk</th>\n",
       "    </tr>\n",
       "    <tr>\n",
       "      <th>work_type</th>\n",
       "      <th></th>\n",
       "      <th></th>\n",
       "      <th></th>\n",
       "      <th></th>\n",
       "    </tr>\n",
       "  </thead>\n",
       "  <tbody>\n",
       "    <tr>\n",
       "      <th>children</th>\n",
       "      <td>0.003552</td>\n",
       "      <td>563</td>\n",
       "      <td>-0.042680</td>\n",
       "      <td>0.076837</td>\n",
       "    </tr>\n",
       "    <tr>\n",
       "      <th>govt_job</th>\n",
       "      <td>0.046065</td>\n",
       "      <td>521</td>\n",
       "      <td>-0.000168</td>\n",
       "      <td>0.996374</td>\n",
       "    </tr>\n",
       "    <tr>\n",
       "      <th>never_worked</th>\n",
       "      <td>0.000000</td>\n",
       "      <td>19</td>\n",
       "      <td>-0.046233</td>\n",
       "      <td>0.000000</td>\n",
       "    </tr>\n",
       "    <tr>\n",
       "      <th>private</th>\n",
       "      <td>0.049441</td>\n",
       "      <td>2326</td>\n",
       "      <td>0.003208</td>\n",
       "      <td>1.069393</td>\n",
       "    </tr>\n",
       "    <tr>\n",
       "      <th>self-employed</th>\n",
       "      <td>0.072838</td>\n",
       "      <td>659</td>\n",
       "      <td>0.026605</td>\n",
       "      <td>1.575451</td>\n",
       "    </tr>\n",
       "  </tbody>\n",
       "</table>\n",
       "</div>"
      ],
      "text/plain": [
       "                   mean  count      diff      risk\n",
       "work_type                                         \n",
       "children       0.003552    563 -0.042680  0.076837\n",
       "govt_job       0.046065    521 -0.000168  0.996374\n",
       "never_worked   0.000000     19 -0.046233  0.000000\n",
       "private        0.049441   2326  0.003208  1.069393\n",
       "self-employed  0.072838    659  0.026605  1.575451"
      ]
     },
     "metadata": {},
     "output_type": "display_data"
    },
    {
     "name": "stdout",
     "output_type": "stream",
     "text": [
      "\n",
      "\n",
      "residence_type\n"
     ]
    },
    {
     "data": {
      "text/html": [
       "<div>\n",
       "<style scoped>\n",
       "    .dataframe tbody tr th:only-of-type {\n",
       "        vertical-align: middle;\n",
       "    }\n",
       "\n",
       "    .dataframe tbody tr th {\n",
       "        vertical-align: top;\n",
       "    }\n",
       "\n",
       "    .dataframe thead th {\n",
       "        text-align: right;\n",
       "    }\n",
       "</style>\n",
       "<table border=\"1\" class=\"dataframe\">\n",
       "  <thead>\n",
       "    <tr style=\"text-align: right;\">\n",
       "      <th></th>\n",
       "      <th>mean</th>\n",
       "      <th>count</th>\n",
       "      <th>diff</th>\n",
       "      <th>risk</th>\n",
       "    </tr>\n",
       "    <tr>\n",
       "      <th>residence_type</th>\n",
       "      <th></th>\n",
       "      <th></th>\n",
       "      <th></th>\n",
       "      <th></th>\n",
       "    </tr>\n",
       "  </thead>\n",
       "  <tbody>\n",
       "    <tr>\n",
       "      <th>Rural</th>\n",
       "      <td>0.042289</td>\n",
       "      <td>2010</td>\n",
       "      <td>-0.003944</td>\n",
       "      <td>0.914686</td>\n",
       "    </tr>\n",
       "    <tr>\n",
       "      <th>Urban</th>\n",
       "      <td>0.050048</td>\n",
       "      <td>2078</td>\n",
       "      <td>0.003815</td>\n",
       "      <td>1.082522</td>\n",
       "    </tr>\n",
       "  </tbody>\n",
       "</table>\n",
       "</div>"
      ],
      "text/plain": [
       "                    mean  count      diff      risk\n",
       "residence_type                                     \n",
       "Rural           0.042289   2010 -0.003944  0.914686\n",
       "Urban           0.050048   2078  0.003815  1.082522"
      ]
     },
     "metadata": {},
     "output_type": "display_data"
    },
    {
     "name": "stdout",
     "output_type": "stream",
     "text": [
      "\n",
      "\n",
      "smoking_status\n"
     ]
    },
    {
     "data": {
      "text/html": [
       "<div>\n",
       "<style scoped>\n",
       "    .dataframe tbody tr th:only-of-type {\n",
       "        vertical-align: middle;\n",
       "    }\n",
       "\n",
       "    .dataframe tbody tr th {\n",
       "        vertical-align: top;\n",
       "    }\n",
       "\n",
       "    .dataframe thead th {\n",
       "        text-align: right;\n",
       "    }\n",
       "</style>\n",
       "<table border=\"1\" class=\"dataframe\">\n",
       "  <thead>\n",
       "    <tr style=\"text-align: right;\">\n",
       "      <th></th>\n",
       "      <th>mean</th>\n",
       "      <th>count</th>\n",
       "      <th>diff</th>\n",
       "      <th>risk</th>\n",
       "    </tr>\n",
       "    <tr>\n",
       "      <th>smoking_status</th>\n",
       "      <th></th>\n",
       "      <th></th>\n",
       "      <th></th>\n",
       "      <th></th>\n",
       "    </tr>\n",
       "  </thead>\n",
       "  <tbody>\n",
       "    <tr>\n",
       "      <th>formerly smoked</th>\n",
       "      <td>0.071629</td>\n",
       "      <td>712</td>\n",
       "      <td>0.025396</td>\n",
       "      <td>1.549313</td>\n",
       "    </tr>\n",
       "    <tr>\n",
       "      <th>never smoked</th>\n",
       "      <td>0.047428</td>\n",
       "      <td>1497</td>\n",
       "      <td>0.001195</td>\n",
       "      <td>1.025854</td>\n",
       "    </tr>\n",
       "    <tr>\n",
       "      <th>smokes</th>\n",
       "      <td>0.046178</td>\n",
       "      <td>628</td>\n",
       "      <td>-0.000055</td>\n",
       "      <td>0.998820</td>\n",
       "    </tr>\n",
       "    <tr>\n",
       "      <th>unknown</th>\n",
       "      <td>0.030376</td>\n",
       "      <td>1251</td>\n",
       "      <td>-0.015857</td>\n",
       "      <td>0.657015</td>\n",
       "    </tr>\n",
       "  </tbody>\n",
       "</table>\n",
       "</div>"
      ],
      "text/plain": [
       "                     mean  count      diff      risk\n",
       "smoking_status                                      \n",
       "formerly smoked  0.071629    712  0.025396  1.549313\n",
       "never smoked     0.047428   1497  0.001195  1.025854\n",
       "smokes           0.046178    628 -0.000055  0.998820\n",
       "unknown          0.030376   1251 -0.015857  0.657015"
      ]
     },
     "metadata": {},
     "output_type": "display_data"
    },
    {
     "name": "stdout",
     "output_type": "stream",
     "text": [
      "\n",
      "\n"
     ]
    }
   ],
   "source": [
    "from IPython.display import display  # helps display each loop output not just last one\n",
    "\n",
    "# Replicating above calculations of Difference and Risk Ratio for each column of categorical variables in dataset \n",
    "# - using for loop:\n",
    "for c in categorical:\n",
    "    print(c)\n",
    "    # Step 1 - grouping the stroke data by gender and aggregting to get average and count for each gender subgroup:\n",
    "    df_group = df_full_train.groupby(c).stroke.agg(['mean','count'])\n",
    "    \n",
    "    # Step 2 - caluclating the difference between global stroke and each group stroke value as a column 'diff' in df:\n",
    "    df_group['diff'] = df_group['mean'] - global_stroke_rate   # mean gives us the stroke rate for each gender\n",
    "\n",
    "    # Step 3 - caluclating the Risk ratio for each group stroke value as a column 'risk' in df:\n",
    "    df_group['risk'] = df_group['mean'] / global_stroke_rate\n",
    "\n",
    "    # printing whold df:\n",
    "    display(df_group)\n",
    "    print()   # adding line breaks between loops\n",
    "    print()   # adding line breaks between loops"
   ]
  },
  {
   "cell_type": "markdown",
   "id": "294be201",
   "metadata": {},
   "source": [
    "Above calculations show interesting facts about stroke patients - like people with hypertension, heart disease, those living in Urban setting are more likely to experience stroke than others.\n",
    "\n",
    "It helps us find categories or variables which would help or not in analyzing stroke cases and can be used in making predictions using ML algorithms."
   ]
  },
  {
   "cell_type": "markdown",
   "id": "27ff0200",
   "metadata": {},
   "source": [
    "## Model Selection, Evaluation & Parameter Tuning - \n",
    "\n",
    "After splitting the stroke prediction dataset, identifying the feature matrix and target variable its time for model selection and evaluation. As the target variable was binary (0 and 1) I used different Supervised Learning algorithms for Classification on the dataset.\n",
    "\n",
    "All the categorical features were encoded using DictVectorizer to be used further in training different models and making predictions. DictVectorizer helped in transforming lists of feature-value mappings to vectors i.e., feature matrix into dictionaries for training and predicting on subsets.\n",
    "\n",
    "During model selection and evaluation I first trained the model on the training subset then made prediction on the validation subset. The testing subset was completely left untouched for use by the Final Model. Models were evaluated using AUC score, f1_score, Confusion matrix and Classification Report also in some cases.\n",
    "\n",
    "While using different models I also tuned each model with its different parameters so as to improve model performance and optimize predictions. Then the final model with most optimal parameter is selected for each model type. \n",
    "\n",
    "#### Model 1 - Logistic Regression \n",
    "\n",
    "Let’s start with logistic regression which uses a logistic function to predict a binary dependent variable. Let’s define a logistic regression object, fit our model, and evaluate performance:"
   ]
  },
  {
   "cell_type": "code",
   "execution_count": 53,
   "id": "31ef57e2",
   "metadata": {},
   "outputs": [
    {
     "name": "stderr",
     "output_type": "stream",
     "text": [
      "D:\\Anaconda_install_files\\envs\\ml-zoomcamp\\lib\\site-packages\\sklearn\\linear_model\\_logistic.py:763: ConvergenceWarning: lbfgs failed to converge (status=1):\n",
      "STOP: TOTAL NO. of ITERATIONS REACHED LIMIT.\n",
      "\n",
      "Increase the number of iterations (max_iter) or scale the data as shown in:\n",
      "    https://scikit-learn.org/stable/modules/preprocessing.html\n",
      "Please also refer to the documentation for alternative solver options:\n",
      "    https://scikit-learn.org/stable/modules/linear_model.html#logistic-regression\n",
      "  n_iter_i = _check_optimize_result(\n"
     ]
    },
    {
     "data": {
      "text/plain": [
       "LogisticRegression(random_state=1)"
      ]
     },
     "execution_count": 53,
     "metadata": {},
     "output_type": "execute_result"
    }
   ],
   "source": [
    "# Importing necessary libraries for the model:\n",
    "from sklearn.metrics import roc_auc_score\n",
    "from sklearn.linear_model import LogisticRegression\n",
    "from sklearn.feature_extraction import DictVectorizer\n",
    "\n",
    "# Turning training subset df into a list of dictionaries:\n",
    "train_dicts = df_train.to_dict(orient='records')\n",
    "\n",
    "# Turning list of dictionaries into feature matrix\n",
    "# training our DictVectorizer instance:\n",
    "dv = DictVectorizer(sparse=False)\n",
    "\n",
    "# fitting and transforming the full_train subset:\n",
    "X_train = dv.fit_transform(train_dicts)   \n",
    "\n",
    "# Combined fit and transform dictionary - for validation dataset:\n",
    "val_dicts = df_val[categorical + numerical].to_dict(orient='records')\n",
    "\n",
    "# only transforming DictVectorizer on the validation set:\n",
    "X_val = dv.transform(val_dicts)\n",
    "\n",
    "# Intitiating the model and training it on our full train subset:\n",
    "lr = LogisticRegression(random_state=1)\n",
    "lr.fit(X_train,y_train)"
   ]
  },
  {
   "cell_type": "code",
   "execution_count": 54,
   "id": "19286fe8",
   "metadata": {},
   "outputs": [],
   "source": [
    "# Computing prediction probability on training set:\n",
    "y_pred_train = lr.predict_proba(X_train)[:,1]\n",
    "\n",
    "# Computing prediction probability on validation set:\n",
    "y_pred = lr.predict_proba(X_val)[:, 1]"
   ]
  },
  {
   "cell_type": "code",
   "execution_count": 60,
   "id": "525fd941",
   "metadata": {},
   "outputs": [
    {
     "name": "stdout",
     "output_type": "stream",
     "text": [
      "Roc auc score for simple logistic regression is 83.9%\n",
      "[[982   0]\n",
      " [ 40   0]]\n"
     ]
    }
   ],
   "source": [
    "# Evaluating the model using different metrics:\n",
    "from sklearn.metrics import confusion_matrix\n",
    "\n",
    "rounded_log_reg =  [np.round(x) for x in y_pred]\n",
    "print('Roc auc score for simple logistic regression is {:.1%}'.format(roc_auc_score(y_val, y_pred)))\n",
    "cm = confusion_matrix(y_val, rounded_log_reg)\n",
    "print(cm)"
   ]
  },
  {
   "cell_type": "markdown",
   "id": "87d875e4",
   "metadata": {},
   "source": [
    "The AUC score for Logistic Regression is quite good at 83.9% but the confusion matrix output summarizes very poor classification of correct predictions."
   ]
  },
  {
   "cell_type": "markdown",
   "id": "80e740ef",
   "metadata": {},
   "source": [
    "Feature Importance for Logistic Regression -"
   ]
  },
  {
   "cell_type": "code",
   "execution_count": 61,
   "id": "1cf356a5",
   "metadata": {},
   "outputs": [
    {
     "data": {
      "text/plain": [
       "{'heart_disease': 0.496,\n",
       " 'hypertension': 0.246,\n",
       " 'age': 0.067,\n",
       " 'avg_glucose_level': 0.004,\n",
       " 'bmi': -0.009,\n",
       " 'work_type=never_worked': -0.045,\n",
       " 'work_type=govt_job': -0.37,\n",
       " 'work_type=private': -0.405,\n",
       " 'smoking_status=unknown': -0.422,\n",
       " 'smoking_status=formerly smoked': -0.471,\n",
       " 'smoking_status=smokes': -0.62,\n",
       " 'work_type=children': -0.673,\n",
       " 'smoking_status=never smoked': -0.709,\n",
       " 'work_type=self-employed': -0.73,\n",
       " 'ever_married=No': -0.878,\n",
       " 'gender=Female': -1.058,\n",
       " 'residence_type=Urban': -1.081,\n",
       " 'residence_type=Rural': -1.141,\n",
       " 'gender=Male': -1.164,\n",
       " 'ever_married=Yes': -1.344}"
      ]
     },
     "execution_count": 61,
     "metadata": {},
     "output_type": "execute_result"
    }
   ],
   "source": [
    "## Summarizing feature importance -\n",
    "# Joining the feature_names with respective coefficients - using zip function:\n",
    "feature_weights = dict(zip(dv.get_feature_names(), lr.coef_[0].round(3)))\n",
    "\n",
    "# Sorting feature coefficients in descending order:\n",
    "import operator\n",
    "sorted_d = dict(sorted(feature_weights.items(), key=operator.itemgetter(1),reverse=True))\n",
    "sorted_d"
   ]
  },
  {
   "cell_type": "markdown",
   "id": "726cc0b2",
   "metadata": {},
   "source": [
    "When computing feature importance for Logistic regression model through coefficients it is found that a change in features like heart disease and hypertension appear to impact the risk of stroke the most while changes in marital status, gender and residence type appear to affect the least."
   ]
  },
  {
   "cell_type": "code",
   "execution_count": 62,
   "id": "9004a6d3",
   "metadata": {},
   "outputs": [
    {
     "name": "stdout",
     "output_type": "stream",
     "text": [
      "AUC train: 0.83909\n",
      "AUC val: 0.83900\n"
     ]
    }
   ],
   "source": [
    "# Calculating AUC (Area under the ROC Curve) score for the model -\n",
    "from sklearn.metrics import roc_auc_score\n",
    "\n",
    "# computing the auc score on training set:\n",
    "print('AUC train: %.5f' % roc_auc_score(y_train, y_pred_train))\n",
    "\n",
    "# computing the auc score on validation set:\n",
    "print('AUC val: %.5f' % roc_auc_score(y_val, y_pred))"
   ]
  },
  {
   "cell_type": "markdown",
   "id": "8107cd44",
   "metadata": {},
   "source": [
    "We can see above that the AUC score from Logistic Regression on both the training and validation set is almost same and around 83.9%. "
   ]
  },
  {
   "cell_type": "markdown",
   "id": "743d32ff",
   "metadata": {},
   "source": [
    "#### Model 2 - Decision Trees for Classification\n",
    "\n",
    "Let’s use a Tree-based model Decision Tree for Classification to predict our binary dependent variable. These algorithms make predictions by going through each and every feature in the data set, one-by-one. \n",
    "\n",
    "Let's define a decision tree classifier object, fit our model, and evaluate performance:"
   ]
  },
  {
   "cell_type": "code",
   "execution_count": 63,
   "id": "5b075394",
   "metadata": {},
   "outputs": [
    {
     "name": "stdout",
     "output_type": "stream",
     "text": [
      "AUC train: 1.00000\n",
      "AUC val: 0.60463\n"
     ]
    }
   ],
   "source": [
    "from sklearn.tree import DecisionTreeClassifier\n",
    "# training our Decison tree for classification model:\n",
    "dt = DecisionTreeClassifier(random_state=1)     # max_depth ----> default = None\n",
    "\n",
    "# turning our training df into a list of dictionaries:\n",
    "train_dicts = df_train.to_dict(orient='records')\n",
    "\n",
    "# turning list of dictionaries into feature matrix\n",
    "# training our DictVectorizer instance:\n",
    "dv = DictVectorizer(sparse=False)\n",
    "\n",
    "# fitting and transforming the full_train subset:\n",
    "X_train = dv.fit_transform(train_dicts)   \n",
    "\n",
    "# Combined fit and transform dictionary - for validation dataset:\n",
    "val_dicts = df_val[categorical + numerical].to_dict(orient='records')\n",
    "\n",
    "# only transforming DictVectorizer on the validation set:\n",
    "X_val = dv.transform(val_dicts)\n",
    "\n",
    "\n",
    "dt.fit(X_train, y_train)\n",
    "\n",
    "y_pred = dt.predict_proba(X_val)[:,1]\n",
    "\n",
    "# computing the auc score on training dataset:\n",
    "y_pred_train = dt.predict_proba(X_train)[:,1]\n",
    "\n",
    "print('AUC train: %.5f' % roc_auc_score(y_train, y_pred_train))\n",
    "# computing the auc score on validation dataset:\n",
    "print('AUC val: %.5f' % roc_auc_score(y_val, y_pred))"
   ]
  },
  {
   "cell_type": "markdown",
   "id": "9fed2194",
   "metadata": {},
   "source": [
    "We can see above that the AUC score from Decision Tree Classifier on our training set is 1.0 while on validation set it is 0.60 or 60.46%. \n",
    "\n",
    "This appears to be an Overfitting problem as the model outperforms on training or seen data, but works poorly on new data.  In decision trees, over-fitting occurs when the tree is designed so as to perfectly fit all samples in the training set. I will try to overcome this problem during parameter tuning by pruning the tree using max_depth etc."
   ]
  },
  {
   "cell_type": "markdown",
   "id": "234b84b9",
   "metadata": {},
   "source": [
    "Feature Importance for Decision Trees -"
   ]
  },
  {
   "cell_type": "code",
   "execution_count": 64,
   "id": "abe41737",
   "metadata": {},
   "outputs": [
    {
     "data": {
      "text/plain": [
       "{'avg_glucose_level': 0.275,\n",
       " 'bmi': 0.242,\n",
       " 'age': 0.175,\n",
       " 'smoking_status=smokes': 0.04,\n",
       " 'heart_disease': 0.036,\n",
       " 'hypertension': 0.036,\n",
       " 'gender=Female': 0.028,\n",
       " 'residence_type=Urban': 0.026,\n",
       " 'smoking_status=unknown': 0.026,\n",
       " 'smoking_status=formerly smoked': 0.023,\n",
       " 'gender=Male': 0.02,\n",
       " 'residence_type=Rural': 0.015,\n",
       " 'smoking_status=never smoked': 0.014,\n",
       " 'work_type=govt_job': 0.014,\n",
       " 'work_type=self-employed': 0.01,\n",
       " 'work_type=private': 0.008,\n",
       " 'ever_married=Yes': 0.006,\n",
       " 'ever_married=No': 0.004,\n",
       " 'work_type=children': 0.0,\n",
       " 'work_type=never_worked': 0.0}"
      ]
     },
     "execution_count": 64,
     "metadata": {},
     "output_type": "execute_result"
    }
   ],
   "source": [
    "## Summarize feature importance\n",
    "# get importance and respective feature names as a dictionary:\n",
    "importance = dt.feature_importances_\n",
    "feature_imp = dict(zip(dv.get_feature_names(), importance.round(3)))\n",
    "\n",
    "# sorting feature coefficients in descending order:\n",
    "import operator\n",
    "sorted_d2 = dict( sorted(feature_imp.items(), key=operator.itemgetter(1),reverse=True))\n",
    "sorted_d2"
   ]
  },
  {
   "cell_type": "markdown",
   "id": "650e0acd",
   "metadata": {},
   "source": [
    "When computing feature importance for Decision trees it is found that features like avg_glucose_level and bmi appear to be most important for predicting the risk of stroke while marital status, work_type for children and unemployed appear to be the least important in the dataset."
   ]
  },
  {
   "cell_type": "markdown",
   "id": "6625999e",
   "metadata": {},
   "source": [
    "##### Decision trees Parameter Tuning - \n",
    "\n",
    "Below were some parameters tuned for Decision Tree Classifier:-\n",
    "\n",
    "selecting max_depth - The maximum depth of the tree. \n",
    "\n",
    "selecting min_samples_leaf - The minimum number of samples required to be at a leaf node.\n",
    "\n",
    "selecting max_features - The number of features to consider when looking for the best split."
   ]
  },
  {
   "cell_type": "code",
   "execution_count": 65,
   "id": "3d0263d5",
   "metadata": {},
   "outputs": [
    {
     "name": "stdout",
     "output_type": "stream",
     "text": [
      "   1 -> 0.743\n",
      "   2 -> 0.773\n",
      "   3 -> 0.804\n",
      "   4 -> 0.813\n",
      "   5 -> 0.738\n",
      "   6 -> 0.694\n",
      "  10 -> 0.629\n",
      "  15 -> 0.580\n",
      "  20 -> 0.605\n",
      "None -> 0.605\n"
     ]
    }
   ],
   "source": [
    "## Selecting best max_depth parameter - \n",
    "# running the Decision tree classifier model for different max_depth values - \n",
    "for d in [1, 2, 3, 4, 5, 6, 10, 15, 20, None]:               # None here means no restrictions\n",
    "    dt = DecisionTreeClassifier(random_state=1, max_depth=d)\n",
    "    \n",
    "    # train model on train sets:\n",
    "    dt.fit(X_train, y_train)\n",
    "    \n",
    "    # predict on validation set:\n",
    "    y_pred = dt.predict_proba(X_val)[:,1]\n",
    "    \n",
    "    # compute auc score on validation set:\n",
    "    auc = roc_auc_score(y_val, y_pred)\n",
    "    \n",
    "    # printing the max_depth value and auc score for each max_depth value:\n",
    "    print('%4s -> %.3f' % (d, auc))"
   ]
  },
  {
   "cell_type": "markdown",
   "id": "4f052421",
   "metadata": {},
   "source": [
    "From the results above, we see that the max_depth of 3 & 4 give us the best AUC score of around 80% for this model.\n",
    "\n",
    "Now for each of the max_depth values we can try different min_samples_leaf values and see."
   ]
  },
  {
   "cell_type": "code",
   "execution_count": 66,
   "id": "a339200b",
   "metadata": {},
   "outputs": [
    {
     "data": {
      "text/html": [
       "<div>\n",
       "<style scoped>\n",
       "    .dataframe tbody tr th:only-of-type {\n",
       "        vertical-align: middle;\n",
       "    }\n",
       "\n",
       "    .dataframe tbody tr th {\n",
       "        vertical-align: top;\n",
       "    }\n",
       "\n",
       "    .dataframe thead th {\n",
       "        text-align: right;\n",
       "    }\n",
       "</style>\n",
       "<table border=\"1\" class=\"dataframe\">\n",
       "  <thead>\n",
       "    <tr style=\"text-align: right;\">\n",
       "      <th></th>\n",
       "      <th>max_depth</th>\n",
       "      <th>min_samples_leaf</th>\n",
       "      <th>auc</th>\n",
       "    </tr>\n",
       "  </thead>\n",
       "  <tbody>\n",
       "    <tr>\n",
       "      <th>16</th>\n",
       "      <td>4</td>\n",
       "      <td>200</td>\n",
       "      <td>0.833414</td>\n",
       "    </tr>\n",
       "    <tr>\n",
       "      <th>26</th>\n",
       "      <td>5</td>\n",
       "      <td>500</td>\n",
       "      <td>0.830041</td>\n",
       "    </tr>\n",
       "    <tr>\n",
       "      <th>17</th>\n",
       "      <td>4</td>\n",
       "      <td>500</td>\n",
       "      <td>0.830041</td>\n",
       "    </tr>\n",
       "    <tr>\n",
       "      <th>8</th>\n",
       "      <td>3</td>\n",
       "      <td>500</td>\n",
       "      <td>0.830041</td>\n",
       "    </tr>\n",
       "    <tr>\n",
       "      <th>20</th>\n",
       "      <td>5</td>\n",
       "      <td>5</td>\n",
       "      <td>0.827673</td>\n",
       "    </tr>\n",
       "  </tbody>\n",
       "</table>\n",
       "</div>"
      ],
      "text/plain": [
       "    max_depth  min_samples_leaf       auc\n",
       "16          4               200  0.833414\n",
       "26          5               500  0.830041\n",
       "17          4               500  0.830041\n",
       "8           3               500  0.830041\n",
       "20          5                 5  0.827673"
      ]
     },
     "execution_count": 66,
     "metadata": {},
     "output_type": "execute_result"
    }
   ],
   "source": [
    "## Selecting best min_samples_leaf parameter - \n",
    "scores = []\n",
    "\n",
    "for d in [3, 4, 5]:    # max_depth values 3 to 5\n",
    "    \n",
    "    # running the model for different min_samples_leaf values - \n",
    "    for s in [1, 2, 5, 10, 15, 20, 100, 200, 500]: \n",
    "        dt = DecisionTreeClassifier(max_depth=d, min_samples_leaf=s,random_state =1)\n",
    "        \n",
    "        # train model on train sets:\n",
    "        dt.fit(X_train, y_train)\n",
    "\n",
    "        # predict on validation set:\n",
    "        y_pred = dt.predict_proba(X_val)[:,1]\n",
    "\n",
    "        # compute auc score on validation set:\n",
    "        auc = roc_auc_score(y_val, y_pred)\n",
    "\n",
    "        # printing the max_depth value and auc score for each max_depth value:\n",
    "        scores.append((d, s, auc))\n",
    "        \n",
    "# putting all the values in scores list to a DataFrame:\n",
    "df_scores = pd.DataFrame(scores, columns=['max_depth','min_samples_leaf', 'auc'])\n",
    "\n",
    "# sorting DataFrame values in descending order by auc values:\n",
    "df_scores.sort_values('auc', ascending=False).head()"
   ]
  },
  {
   "cell_type": "code",
   "execution_count": 67,
   "id": "6bfe5c3a",
   "metadata": {},
   "outputs": [
    {
     "data": {
      "text/html": [
       "<div>\n",
       "<style scoped>\n",
       "    .dataframe tbody tr th:only-of-type {\n",
       "        vertical-align: middle;\n",
       "    }\n",
       "\n",
       "    .dataframe tbody tr th {\n",
       "        vertical-align: top;\n",
       "    }\n",
       "\n",
       "    .dataframe thead tr th {\n",
       "        text-align: left;\n",
       "    }\n",
       "\n",
       "    .dataframe thead tr:last-of-type th {\n",
       "        text-align: right;\n",
       "    }\n",
       "</style>\n",
       "<table border=\"1\" class=\"dataframe\">\n",
       "  <thead>\n",
       "    <tr>\n",
       "      <th></th>\n",
       "      <th colspan=\"3\" halign=\"left\">auc</th>\n",
       "    </tr>\n",
       "    <tr>\n",
       "      <th>max_depth</th>\n",
       "      <th>3</th>\n",
       "      <th>4</th>\n",
       "      <th>5</th>\n",
       "    </tr>\n",
       "    <tr>\n",
       "      <th>min_samples_leaf</th>\n",
       "      <th></th>\n",
       "      <th></th>\n",
       "      <th></th>\n",
       "    </tr>\n",
       "  </thead>\n",
       "  <tbody>\n",
       "    <tr>\n",
       "      <th>1</th>\n",
       "      <td>0.804</td>\n",
       "      <td>0.813</td>\n",
       "      <td>0.738</td>\n",
       "    </tr>\n",
       "    <tr>\n",
       "      <th>2</th>\n",
       "      <td>0.804</td>\n",
       "      <td>0.813</td>\n",
       "      <td>0.719</td>\n",
       "    </tr>\n",
       "    <tr>\n",
       "      <th>5</th>\n",
       "      <td>0.804</td>\n",
       "      <td>0.799</td>\n",
       "      <td>0.828</td>\n",
       "    </tr>\n",
       "    <tr>\n",
       "      <th>10</th>\n",
       "      <td>0.804</td>\n",
       "      <td>0.783</td>\n",
       "      <td>0.816</td>\n",
       "    </tr>\n",
       "    <tr>\n",
       "      <th>15</th>\n",
       "      <td>0.804</td>\n",
       "      <td>0.813</td>\n",
       "      <td>0.817</td>\n",
       "    </tr>\n",
       "    <tr>\n",
       "      <th>20</th>\n",
       "      <td>0.804</td>\n",
       "      <td>0.813</td>\n",
       "      <td>0.817</td>\n",
       "    </tr>\n",
       "    <tr>\n",
       "      <th>100</th>\n",
       "      <td>0.808</td>\n",
       "      <td>0.812</td>\n",
       "      <td>0.808</td>\n",
       "    </tr>\n",
       "    <tr>\n",
       "      <th>200</th>\n",
       "      <td>0.811</td>\n",
       "      <td>0.833</td>\n",
       "      <td>0.825</td>\n",
       "    </tr>\n",
       "    <tr>\n",
       "      <th>500</th>\n",
       "      <td>0.830</td>\n",
       "      <td>0.830</td>\n",
       "      <td>0.830</td>\n",
       "    </tr>\n",
       "  </tbody>\n",
       "</table>\n",
       "</div>"
      ],
      "text/plain": [
       "                    auc              \n",
       "max_depth             3      4      5\n",
       "min_samples_leaf                     \n",
       "1                 0.804  0.813  0.738\n",
       "2                 0.804  0.813  0.719\n",
       "5                 0.804  0.799  0.828\n",
       "10                0.804  0.783  0.816\n",
       "15                0.804  0.813  0.817\n",
       "20                0.804  0.813  0.817\n",
       "100               0.808  0.812  0.808\n",
       "200               0.811  0.833  0.825\n",
       "500               0.830  0.830  0.830"
      ]
     },
     "execution_count": 67,
     "metadata": {},
     "output_type": "execute_result"
    }
   ],
   "source": [
    "# creating a pivot table out of the above values - using .pivot() function with paramters rows or index, columns and values:\n",
    "df_scores_pivot = df_scores.pivot(index='min_samples_leaf', columns=['max_depth'], values=['auc'])\n",
    "df_scores_pivot.round(3)"
   ]
  },
  {
   "cell_type": "code",
   "execution_count": 68,
   "id": "afe0421b",
   "metadata": {},
   "outputs": [
    {
     "data": {
      "image/png": "[encoded data removed]",
      "text/plain": [
       "<Figure size 432x288 with 2 Axes>"
      ]
     },
     "metadata": {
      "needs_background": "light"
     },
     "output_type": "display_data"
    }
   ],
   "source": [
    "sns.heatmap(df_scores_pivot.round(3), annot=True,fmt = '.3f')   # round values of annotation to 3 decimals\n",
    "plt.show()"
   ]
  },
  {
   "cell_type": "markdown",
   "id": "6ae9b7e1",
   "metadata": {},
   "source": [
    "Both the heatmap and the pivot table above show that the best parameters for this model is a max_depth of 4 and min_sample_leaf of 200 as both together give an AUC score of 0.833%. \n",
    "\n",
    "Also, parameters max_depth= 5 and min_samples_leaf = 15 to 500 also give quite a similar AUC score above 81%."
   ]
  },
  {
   "cell_type": "code",
   "execution_count": 69,
   "id": "c166be30",
   "metadata": {},
   "outputs": [
    {
     "data": {
      "text/html": [
       "<div>\n",
       "<style scoped>\n",
       "    .dataframe tbody tr th:only-of-type {\n",
       "        vertical-align: middle;\n",
       "    }\n",
       "\n",
       "    .dataframe tbody tr th {\n",
       "        vertical-align: top;\n",
       "    }\n",
       "\n",
       "    .dataframe thead th {\n",
       "        text-align: right;\n",
       "    }\n",
       "</style>\n",
       "<table border=\"1\" class=\"dataframe\">\n",
       "  <thead>\n",
       "    <tr style=\"text-align: right;\">\n",
       "      <th></th>\n",
       "      <th>max_depth</th>\n",
       "      <th>min_samples_leaf</th>\n",
       "      <th>max_features</th>\n",
       "      <th>auc</th>\n",
       "    </tr>\n",
       "  </thead>\n",
       "  <tbody>\n",
       "    <tr>\n",
       "      <th>120</th>\n",
       "      <td>5</td>\n",
       "      <td>10</td>\n",
       "      <td>8</td>\n",
       "      <td>0.829175</td>\n",
       "    </tr>\n",
       "    <tr>\n",
       "      <th>121</th>\n",
       "      <td>5</td>\n",
       "      <td>15</td>\n",
       "      <td>8</td>\n",
       "      <td>0.828310</td>\n",
       "    </tr>\n",
       "    <tr>\n",
       "      <th>122</th>\n",
       "      <td>5</td>\n",
       "      <td>20</td>\n",
       "      <td>8</td>\n",
       "      <td>0.825535</td>\n",
       "    </tr>\n",
       "    <tr>\n",
       "      <th>106</th>\n",
       "      <td>5</td>\n",
       "      <td>200</td>\n",
       "      <td>6</td>\n",
       "      <td>0.820239</td>\n",
       "    </tr>\n",
       "    <tr>\n",
       "      <th>140</th>\n",
       "      <td>5</td>\n",
       "      <td>20</td>\n",
       "      <td>10</td>\n",
       "      <td>0.817375</td>\n",
       "    </tr>\n",
       "  </tbody>\n",
       "</table>\n",
       "</div>"
      ],
      "text/plain": [
       "     max_depth  min_samples_leaf  max_features       auc\n",
       "120          5                10             8  0.829175\n",
       "121          5                15             8  0.828310\n",
       "122          5                20             8  0.825535\n",
       "106          5               200             6  0.820239\n",
       "140          5                20            10  0.817375"
      ]
     },
     "execution_count": 69,
     "metadata": {},
     "output_type": "execute_result"
    }
   ],
   "source": [
    "## Selecting best max_features parameter - \n",
    "scores = []\n",
    "\n",
    "# running the model for different max_features values -\n",
    "for f in [1, 2, 3, 4, 5, 6, 8, 10]:\n",
    "\n",
    "    for d in [3, 4, 5]:    # max_depth values 3 to 5\n",
    "\n",
    "         for s in [10, 15, 20, 100, 200, 500]:      # max_depth values 10 to 500\n",
    "            dt = DecisionTreeClassifier(max_depth=d, min_samples_leaf=s, max_features = f, random_state=1)\n",
    "\n",
    "            # train model on train sets:\n",
    "            dt.fit(X_train, y_train)\n",
    "\n",
    "            # predict on validation set:\n",
    "            y_pred = dt.predict_proba(X_val)[:,1]\n",
    "\n",
    "            # compute auc score on validation set:\n",
    "            auc = roc_auc_score(y_val, y_pred)\n",
    "\n",
    "            # printing the max_depth value and auc score for each max_depth value:\n",
    "            scores.append((d, s, f, auc))\n",
    "\n",
    "# putting all the values in scores list to a DataFrame:\n",
    "df_scores = pd.DataFrame(scores, columns=['max_depth','min_samples_leaf','max_features','auc'])\n",
    "\n",
    "# sorting DataFrame values in descending order by auc values:\n",
    "df_scores.sort_values('auc', ascending=False).head()"
   ]
  },
  {
   "cell_type": "code",
   "execution_count": 71,
   "id": "22121821",
   "metadata": {},
   "outputs": [
    {
     "data": {
      "text/html": [
       "<div>\n",
       "<style scoped>\n",
       "    .dataframe tbody tr th:only-of-type {\n",
       "        vertical-align: middle;\n",
       "    }\n",
       "\n",
       "    .dataframe tbody tr th {\n",
       "        vertical-align: top;\n",
       "    }\n",
       "\n",
       "    .dataframe thead tr th {\n",
       "        text-align: left;\n",
       "    }\n",
       "\n",
       "    .dataframe thead tr:last-of-type th {\n",
       "        text-align: right;\n",
       "    }\n",
       "</style>\n",
       "<table border=\"1\" class=\"dataframe\">\n",
       "  <thead>\n",
       "    <tr>\n",
       "      <th></th>\n",
       "      <th colspan=\"18\" halign=\"left\">auc</th>\n",
       "    </tr>\n",
       "    <tr>\n",
       "      <th>max_depth</th>\n",
       "      <th colspan=\"6\" halign=\"left\">3</th>\n",
       "      <th colspan=\"6\" halign=\"left\">4</th>\n",
       "      <th colspan=\"6\" halign=\"left\">5</th>\n",
       "    </tr>\n",
       "    <tr>\n",
       "      <th>min_samples_leaf</th>\n",
       "      <th>10</th>\n",
       "      <th>15</th>\n",
       "      <th>20</th>\n",
       "      <th>100</th>\n",
       "      <th>200</th>\n",
       "      <th>500</th>\n",
       "      <th>10</th>\n",
       "      <th>15</th>\n",
       "      <th>20</th>\n",
       "      <th>100</th>\n",
       "      <th>200</th>\n",
       "      <th>500</th>\n",
       "      <th>10</th>\n",
       "      <th>15</th>\n",
       "      <th>20</th>\n",
       "      <th>100</th>\n",
       "      <th>200</th>\n",
       "      <th>500</th>\n",
       "    </tr>\n",
       "    <tr>\n",
       "      <th>max_features</th>\n",
       "      <th></th>\n",
       "      <th></th>\n",
       "      <th></th>\n",
       "      <th></th>\n",
       "      <th></th>\n",
       "      <th></th>\n",
       "      <th></th>\n",
       "      <th></th>\n",
       "      <th></th>\n",
       "      <th></th>\n",
       "      <th></th>\n",
       "      <th></th>\n",
       "      <th></th>\n",
       "      <th></th>\n",
       "      <th></th>\n",
       "      <th></th>\n",
       "      <th></th>\n",
       "      <th></th>\n",
       "    </tr>\n",
       "  </thead>\n",
       "  <tbody>\n",
       "    <tr>\n",
       "      <th>1</th>\n",
       "      <td>0.562</td>\n",
       "      <td>0.562</td>\n",
       "      <td>0.562</td>\n",
       "      <td>0.561</td>\n",
       "      <td>0.500</td>\n",
       "      <td>0.500</td>\n",
       "      <td>0.581</td>\n",
       "      <td>0.579</td>\n",
       "      <td>0.579</td>\n",
       "      <td>0.578</td>\n",
       "      <td>0.500</td>\n",
       "      <td>0.500</td>\n",
       "      <td>0.548</td>\n",
       "      <td>0.559</td>\n",
       "      <td>0.560</td>\n",
       "      <td>0.672</td>\n",
       "      <td>0.500</td>\n",
       "      <td>0.500</td>\n",
       "    </tr>\n",
       "    <tr>\n",
       "      <th>2</th>\n",
       "      <td>0.695</td>\n",
       "      <td>0.695</td>\n",
       "      <td>0.695</td>\n",
       "      <td>0.602</td>\n",
       "      <td>0.654</td>\n",
       "      <td>0.500</td>\n",
       "      <td>0.685</td>\n",
       "      <td>0.689</td>\n",
       "      <td>0.689</td>\n",
       "      <td>0.666</td>\n",
       "      <td>0.718</td>\n",
       "      <td>0.500</td>\n",
       "      <td>0.719</td>\n",
       "      <td>0.753</td>\n",
       "      <td>0.749</td>\n",
       "      <td>0.589</td>\n",
       "      <td>0.718</td>\n",
       "      <td>0.500</td>\n",
       "    </tr>\n",
       "    <tr>\n",
       "      <th>3</th>\n",
       "      <td>0.659</td>\n",
       "      <td>0.659</td>\n",
       "      <td>0.656</td>\n",
       "      <td>0.657</td>\n",
       "      <td>0.627</td>\n",
       "      <td>0.590</td>\n",
       "      <td>0.693</td>\n",
       "      <td>0.693</td>\n",
       "      <td>0.690</td>\n",
       "      <td>0.731</td>\n",
       "      <td>0.674</td>\n",
       "      <td>0.590</td>\n",
       "      <td>0.759</td>\n",
       "      <td>0.721</td>\n",
       "      <td>0.718</td>\n",
       "      <td>0.764</td>\n",
       "      <td>0.722</td>\n",
       "      <td>0.590</td>\n",
       "    </tr>\n",
       "    <tr>\n",
       "      <th>4</th>\n",
       "      <td>0.740</td>\n",
       "      <td>0.740</td>\n",
       "      <td>0.740</td>\n",
       "      <td>0.735</td>\n",
       "      <td>0.774</td>\n",
       "      <td>0.694</td>\n",
       "      <td>0.737</td>\n",
       "      <td>0.731</td>\n",
       "      <td>0.729</td>\n",
       "      <td>0.727</td>\n",
       "      <td>0.784</td>\n",
       "      <td>0.694</td>\n",
       "      <td>0.711</td>\n",
       "      <td>0.702</td>\n",
       "      <td>0.701</td>\n",
       "      <td>0.701</td>\n",
       "      <td>0.788</td>\n",
       "      <td>0.694</td>\n",
       "    </tr>\n",
       "    <tr>\n",
       "      <th>5</th>\n",
       "      <td>0.683</td>\n",
       "      <td>0.683</td>\n",
       "      <td>0.683</td>\n",
       "      <td>0.678</td>\n",
       "      <td>0.772</td>\n",
       "      <td>0.616</td>\n",
       "      <td>0.772</td>\n",
       "      <td>0.762</td>\n",
       "      <td>0.763</td>\n",
       "      <td>0.738</td>\n",
       "      <td>0.817</td>\n",
       "      <td>0.616</td>\n",
       "      <td>0.693</td>\n",
       "      <td>0.697</td>\n",
       "      <td>0.734</td>\n",
       "      <td>0.679</td>\n",
       "      <td>0.799</td>\n",
       "      <td>0.616</td>\n",
       "    </tr>\n",
       "    <tr>\n",
       "      <th>6</th>\n",
       "      <td>0.743</td>\n",
       "      <td>0.753</td>\n",
       "      <td>0.753</td>\n",
       "      <td>0.733</td>\n",
       "      <td>0.743</td>\n",
       "      <td>0.720</td>\n",
       "      <td>0.790</td>\n",
       "      <td>0.788</td>\n",
       "      <td>0.787</td>\n",
       "      <td>0.684</td>\n",
       "      <td>0.758</td>\n",
       "      <td>0.722</td>\n",
       "      <td>0.681</td>\n",
       "      <td>0.712</td>\n",
       "      <td>0.727</td>\n",
       "      <td>0.790</td>\n",
       "      <td>0.820</td>\n",
       "      <td>0.722</td>\n",
       "    </tr>\n",
       "    <tr>\n",
       "      <th>8</th>\n",
       "      <td>0.756</td>\n",
       "      <td>0.756</td>\n",
       "      <td>0.756</td>\n",
       "      <td>0.751</td>\n",
       "      <td>0.773</td>\n",
       "      <td>0.728</td>\n",
       "      <td>0.756</td>\n",
       "      <td>0.758</td>\n",
       "      <td>0.803</td>\n",
       "      <td>0.778</td>\n",
       "      <td>0.788</td>\n",
       "      <td>0.728</td>\n",
       "      <td>0.829</td>\n",
       "      <td>0.828</td>\n",
       "      <td>0.826</td>\n",
       "      <td>0.802</td>\n",
       "      <td>0.802</td>\n",
       "      <td>0.728</td>\n",
       "    </tr>\n",
       "    <tr>\n",
       "      <th>10</th>\n",
       "      <td>0.746</td>\n",
       "      <td>0.746</td>\n",
       "      <td>0.746</td>\n",
       "      <td>0.691</td>\n",
       "      <td>0.750</td>\n",
       "      <td>0.639</td>\n",
       "      <td>0.774</td>\n",
       "      <td>0.808</td>\n",
       "      <td>0.806</td>\n",
       "      <td>0.616</td>\n",
       "      <td>0.757</td>\n",
       "      <td>0.701</td>\n",
       "      <td>0.803</td>\n",
       "      <td>0.790</td>\n",
       "      <td>0.817</td>\n",
       "      <td>0.784</td>\n",
       "      <td>0.808</td>\n",
       "      <td>0.701</td>\n",
       "    </tr>\n",
       "  </tbody>\n",
       "</table>\n",
       "</div>"
      ],
      "text/plain": [
       "                    auc                                                   \\\n",
       "max_depth             3                                         4          \n",
       "min_samples_leaf    10     15     20     100    200    500    10     15    \n",
       "max_features                                                               \n",
       "1                 0.562  0.562  0.562  0.561  0.500  0.500  0.581  0.579   \n",
       "2                 0.695  0.695  0.695  0.602  0.654  0.500  0.685  0.689   \n",
       "3                 0.659  0.659  0.656  0.657  0.627  0.590  0.693  0.693   \n",
       "4                 0.740  0.740  0.740  0.735  0.774  0.694  0.737  0.731   \n",
       "5                 0.683  0.683  0.683  0.678  0.772  0.616  0.772  0.762   \n",
       "6                 0.743  0.753  0.753  0.733  0.743  0.720  0.790  0.788   \n",
       "8                 0.756  0.756  0.756  0.751  0.773  0.728  0.756  0.758   \n",
       "10                0.746  0.746  0.746  0.691  0.750  0.639  0.774  0.808   \n",
       "\n",
       "                                                                          \\\n",
       "max_depth                                         5                        \n",
       "min_samples_leaf    20     100    200    500    10     15     20     100   \n",
       "max_features                                                               \n",
       "1                 0.579  0.578  0.500  0.500  0.548  0.559  0.560  0.672   \n",
       "2                 0.689  0.666  0.718  0.500  0.719  0.753  0.749  0.589   \n",
       "3                 0.690  0.731  0.674  0.590  0.759  0.721  0.718  0.764   \n",
       "4                 0.729  0.727  0.784  0.694  0.711  0.702  0.701  0.701   \n",
       "5                 0.763  0.738  0.817  0.616  0.693  0.697  0.734  0.679   \n",
       "6                 0.787  0.684  0.758  0.722  0.681  0.712  0.727  0.790   \n",
       "8                 0.803  0.778  0.788  0.728  0.829  0.828  0.826  0.802   \n",
       "10                0.806  0.616  0.757  0.701  0.803  0.790  0.817  0.784   \n",
       "\n",
       "                                \n",
       "max_depth                       \n",
       "min_samples_leaf    200    500  \n",
       "max_features                    \n",
       "1                 0.500  0.500  \n",
       "2                 0.718  0.500  \n",
       "3                 0.722  0.590  \n",
       "4                 0.788  0.694  \n",
       "5                 0.799  0.616  \n",
       "6                 0.820  0.722  \n",
       "8                 0.802  0.728  \n",
       "10                0.808  0.701  "
      ]
     },
     "execution_count": 71,
     "metadata": {},
     "output_type": "execute_result"
    }
   ],
   "source": [
    "# creating a pivot table out of the above values - using .pivot() function with paramters rows or index, columns and values:\n",
    "df_scores_pivot = df_scores.pivot(index='max_features', columns=['max_depth', 'min_samples_leaf'], values=['auc'])\n",
    "df_scores_pivot.round(3)"
   ]
  },
  {
   "cell_type": "markdown",
   "id": "67de6102",
   "metadata": {},
   "source": [
    "Combining all 3 parameters we see that **max_depth = 5, min_sample_leaf = 10 and max_features = 8** gives us the best **AUC score of 0.829 or 83%** for Decision Tree Classifier."
   ]
  },
  {
   "cell_type": "markdown",
   "id": "fe386f26",
   "metadata": {},
   "source": [
    "##### Final Decision Tree Model -\n",
    "\n",
    "Below is the final decision tree classifier with most optimal parameters for the Stroke prediction dataset.\n",
    "\n",
    "max_depth = 5;       min_samples_leaf = 10;   max_features = 8"
   ]
  },
  {
   "cell_type": "code",
   "execution_count": 72,
   "id": "52d7a193",
   "metadata": {},
   "outputs": [
    {
     "data": {
      "text/plain": [
       "DecisionTreeClassifier(max_depth=5, max_features=8, min_samples_leaf=10,\n",
       "                       random_state=1)"
      ]
     },
     "execution_count": 72,
     "metadata": {},
     "output_type": "execute_result"
    }
   ],
   "source": [
    "dt = DecisionTreeClassifier(max_depth=5, min_samples_leaf=10, max_features = 8, random_state=1)\n",
    "\n",
    "# training our train set with above optimal parameters:\n",
    "dt.fit(X_train, y_train)"
   ]
  },
  {
   "cell_type": "markdown",
   "id": "cc4df399",
   "metadata": {},
   "source": [
    "Visualizing our most optimal decision tree -\n",
    "\n",
    "Below is a snapshot of the tree model generated using our Final decision tree classifier. It shows the different features in the tree and their quality of split when the tree depth is 5."
   ]
  },
  {
   "cell_type": "code",
   "execution_count": 74,
   "id": "6d5aea1b",
   "metadata": {},
   "outputs": [
    {
     "name": "stdout",
     "output_type": "stream",
     "text": [
      "|--- heart_disease <= 0.50\n",
      "|   |--- age <= 70.50\n",
      "|   |   |--- avg_glucose_level <= 161.75\n",
      "|   |   |   |--- bmi <= 25.35\n",
      "|   |   |   |   |--- bmi <= 21.15\n",
      "|   |   |   |   |   |--- class: 0\n",
      "|   |   |   |   |--- bmi >  21.15\n",
      "|   |   |   |   |   |--- class: 0\n",
      "|   |   |   |--- bmi >  25.35\n",
      "|   |   |   |   |--- age <= 48.50\n",
      "|   |   |   |   |   |--- class: 0\n",
      "|   |   |   |   |--- age >  48.50\n",
      "|   |   |   |   |   |--- class: 0\n",
      "|   |   |--- avg_glucose_level >  161.75\n",
      "|   |   |   |--- age <= 44.50\n",
      "|   |   |   |   |--- class: 0\n",
      "|   |   |   |--- age >  44.50\n",
      "|   |   |   |   |--- avg_glucose_level <= 171.78\n",
      "|   |   |   |   |   |--- class: 0\n",
      "|   |   |   |   |--- avg_glucose_level >  171.78\n",
      "|   |   |   |   |   |--- class: 0\n",
      "|   |--- age >  70.50\n",
      "|   |   |--- avg_glucose_level <= 75.04\n",
      "|   |   |   |--- avg_glucose_level <= 72.76\n",
      "|   |   |   |   |--- gender=Female <= 0.50\n",
      "|   |   |   |   |   |--- class: 0\n",
      "|   |   |   |   |--- gender=Female >  0.50\n",
      "|   |   |   |   |   |--- class: 0\n",
      "|   |   |   |--- avg_glucose_level >  72.76\n",
      "|   |   |   |   |--- class: 0\n",
      "|   |   |--- avg_glucose_level >  75.04\n",
      "|   |   |   |--- avg_glucose_level <= 87.75\n",
      "|   |   |   |   |--- bmi <= 28.40\n",
      "|   |   |   |   |   |--- class: 0\n",
      "|   |   |   |   |--- bmi >  28.40\n",
      "|   |   |   |   |   |--- class: 0\n",
      "|   |   |   |--- avg_glucose_level >  87.75\n",
      "|   |   |   |   |--- residence_type=Rural <= 0.50\n",
      "|   |   |   |   |   |--- class: 0\n",
      "|   |   |   |   |--- residence_type=Rural >  0.50\n",
      "|   |   |   |   |   |--- class: 0\n",
      "|--- heart_disease >  0.50\n",
      "|   |--- bmi <= 35.85\n",
      "|   |   |--- age <= 78.50\n",
      "|   |   |   |--- work_type=private <= 0.50\n",
      "|   |   |   |   |--- age <= 62.50\n",
      "|   |   |   |   |   |--- class: 0\n",
      "|   |   |   |   |--- age >  62.50\n",
      "|   |   |   |   |   |--- class: 0\n",
      "|   |   |   |--- work_type=private >  0.50\n",
      "|   |   |   |   |--- avg_glucose_level <= 208.96\n",
      "|   |   |   |   |   |--- class: 0\n",
      "|   |   |   |   |--- avg_glucose_level >  208.96\n",
      "|   |   |   |   |   |--- class: 0\n",
      "|   |   |--- age >  78.50\n",
      "|   |   |   |--- age <= 81.50\n",
      "|   |   |   |   |--- work_type=private <= 0.50\n",
      "|   |   |   |   |   |--- class: 0\n",
      "|   |   |   |   |--- work_type=private >  0.50\n",
      "|   |   |   |   |   |--- class: 0\n",
      "|   |   |   |--- age >  81.50\n",
      "|   |   |   |   |--- class: 0\n",
      "|   |--- bmi >  35.85\n",
      "|   |   |--- gender=Female <= 0.50\n",
      "|   |   |   |--- class: 0\n",
      "|   |   |--- gender=Female >  0.50\n",
      "|   |   |   |--- class: 0\n",
      "\n"
     ]
    }
   ],
   "source": [
    "from sklearn.tree import export_text\n",
    "\n",
    "print(export_text(dt, feature_names=dv.get_feature_names()))  # when dt has max_depth = 5"
   ]
  },
  {
   "cell_type": "markdown",
   "id": "ec1aae04",
   "metadata": {},
   "source": [
    "#### Model 3 - Random Forest for Classification (using Ensemble learning)\n",
    "\n",
    "Next let's use an Ensemble model Random Forest for Classification to predict our binary dependent variable. Random forests are a collection of decision trees being grouped together and trained together that use random orders of the features in the dataset. \n",
    "\n",
    "Let's define a random forest classifier object, fit our model, and evaluate performance:"
   ]
  },
  {
   "cell_type": "code",
   "execution_count": 75,
   "id": "01892527",
   "metadata": {},
   "outputs": [
    {
     "name": "stdout",
     "output_type": "stream",
     "text": [
      "AUC train: 1.00000\n",
      "AUC val: 0.77154\n"
     ]
    }
   ],
   "source": [
    "from sklearn.ensemble import RandomForestClassifier\n",
    "\n",
    "# training our Random Forest for classification:\n",
    "rf = RandomForestClassifier(random_state=1)    # n_estimtors ---> default=100\n",
    "\n",
    "# turning our training df into a list of dictionaries:\n",
    "train_dicts = df_train.to_dict(orient='records')\n",
    "\n",
    "# turning list of dictionaries into feature matrix\n",
    "# training our DictVectorizer instance:\n",
    "dv = DictVectorizer(sparse=False)\n",
    "\n",
    "# fitting and transforming the full_train subset:\n",
    "X_train = dv.fit_transform(train_dicts)   \n",
    "\n",
    "# Combined fit and transform dictionary - for validation dataset:\n",
    "val_dicts = df_val[categorical + numerical].to_dict(orient='records')\n",
    "\n",
    "# only transforming DictVectorizer on the validation set:\n",
    "X_val = dv.transform(val_dicts)\n",
    "\n",
    "\n",
    "rf.fit(X_train, y_train)\n",
    "\n",
    "y_pred = rf.predict_proba(X_val)[:,1]\n",
    "\n",
    "# computing the auc score on training dataset:\n",
    "y_pred_train = rf.predict_proba(X_train)[:,1]\n",
    "\n",
    "print('AUC train: %.5f' % roc_auc_score(y_train, y_pred_train))\n",
    "\n",
    "# computing the auc score on validation dataset:\n",
    "print('AUC val: %.5f' % roc_auc_score(y_val, y_pred))"
   ]
  },
  {
   "cell_type": "markdown",
   "id": "ee933993",
   "metadata": {},
   "source": [
    "We can see above that the AUC score from Random Forest on our training dataset is 1.0 while on validation dataset is 0.77. The score on validation set has improved over scores from decision trees (was 0.60)."
   ]
  },
  {
   "cell_type": "markdown",
   "id": "1e3392e7",
   "metadata": {},
   "source": [
    "Feature Importance for Random Forest - "
   ]
  },
  {
   "cell_type": "code",
   "execution_count": 76,
   "id": "a5690e27",
   "metadata": {},
   "outputs": [
    {
     "data": {
      "text/plain": [
       "{'avg_glucose_level': 0.248,\n",
       " 'age': 0.238,\n",
       " 'bmi': 0.22,\n",
       " 'heart_disease': 0.032,\n",
       " 'hypertension': 0.024,\n",
       " 'residence_type=Rural': 0.021,\n",
       " 'residence_type=Urban': 0.021,\n",
       " 'smoking_status=never smoked': 0.021,\n",
       " 'work_type=private': 0.021,\n",
       " 'gender=Female': 0.02,\n",
       " 'gender=Male': 0.02,\n",
       " 'smoking_status=formerly smoked': 0.019,\n",
       " 'work_type=self-employed': 0.019,\n",
       " 'smoking_status=unknown': 0.018,\n",
       " 'smoking_status=smokes': 0.016,\n",
       " 'work_type=govt_job': 0.015,\n",
       " 'ever_married=No': 0.012,\n",
       " 'ever_married=Yes': 0.011,\n",
       " 'work_type=children': 0.001,\n",
       " 'work_type=never_worked': 0.0}"
      ]
     },
     "execution_count": 76,
     "metadata": {},
     "output_type": "execute_result"
    }
   ],
   "source": [
    "## Summarize feature importance\n",
    "# get importance and respective feature names as a dictionary:\n",
    "importance = rf.feature_importances_\n",
    "feature_imp_rf = dict(zip(dv.get_feature_names(), importance.round(3)))\n",
    "\n",
    "# sorting feature coefficients in descending order:\n",
    "import operator\n",
    "sorted_d3 = dict( sorted(feature_imp_rf.items(), key=operator.itemgetter(1),reverse=True))\n",
    "sorted_d3"
   ]
  },
  {
   "cell_type": "markdown",
   "id": "d8fb025a",
   "metadata": {},
   "source": [
    "When computing feature importance for Random forest it is found that features like avg_glucose_level, age and bmi appear to be most important for predicting the risk of stroke while marital status, work_type for children and unemployed appear to be the least important in the dataset. Similar observation was made when using Decision trees as well."
   ]
  },
  {
   "cell_type": "markdown",
   "id": "f953d486",
   "metadata": {},
   "source": [
    "##### Random forest parameter tuning -\n",
    "\n",
    "Below were some parameters tuned for Random Forest Classifier:-\n",
    "\n",
    "selecting n_estimators - The number of trees in the forest.\n",
    "\n",
    "selecting max_depth - The maximum depth of the tree.\n",
    "\n",
    "selecting min_samples_leaf - The minimum number of samples required to be at a leaf node.\n",
    "\n",
    "selecting max_features - The number of features to consider when looking for the best split."
   ]
  },
  {
   "cell_type": "code",
   "execution_count": 77,
   "id": "ee018a2f",
   "metadata": {},
   "outputs": [],
   "source": [
    "## Selecting best n_estimators parameter - \n",
    "scores = []\n",
    "\n",
    "for n in range(10, 201, 10):\n",
    "    rf = RandomForestClassifier(n_estimators=n,random_state = 1)   # no. of models to use\n",
    "    rf.fit(X_train, y_train)\n",
    "    \n",
    "    y_pred = rf.predict_proba(X_val)[:,1]\n",
    "    auc = roc_auc_score(y_val, y_pred)\n",
    "    scores.append((n,auc))"
   ]
  },
  {
   "cell_type": "code",
   "execution_count": 78,
   "id": "93f12143",
   "metadata": {},
   "outputs": [
    {
     "data": {
      "text/html": [
       "<div>\n",
       "<style scoped>\n",
       "    .dataframe tbody tr th:only-of-type {\n",
       "        vertical-align: middle;\n",
       "    }\n",
       "\n",
       "    .dataframe tbody tr th {\n",
       "        vertical-align: top;\n",
       "    }\n",
       "\n",
       "    .dataframe thead th {\n",
       "        text-align: right;\n",
       "    }\n",
       "</style>\n",
       "<table border=\"1\" class=\"dataframe\">\n",
       "  <thead>\n",
       "    <tr style=\"text-align: right;\">\n",
       "      <th></th>\n",
       "      <th>n_estimators</th>\n",
       "      <th>auc</th>\n",
       "    </tr>\n",
       "  </thead>\n",
       "  <tbody>\n",
       "    <tr>\n",
       "      <th>12</th>\n",
       "      <td>130</td>\n",
       "      <td>0.799465</td>\n",
       "    </tr>\n",
       "    <tr>\n",
       "      <th>14</th>\n",
       "      <td>150</td>\n",
       "      <td>0.797862</td>\n",
       "    </tr>\n",
       "    <tr>\n",
       "      <th>15</th>\n",
       "      <td>160</td>\n",
       "      <td>0.795672</td>\n",
       "    </tr>\n",
       "    <tr>\n",
       "      <th>16</th>\n",
       "      <td>170</td>\n",
       "      <td>0.795227</td>\n",
       "    </tr>\n",
       "    <tr>\n",
       "      <th>13</th>\n",
       "      <td>140</td>\n",
       "      <td>0.794997</td>\n",
       "    </tr>\n",
       "  </tbody>\n",
       "</table>\n",
       "</div>"
      ],
      "text/plain": [
       "    n_estimators       auc\n",
       "12           130  0.799465\n",
       "14           150  0.797862\n",
       "15           160  0.795672\n",
       "16           170  0.795227\n",
       "13           140  0.794997"
      ]
     },
     "execution_count": 78,
     "metadata": {},
     "output_type": "execute_result"
    }
   ],
   "source": [
    "# putting the auc for different n_estimators values into a DataFrame:\n",
    "df_scores = pd.DataFrame(scores, columns=['n_estimators','auc'])\n",
    "df_scores.sort_values('auc', ascending=False).head()"
   ]
  },
  {
   "cell_type": "code",
   "execution_count": 79,
   "id": "572787c0",
   "metadata": {},
   "outputs": [
    {
     "data": {
      "image/png": "[encoded data removed]",
      "text/plain": [
       "<Figure size 432x288 with 1 Axes>"
      ]
     },
     "metadata": {
      "needs_background": "light"
     },
     "output_type": "display_data"
    }
   ],
   "source": [
    "# plotting the DataFrame as a line plot:\n",
    "plt.plot(df_scores.n_estimators, df_scores.auc)\n",
    "plt.xlabel('n_estimators')\n",
    "plt.ylabel('auc scores')\n",
    "plt.show()"
   ]
  },
  {
   "cell_type": "markdown",
   "id": "f21c5d98",
   "metadata": {},
   "source": [
    "From the above plot we can see that n_estimator above 130 lead to increase in AUC score for the model to around 79-80%."
   ]
  },
  {
   "cell_type": "code",
   "execution_count": 80,
   "id": "682542f8",
   "metadata": {},
   "outputs": [],
   "source": [
    "## Selecting best max_depth parameter - \n",
    "scores = []\n",
    "\n",
    "for d in [5, 10, 15]:\n",
    "    for n in range(10, 201, 10):\n",
    "        rf = RandomForestClassifier(n_estimators=n, max_depth=d, random_state = 1)   # no. of models to use\n",
    "        rf.fit(X_train, y_train)\n",
    "\n",
    "        y_pred = rf.predict_proba(X_val)[:,1]\n",
    "        auc = roc_auc_score(y_val, y_pred)\n",
    "        scores.append((n,d, auc))"
   ]
  },
  {
   "cell_type": "code",
   "execution_count": 81,
   "id": "09bed0b9",
   "metadata": {},
   "outputs": [
    {
     "data": {
      "text/html": [
       "<div>\n",
       "<style scoped>\n",
       "    .dataframe tbody tr th:only-of-type {\n",
       "        vertical-align: middle;\n",
       "    }\n",
       "\n",
       "    .dataframe tbody tr th {\n",
       "        vertical-align: top;\n",
       "    }\n",
       "\n",
       "    .dataframe thead th {\n",
       "        text-align: right;\n",
       "    }\n",
       "</style>\n",
       "<table border=\"1\" class=\"dataframe\">\n",
       "  <thead>\n",
       "    <tr style=\"text-align: right;\">\n",
       "      <th></th>\n",
       "      <th>n_estimators</th>\n",
       "      <th>max_depth</th>\n",
       "      <th>auc</th>\n",
       "    </tr>\n",
       "  </thead>\n",
       "  <tbody>\n",
       "    <tr>\n",
       "      <th>16</th>\n",
       "      <td>170</td>\n",
       "      <td>5</td>\n",
       "      <td>0.835820</td>\n",
       "    </tr>\n",
       "    <tr>\n",
       "      <th>15</th>\n",
       "      <td>160</td>\n",
       "      <td>5</td>\n",
       "      <td>0.835692</td>\n",
       "    </tr>\n",
       "    <tr>\n",
       "      <th>18</th>\n",
       "      <td>190</td>\n",
       "      <td>5</td>\n",
       "      <td>0.835565</td>\n",
       "    </tr>\n",
       "    <tr>\n",
       "      <th>19</th>\n",
       "      <td>200</td>\n",
       "      <td>5</td>\n",
       "      <td>0.835183</td>\n",
       "    </tr>\n",
       "    <tr>\n",
       "      <th>17</th>\n",
       "      <td>180</td>\n",
       "      <td>5</td>\n",
       "      <td>0.835031</td>\n",
       "    </tr>\n",
       "  </tbody>\n",
       "</table>\n",
       "</div>"
      ],
      "text/plain": [
       "    n_estimators  max_depth       auc\n",
       "16           170          5  0.835820\n",
       "15           160          5  0.835692\n",
       "18           190          5  0.835565\n",
       "19           200          5  0.835183\n",
       "17           180          5  0.835031"
      ]
     },
     "execution_count": 81,
     "metadata": {},
     "output_type": "execute_result"
    }
   ],
   "source": [
    "# putting the auc for different n_estimators values into a DataFrame:\n",
    "df_scores = pd.DataFrame(scores, columns=['n_estimators','max_depth','auc'])\n",
    "df_scores.sort_values('auc', ascending=False).head()"
   ]
  },
  {
   "cell_type": "code",
   "execution_count": 82,
   "id": "3f5ea00d",
   "metadata": {},
   "outputs": [
    {
     "data": {
      "image/png": "[encoded data removed]",
      "text/plain": [
       "<Figure size 432x288 with 1 Axes>"
      ]
     },
     "metadata": {
      "needs_background": "light"
     },
     "output_type": "display_data"
    }
   ],
   "source": [
    "# plotting the DataFrame as a line plot:\n",
    "for d in [5, 10, 15]:\n",
    "    df_subset = df_scores[df_scores.max_depth == d]   # slicing df where max_depth = d\n",
    "    plt.plot(df_subset.n_estimators, df_subset.auc, label = 'max_depth=%d' % d)\n",
    "    \n",
    "plt.legend()\n",
    "plt.show()"
   ]
  },
  {
   "cell_type": "markdown",
   "id": "fcf813f4",
   "metadata": {},
   "source": [
    "Above chart shows that max_depth = 5 gives us the best AUC score for Random Forest model."
   ]
  },
  {
   "cell_type": "code",
   "execution_count": 83,
   "id": "d386c407",
   "metadata": {},
   "outputs": [],
   "source": [
    "## Selecting best min_samples_leaf parameter - \n",
    "scores = []\n",
    "\n",
    "for s in [1, 3, 5, 10, 50]:\n",
    "    for n in range(10, 201, 10):\n",
    "        rf = RandomForestClassifier(n_estimators=n, max_depth=5, random_state = 1, \n",
    "                                    min_samples_leaf = s)   # taking best max_depth = 5 \n",
    "        rf.fit(X_train, y_train)\n",
    "\n",
    "        y_pred = rf.predict_proba(X_val)[:,1]\n",
    "        auc = roc_auc_score(y_val, y_pred)\n",
    "        scores.append((n,s, auc))"
   ]
  },
  {
   "cell_type": "code",
   "execution_count": 84,
   "id": "863eb036",
   "metadata": {},
   "outputs": [
    {
     "data": {
      "text/html": [
       "<div>\n",
       "<style scoped>\n",
       "    .dataframe tbody tr th:only-of-type {\n",
       "        vertical-align: middle;\n",
       "    }\n",
       "\n",
       "    .dataframe tbody tr th {\n",
       "        vertical-align: top;\n",
       "    }\n",
       "\n",
       "    .dataframe thead th {\n",
       "        text-align: right;\n",
       "    }\n",
       "</style>\n",
       "<table border=\"1\" class=\"dataframe\">\n",
       "  <thead>\n",
       "    <tr style=\"text-align: right;\">\n",
       "      <th></th>\n",
       "      <th>n_estimators</th>\n",
       "      <th>min_samples_leaf</th>\n",
       "      <th>auc</th>\n",
       "    </tr>\n",
       "  </thead>\n",
       "  <tbody>\n",
       "    <tr>\n",
       "      <th>82</th>\n",
       "      <td>30</td>\n",
       "      <td>50</td>\n",
       "      <td>0.846614</td>\n",
       "    </tr>\n",
       "    <tr>\n",
       "      <th>87</th>\n",
       "      <td>80</td>\n",
       "      <td>50</td>\n",
       "      <td>0.843763</td>\n",
       "    </tr>\n",
       "    <tr>\n",
       "      <th>81</th>\n",
       "      <td>20</td>\n",
       "      <td>50</td>\n",
       "      <td>0.843317</td>\n",
       "    </tr>\n",
       "    <tr>\n",
       "      <th>83</th>\n",
       "      <td>40</td>\n",
       "      <td>50</td>\n",
       "      <td>0.842872</td>\n",
       "    </tr>\n",
       "    <tr>\n",
       "      <th>89</th>\n",
       "      <td>100</td>\n",
       "      <td>50</td>\n",
       "      <td>0.842337</td>\n",
       "    </tr>\n",
       "  </tbody>\n",
       "</table>\n",
       "</div>"
      ],
      "text/plain": [
       "    n_estimators  min_samples_leaf       auc\n",
       "82            30                50  0.846614\n",
       "87            80                50  0.843763\n",
       "81            20                50  0.843317\n",
       "83            40                50  0.842872\n",
       "89           100                50  0.842337"
      ]
     },
     "execution_count": 84,
     "metadata": {},
     "output_type": "execute_result"
    }
   ],
   "source": [
    "# putting the auc for different n_estimators values into a DataFrame:\n",
    "df_scores = pd.DataFrame(scores, columns=['n_estimators','min_samples_leaf','auc'])\n",
    "df_scores.sort_values('auc', ascending=False).head()"
   ]
  },
  {
   "cell_type": "code",
   "execution_count": 85,
   "id": "78ea2897",
   "metadata": {},
   "outputs": [
    {
     "data": {
      "image/png": "[encoded data removed]",
      "text/plain": [
       "<Figure size 432x288 with 1 Axes>"
      ]
     },
     "metadata": {
      "needs_background": "light"
     },
     "output_type": "display_data"
    }
   ],
   "source": [
    "for s in [1, 3, 5, 10, 50]:\n",
    "    df_subset = df_scores[df_scores.min_samples_leaf == s]   # slicing df where max_depth = 5\n",
    "    plt.plot(df_subset.n_estimators, df_subset.auc, label = 'min_samples_leaf=%d' % s)\n",
    "    \n",
    "plt.legend()\n",
    "plt.show()"
   ]
  },
  {
   "cell_type": "markdown",
   "id": "68ca5e9d",
   "metadata": {},
   "source": [
    "Above chart shows that min_samples_leaf = 50, gives us the best AUC score for Random Forest model."
   ]
  },
  {
   "cell_type": "code",
   "execution_count": 86,
   "id": "c535b790",
   "metadata": {},
   "outputs": [],
   "source": [
    "## Selecting best max_features parameter -\n",
    "scores = []\n",
    "\n",
    "for f in [2, 4, 6, 8, 10]:\n",
    "    for n in range(10, 201, 10):\n",
    "        rf = RandomForestClassifier(n_estimators=n, max_depth=5, random_state = 1, \n",
    "                                    min_samples_leaf = 50, max_features= f)   # taking best max_depth = 5 and min_samples_leaf= 50\n",
    "        rf.fit(X_train, y_train)\n",
    "\n",
    "        y_pred = rf.predict_proba(X_val)[:,1]\n",
    "        auc = roc_auc_score(y_val, y_pred)\n",
    "        scores.append((n, f, auc))"
   ]
  },
  {
   "cell_type": "code",
   "execution_count": 87,
   "id": "81ac562b",
   "metadata": {},
   "outputs": [
    {
     "data": {
      "text/html": [
       "<div>\n",
       "<style scoped>\n",
       "    .dataframe tbody tr th:only-of-type {\n",
       "        vertical-align: middle;\n",
       "    }\n",
       "\n",
       "    .dataframe tbody tr th {\n",
       "        vertical-align: top;\n",
       "    }\n",
       "\n",
       "    .dataframe thead th {\n",
       "        text-align: right;\n",
       "    }\n",
       "</style>\n",
       "<table border=\"1\" class=\"dataframe\">\n",
       "  <thead>\n",
       "    <tr style=\"text-align: right;\">\n",
       "      <th></th>\n",
       "      <th>n_estimators</th>\n",
       "      <th>max_features</th>\n",
       "      <th>auc</th>\n",
       "    </tr>\n",
       "  </thead>\n",
       "  <tbody>\n",
       "    <tr>\n",
       "      <th>98</th>\n",
       "      <td>190</td>\n",
       "      <td>10</td>\n",
       "      <td>0.850891</td>\n",
       "    </tr>\n",
       "    <tr>\n",
       "      <th>97</th>\n",
       "      <td>180</td>\n",
       "      <td>10</td>\n",
       "      <td>0.850178</td>\n",
       "    </tr>\n",
       "    <tr>\n",
       "      <th>99</th>\n",
       "      <td>200</td>\n",
       "      <td>10</td>\n",
       "      <td>0.850153</td>\n",
       "    </tr>\n",
       "    <tr>\n",
       "      <th>96</th>\n",
       "      <td>170</td>\n",
       "      <td>10</td>\n",
       "      <td>0.850127</td>\n",
       "    </tr>\n",
       "    <tr>\n",
       "      <th>94</th>\n",
       "      <td>150</td>\n",
       "      <td>10</td>\n",
       "      <td>0.849924</td>\n",
       "    </tr>\n",
       "  </tbody>\n",
       "</table>\n",
       "</div>"
      ],
      "text/plain": [
       "    n_estimators  max_features       auc\n",
       "98           190            10  0.850891\n",
       "97           180            10  0.850178\n",
       "99           200            10  0.850153\n",
       "96           170            10  0.850127\n",
       "94           150            10  0.849924"
      ]
     },
     "execution_count": 87,
     "metadata": {},
     "output_type": "execute_result"
    }
   ],
   "source": [
    "# putting the auc for different n_estimators values into a DataFrame:\n",
    "df_scores = pd.DataFrame(scores, columns=['n_estimators','max_features','auc'])\n",
    "df_scores.sort_values('auc', ascending=False).head()"
   ]
  },
  {
   "cell_type": "code",
   "execution_count": 88,
   "id": "b8d2124c",
   "metadata": {},
   "outputs": [
    {
     "data": {
      "image/png": "[encoded data removed]",
      "text/plain": [
       "<Figure size 432x288 with 1 Axes>"
      ]
     },
     "metadata": {
      "needs_background": "light"
     },
     "output_type": "display_data"
    }
   ],
   "source": [
    "for f in [2, 4, 6, 8, 10]:\n",
    "    df_subset = df_scores[df_scores.max_features == f]   # slicing df where max_depth = 5 and min_samples_leaf = 50\n",
    "    plt.plot(df_subset.n_estimators, df_subset.auc, label = 'max_features=%d' % f)\n",
    "\n",
    "plt.ylim(0.840, 0.855)    \n",
    "plt.legend()\n",
    "plt.show()"
   ]
  },
  {
   "cell_type": "markdown",
   "id": "ee8727f1",
   "metadata": {},
   "source": [
    "Above chart shows that max_features = 10, gives us the best AUC score for Random Forest model."
   ]
  },
  {
   "cell_type": "markdown",
   "id": "aea98c72",
   "metadata": {},
   "source": [
    "Combining all 4 parameters we see that **max_depth = 5, min_sample_leaf = 50 and max_features = 10, n_estimators = 180** give us the best AUC score of approx. 0.84 or 84% for Random Forest Classifier."
   ]
  },
  {
   "cell_type": "markdown",
   "id": "32128fd0",
   "metadata": {},
   "source": [
    "##### Final Random Forest Model -\n",
    "\n",
    "Below is the final Random forest classifier with most optimal parameters for the Stroke prediction dataset.\n",
    "\n",
    "max_depth = 5;       min_samples_leaf = 50;        max_features = 10,;         n_estimators = 180"
   ]
  },
  {
   "cell_type": "code",
   "execution_count": 89,
   "id": "30660765",
   "metadata": {},
   "outputs": [
    {
     "data": {
      "text/plain": [
       "RandomForestClassifier(max_depth=5, max_features=10, min_samples_leaf=50,\n",
       "                       n_estimators=180, random_state=1)"
      ]
     },
     "execution_count": 89,
     "metadata": {},
     "output_type": "execute_result"
    }
   ],
   "source": [
    "rf = RandomForestClassifier(max_depth=5, min_samples_leaf=50, max_features = 10, n_estimators = 180, random_state =1)\n",
    "\n",
    "# training our train set with above optimal parameters:\n",
    "rf.fit(X_train, y_train)"
   ]
  },
  {
   "cell_type": "markdown",
   "id": "e6439ae1",
   "metadata": {},
   "source": [
    "#### Model 4 - XGBoost for Classification (using Gradient boosting)\n",
    "\n",
    "Moving further, let's use an Gradient Boosting model eXtreme Gradient Boosting (XGBoost) for Classification to predict our binary dependent variable. It is a decision tree based machine learning algorithm which uses a process called boosting to help improve performance. \n",
    "\n",
    "Let's define a XGboost classifier object, fit our model, and evaluate performance:"
   ]
  },
  {
   "cell_type": "code",
   "execution_count": 90,
   "id": "757d756c",
   "metadata": {},
   "outputs": [],
   "source": [
    "# importing the necessary libraries and assigning the feature names to a variable:\n",
    "import xgboost as xgb\n",
    "\n",
    "features = dv.get_feature_names()\n",
    "\n",
    "# Step 1 - wrapping our training data into a special data structure internal to XGBoost called DMatrix. It allows XGboost to train faster.\n",
    "# for training set:\n",
    "dtrain = xgb.DMatrix(X_train, label = y_train, feature_names = features)\n",
    "\n",
    "# for validation set:\n",
    "dval = xgb.DMatrix(X_val, label = y_val, feature_names = features)"
   ]
  },
  {
   "cell_type": "code",
   "execution_count": 91,
   "id": "45af190b",
   "metadata": {},
   "outputs": [],
   "source": [
    "# Step 2 - training the model - \n",
    "xgb_params = {'objective': 'binary:logistic',\n",
    "             'nthread': 8,\n",
    "             'seed': 1,'eval_metric':'auc'}  # default eta = 0.3, max_depth = 6\n",
    "\n",
    "# binary:logistic: logistic regression for binary classification, output probability\n",
    "# eval_metric - Evaluation metrics for validation data\n",
    "# When used with binary classification, the objective should be binary:logistic or similar functions that work on probability.\n",
    "# nthread - Number of parallel threads used to run XGBoost\n",
    "\n",
    "model = xgb.train(xgb_params, dtrain) "
   ]
  },
  {
   "cell_type": "code",
   "execution_count": 92,
   "id": "c7c40c43",
   "metadata": {},
   "outputs": [
    {
     "name": "stdout",
     "output_type": "stream",
     "text": [
      "AUC train: 0.94933\n",
      "AUC val: 0.85579\n"
     ]
    }
   ],
   "source": [
    "# making predictions and evaluating the score on training and validation set:\n",
    "y_pred = model.predict(dval)\n",
    "\n",
    "y_pred_train = model.predict(dtrain)\n",
    "\n",
    "print('AUC train: %.5f' % roc_auc_score(y_train, y_pred_train))\n",
    "\n",
    "print('AUC val: %.5f' % roc_auc_score(y_val, y_pred))"
   ]
  },
  {
   "cell_type": "markdown",
   "id": "5355c889",
   "metadata": {},
   "source": [
    "We can see above that the AUC score from XGboost on our training dataset is 0.94 while on validation dataset is 0.856. It can be seen that the score on validation set has greatly improved from 0.60 in decision trees and 0.77 in random forest to 0.86 or 86%."
   ]
  },
  {
   "cell_type": "markdown",
   "id": "2e9eae02",
   "metadata": {},
   "source": [
    "##### XGBoost parameter tuning - \n",
    "\n",
    "Below were some parameters tuned for XGBoost Classifier:-\n",
    "\n",
    "selecting eta - Boosting learning rate (xgb’s “eta”).\n",
    "\n",
    "selecting max_depth - Maximum tree depth for base learners.\n",
    "\n",
    "selecting min_child_weight  - Minimum sum of instance weight(hessian) needed in a child."
   ]
  },
  {
   "cell_type": "code",
   "execution_count": 93,
   "id": "826dfa35",
   "metadata": {},
   "outputs": [],
   "source": [
    "# evaluating the effect of xgboost iteration (after each tree is trained) on validation data:\n",
    "watchlist = ((dtrain, 'train'),(dval,'val'))"
   ]
  },
  {
   "cell_type": "code",
   "execution_count": 94,
   "id": "20354601",
   "metadata": {},
   "outputs": [],
   "source": [
    "# Creating a function to parse output from XGBoost model:\n",
    "def parse_xgb_output(output):\n",
    "    results = []\n",
    "    \n",
    "    \n",
    "    for line in output.stdout.strip().split('\\n'):\n",
    "        it_line, train_line, val_line = line.split('\\t')\n",
    "        \n",
    "        it = int(it_line.strip('[]'))\n",
    "        train = float((train_line.split(':'))[1])\n",
    "        val = float((val_line.split(':'))[1])\n",
    "        \n",
    "        results.append((it, train, val))\n",
    "    \n",
    "    columns = ['num_iter', 'train_auc', 'val_auc']\n",
    "    df_results = pd.DataFrame(results, columns=columns)\n",
    "    return df_results"
   ]
  },
  {
   "cell_type": "code",
   "execution_count": 95,
   "id": "4bbb4c48",
   "metadata": {},
   "outputs": [
    {
     "ename": "NameError",
     "evalue": "name 'output' is not defined",
     "output_type": "error",
     "traceback": [
      "\u001b[1;31m---------------------------------------------------------------------------\u001b[0m",
      "\u001b[1;31mNameError\u001b[0m                                 Traceback (most recent call last)",
      "\u001b[1;32m~\\AppData\\Local\\Temp/ipykernel_6724/1513914277.py\u001b[0m in \u001b[0;36m<module>\u001b[1;34m\u001b[0m\n\u001b[0;32m      1\u001b[0m \u001b[1;31m# calling the above function:\u001b[0m\u001b[1;33m\u001b[0m\u001b[1;33m\u001b[0m\u001b[1;33m\u001b[0m\u001b[0m\n\u001b[1;32m----> 2\u001b[1;33m \u001b[0mdf_score\u001b[0m \u001b[1;33m=\u001b[0m \u001b[0mparse_xgb_output\u001b[0m\u001b[1;33m(\u001b[0m\u001b[0moutput\u001b[0m\u001b[1;33m)\u001b[0m\u001b[1;33m\u001b[0m\u001b[1;33m\u001b[0m\u001b[0m\n\u001b[0m",
      "\u001b[1;31mNameError\u001b[0m: name 'output' is not defined"
     ]
    }
   ],
   "source": [
    "# calling the above function:\n",
    "df_score = parse_xgb_output(output)"
   ]
  },
  {
   "cell_type": "code",
   "execution_count": 96,
   "id": "2395ed74",
   "metadata": {},
   "outputs": [],
   "source": [
    "## Selecting best eta parameter -\n",
    "# Step 1 - creating an empty dictionary:\n",
    "scores = {}"
   ]
  },
  {
   "cell_type": "code",
   "execution_count": 106,
   "id": "8fe41c0f",
   "metadata": {},
   "outputs": [],
   "source": [
    "%%capture output\n",
    "\n",
    "\n",
    "xgb_params = {'eta':  1.0, \n",
    "             'objective': 'binary:logistic',\n",
    "              'eval_metric':'auc',\n",
    "              \n",
    "             'nthread': 8,\n",
    "             'seed': 1,\n",
    "             'verbosity': 1}\n",
    "\n",
    "\n",
    "model = xgb.train(xgb_params, dtrain, num_boost_round=200, \n",
    "                  verbose_eval=5, \n",
    "                  evals=watchlist)  "
   ]
  },
  {
   "cell_type": "code",
   "execution_count": 107,
   "id": "d3a6f63f",
   "metadata": {},
   "outputs": [
    {
     "data": {
      "text/plain": [
       "dict_keys(['eta=0.5', 'eta=0.3', 'eta=0.1', 'eta=1.0'])"
      ]
     },
     "execution_count": 107,
     "metadata": {},
     "output_type": "execute_result"
    }
   ],
   "source": [
    "# taking the eta parameter values from above model and using it as a key for scores dictionary:\n",
    "key = 'eta=%s' % (xgb_params['eta'])\n",
    "\n",
    "# assigning output of xgboost model to score key as values:\n",
    "scores[key] = parse_xgb_output(output)\n",
    "\n",
    "scores.keys()"
   ]
  },
  {
   "cell_type": "code",
   "execution_count": 108,
   "id": "81db7dd7",
   "metadata": {},
   "outputs": [
    {
     "data": {
      "image/png": "[encoded data removed]",
      "text/plain": [
       "<Figure size 432x288 with 1 Axes>"
      ]
     },
     "metadata": {
      "needs_background": "light"
     },
     "output_type": "display_data"
    }
   ],
   "source": [
    "# plotting above AUC outputs for different eta values:\n",
    "etas = scores.keys()\n",
    "for eta in etas:\n",
    "    df_score= scores[eta]\n",
    "    plt.plot(df_score.num_iter, df_score.val_auc, label=eta)\n",
    "plt.legend()\n",
    "plt.show()"
   ]
  },
  {
   "cell_type": "markdown",
   "id": "0b889bdc",
   "metadata": {},
   "source": [
    "Above plots show that although, all three models learn fast initially eta=0.1 works best as it declines quite late and also gradually than others. It learns slower but better. When it starts degrading it does not overfit as fast as others."
   ]
  },
  {
   "cell_type": "code",
   "execution_count": 109,
   "id": "ecaf2e4f",
   "metadata": {},
   "outputs": [],
   "source": [
    "## Selecting best max_depth parameter -\n",
    "# Step 1 - creating an empty dictionary:\n",
    "scores = {}"
   ]
  },
  {
   "cell_type": "code",
   "execution_count": 116,
   "id": "c6bdfe0e",
   "metadata": {},
   "outputs": [],
   "source": [
    "%%capture output\n",
    "\n",
    "xgb_params = {'eta': 0.1,      \n",
    "              'max_depth': 6, \n",
    "              'min_child_weight': 1,\n",
    "             'objective': 'binary:logistic',\n",
    "              'eval_metric':'auc',\n",
    "              \n",
    "             'nthread': 8,\n",
    "             'seed': 1,\n",
    "             'verbosity': 1}\n",
    "\n",
    "\n",
    "model = xgb.train(xgb_params, dtrain, num_boost_round=200, \n",
    "                  verbose_eval=5, \n",
    "                  evals=watchlist)   # taking eta = 0.1"
   ]
  },
  {
   "cell_type": "code",
   "execution_count": 117,
   "id": "3b0a5109",
   "metadata": {},
   "outputs": [
    {
     "data": {
      "text/plain": [
       "dict_keys(['max_depth=3', 'max_depth=4', 'max_depth=5', 'max_depth=6'])"
      ]
     },
     "execution_count": 117,
     "metadata": {},
     "output_type": "execute_result"
    }
   ],
   "source": [
    "# taking the max_depth parameter values from above model and using it as a key for scores dictionary:\n",
    "key = 'max_depth=%s' % (xgb_params['max_depth'])\n",
    "\n",
    "# assigning output of xgboost model to score key as values:\n",
    "scores[key] = parse_xgb_output(output)\n",
    "scores.keys()"
   ]
  },
  {
   "cell_type": "code",
   "execution_count": 118,
   "id": "47c770ca",
   "metadata": {},
   "outputs": [
    {
     "data": {
      "image/png": "[encoded data removed]",
      "text/plain": [
       "<Figure size 432x288 with 1 Axes>"
      ]
     },
     "metadata": {
      "needs_background": "light"
     },
     "output_type": "display_data"
    }
   ],
   "source": [
    "# plotting above AUC outputs for different max_depth values:\n",
    "max_depths = scores.keys()\n",
    "for max_depth in max_depths:\n",
    "    df_score= scores[max_depth]\n",
    "    plt.plot(df_score.num_iter, df_score.val_auc, label=max_depth)\n",
    "plt.legend()\n",
    "plt.show()"
   ]
  },
  {
   "cell_type": "markdown",
   "id": "079c8d75",
   "metadata": {},
   "source": [
    "Above plot shows that a max_depth = 3 gives us the best AUC score out of all the max_depth parameters."
   ]
  },
  {
   "cell_type": "code",
   "execution_count": 119,
   "id": "1017c2fc",
   "metadata": {},
   "outputs": [],
   "source": [
    "## Selecting best min_child_weight parameter -\n",
    "# Step 1 - creating an empty dictionary:\n",
    "scores = {}"
   ]
  },
  {
   "cell_type": "code",
   "execution_count": 128,
   "id": "0189868e",
   "metadata": {},
   "outputs": [],
   "source": [
    "%%capture output\n",
    "\n",
    "xgb_params = {'eta': 0.1, \n",
    "              'max_depth': 3, \n",
    "              'min_child_weight': 30,\n",
    "             'objective': 'binary:logistic',\n",
    "              'eval_metric':'auc',\n",
    "              \n",
    "             'nthread': 8,\n",
    "             'seed': 1,\n",
    "             'verbosity': 1}\n",
    "\n",
    "\n",
    "model = xgb.train(xgb_params, dtrain, num_boost_round=200, \n",
    "                  verbose_eval=5, \n",
    "                  evals=watchlist)   # taking eta = 0.1 and max_depth = 3"
   ]
  },
  {
   "cell_type": "code",
   "execution_count": 129,
   "id": "ef9b3ef5",
   "metadata": {},
   "outputs": [
    {
     "data": {
      "text/plain": [
       "dict_keys(['min_child_weight=1', 'min_child_weight=10', 'min_child_weight=15', 'min_child_weight=20', 'min_child_weight=30'])"
      ]
     },
     "execution_count": 129,
     "metadata": {},
     "output_type": "execute_result"
    }
   ],
   "source": [
    "# taking the min_child_weight parameter values from above model and using it as a key for scores dictionary:\n",
    "key = 'min_child_weight=%s' % (xgb_params['min_child_weight'])\n",
    "\n",
    "# assigning output of xgboost model to score key as values:\n",
    "scores[key] = parse_xgb_output(output)\n",
    "scores.keys()"
   ]
  },
  {
   "cell_type": "code",
   "execution_count": 130,
   "id": "28ba8f62",
   "metadata": {},
   "outputs": [
    {
     "data": {
      "image/png": "[encoded data removed]",
      "text/plain": [
       "<Figure size 432x288 with 1 Axes>"
      ]
     },
     "metadata": {
      "needs_background": "light"
     },
     "output_type": "display_data"
    }
   ],
   "source": [
    "# plotting above AUC outputs for different min_child_weight values:\n",
    "min_child_weights = scores.keys()\n",
    "\n",
    "for min_child_weight in min_child_weights:\n",
    "    df_score= scores[min_child_weight]\n",
    "    plt.plot(df_score.num_iter, df_score.val_auc, label=min_child_weight)\n",
    "plt.legend()\n",
    "plt.ylim(0.82, 0.86)   # to zoom-in on the y-axis range between 82% and 86%\n",
    "plt.show()"
   ]
  },
  {
   "cell_type": "markdown",
   "id": "3fc9da8e",
   "metadata": {},
   "source": [
    "Above plot shows that a min_child_weight = 20 gives us the best AUC score."
   ]
  },
  {
   "cell_type": "markdown",
   "id": "b57c08db",
   "metadata": {},
   "source": [
    "Combining all 3 parameters we see that **max_depth = 3, min_child_weight = 20 and eta = 0.1** give us the best AUC score for XGBoost Classifier."
   ]
  },
  {
   "cell_type": "markdown",
   "id": "dce0e87b",
   "metadata": {},
   "source": [
    "##### Final XGBoost Model -\n",
    "\n",
    "Below is the final XGBoost classifier with most optimal parameters for the Stroke prediction dataset.\n",
    "(training for 200 iterations)\n",
    "\n",
    "eta = 0.1;     max_depth = 3;     min_child_weight = 20   "
   ]
  },
  {
   "cell_type": "code",
   "execution_count": 131,
   "id": "dc687293",
   "metadata": {},
   "outputs": [
    {
     "data": {
      "text/plain": [
       "<xgboost.core.Booster at 0x21e1c2c69a0>"
      ]
     },
     "execution_count": 131,
     "metadata": {},
     "output_type": "execute_result"
    }
   ],
   "source": [
    "xgb_params = {'eta': 0.1, \n",
    "              'max_depth': 3, \n",
    "              'min_child_weight': 20,\n",
    "             'objective': 'binary:logistic',\n",
    "              'eval_metric':'auc',\n",
    "              \n",
    "             'nthread': 8,\n",
    "             'seed': 1,\n",
    "             'verbosity': 1}\n",
    "\n",
    "\n",
    "model = xgb.train(xgb_params, dtrain, num_boost_round=200)\n",
    "model"
   ]
  },
  {
   "cell_type": "markdown",
   "id": "e831e39a",
   "metadata": {},
   "source": [
    "### Selecting the Best Model - \n",
    "\n",
    "Once the final models with most optimal parameters are finalized for each algorithm we use them to select the Best model for our Stroke prediction dataset."
   ]
  },
  {
   "cell_type": "markdown",
   "id": "51ecfe41",
   "metadata": {},
   "source": [
    "####  Comparing between Final Decision tree, Final Random forest and Final XGBoost for Classification models - \n"
   ]
  },
  {
   "cell_type": "code",
   "execution_count": 147,
   "id": "b3b6aad6",
   "metadata": {},
   "outputs": [
    {
     "data": {
      "text/plain": [
       "DecisionTreeClassifier(max_depth=5, max_features=8, min_samples_leaf=10,\n",
       "                       random_state=1)"
      ]
     },
     "execution_count": 147,
     "metadata": {},
     "output_type": "execute_result"
    }
   ],
   "source": [
    "# Final Model 1 - Using the Final Decision Tree Classifier -\n",
    "dt = DecisionTreeClassifier(max_depth=5, min_samples_leaf=10, max_features = 8, random_state=1)\n",
    "\n",
    "# training our train set with above final model:\n",
    "dt.fit(X_train, y_train)"
   ]
  },
  {
   "cell_type": "code",
   "execution_count": 151,
   "id": "7234b55a",
   "metadata": {},
   "outputs": [
    {
     "name": "stdout",
     "output_type": "stream",
     "text": [
      "AUC on val: 0.829\n"
     ]
    }
   ],
   "source": [
    "# Evaluating Decison tree's performance - \n",
    "y_pred = dt.predict_proba(X_val)[:,1]\n",
    "print('AUC on val: %.3f' % (roc_auc_score(y_val, y_pred)))"
   ]
  },
  {
   "cell_type": "code",
   "execution_count": 149,
   "id": "c8b4558a",
   "metadata": {},
   "outputs": [
    {
     "data": {
      "text/plain": [
       "RandomForestClassifier(max_depth=5, max_features=10, min_samples_leaf=50,\n",
       "                       n_estimators=180, random_state=1)"
      ]
     },
     "execution_count": 149,
     "metadata": {},
     "output_type": "execute_result"
    }
   ],
   "source": [
    "# Final Model 2 - Using the Final Random Forest Classifier -\n",
    "rf = RandomForestClassifier(max_depth=5, min_samples_leaf=50, max_features = 10, n_estimators = 180, random_state =1)\n",
    "\n",
    "# training our train set with above final model:\n",
    "rf.fit(X_train, y_train)"
   ]
  },
  {
   "cell_type": "code",
   "execution_count": 152,
   "id": "d4597cc7",
   "metadata": {},
   "outputs": [
    {
     "name": "stdout",
     "output_type": "stream",
     "text": [
      "AUC on val: 0.850\n"
     ]
    }
   ],
   "source": [
    "# Evaluating Random Forest's performance - \n",
    "y_pred = rf.predict_proba(X_val)[:,1]\n",
    "print('AUC on val: %.3f' % roc_auc_score(y_val, y_pred))"
   ]
  },
  {
   "cell_type": "code",
   "execution_count": 145,
   "id": "2b669fcd",
   "metadata": {},
   "outputs": [
    {
     "data": {
      "text/plain": [
       "<xgboost.core.Booster at 0x21e1a8bfc10>"
      ]
     },
     "execution_count": 145,
     "metadata": {},
     "output_type": "execute_result"
    }
   ],
   "source": [
    "# Final Model 3 - Using the Final XGBoost Classifier -\n",
    "xgb_params = {'eta': 0.1, \n",
    "              'max_depth': 3, \n",
    "              'min_child_weight': 20,\n",
    "             'objective': 'binary:logistic',\n",
    "              'eval_metric':'auc',\n",
    "              \n",
    "             'nthread': 8,\n",
    "             'seed': 1,\n",
    "             'verbosity': 1}\n",
    "\n",
    "# # training our train set with above final model:\n",
    "model = xgb.train(xgb_params, dtrain, num_boost_round=200)\n",
    "model"
   ]
  },
  {
   "cell_type": "code",
   "execution_count": 155,
   "id": "d431ee6e",
   "metadata": {},
   "outputs": [
    {
     "name": "stdout",
     "output_type": "stream",
     "text": [
      "AUC on val: 0.856\n"
     ]
    }
   ],
   "source": [
    "# Evaluating XGBoost's performance - \n",
    "y_pred = model.predict(dval)\n",
    "print('AUC on val: %.3f' % roc_auc_score(y_val, y_pred))"
   ]
  },
  {
   "cell_type": "markdown",
   "id": "e79261ea",
   "metadata": {},
   "source": [
    "We see from above AUC scores on validation set for **XGBoost for Classification** gives us the ***best AUC score of 85.6%***\n",
    "hence, it is chosen as the best model for our stroke prediction dataset."
   ]
  },
  {
   "cell_type": "markdown",
   "id": "40bae5de",
   "metadata": {},
   "source": [
    "#### Using our Best Model to predict on the testing set  (unseen data) - \n",
    "\n",
    "After choosing XGBoost for Classification as our Best model we use it to make predictions about the testing set which was set aside and left untouched unti now. This would help in analyzing how well our best model works with unseen data."
   ]
  },
  {
   "cell_type": "code",
   "execution_count": 156,
   "id": "0e5df484",
   "metadata": {},
   "outputs": [],
   "source": [
    "# resetting indices of full_train DataFrame:\n",
    "df_full_train = df_full_train.reset_index(drop=True)"
   ]
  },
  {
   "cell_type": "code",
   "execution_count": 157,
   "id": "2322c9ac",
   "metadata": {},
   "outputs": [
    {
     "data": {
      "text/plain": [
       "array([0, 0, 0, ..., 0, 0, 1])"
      ]
     },
     "execution_count": 157,
     "metadata": {},
     "output_type": "execute_result"
    }
   ],
   "source": [
    "# slicing the target variable column for full_train dataset:\n",
    "y_full_train = (df_full_train.stroke).astype(int).values\n",
    "y_full_train"
   ]
  },
  {
   "cell_type": "code",
   "execution_count": 158,
   "id": "ddb9486f",
   "metadata": {},
   "outputs": [],
   "source": [
    "# turning the full train df into dictionaries:\n",
    "dicts_full_train = df_full_train.to_dict(orient='records')\n",
    "\n",
    "# instantiating the vectorizer instance:\n",
    "dv = DictVectorizer(sparse=False)\n",
    "\n",
    "# turning list of dictionaries into full train feature matrix\n",
    "X_full_train = dv.fit_transform(dicts_full_train)\n",
    "\n",
    "# turning the test df into dictionaries:\n",
    "dicts_test = df_test.to_dict(orient='records')\n",
    "\n",
    "# turning list of dictionaries into testing feature matrix\n",
    "X_test = dv.transform(dicts_test)\n",
    "\n",
    "# converting full train and test matrices into DMatrix datastructure for using in XGBoost model:\n",
    "dfulltrain = xgb.DMatrix(X_full_train, label = y_full_train, feature_names = dv.get_feature_names())\n",
    "dtest = xgb.DMatrix(X_test, feature_names = dv.get_feature_names())"
   ]
  },
  {
   "cell_type": "code",
   "execution_count": 159,
   "id": "b27d3f1c",
   "metadata": {},
   "outputs": [],
   "source": [
    "xgb_params = {'eta': 0.1, \n",
    "              'max_depth': 3, \n",
    "              'min_child_weight': 20,\n",
    "             'objective': 'binary:logistic',\n",
    "              'eval_metric':'auc',\n",
    "              \n",
    "             'nthread': 8,\n",
    "             'seed': 1,\n",
    "             'verbosity': 1}\n",
    "\n",
    "\n",
    "# training our best model XGBoost for Classification on our full train set:\n",
    "model = xgb.train(xgb_params, dfulltrain, num_boost_round=200)  "
   ]
  },
  {
   "cell_type": "code",
   "execution_count": 160,
   "id": "069707c9",
   "metadata": {},
   "outputs": [
    {
     "name": "stdout",
     "output_type": "stream",
     "text": [
      "AUC on test: 0.852\n"
     ]
    }
   ],
   "source": [
    "# predicting the XGBoost for Classification model on the testing set:\n",
    "y_pred = model.predict(dtest)\n",
    "\n",
    "# computing the AUC score on testing set:\n",
    "print('AUC on test: %.3f' % roc_auc_score(y_test, y_pred))"
   ]
  },
  {
   "cell_type": "markdown",
   "id": "752d642a",
   "metadata": {},
   "source": [
    "From the above computation we see that our best model **XGBoost for Classification model** results in an **AUC score of 85.2% on the testing set**. The testing set of our stroke prediction dataset was unseen data for this model.\n",
    "\n",
    "This score is very close to the AUC score of 85.6% that this model gave on the validation set. Hence, we can say that our XGBoost for Classification model performs well on unseen data also.It did not overfit and generalized quite well on new data.\n",
    "\n",
    "Thus, **XGBoost for Classification seems to be the best model** for our Stroke Prediction dataset."
   ]
  },
  {
   "cell_type": "markdown",
   "id": "1b0a5297",
   "metadata": {},
   "source": [
    "## Dealing with Imbalanced Classes -\n",
    "\n",
    "This is an additional exercise I undertook for this project which involved addressing the problem of imbalanced classes in the Stroke prediction dataset. As we can see below the stroke column had very few labels for stroke=1 ('at risk of stroke') of only 5% compared to labels for stroke=0 ('not at risk of stroke') of around 95%.\n",
    "\n",
    "I wanted to balance the dataset and re-compute the AUC score to understand how re-sampling of labels can impact the model performance. For this I used the Synthetic Minority Oversampling Technique (SMOTE) technique to oversample the minority class label i.e. stroke=1."
   ]
  },
  {
   "cell_type": "code",
   "execution_count": 171,
   "id": "fe024378",
   "metadata": {},
   "outputs": [
    {
     "data": {
      "text/plain": [
       "0    4861\n",
       "1     249\n",
       "Name: stroke, dtype: int64"
      ]
     },
     "execution_count": 171,
     "metadata": {},
     "output_type": "execute_result"
    }
   ],
   "source": [
    "# printing the count of stroke labels in imbalanced dataset:\n",
    "data.stroke.value_counts()"
   ]
  },
  {
   "cell_type": "code",
   "execution_count": 172,
   "id": "67663861",
   "metadata": {},
   "outputs": [
    {
     "data": {
      "text/plain": [
       "0    0.951272\n",
       "1    0.048728\n",
       "Name: stroke, dtype: float64"
      ]
     },
     "execution_count": 172,
     "metadata": {},
     "output_type": "execute_result"
    }
   ],
   "source": [
    "# printing the proportion of stroke labels in imbalanced dataset:\n",
    "data.stroke.value_counts(normalize=True)"
   ]
  },
  {
   "cell_type": "markdown",
   "id": "a58ccaa0",
   "metadata": {},
   "source": [
    "#### Balancing Stroke Dataset\n",
    "\n",
    "First I installed package using ----> pip install imbalanced-learn"
   ]
  },
  {
   "cell_type": "code",
   "execution_count": 173,
   "id": "8fbecb05",
   "metadata": {},
   "outputs": [
    {
     "name": "stdout",
     "output_type": "stream",
     "text": [
      "Before OverSampling, the shape of train_X: (3066, 20)\n",
      "Before OverSampling, the shape of train_y: (3066,) \n",
      "Before OverSampling, counts of label '1': 149\n",
      "Before OverSampling, counts of label '0': 2917\n",
      "\n",
      "\n",
      "After OverSampling, the shape of train_X: (5834, 20)\n",
      "After OverSampling, the shape of train_y: (5834,) \n",
      "After OverSampling, counts of label '1': 2917\n",
      "After OverSampling, counts of label '0': 2917\n"
     ]
    }
   ],
   "source": [
    "from imblearn.over_sampling import SMOTE\n",
    "\n",
    "# Case 1 - Oversampling our training dataset using SMOTE:\n",
    "oversample = SMOTE(random_state=1)\n",
    "X_train_smote, y_train_smote = oversample.fit_resample(X_train, y_train)\n",
    "\n",
    "print('Before OverSampling, the shape of train_X: {}'.format(X_train.shape))\n",
    "print('Before OverSampling, the shape of train_y: {} '.format(y_train.shape))\n",
    "print(\"Before OverSampling, counts of label '1': {}\".format(sum(y_train==1)))\n",
    "print(\"Before OverSampling, counts of label '0': {}\".format(sum(y_train==0)))\n",
    "\n",
    "print('\\n')\n",
    "\n",
    "print('After OverSampling, the shape of train_X: {}'.format(X_train_smote.shape))\n",
    "print('After OverSampling, the shape of train_y: {} '.format(y_train_smote.shape))\n",
    "print(\"After OverSampling, counts of label '1': {}\".format(sum(y_train_smote==1)))\n",
    "print(\"After OverSampling, counts of label '0': {}\".format(sum(y_train_smote==0)))"
   ]
  },
  {
   "cell_type": "markdown",
   "id": "4be4f1cd",
   "metadata": {},
   "source": [
    "After using SMOTE technique as shown above the labels in minority class '1' were oversampled from 149 to 2917. Thus the dataset was balanced to both labels being 50% each.\n",
    "\n",
    "This balanced data labels were then used to train Decision tree, Random Forest and XGBoost models and evaluate AUC scores on the validation set for each of them."
   ]
  },
  {
   "cell_type": "code",
   "execution_count": 175,
   "id": "6c25bac0",
   "metadata": {},
   "outputs": [
    {
     "name": "stdout",
     "output_type": "stream",
     "text": [
      "AUC (Val Set): 0.63\n",
      "Precision (Val Set): 0.10\n",
      "Recall (Val Set): 0.40\n",
      "F1-Score (Val Set): 0.16\n"
     ]
    }
   ],
   "source": [
    "# training DecisionTree for Classification model on oversampled train dataset and predicting on validation set:\n",
    "from sklearn.metrics import precision_score, recall_score, f1_score\n",
    "\n",
    "dt.fit(X_train_smote,y_train_smote)\n",
    "y_pred = dt.predict(X_val)\n",
    "\n",
    "# computing the AUC score, precision, recall and F1 Score on validation set:\n",
    "print(\"AUC (Val Set): %.2f\" % roc_auc_score(y_val, y_pred))\n",
    "print(\"Precision (Val Set): %.2f\" % precision_score(y_val, y_pred))\n",
    "print(\"Recall (Val Set): %.2f\" % recall_score(y_val, y_pred))\n",
    "print(\"F1-Score (Val Set): %.2f\" % f1_score(y_val, y_pred))"
   ]
  },
  {
   "cell_type": "code",
   "execution_count": 176,
   "id": "4d0e0090",
   "metadata": {},
   "outputs": [
    {
     "name": "stdout",
     "output_type": "stream",
     "text": [
      "AUC (Val Set): 0.68\n",
      "Precision (Val Set): 0.15\n",
      "Recall (Val Set): 0.47\n",
      "F1-Score (Val Set): 0.23\n"
     ]
    }
   ],
   "source": [
    "# training Random Forest for Classification model on oversampled train dataset and predicting on validation set:\n",
    "rf.fit(X_train_smote,y_train_smote)\n",
    "y_pred = rf.predict(X_val)\n",
    "\n",
    "# computing the AUC score, precision, recall and F1 Score on validation set:\n",
    "print(\"AUC (Val Set): %.2f\" % roc_auc_score(y_val, y_pred))\n",
    "print(\"Precision (Val Set): %.2f\" % precision_score(y_val, y_pred))\n",
    "print(\"Recall (Val Set): %.2f\" % recall_score(y_val, y_pred))\n",
    "print(\"F1-Score (Val Set): %.2f\" % f1_score(y_val, y_pred))"
   ]
  },
  {
   "cell_type": "code",
   "execution_count": 177,
   "id": "97922975",
   "metadata": {},
   "outputs": [
    {
     "name": "stdout",
     "output_type": "stream",
     "text": [
      "AUC (Val Set): 0.81\n"
     ]
    }
   ],
   "source": [
    "# training XGBoost for Classification model on oversampled train dataset and predicting on validation set:\n",
    "dtrain_smote = xgb.DMatrix(X_train_smote, label = y_train_smote, feature_names = features)\n",
    "xgb_model = xgb.train(xgb_params, dtrain_smote, num_boost_round=200) \n",
    "\n",
    "y_pred = xgb_model.predict(dval)\n",
    "\n",
    "# computing the AUC score, precision, recall and F1 Score on validation set:\n",
    "print(\"AUC (Val Set): %.2f\" % roc_auc_score(y_val, y_pred))"
   ]
  },
  {
   "cell_type": "markdown",
   "id": "415935b1",
   "metadata": {},
   "source": [
    "Evaluating the models on balanced (oversampled) data showed a decline in model performance for all the three models. Howeever, here also XGBoost for Classification outperformed the other models.\n",
    "\n",
    "It gave an AUC score of 81% on the validation set with balanced data labels."
   ]
  },
  {
   "cell_type": "code",
   "execution_count": null,
   "id": "ee71f113",
   "metadata": {},
   "outputs": [],
   "source": []
  }
 ],
 "metadata": {
  "kernelspec": {
   "display_name": "Python 3 (ipykernel)",
   "language": "python",
   "name": "python3"
  },
  "language_info": {
   "codemirror_mode": {
    "name": "ipython",
    "version": 3
   },
   "file_extension": ".py",
   "mimetype": "text/x-python",
   "name": "python",
   "nbconvert_exporter": "python",
   "pygments_lexer": "ipython3",
   "version": "3.8.11"
  }
 },
 "nbformat": 4,
 "nbformat_minor": 5
}
