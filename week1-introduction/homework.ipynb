{
 "cells": [
  {
   "metadata": {},
   "cell_type": "markdown",
   "source": "# Homework",
   "id": "4d81eaf176d63c8e"
  },
  {
   "metadata": {},
   "cell_type": "markdown",
   "source": "Download the dataset that's used for the homework in Week 1 - we'll use the Laptops Price dataset",
   "id": "48f917a8af620d13"
  },
  {
   "metadata": {
    "ExecuteTime": {
     "end_time": "2024-09-24T13:42:43.238572Z",
     "start_time": "2024-09-24T13:42:42.460834Z"
    }
   },
   "cell_type": "code",
   "source": [
    "import requests\n",
    "\n",
    "# Define the URL of the dataset\n",
    "url = 'https://raw.githubusercontent.com/alexeygrigorev/datasets/master/laptops.csv'\n",
    "\n",
    "# Send a GET request to the URL\n",
    "response = requests.get(url)\n",
    "\n",
    "# Save the content to a local file\n",
    "with open('laptops.csv', 'wb') as file:\n",
    "    file.write(response.content)\n",
    "\n",
    "print(\"File downloaded successfully.\")"
   ],
   "id": "974d59e7ac68994e",
   "outputs": [
    {
     "name": "stdout",
     "output_type": "stream",
     "text": [
      "File downloaded successfully.\n"
     ]
    }
   ],
   "execution_count": 5
  },
  {
   "metadata": {
    "ExecuteTime": {
     "end_time": "2024-09-24T13:43:25.037013Z",
     "start_time": "2024-09-24T13:43:24.120284Z"
    }
   },
   "cell_type": "code",
   "source": "import pandas as pd",
   "id": "d4805dc2c982144b",
   "outputs": [],
   "execution_count": 6
  },
  {
   "metadata": {},
   "cell_type": "markdown",
   "source": "## Q1. Pandas version",
   "id": "d4e535338727bfb4"
  },
  {
   "metadata": {
    "ExecuteTime": {
     "end_time": "2024-09-24T13:43:26.440164Z",
     "start_time": "2024-09-24T13:43:26.434031Z"
    }
   },
   "cell_type": "code",
   "source": "pd.__version__",
   "id": "7e07aa0e3a9446",
   "outputs": [
    {
     "data": {
      "text/plain": [
       "'2.2.2'"
      ]
     },
     "execution_count": 7,
     "metadata": {},
     "output_type": "execute_result"
    }
   ],
   "execution_count": 7
  },
  {
   "metadata": {},
   "cell_type": "markdown",
   "source": "##  Q2. Records count",
   "id": "908029a5e0894faf"
  },
  {
   "metadata": {},
   "cell_type": "markdown",
   "source": [
    "How many records are in the dataset?\n",
    "- [ ] 12\n",
    "- [ ] 1000\n",
    "- [x] 2160\n",
    "- [ ] 12160"
   ],
   "id": "2ee151a345d862fc"
  },
  {
   "metadata": {
    "ExecuteTime": {
     "end_time": "2024-09-24T13:52:13.592450Z",
     "start_time": "2024-09-24T13:52:13.572411Z"
    }
   },
   "cell_type": "code",
   "source": "df = pd.read_csv('laptops.csv')",
   "id": "cd69a3884043bf64",
   "outputs": [],
   "execution_count": 8
  },
  {
   "metadata": {
    "ExecuteTime": {
     "end_time": "2024-09-24T13:53:19.348654Z",
     "start_time": "2024-09-24T13:53:19.338122Z"
    }
   },
   "cell_type": "code",
   "source": "df.info()",
   "id": "85c7127a5ad2db8a",
   "outputs": [
    {
     "name": "stdout",
     "output_type": "stream",
     "text": [
      "<class 'pandas.core.frame.DataFrame'>\n",
      "RangeIndex: 2160 entries, 0 to 2159\n",
      "Data columns (total 12 columns):\n",
      " #   Column        Non-Null Count  Dtype  \n",
      "---  ------        --------------  -----  \n",
      " 0   Laptop        2160 non-null   object \n",
      " 1   Status        2160 non-null   object \n",
      " 2   Brand         2160 non-null   object \n",
      " 3   Model         2160 non-null   object \n",
      " 4   CPU           2160 non-null   object \n",
      " 5   RAM           2160 non-null   int64  \n",
      " 6   Storage       2160 non-null   int64  \n",
      " 7   Storage type  2118 non-null   object \n",
      " 8   GPU           789 non-null    object \n",
      " 9   Screen        2156 non-null   float64\n",
      " 10  Touch         2160 non-null   object \n",
      " 11  Final Price   2160 non-null   float64\n",
      "dtypes: float64(2), int64(2), object(8)\n",
      "memory usage: 202.6+ KB\n"
     ]
    }
   ],
   "execution_count": 10
  },
  {
   "metadata": {},
   "cell_type": "markdown",
   "source": "## Q3. Laptop brands",
   "id": "8badfd8ee4006977"
  },
  {
   "metadata": {},
   "cell_type": "markdown",
   "source": [
    "How many laptop brands are presented in the dataset?\n",
    "\n",
    "- [ ] 12\n",
    "- [x] 27\n",
    "- [ ] 28\n",
    "- [ ] 2160"
   ],
   "id": "99ff6332d06edb9"
  },
  {
   "metadata": {
    "ExecuteTime": {
     "end_time": "2024-09-24T13:57:44.080777Z",
     "start_time": "2024-09-24T13:57:44.075006Z"
    }
   },
   "cell_type": "code",
   "source": "df['Brand'].nunique()",
   "id": "f396efea9ab4a457",
   "outputs": [
    {
     "data": {
      "text/plain": [
       "27"
      ]
     },
     "execution_count": 13,
     "metadata": {},
     "output_type": "execute_result"
    }
   ],
   "execution_count": 13
  },
  {
   "metadata": {},
   "cell_type": "markdown",
   "source": "## Q4. Missing values",
   "id": "5ce399e8ca1f47e3"
  },
  {
   "metadata": {},
   "cell_type": "markdown",
   "source": [
    "How many columns in the dataset have missing values?\n",
    "\n",
    "- [ ] 0\n",
    "- [ ] 1\n",
    "- [ ] 2\n",
    "- [ ] 3"
   ],
   "id": "cdecb56b0837b99c"
  },
  {
   "metadata": {
    "ExecuteTime": {
     "end_time": "2024-09-24T14:00:29.906395Z",
     "start_time": "2024-09-24T14:00:29.899568Z"
    }
   },
   "cell_type": "code",
   "source": [
    "# Count the number of columns with missing values\n",
    "missing_columns_count = df.isnull().sum()\n",
    "missing_columns_count"
   ],
   "id": "873b98cd72cd4702",
   "outputs": [
    {
     "data": {
      "text/plain": [
       "Laptop             0\n",
       "Status             0\n",
       "Brand              0\n",
       "Model              0\n",
       "CPU                0\n",
       "RAM                0\n",
       "Storage            0\n",
       "Storage type      42\n",
       "GPU             1371\n",
       "Screen             4\n",
       "Touch              0\n",
       "Final Price        0\n",
       "dtype: int64"
      ]
     },
     "execution_count": 15,
     "metadata": {},
     "output_type": "execute_result"
    }
   ],
   "execution_count": 15
  },
  {
   "metadata": {
    "ExecuteTime": {
     "end_time": "2024-09-24T14:01:02.837219Z",
     "start_time": "2024-09-24T14:01:02.830277Z"
    }
   },
   "cell_type": "code",
   "source": [
    "# Count the number of columns with missing values\n",
    "missing_columns_count = (df.isnull().sum() > 0).sum()\n",
    "missing_columns_count"
   ],
   "id": "a78dbaf0a7a0b77b",
   "outputs": [
    {
     "data": {
      "text/plain": [
       "3"
      ]
     },
     "execution_count": 16,
     "metadata": {},
     "output_type": "execute_result"
    }
   ],
   "execution_count": 16
  },
  {
   "metadata": {},
   "cell_type": "markdown",
   "source": "## Q5. Maximum final price",
   "id": "9f2bf6d97430c34"
  },
  {
   "metadata": {},
   "cell_type": "markdown",
   "source": [
    "What's the maximum final price of Dell notebooks in the dataset?\n",
    "\n",
    "- [ ] 869\n",
    "- [ ] 3691\n",
    "- [ ] 3849\n",
    "- [x] 3936"
   ],
   "id": "7d047f92544023c9"
  },
  {
   "metadata": {
    "ExecuteTime": {
     "end_time": "2024-09-24T14:08:21.556122Z",
     "start_time": "2024-09-24T14:08:21.550651Z"
    }
   },
   "cell_type": "code",
   "source": [
    "# Filter the DataFrame\n",
    "max_value = df.loc[df['Brand'] == 'Dell', 'Final Price'].max()\n",
    "max_value"
   ],
   "id": "6299a4678f17da2a",
   "outputs": [
    {
     "data": {
      "text/plain": [
       "3936.0"
      ]
     },
     "execution_count": 19,
     "metadata": {},
     "output_type": "execute_result"
    }
   ],
   "execution_count": 19
  },
  {
   "metadata": {},
   "cell_type": "markdown",
   "source": [
    "## Q6. Median value of Screen\n",
    "\n",
    "1. Find the median value of Screen column in the dataset.\n",
    "2. Next, calculate the most frequent value of the same Screen column.\n",
    "3. Use fillna method to fill the missing values in Screen column with the most frequent value from the previous step.\n",
    "4. Now, calculate the median value of Screen once again.\n",
    "\n",
    "Has it changed?\n",
    "- [ ] Yes\n",
    "- [x] No\n",
    "\n",
    "`Hint: refer to existing mode and median functions to complete the task.`"
   ],
   "id": "cc4c711dc0e049a2"
  },
  {
   "metadata": {
    "ExecuteTime": {
     "end_time": "2024-09-24T14:31:23.136412Z",
     "start_time": "2024-09-24T14:31:23.129996Z"
    }
   },
   "cell_type": "code",
   "source": [
    "initial_median = df['Screen'].median()\n",
    "print(f\"Median value of Screen column:{initial_median}\")\n",
    "\n",
    "most_frequent_value = df['Screen'].mode()[0]\n",
    "print(f\"The most frequent value value of Screen column:{most_frequent_value}\")\n",
    "\n",
    "# Fill the missing values in the Screen column with the most frequent value\n",
    "df['Screen'].fillna(most_frequent_value, inplace=True)\n",
    "\n",
    "# Calculate the median value of the Screen column again\n",
    "new_median = df['Screen'].median()\n",
    "print(\"New median value of Screen column:\", new_median)"
   ],
   "id": "d8c047dc211a113b",
   "outputs": [
    {
     "name": "stdout",
     "output_type": "stream",
     "text": [
      "Median value of Screen column:15.6\n",
      "The most frequent value value of Screen column:15.6\n",
      "New median value of Screen column: 15.6\n"
     ]
    }
   ],
   "execution_count": 27
  },
  {
   "metadata": {},
   "cell_type": "markdown",
   "source": [
    "## Q7. Sum of weights\n",
    "\n",
    "1. Select all the \"Innjoo\" laptops from the dataset.\n",
    "2. Select only columns RAM, Storage, Screen.\n",
    "3. Get the underlying NumPy array. Let's call it X.\n",
    "4. Compute matrix-matrix multiplication between the transpose of X and X. To get the transpose, use X.T. Let's call the result XTX.\n",
    "5. Compute the inverse of XTX.\n",
    "6. Create an array y with values [1100, 1300, 800, 900, 1000, 1100].\n",
    "7. Multiply the inverse of XTX with the transpose of X, and then multiply the result by y. Call the result w.\n",
    "8. What's the sum of all the elements of the result?\n",
    "\n",
    "`Note: You just implemented linear regression. We'll talk about it in the next lesson.`\n",
    "\n",
    "- [ ] 0.43\n",
    "- [ ] 45.29\n",
    "- [ ] 45.58\n",
    "- [x] 91.30"
   ],
   "id": "447296e821f6db24"
  },
  {
   "metadata": {
    "ExecuteTime": {
     "end_time": "2024-09-24T14:37:32.320494Z",
     "start_time": "2024-09-24T14:37:32.317679Z"
    }
   },
   "cell_type": "code",
   "source": "df.columns",
   "id": "a271a5c334d81d7c",
   "outputs": [
    {
     "data": {
      "text/plain": [
       "Index(['Laptop', 'Status', 'Brand', 'Model', 'CPU', 'RAM', 'Storage',\n",
       "       'Storage type', 'GPU', 'Screen', 'Touch', 'Final Price'],\n",
       "      dtype='object')"
      ]
     },
     "execution_count": 28,
     "metadata": {},
     "output_type": "execute_result"
    }
   ],
   "execution_count": 28
  },
  {
   "metadata": {
    "ExecuteTime": {
     "end_time": "2024-09-25T02:59:35.175575Z",
     "start_time": "2024-09-25T02:59:35.170625Z"
    }
   },
   "cell_type": "code",
   "source": [
    "import numpy as np\n",
    "\n",
    "\n",
    "# 1. Select the columns\n",
    "innjoo_laptops = df[df['Brand'] == 'Innjoo']\n",
    "innjoo_laptops = innjoo_laptops[['RAM', 'Storage', 'Screen']]\n",
    "\n",
    "# 2. Convert to NumPy array\n",
    "X = innjoo_laptops.values \n",
    "\n",
    "# 3. Compute XTX\n",
    "XTX = X.T @ X\n",
    "\n",
    "# 4. Compute the inverse of XTX\n",
    "XTX_inv = np.linalg.inv(XTX)\n",
    "\n",
    "# 5. Create the array y\n",
    "y = np.array([1100, 1300, 800, 900, 1000, 1100])\n",
    "\n",
    "# 6. Calculate w = XTX_inv * X.T * y\n",
    "w = XTX_inv @ X.T @ y\n",
    "\n",
    "# 7. Print the last element of w\n",
    "sum_of_weights = np.sum(w)\n",
    "print(\"Sum of all elements in w:\", sum_of_weights)"
   ],
   "id": "c49787295da5e527",
   "outputs": [
    {
     "name": "stdout",
     "output_type": "stream",
     "text": [
      "Sum of all elements in w: 91.2998806299557\n"
     ]
    }
   ],
   "execution_count": 88
  }
 ],
 "metadata": {
  "kernelspec": {
   "display_name": "Python 3",
   "language": "python",
   "name": "python3"
  },
  "language_info": {
   "codemirror_mode": {
    "name": "ipython",
    "version": 2
   },
   "file_extension": ".py",
   "mimetype": "text/x-python",
   "name": "python",
   "nbconvert_exporter": "python",
   "pygments_lexer": "ipython2",
   "version": "2.7.6"
  }
 },
 "nbformat": 4,
 "nbformat_minor": 5
}
