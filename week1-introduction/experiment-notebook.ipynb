{
 "cells": [
  {
   "metadata": {},
   "cell_type": "markdown",
   "source": "## 07-Introduction to NumPy",
   "id": "ea391b572d48470d"
  },
  {
   "metadata": {},
   "cell_type": "markdown",
   "source": [
    "Plan:\n",
    "\n",
    "- Creating arrays\n",
    "- Multi-dimensional arrays\n",
    "- Randomly generated arrays\n",
    "- Element-wise operations\n",
    "- Comparison operations\n",
    "- Logical operations\n",
    "- Summarizing operations"
   ],
   "id": "4bac6a5fff506f8d"
  },
  {
   "cell_type": "code",
   "id": "initial_id",
   "metadata": {
    "collapsed": true,
    "ExecuteTime": {
     "end_time": "2024-08-21T05:13:54.268574Z",
     "start_time": "2024-08-21T05:13:54.224306Z"
    }
   },
   "source": "import numpy as np",
   "outputs": [],
   "execution_count": 1
  },
  {
   "metadata": {},
   "cell_type": "markdown",
   "source": "#### Creating arrays",
   "id": "bfc16f6a541e4931"
  },
  {
   "metadata": {
    "ExecuteTime": {
     "end_time": "2024-08-21T05:14:19.148967Z",
     "start_time": "2024-08-21T05:14:19.142545Z"
    }
   },
   "cell_type": "code",
   "source": "np.zeros(10)",
   "id": "5fdeb4600f287118",
   "outputs": [
    {
     "data": {
      "text/plain": [
       "array([0., 0., 0., 0., 0., 0., 0., 0., 0., 0.])"
      ]
     },
     "execution_count": 2,
     "metadata": {},
     "output_type": "execute_result"
    }
   ],
   "execution_count": 2
  },
  {
   "metadata": {
    "ExecuteTime": {
     "end_time": "2024-08-21T05:37:51.623305Z",
     "start_time": "2024-08-21T05:37:51.616949Z"
    }
   },
   "cell_type": "code",
   "source": "np.ones(10)",
   "id": "381e87c2ee2d5565",
   "outputs": [
    {
     "data": {
      "text/plain": [
       "array([1., 1., 1., 1., 1., 1., 1., 1., 1., 1.])"
      ]
     },
     "execution_count": 3,
     "metadata": {},
     "output_type": "execute_result"
    }
   ],
   "execution_count": 3
  },
  {
   "metadata": {
    "ExecuteTime": {
     "end_time": "2024-08-21T05:37:55.084768Z",
     "start_time": "2024-08-21T05:37:55.082221Z"
    }
   },
   "cell_type": "code",
   "source": "np.full(10, 2.5)\n",
   "id": "253c7c9f6db3ac49",
   "outputs": [
    {
     "data": {
      "text/plain": [
       "array([2.5, 2.5, 2.5, 2.5, 2.5, 2.5, 2.5, 2.5, 2.5, 2.5])"
      ]
     },
     "execution_count": 4,
     "metadata": {},
     "output_type": "execute_result"
    }
   ],
   "execution_count": 4
  },
  {
   "metadata": {
    "ExecuteTime": {
     "end_time": "2024-08-21T05:38:01.538708Z",
     "start_time": "2024-08-21T05:38:01.534944Z"
    }
   },
   "cell_type": "code",
   "source": [
    "a = np.array([1, 2, 3, 5, 7, 12])\n",
    "a"
   ],
   "id": "8479f08c3dea5f84",
   "outputs": [
    {
     "data": {
      "text/plain": [
       "array([ 1,  2,  3,  5,  7, 12])"
      ]
     },
     "execution_count": 5,
     "metadata": {},
     "output_type": "execute_result"
    }
   ],
   "execution_count": 5
  },
  {
   "metadata": {
    "ExecuteTime": {
     "end_time": "2024-08-21T05:38:18.295821Z",
     "start_time": "2024-08-21T05:38:18.292032Z"
    }
   },
   "cell_type": "code",
   "source": [
    "a[2] = 10\n",
    "a"
   ],
   "id": "1feb67640662148d",
   "outputs": [
    {
     "data": {
      "text/plain": [
       "array([ 1,  2, 10,  5,  7, 12])"
      ]
     },
     "execution_count": 8,
     "metadata": {},
     "output_type": "execute_result"
    }
   ],
   "execution_count": 8
  },
  {
   "metadata": {},
   "cell_type": "markdown",
   "source": [
    "#### Multi-dimensional arrays\n",
    "\n",
    "1. Tạo mảng (Array Creation): Tạo mảng từ danh sách, từ dãy số, từ các giá trị ngẫu nhiên hoặc đặc biệt (như ma trận đơn vị, ma trận toàn số 0 hoặc số 1).\n",
    "2. Truy cập và chỉnh sửa phần tử (Indexing and Slicing): Truy cập và thao tác trên các phần tử trong mảng, từ các thao tác cơ bản đến nâng cao như fancy indexing và boolean indexing."
   ],
   "id": "8e808caa49555f56"
  },
  {
   "metadata": {
    "ExecuteTime": {
     "end_time": "2024-08-21T05:38:43.373450Z",
     "start_time": "2024-08-21T05:38:43.368467Z"
    }
   },
   "cell_type": "code",
   "source": "np.zeros((5, 2))",
   "id": "5fd83d92cd363fb9",
   "outputs": [
    {
     "data": {
      "text/plain": [
       "array([[0., 0.],\n",
       "       [0., 0.],\n",
       "       [0., 0.],\n",
       "       [0., 0.],\n",
       "       [0., 0.]])"
      ]
     },
     "execution_count": 9,
     "metadata": {},
     "output_type": "execute_result"
    }
   ],
   "execution_count": 9
  },
  {
   "metadata": {
    "ExecuteTime": {
     "end_time": "2024-08-21T05:39:52.345277Z",
     "start_time": "2024-08-21T05:39:52.339521Z"
    }
   },
   "cell_type": "code",
   "source": [
    "n = np.array([\n",
    "    [1, 2, 3],\n",
    "    [4, 5, 6],\n",
    "    [7, 8, 9]\n",
    "])"
   ],
   "id": "fa968790608c27d7",
   "outputs": [],
   "execution_count": 10
  },
  {
   "metadata": {
    "ExecuteTime": {
     "end_time": "2024-08-21T05:40:01.762546Z",
     "start_time": "2024-08-21T05:40:01.757881Z"
    }
   },
   "cell_type": "code",
   "source": [
    "n[0, 1] = 20\n",
    "n"
   ],
   "id": "239b080ef5f17ecf",
   "outputs": [
    {
     "data": {
      "text/plain": [
       "array([[ 1, 20,  3],\n",
       "       [ 4,  5,  6],\n",
       "       [ 7,  8,  9]])"
      ]
     },
     "execution_count": 12,
     "metadata": {},
     "output_type": "execute_result"
    }
   ],
   "execution_count": 12
  },
  {
   "metadata": {},
   "cell_type": "markdown",
   "source": "#### Randomly generated arrays\n",
   "id": "20a3d649e9c941b4"
  },
  {
   "metadata": {
    "ExecuteTime": {
     "end_time": "2024-08-21T05:42:28.999582Z",
     "start_time": "2024-08-21T05:42:28.994912Z"
    }
   },
   "cell_type": "code",
   "source": [
    "np.random.seed(2)\n",
    "100 * np.random.rand(5, 2)"
   ],
   "id": "facff337b38856a4",
   "outputs": [
    {
     "data": {
      "text/plain": [
       "array([[43.59949021,  2.59262318],\n",
       "       [54.96624779, 43.53223926],\n",
       "       [42.03678021, 33.0334821 ],\n",
       "       [20.4648634 , 61.92709664],\n",
       "       [29.96546737, 26.68272751]])"
      ]
     },
     "execution_count": 13,
     "metadata": {},
     "output_type": "execute_result"
    }
   ],
   "execution_count": 13
  },
  {
   "metadata": {
    "ExecuteTime": {
     "end_time": "2024-08-21T05:42:46.262730Z",
     "start_time": "2024-08-21T05:42:46.257199Z"
    }
   },
   "cell_type": "code",
   "source": [
    "np.random.seed(2)\n",
    "np.random.randn(5, 2)"
   ],
   "id": "c167b1f34ae6d0b4",
   "outputs": [
    {
     "data": {
      "text/plain": [
       "array([[-0.41675785, -0.05626683],\n",
       "       [-2.1361961 ,  1.64027081],\n",
       "       [-1.79343559, -0.84174737],\n",
       "       [ 0.50288142, -1.24528809],\n",
       "       [-1.05795222, -0.90900761]])"
      ]
     },
     "execution_count": 14,
     "metadata": {},
     "output_type": "execute_result"
    }
   ],
   "execution_count": 14
  },
  {
   "metadata": {
    "ExecuteTime": {
     "end_time": "2024-08-21T05:42:56.606613Z",
     "start_time": "2024-08-21T05:42:56.600870Z"
    }
   },
   "cell_type": "code",
   "source": [
    "np.random.seed(2)\n",
    "np.random.randint(low=0, high=100, size=(5, 2))"
   ],
   "id": "7634cb0402704ce1",
   "outputs": [
    {
     "data": {
      "text/plain": [
       "array([[40, 15],\n",
       "       [72, 22],\n",
       "       [43, 82],\n",
       "       [75,  7],\n",
       "       [34, 49]])"
      ]
     },
     "execution_count": 15,
     "metadata": {},
     "output_type": "execute_result"
    }
   ],
   "execution_count": 15
  },
  {
   "metadata": {},
   "cell_type": "markdown",
   "source": [
    "Khi làm việc với dữ liệu số và phân tích khoa học trong Python, NumPy là một thư viện cốt lõi cung cấp nhiều chức năng mạnh mẽ. Dưới đây là các chức năng chính khi nhắc đến là phải dùng NumPy:\n",
    "\n",
    "### 1. **Xử lý và thao tác trên mảng nhiều chiều (Multidimensional Arrays)**\n",
    "   - **Tạo mảng (Array Creation):** Tạo mảng từ danh sách, từ dãy số, từ các giá trị ngẫu nhiên hoặc đặc biệt (như ma trận đơn vị, ma trận toàn số 0 hoặc số 1).\n",
    "     - `np.array()`, `np.zeros()`, `np.ones()`, `np.eye()`, `np.arange()`, `np.linspace()`\n",
    "   - **Truy cập và chỉnh sửa phần tử (Indexing and Slicing):** Truy cập và thao tác trên các phần tử trong mảng, từ các thao tác cơ bản đến nâng cao như fancy indexing và boolean indexing.\n",
    "     - `array[index]`, `array[start:stop:step]`\n",
    "\n",
    "### 2. **Phép toán số học trên mảng (Array Mathematics)**\n",
    "   - **Phép toán phần tử (Element-wise operations):** Thực hiện các phép toán số học cơ bản (cộng, trừ, nhân, chia) trên từng phần tử của mảng.\n",
    "     - `+`, `-`, `*`, `/`, `np.add()`, `np.subtract()`, `np.multiply()`, `np.divide()`\n",
    "   - **Hàm toán học (Mathematical functions):** Tính toán các hàm toán học như hàm mũ, logarit, căn bậc hai, sin, cos, v.v.\n",
    "     - `np.exp()`, `np.log()`, `np.sqrt()`, `np.sin()`, `np.cos()`\n",
    "\n",
    "### 3. **Đại số tuyến tính (Linear Algebra)**\n",
    "   - **Nhân ma trận (Matrix Multiplication):** Thực hiện nhân ma trận và các phép tính đại số tuyến tính khác.\n",
    "     - `np.dot()`, `np.matmul()`, `array @ array`\n",
    "   - **Giải hệ phương trình (Solving Linear Systems):** Giải các hệ phương trình tuyến tính.\n",
    "     - `np.linalg.solve()`\n",
    "   - **Phân rã ma trận (Matrix Decomposition):** Phân rã ma trận SVD, phân rã Cholesky, phân rã LU.\n",
    "     - `np.linalg.svd()`, `np.linalg.cholesky()`, `scipy.linalg.lu()`\n",
    "   - **Tính định thức và nghịch đảo ma trận (Determinant and Inverse):** Tính định thức và nghịch đảo của ma trận.\n",
    "     - `np.linalg.det()`, `np.linalg.inv()`\n",
    "\n",
    "### 4. **Thao tác với hình dạng của mảng (Array Shape Manipulation)**\n",
    "   - **Thay đổi hình dạng (Reshaping):** Thay đổi hình dạng của mảng mà không thay đổi dữ liệu.\n",
    "     - `np.reshape()`, `array.ravel()`\n",
    "   - **Chuyển vị mảng (Transposing):** Chuyển vị các mảng (đổi hàng thành cột và ngược lại).\n",
    "     - `np.transpose()`, `array.T`\n",
    "\n",
    "### 5. **Tổng hợp và thống kê (Aggregation and Statistics)**\n",
    "   - **Tính toán các giá trị tổng hợp (Aggregation):** Tính tổng, trung bình, min, max, phương sai, và độ lệch chuẩn trên toàn bộ mảng hoặc dọc theo các trục.\n",
    "     - `np.sum()`, `np.mean()`, `np.min()`, `np.max()`, `np.var()`, `np.std()`\n",
    "   - **Tính toán các giá trị xếp hạng (Ranking):** Sắp xếp mảng và tính toán các giá trị trung vị, phần trăm.\n",
    "     - `np.sort()`, `np.median()`, `np.percentile()`\n",
    "\n",
    "### 6. **So sánh và lập chỉ mục (Comparison and Indexing)**\n",
    "   - **So sánh phần tử (Element-wise comparison):** So sánh từng phần tử trong mảng với các giá trị khác.\n",
    "     - `np.equal()`, `np.not_equal()`, `np.greater()`, `np.less()`, `np.array_equal()`\n",
    "   - **Chỉ mục Boolean (Boolean Indexing):** Chọn phần tử thỏa mãn điều kiện nhất định.\n",
    "     - `array[condition]`\n",
    "   - **Chỉ mục Fancy (Fancy Indexing):** Chọn các phần tử bằng cách sử dụng danh sách các chỉ số.\n",
    "     - `array[[list_of_indices]]`\n",
    "\n",
    "### 7. **Xử lý dữ liệu từ file (File I/O)**\n",
    "   - **Đọc và ghi dữ liệu (Reading and Writing Data):** Đọc dữ liệu từ file văn bản hoặc lưu mảng vào file.\n",
    "     - `np.loadtxt()`, `np.savetxt()`, `np.save()`, `np.load()`\n",
    "\n",
    "### 8. **Sao chép và gán mảng (Copying and Assigning Arrays)**\n",
    "   - **Sao chép mảng (Copying Arrays):** Tạo bản sao nông hoặc sao sâu của mảng.\n",
    "     - `array.copy()`, `array.view()`\n",
    "\n",
    "### 9. **Các hàm đặc biệt (Special Functions)**\n",
    "   - **Hàm ngẫu nhiên (Random Functions):** Tạo các giá trị ngẫu nhiên hoặc mảng ngẫu nhiên.\n",
    "     - `np.random.random()`, `np.random.randint()`, `np.random.normal()`\n",
    "\n",
    "### Kết luận\n",
    "NumPy là một công cụ mạnh mẽ và linh hoạt dành cho khoa học dữ liệu và tính toán khoa học, cung cấp nhiều chức năng quan trọng từ xử lý mảng, thao tác ma trận, đến các phép toán thống kê và xử lý dữ liệu. Khi nhắc đến việc làm việc với các tập dữ liệu lớn hoặc cần thực hiện các phép toán toán học nhanh và hiệu quả trong Python, NumPy là lựa chọn hàng đầu."
   ],
   "id": "8117e270596c81d"
  },
  {
   "metadata": {},
   "cell_type": "markdown",
   "source": [
    "### 2. **Phép toán số học trên mảng (Array Mathematics)**\n",
    "   - **Phép toán phần tử (Element-wise operations):** Thực hiện các phép toán số học cơ bản (cộng, trừ, nhân, chia) trên từng phần tử của mảng.\n",
    "     - `+`, `-`, `*`, `/`, `np.add()`, `np.subtract()`, `np.multiply()`, `np.divide()`\n",
    "   - **Hàm toán học (Mathematical functions):** Tính toán các hàm toán học như hàm mũ, logarit, căn bậc hai, sin, cos, v.v.\n",
    "     - `np.exp()`, `np.log()`, `np.sqrt()`, `np.sin()`, `np.cos()`"
   ],
   "id": "facdeaf45e194cca"
  },
  {
   "metadata": {
    "ExecuteTime": {
     "end_time": "2024-08-21T06:15:02.693931Z",
     "start_time": "2024-08-21T06:15:02.685959Z"
    }
   },
   "cell_type": "code",
   "source": [
    "a = np.arange(5)\n",
    "a"
   ],
   "id": "31ef89e0838b285b",
   "outputs": [
    {
     "data": {
      "text/plain": [
       "array([0, 1, 2, 3, 4])"
      ]
     },
     "execution_count": 16,
     "metadata": {},
     "output_type": "execute_result"
    }
   ],
   "execution_count": 16
  },
  {
   "metadata": {
    "ExecuteTime": {
     "end_time": "2024-08-21T06:15:18.194918Z",
     "start_time": "2024-08-21T06:15:18.190315Z"
    }
   },
   "cell_type": "code",
   "source": [
    "b = (10 + (a * 2)) ** 2 / 100\n",
    "b"
   ],
   "id": "69729da75a2b64",
   "outputs": [
    {
     "data": {
      "text/plain": [
       "array([1.  , 1.44, 1.96, 2.56, 3.24])"
      ]
     },
     "execution_count": 20,
     "metadata": {},
     "output_type": "execute_result"
    }
   ],
   "execution_count": 20
  },
  {
   "metadata": {
    "ExecuteTime": {
     "end_time": "2024-08-21T06:15:41.466639Z",
     "start_time": "2024-08-21T06:15:41.464180Z"
    }
   },
   "cell_type": "code",
   "source": "a / b + 10",
   "id": "c9d1d181df3068b0",
   "outputs": [
    {
     "data": {
      "text/plain": [
       "array([10.        , 10.69444444, 11.02040816, 11.171875  , 11.2345679 ])"
      ]
     },
     "execution_count": 21,
     "metadata": {},
     "output_type": "execute_result"
    }
   ],
   "execution_count": 21
  },
  {
   "metadata": {},
   "cell_type": "markdown",
   "source": "#### Comparison operations\n",
   "id": "8a7a74e57ec2c524"
  },
  {
   "metadata": {
    "ExecuteTime": {
     "end_time": "2024-08-21T06:16:48.248972Z",
     "start_time": "2024-08-21T06:16:48.246060Z"
    }
   },
   "cell_type": "code",
   "source": "a",
   "id": "99e3d4640c41a281",
   "outputs": [
    {
     "data": {
      "text/plain": [
       "array([0, 1, 2, 3, 4])"
      ]
     },
     "execution_count": 23,
     "metadata": {},
     "output_type": "execute_result"
    }
   ],
   "execution_count": 23
  },
  {
   "metadata": {
    "ExecuteTime": {
     "end_time": "2024-08-21T06:16:54.390419Z",
     "start_time": "2024-08-21T06:16:54.387547Z"
    }
   },
   "cell_type": "code",
   "source": "a >= 2",
   "id": "8ccd6fc69ce8896c",
   "outputs": [
    {
     "data": {
      "text/plain": [
       "array([False, False,  True,  True,  True])"
      ]
     },
     "execution_count": 24,
     "metadata": {},
     "output_type": "execute_result"
    }
   ],
   "execution_count": 24
  },
  {
   "metadata": {
    "ExecuteTime": {
     "end_time": "2024-08-21T06:17:00.344439Z",
     "start_time": "2024-08-21T06:17:00.340975Z"
    }
   },
   "cell_type": "code",
   "source": "b",
   "id": "515991a0ceb74e75",
   "outputs": [
    {
     "data": {
      "text/plain": [
       "array([1.  , 1.44, 1.96, 2.56, 3.24])"
      ]
     },
     "execution_count": 25,
     "metadata": {},
     "output_type": "execute_result"
    }
   ],
   "execution_count": 25
  },
  {
   "metadata": {
    "ExecuteTime": {
     "end_time": "2024-08-21T06:17:04.628258Z",
     "start_time": "2024-08-21T06:17:04.625271Z"
    }
   },
   "cell_type": "code",
   "source": "a > b",
   "id": "f64d064494f297cf",
   "outputs": [
    {
     "data": {
      "text/plain": [
       "array([False, False,  True,  True,  True])"
      ]
     },
     "execution_count": 26,
     "metadata": {},
     "output_type": "execute_result"
    }
   ],
   "execution_count": 26
  },
  {
   "metadata": {
    "ExecuteTime": {
     "end_time": "2024-08-21T06:17:11.850854Z",
     "start_time": "2024-08-21T06:17:11.845397Z"
    }
   },
   "cell_type": "code",
   "source": "a[a > b]",
   "id": "d9b9333ea669d207",
   "outputs": [
    {
     "data": {
      "text/plain": [
       "array([2, 3, 4])"
      ]
     },
     "execution_count": 27,
     "metadata": {},
     "output_type": "execute_result"
    }
   ],
   "execution_count": 27
  },
  {
   "metadata": {},
   "cell_type": "markdown",
   "source": "#### Summarizing operations\n",
   "id": "83a31e5c66c134f"
  },
  {
   "metadata": {
    "ExecuteTime": {
     "end_time": "2024-08-21T06:17:43.008979Z",
     "start_time": "2024-08-21T06:17:43.005378Z"
    }
   },
   "cell_type": "code",
   "source": "a",
   "id": "390542d388ed06ec",
   "outputs": [
    {
     "data": {
      "text/plain": [
       "array([0, 1, 2, 3, 4])"
      ]
     },
     "execution_count": 28,
     "metadata": {},
     "output_type": "execute_result"
    }
   ],
   "execution_count": 28
  },
  {
   "metadata": {
    "ExecuteTime": {
     "end_time": "2024-08-21T06:17:53.140672Z",
     "start_time": "2024-08-21T06:17:53.137585Z"
    }
   },
   "cell_type": "code",
   "source": "a.std()",
   "id": "7ff2dd6f8b0fbfc",
   "outputs": [
    {
     "data": {
      "text/plain": [
       "1.4142135623730951"
      ]
     },
     "execution_count": 31,
     "metadata": {},
     "output_type": "execute_result"
    }
   ],
   "execution_count": 31
  },
  {
   "metadata": {
    "ExecuteTime": {
     "end_time": "2024-08-21T06:17:52.054889Z",
     "start_time": "2024-08-21T06:17:52.052318Z"
    }
   },
   "cell_type": "code",
   "source": "n.min()",
   "id": "6ca5a40d6a54eb3b",
   "outputs": [
    {
     "data": {
      "text/plain": [
       "1"
      ]
     },
     "execution_count": 30,
     "metadata": {},
     "output_type": "execute_result"
    }
   ],
   "execution_count": 30
  },
  {
   "metadata": {},
   "cell_type": "markdown",
   "source": "## 1.8 Linear algebra refresher",
   "id": "d87fd89ea77a137b"
  },
  {
   "metadata": {},
   "cell_type": "markdown",
   "source": [
    "Plan:\n",
    "\n",
    "- Vector operations\n",
    "- Multiplication\n",
    "- Vector-vector multiplication\n",
    "- Matrix-vector multiplication\n",
    "- Matrix-matrix multiplication\n",
    "- Identity matrix\n",
    "- Inverse"
   ],
   "id": "7ce5b2665443547a"
  },
  {
   "metadata": {},
   "cell_type": "code",
   "outputs": [],
   "execution_count": null,
   "source": "",
   "id": "45d09b6044852074"
  },
  {
   "metadata": {},
   "cell_type": "markdown",
   "source": "### Vector operations",
   "id": "115489e8ae2eb736"
  },
  {
   "metadata": {
    "ExecuteTime": {
     "end_time": "2024-08-21T06:23:58.527534Z",
     "start_time": "2024-08-21T06:23:58.523325Z"
    }
   },
   "cell_type": "code",
   "source": "u = np.array([2, 4, 5, 6])",
   "id": "21c3349d94c57c16",
   "outputs": [],
   "execution_count": 32
  },
  {
   "metadata": {
    "ExecuteTime": {
     "end_time": "2024-08-21T06:24:02.764788Z",
     "start_time": "2024-08-21T06:24:02.760323Z"
    }
   },
   "cell_type": "code",
   "source": "2 * u",
   "id": "c094b5cbc655c040",
   "outputs": [
    {
     "data": {
      "text/plain": [
       "array([ 4,  8, 10, 12])"
      ]
     },
     "execution_count": 33,
     "metadata": {},
     "output_type": "execute_result"
    }
   ],
   "execution_count": 33
  },
  {
   "metadata": {
    "ExecuteTime": {
     "end_time": "2024-08-21T06:24:07.370419Z",
     "start_time": "2024-08-21T06:24:07.368847Z"
    }
   },
   "cell_type": "code",
   "source": "v = np.array([1, 0, 0, 2])",
   "id": "e11a718d5d35a79",
   "outputs": [],
   "execution_count": 34
  },
  {
   "metadata": {
    "ExecuteTime": {
     "end_time": "2024-08-21T06:24:14.920064Z",
     "start_time": "2024-08-21T06:24:14.915749Z"
    }
   },
   "cell_type": "code",
   "source": "u + v",
   "id": "50cbade0efb2a57b",
   "outputs": [
    {
     "data": {
      "text/plain": [
       "array([3, 4, 5, 8])"
      ]
     },
     "execution_count": 35,
     "metadata": {},
     "output_type": "execute_result"
    }
   ],
   "execution_count": 35
  },
  {
   "metadata": {
    "ExecuteTime": {
     "end_time": "2024-08-21T06:24:23.184528Z",
     "start_time": "2024-08-21T06:24:23.181170Z"
    }
   },
   "cell_type": "code",
   "source": "u * v",
   "id": "250807f1676aff39",
   "outputs": [
    {
     "data": {
      "text/plain": [
       "array([ 2,  0,  0, 12])"
      ]
     },
     "execution_count": 36,
     "metadata": {},
     "output_type": "execute_result"
    }
   ],
   "execution_count": 36
  },
  {
   "metadata": {},
   "cell_type": "markdown",
   "source": "### Multiplication",
   "id": "226ed29a052c9b77"
  },
  {
   "metadata": {
    "ExecuteTime": {
     "end_time": "2024-08-21T06:25:06.334463Z",
     "start_time": "2024-08-21T06:25:06.332069Z"
    }
   },
   "cell_type": "code",
   "source": "v.shape[0]",
   "id": "53d100c4b80b591c",
   "outputs": [
    {
     "data": {
      "text/plain": [
       "4"
      ]
     },
     "execution_count": 37,
     "metadata": {},
     "output_type": "execute_result"
    }
   ],
   "execution_count": 37
  },
  {
   "metadata": {
    "ExecuteTime": {
     "end_time": "2024-08-21T06:25:30.717420Z",
     "start_time": "2024-08-21T06:25:30.714725Z"
    }
   },
   "cell_type": "code",
   "source": [
    "def vector_vector_multiplication(u, v):\n",
    "    assert u.shape[0] == v.shape[0]\n",
    "\n",
    "    n = u.shape[0]\n",
    "\n",
    "    result = 0.0\n",
    "\n",
    "    for i in range(n):\n",
    "        result = result + u[i] * v[i]\n",
    "\n",
    "    return result"
   ],
   "id": "17e933a4c168e625",
   "outputs": [],
   "execution_count": 38
  },
  {
   "metadata": {
    "ExecuteTime": {
     "end_time": "2024-08-21T06:26:07.535839Z",
     "start_time": "2024-08-21T06:26:07.532942Z"
    }
   },
   "cell_type": "code",
   "source": "vector_vector_multiplication(u, v)",
   "id": "58fee92682908c7a",
   "outputs": [
    {
     "data": {
      "text/plain": [
       "14.0"
      ]
     },
     "execution_count": 39,
     "metadata": {},
     "output_type": "execute_result"
    }
   ],
   "execution_count": 39
  },
  {
   "metadata": {
    "ExecuteTime": {
     "end_time": "2024-08-21T06:26:12.983673Z",
     "start_time": "2024-08-21T06:26:12.980508Z"
    }
   },
   "cell_type": "code",
   "source": "u.dot(v)",
   "id": "476af7b87d791099",
   "outputs": [
    {
     "data": {
      "text/plain": [
       "14"
      ]
     },
     "execution_count": 40,
     "metadata": {},
     "output_type": "execute_result"
    }
   ],
   "execution_count": 40
  },
  {
   "metadata": {
    "ExecuteTime": {
     "end_time": "2024-08-21T06:26:18.867215Z",
     "start_time": "2024-08-21T06:26:18.864471Z"
    }
   },
   "cell_type": "code",
   "source": [
    "U = np.array([\n",
    "    [2, 4, 5, 6],\n",
    "    [1, 2, 1, 2],\n",
    "    [3, 1, 2, 1],\n",
    "])"
   ],
   "id": "78682797ef3545ae",
   "outputs": [],
   "execution_count": 41
  },
  {
   "metadata": {
    "ExecuteTime": {
     "end_time": "2024-08-21T06:26:28.990397Z",
     "start_time": "2024-08-21T06:26:28.987742Z"
    }
   },
   "cell_type": "code",
   "source": "U.shape\n",
   "id": "f3355290ff415e7",
   "outputs": [
    {
     "data": {
      "text/plain": [
       "(3, 4)"
      ]
     },
     "execution_count": 42,
     "metadata": {},
     "output_type": "execute_result"
    }
   ],
   "execution_count": 42
  },
  {
   "metadata": {
    "ExecuteTime": {
     "end_time": "2024-08-21T06:26:36.683980Z",
     "start_time": "2024-08-21T06:26:36.681616Z"
    }
   },
   "cell_type": "code",
   "source": [
    "def matrix_vector_multiplication(U, v):\n",
    "    assert U.shape[1] == v.shape[0]\n",
    "\n",
    "    num_rows = U.shape[0]\n",
    "\n",
    "    result = np.zeros(num_rows)\n",
    "\n",
    "    for i in range(num_rows):\n",
    "        result[i] = vector_vector_multiplication(U[i], v)\n",
    "\n",
    "    return result"
   ],
   "id": "9c4013e22de08a40",
   "outputs": [],
   "execution_count": 43
  },
  {
   "metadata": {
    "ExecuteTime": {
     "end_time": "2024-08-21T06:26:51.935300Z",
     "start_time": "2024-08-21T06:26:51.932738Z"
    }
   },
   "cell_type": "code",
   "source": "matrix_vector_multiplication(U, v)\n",
   "id": "5b9351034bdc6e70",
   "outputs": [
    {
     "data": {
      "text/plain": [
       "array([14.,  5.,  5.])"
      ]
     },
     "execution_count": 44,
     "metadata": {},
     "output_type": "execute_result"
    }
   ],
   "execution_count": 44
  },
  {
   "metadata": {
    "ExecuteTime": {
     "end_time": "2024-08-21T06:26:57.594087Z",
     "start_time": "2024-08-21T06:26:57.590977Z"
    }
   },
   "cell_type": "code",
   "source": "U.dot(v)",
   "id": "6dc9bb6dc628d698",
   "outputs": [
    {
     "data": {
      "text/plain": [
       "array([14,  5,  5])"
      ]
     },
     "execution_count": 45,
     "metadata": {},
     "output_type": "execute_result"
    }
   ],
   "execution_count": 45
  },
  {
   "metadata": {
    "ExecuteTime": {
     "end_time": "2024-08-21T06:27:01.986058Z",
     "start_time": "2024-08-21T06:27:01.983403Z"
    }
   },
   "cell_type": "code",
   "source": [
    "V = np.array([\n",
    "    [1, 1, 2],\n",
    "    [0, 0.5, 1],\n",
    "    [0, 2, 1],\n",
    "    [2, 1, 0],\n",
    "])"
   ],
   "id": "ff7d665b41575058",
   "outputs": [],
   "execution_count": 46
  },
  {
   "metadata": {
    "ExecuteTime": {
     "end_time": "2024-08-21T06:27:08.013849Z",
     "start_time": "2024-08-21T06:27:08.011041Z"
    }
   },
   "cell_type": "code",
   "source": [
    "def matrix_matrix_multiplication(U, V):\n",
    "    assert U.shape[1] == V.shape[0]\n",
    "\n",
    "    num_rows = U.shape[0]\n",
    "    num_cols = V.shape[1]\n",
    "\n",
    "    result = np.zeros((num_rows, num_cols))\n",
    "\n",
    "    for i in range(num_cols):\n",
    "        vi = V[:, i]\n",
    "        Uvi = matrix_vector_multiplication(U, vi)\n",
    "        result[:, i] = Uvi\n",
    "\n",
    "    return result"
   ],
   "id": "364f4cd8a312c06d",
   "outputs": [],
   "execution_count": 47
  },
  {
   "metadata": {
    "ExecuteTime": {
     "end_time": "2024-08-21T06:27:12.557662Z",
     "start_time": "2024-08-21T06:27:12.554062Z"
    }
   },
   "cell_type": "code",
   "source": "matrix_matrix_multiplication(U, V)",
   "id": "a22f32c79c77875d",
   "outputs": [
    {
     "data": {
      "text/plain": [
       "array([[14. , 20. , 13. ],\n",
       "       [ 5. ,  6. ,  5. ],\n",
       "       [ 5. ,  8.5,  9. ]])"
      ]
     },
     "execution_count": 48,
     "metadata": {},
     "output_type": "execute_result"
    }
   ],
   "execution_count": 48
  },
  {
   "metadata": {
    "ExecuteTime": {
     "end_time": "2024-08-21T06:27:16.233060Z",
     "start_time": "2024-08-21T06:27:16.229882Z"
    }
   },
   "cell_type": "code",
   "source": "U.dot(V)\n",
   "id": "fd4f85ab666c221f",
   "outputs": [
    {
     "data": {
      "text/plain": [
       "array([[14. , 20. , 13. ],\n",
       "       [ 5. ,  6. ,  5. ],\n",
       "       [ 5. ,  8.5,  9. ]])"
      ]
     },
     "execution_count": 49,
     "metadata": {},
     "output_type": "execute_result"
    }
   ],
   "execution_count": 49
  },
  {
   "metadata": {},
   "cell_type": "markdown",
   "source": "#### Identity matrix",
   "id": "d6cc2a9b79c38c1d"
  },
  {
   "metadata": {
    "ExecuteTime": {
     "end_time": "2024-08-21T06:27:34.403071Z",
     "start_time": "2024-08-21T06:27:34.400975Z"
    }
   },
   "cell_type": "code",
   "source": "I = np.eye(3)",
   "id": "fa8a705734d6b37c",
   "outputs": [],
   "execution_count": 50
  },
  {
   "metadata": {
    "ExecuteTime": {
     "end_time": "2024-08-21T06:27:37.237098Z",
     "start_time": "2024-08-21T06:27:37.234173Z"
    }
   },
   "cell_type": "code",
   "source": "v",
   "id": "faec25548554d7a7",
   "outputs": [
    {
     "data": {
      "text/plain": [
       "array([1, 0, 0, 2])"
      ]
     },
     "execution_count": 51,
     "metadata": {},
     "output_type": "execute_result"
    }
   ],
   "execution_count": 51
  },
  {
   "metadata": {
    "ExecuteTime": {
     "end_time": "2024-08-21T06:27:41.821988Z",
     "start_time": "2024-08-21T06:27:41.819263Z"
    }
   },
   "cell_type": "code",
   "source": "V.dot(I)",
   "id": "234cc4c47d7ae59e",
   "outputs": [
    {
     "data": {
      "text/plain": [
       "array([[1. , 1. , 2. ],\n",
       "       [0. , 0.5, 1. ],\n",
       "       [0. , 2. , 1. ],\n",
       "       [2. , 1. , 0. ]])"
      ]
     },
     "execution_count": 52,
     "metadata": {},
     "output_type": "execute_result"
    }
   ],
   "execution_count": 52
  },
  {
   "metadata": {},
   "cell_type": "markdown",
   "source": "#### Inverse",
   "id": "45e387e4e2199b82"
  },
  {
   "metadata": {
    "ExecuteTime": {
     "end_time": "2024-08-21T06:27:57.506082Z",
     "start_time": "2024-08-21T06:27:57.502843Z"
    }
   },
   "cell_type": "code",
   "source": [
    "Vs = V[[0, 1, 2]]\n",
    "Vs"
   ],
   "id": "5ca878c3ce32c670",
   "outputs": [
    {
     "data": {
      "text/plain": [
       "array([[1. , 1. , 2. ],\n",
       "       [0. , 0.5, 1. ],\n",
       "       [0. , 2. , 1. ]])"
      ]
     },
     "execution_count": 53,
     "metadata": {},
     "output_type": "execute_result"
    }
   ],
   "execution_count": 53
  },
  {
   "metadata": {
    "ExecuteTime": {
     "end_time": "2024-08-21T06:28:02.461007Z",
     "start_time": "2024-08-21T06:28:02.456719Z"
    }
   },
   "cell_type": "code",
   "source": [
    "Vs_inv = np.linalg.inv(Vs)\n",
    "Vs_inv"
   ],
   "id": "5034ac63a17e2112",
   "outputs": [
    {
     "data": {
      "text/plain": [
       "array([[ 1.        , -2.        ,  0.        ],\n",
       "       [ 0.        , -0.66666667,  0.66666667],\n",
       "       [ 0.        ,  1.33333333, -0.33333333]])"
      ]
     },
     "execution_count": 54,
     "metadata": {},
     "output_type": "execute_result"
    }
   ],
   "execution_count": 54
  },
  {
   "metadata": {
    "ExecuteTime": {
     "end_time": "2024-08-21T06:28:07.313583Z",
     "start_time": "2024-08-21T06:28:07.310623Z"
    }
   },
   "cell_type": "code",
   "source": "Vs_inv.dot(Vs)",
   "id": "83f7e114267ae322",
   "outputs": [
    {
     "data": {
      "text/plain": [
       "array([[1., 0., 0.],\n",
       "       [0., 1., 0.],\n",
       "       [0., 0., 1.]])"
      ]
     },
     "execution_count": 55,
     "metadata": {},
     "output_type": "execute_result"
    }
   ],
   "execution_count": 55
  },
  {
   "metadata": {},
   "cell_type": "markdown",
   "source": "#### 1.9 Introduction to Pandas\n",
   "id": "baee99c95e65daa9"
  },
  {
   "metadata": {},
   "cell_type": "markdown",
   "source": [
    "- Data Frames\n",
    "- Series\n",
    "- Index\n",
    "- Accessing elements\n",
    "- Element-wise operations\n",
    "- Filtering\n",
    "- String operations\n",
    "- Summarizing operations\n",
    "- Missing values\n",
    "- Grouping\n",
    "- Getting the NumPy arrays"
   ],
   "id": "f2301c0888c8dd4c"
  },
  {
   "metadata": {
    "ExecuteTime": {
     "end_time": "2024-08-21T06:30:14.860441Z",
     "start_time": "2024-08-21T06:30:14.858656Z"
    }
   },
   "cell_type": "code",
   "source": [
    "import numpy as np\n",
    "import pandas as pd"
   ],
   "id": "cef11ca87e420030",
   "outputs": [],
   "execution_count": 58
  },
  {
   "metadata": {},
   "cell_type": "markdown",
   "source": "#### DataFrames",
   "id": "2fad5431c2689744"
  },
  {
   "metadata": {
    "ExecuteTime": {
     "end_time": "2024-08-21T06:30:15.805468Z",
     "start_time": "2024-08-21T06:30:15.802508Z"
    }
   },
   "cell_type": "code",
   "source": [
    "data = [\n",
    "    ['Nissan', 'Stanza', 1991, 138, 4, 'MANUAL', 'sedan', 2000],\n",
    "    ['Hyundai', 'Sonata', 2017, None, 4, 'AUTOMATIC', 'Sedan', 27150],\n",
    "    ['Lotus', 'Elise', 2010, 218, 4, 'MANUAL', 'convertible', 54990],\n",
    "    ['GMC', 'Acadia',  2017, 194, 4, 'AUTOMATIC', '4dr SUV', 34450],\n",
    "    ['Nissan', 'Frontier', 2017, 261, 6, 'MANUAL', 'Pickup', 32340],\n",
    "]\n",
    "\n",
    "columns = [\n",
    "    'Make', 'Model', 'Year', 'Engine HP', 'Engine Cylinders',\n",
    "    'Transmission Type', 'Vehicle_Style', 'MSRP'\n",
    "]"
   ],
   "id": "f16590763ed4db52",
   "outputs": [],
   "execution_count": 59
  },
  {
   "metadata": {
    "ExecuteTime": {
     "end_time": "2024-08-21T06:30:33.026716Z",
     "start_time": "2024-08-21T06:30:33.020304Z"
    }
   },
   "cell_type": "code",
   "source": [
    "df = pd.DataFrame(data, columns=columns)\n",
    "df"
   ],
   "id": "689f1fd0cb991497",
   "outputs": [
    {
     "data": {
      "text/plain": [
       "      Make     Model  Year  Engine HP  Engine Cylinders Transmission Type  \\\n",
       "0   Nissan    Stanza  1991      138.0                 4            MANUAL   \n",
       "1  Hyundai    Sonata  2017        NaN                 4         AUTOMATIC   \n",
       "2    Lotus     Elise  2010      218.0                 4            MANUAL   \n",
       "3      GMC    Acadia  2017      194.0                 4         AUTOMATIC   \n",
       "4   Nissan  Frontier  2017      261.0                 6            MANUAL   \n",
       "\n",
       "  Vehicle_Style   MSRP  \n",
       "0         sedan   2000  \n",
       "1         Sedan  27150  \n",
       "2   convertible  54990  \n",
       "3       4dr SUV  34450  \n",
       "4        Pickup  32340  "
      ],
      "text/html": [
       "<div>\n",
       "<style scoped>\n",
       "    .dataframe tbody tr th:only-of-type {\n",
       "        vertical-align: middle;\n",
       "    }\n",
       "\n",
       "    .dataframe tbody tr th {\n",
       "        vertical-align: top;\n",
       "    }\n",
       "\n",
       "    .dataframe thead th {\n",
       "        text-align: right;\n",
       "    }\n",
       "</style>\n",
       "<table border=\"1\" class=\"dataframe\">\n",
       "  <thead>\n",
       "    <tr style=\"text-align: right;\">\n",
       "      <th></th>\n",
       "      <th>Make</th>\n",
       "      <th>Model</th>\n",
       "      <th>Year</th>\n",
       "      <th>Engine HP</th>\n",
       "      <th>Engine Cylinders</th>\n",
       "      <th>Transmission Type</th>\n",
       "      <th>Vehicle_Style</th>\n",
       "      <th>MSRP</th>\n",
       "    </tr>\n",
       "  </thead>\n",
       "  <tbody>\n",
       "    <tr>\n",
       "      <th>0</th>\n",
       "      <td>Nissan</td>\n",
       "      <td>Stanza</td>\n",
       "      <td>1991</td>\n",
       "      <td>138.0</td>\n",
       "      <td>4</td>\n",
       "      <td>MANUAL</td>\n",
       "      <td>sedan</td>\n",
       "      <td>2000</td>\n",
       "    </tr>\n",
       "    <tr>\n",
       "      <th>1</th>\n",
       "      <td>Hyundai</td>\n",
       "      <td>Sonata</td>\n",
       "      <td>2017</td>\n",
       "      <td>NaN</td>\n",
       "      <td>4</td>\n",
       "      <td>AUTOMATIC</td>\n",
       "      <td>Sedan</td>\n",
       "      <td>27150</td>\n",
       "    </tr>\n",
       "    <tr>\n",
       "      <th>2</th>\n",
       "      <td>Lotus</td>\n",
       "      <td>Elise</td>\n",
       "      <td>2010</td>\n",
       "      <td>218.0</td>\n",
       "      <td>4</td>\n",
       "      <td>MANUAL</td>\n",
       "      <td>convertible</td>\n",
       "      <td>54990</td>\n",
       "    </tr>\n",
       "    <tr>\n",
       "      <th>3</th>\n",
       "      <td>GMC</td>\n",
       "      <td>Acadia</td>\n",
       "      <td>2017</td>\n",
       "      <td>194.0</td>\n",
       "      <td>4</td>\n",
       "      <td>AUTOMATIC</td>\n",
       "      <td>4dr SUV</td>\n",
       "      <td>34450</td>\n",
       "    </tr>\n",
       "    <tr>\n",
       "      <th>4</th>\n",
       "      <td>Nissan</td>\n",
       "      <td>Frontier</td>\n",
       "      <td>2017</td>\n",
       "      <td>261.0</td>\n",
       "      <td>6</td>\n",
       "      <td>MANUAL</td>\n",
       "      <td>Pickup</td>\n",
       "      <td>32340</td>\n",
       "    </tr>\n",
       "  </tbody>\n",
       "</table>\n",
       "</div>"
      ]
     },
     "execution_count": 61,
     "metadata": {},
     "output_type": "execute_result"
    }
   ],
   "execution_count": 61
  },
  {
   "metadata": {
    "ExecuteTime": {
     "end_time": "2024-08-21T06:30:53.532482Z",
     "start_time": "2024-08-21T06:30:53.528446Z"
    }
   },
   "cell_type": "code",
   "source": [
    "data = [\n",
    "    {\n",
    "        \"Make\": \"Nissan\",\n",
    "        \"Model\": \"Stanza\",\n",
    "        \"Year\": 1991,\n",
    "        \"Engine HP\": 138.0,\n",
    "        \"Engine Cylinders\": 4,\n",
    "        \"Transmission Type\": \"MANUAL\",\n",
    "        \"Vehicle_Style\": \"sedan\",\n",
    "        \"MSRP\": 2000\n",
    "    },\n",
    "    {\n",
    "        \"Make\": \"Hyundai\",\n",
    "        \"Model\": \"Sonata\",\n",
    "        \"Year\": 2017,\n",
    "        \"Engine HP\": None,\n",
    "        \"Engine Cylinders\": 4,\n",
    "        \"Transmission Type\": \"AUTOMATIC\",\n",
    "        \"Vehicle_Style\": \"Sedan\",\n",
    "        \"MSRP\": 27150\n",
    "    },\n",
    "    {\n",
    "        \"Make\": \"Lotus\",\n",
    "        \"Model\": \"Elise\",\n",
    "        \"Year\": 2010,\n",
    "        \"Engine HP\": 218.0,\n",
    "        \"Engine Cylinders\": 4,\n",
    "        \"Transmission Type\": \"MANUAL\",\n",
    "        \"Vehicle_Style\": \"convertible\",\n",
    "        \"MSRP\": 54990\n",
    "    },\n",
    "    {\n",
    "        \"Make\": \"GMC\",\n",
    "        \"Model\": \"Acadia\",\n",
    "        \"Year\": 2017,\n",
    "        \"Engine HP\": 194.0,\n",
    "        \"Engine Cylinders\": 4,\n",
    "        \"Transmission Type\": \"AUTOMATIC\",\n",
    "        \"Vehicle_Style\": \"4dr SUV\",\n",
    "        \"MSRP\": 34450\n",
    "    },\n",
    "    {\n",
    "        \"Make\": \"Nissan\",\n",
    "        \"Model\": \"Frontier\",\n",
    "        \"Year\": 2017,\n",
    "        \"Engine HP\": 261.0,\n",
    "        \"Engine Cylinders\": 6,\n",
    "        \"Transmission Type\": \"MANUAL\",\n",
    "        \"Vehicle_Style\": \"Pickup\",\n",
    "        \"MSRP\": 32340\n",
    "    }\n",
    "]"
   ],
   "id": "fa2d236f850164da",
   "outputs": [],
   "execution_count": 62
  },
  {
   "metadata": {},
   "cell_type": "markdown",
   "source": "",
   "id": "2a7f3142d160db98"
  },
  {
   "metadata": {
    "ExecuteTime": {
     "end_time": "2024-08-21T06:35:10.632124Z",
     "start_time": "2024-08-21T06:35:10.625234Z"
    }
   },
   "cell_type": "code",
   "source": [
    "df = pd.DataFrame(data)\n",
    "df"
   ],
   "id": "3c8a27111755a6fe",
   "outputs": [
    {
     "data": {
      "text/plain": [
       "      Make     Model  Year  Engine HP  Engine Cylinders Transmission Type  \\\n",
       "0   Nissan    Stanza  1991      138.0                 4            MANUAL   \n",
       "1  Hyundai    Sonata  2017        NaN                 4         AUTOMATIC   \n",
       "2    Lotus     Elise  2010      218.0                 4            MANUAL   \n",
       "3      GMC    Acadia  2017      194.0                 4         AUTOMATIC   \n",
       "4   Nissan  Frontier  2017      261.0                 6            MANUAL   \n",
       "\n",
       "  Vehicle_Style   MSRP  \n",
       "0         sedan   2000  \n",
       "1         Sedan  27150  \n",
       "2   convertible  54990  \n",
       "3       4dr SUV  34450  \n",
       "4        Pickup  32340  "
      ],
      "text/html": [
       "<div>\n",
       "<style scoped>\n",
       "    .dataframe tbody tr th:only-of-type {\n",
       "        vertical-align: middle;\n",
       "    }\n",
       "\n",
       "    .dataframe tbody tr th {\n",
       "        vertical-align: top;\n",
       "    }\n",
       "\n",
       "    .dataframe thead th {\n",
       "        text-align: right;\n",
       "    }\n",
       "</style>\n",
       "<table border=\"1\" class=\"dataframe\">\n",
       "  <thead>\n",
       "    <tr style=\"text-align: right;\">\n",
       "      <th></th>\n",
       "      <th>Make</th>\n",
       "      <th>Model</th>\n",
       "      <th>Year</th>\n",
       "      <th>Engine HP</th>\n",
       "      <th>Engine Cylinders</th>\n",
       "      <th>Transmission Type</th>\n",
       "      <th>Vehicle_Style</th>\n",
       "      <th>MSRP</th>\n",
       "    </tr>\n",
       "  </thead>\n",
       "  <tbody>\n",
       "    <tr>\n",
       "      <th>0</th>\n",
       "      <td>Nissan</td>\n",
       "      <td>Stanza</td>\n",
       "      <td>1991</td>\n",
       "      <td>138.0</td>\n",
       "      <td>4</td>\n",
       "      <td>MANUAL</td>\n",
       "      <td>sedan</td>\n",
       "      <td>2000</td>\n",
       "    </tr>\n",
       "    <tr>\n",
       "      <th>1</th>\n",
       "      <td>Hyundai</td>\n",
       "      <td>Sonata</td>\n",
       "      <td>2017</td>\n",
       "      <td>NaN</td>\n",
       "      <td>4</td>\n",
       "      <td>AUTOMATIC</td>\n",
       "      <td>Sedan</td>\n",
       "      <td>27150</td>\n",
       "    </tr>\n",
       "    <tr>\n",
       "      <th>2</th>\n",
       "      <td>Lotus</td>\n",
       "      <td>Elise</td>\n",
       "      <td>2010</td>\n",
       "      <td>218.0</td>\n",
       "      <td>4</td>\n",
       "      <td>MANUAL</td>\n",
       "      <td>convertible</td>\n",
       "      <td>54990</td>\n",
       "    </tr>\n",
       "    <tr>\n",
       "      <th>3</th>\n",
       "      <td>GMC</td>\n",
       "      <td>Acadia</td>\n",
       "      <td>2017</td>\n",
       "      <td>194.0</td>\n",
       "      <td>4</td>\n",
       "      <td>AUTOMATIC</td>\n",
       "      <td>4dr SUV</td>\n",
       "      <td>34450</td>\n",
       "    </tr>\n",
       "    <tr>\n",
       "      <th>4</th>\n",
       "      <td>Nissan</td>\n",
       "      <td>Frontier</td>\n",
       "      <td>2017</td>\n",
       "      <td>261.0</td>\n",
       "      <td>6</td>\n",
       "      <td>MANUAL</td>\n",
       "      <td>Pickup</td>\n",
       "      <td>32340</td>\n",
       "    </tr>\n",
       "  </tbody>\n",
       "</table>\n",
       "</div>"
      ]
     },
     "execution_count": 64,
     "metadata": {},
     "output_type": "execute_result"
    }
   ],
   "execution_count": 64
  },
  {
   "metadata": {
    "ExecuteTime": {
     "end_time": "2024-08-21T06:35:26.185521Z",
     "start_time": "2024-08-21T06:35:26.181400Z"
    }
   },
   "cell_type": "code",
   "source": "df.head(n=2)",
   "id": "92d2a212eefabc74",
   "outputs": [
    {
     "data": {
      "text/plain": [
       "      Make   Model  Year  Engine HP  Engine Cylinders Transmission Type  \\\n",
       "0   Nissan  Stanza  1991      138.0                 4            MANUAL   \n",
       "1  Hyundai  Sonata  2017        NaN                 4         AUTOMATIC   \n",
       "\n",
       "  Vehicle_Style   MSRP  \n",
       "0         sedan   2000  \n",
       "1         Sedan  27150  "
      ],
      "text/html": [
       "<div>\n",
       "<style scoped>\n",
       "    .dataframe tbody tr th:only-of-type {\n",
       "        vertical-align: middle;\n",
       "    }\n",
       "\n",
       "    .dataframe tbody tr th {\n",
       "        vertical-align: top;\n",
       "    }\n",
       "\n",
       "    .dataframe thead th {\n",
       "        text-align: right;\n",
       "    }\n",
       "</style>\n",
       "<table border=\"1\" class=\"dataframe\">\n",
       "  <thead>\n",
       "    <tr style=\"text-align: right;\">\n",
       "      <th></th>\n",
       "      <th>Make</th>\n",
       "      <th>Model</th>\n",
       "      <th>Year</th>\n",
       "      <th>Engine HP</th>\n",
       "      <th>Engine Cylinders</th>\n",
       "      <th>Transmission Type</th>\n",
       "      <th>Vehicle_Style</th>\n",
       "      <th>MSRP</th>\n",
       "    </tr>\n",
       "  </thead>\n",
       "  <tbody>\n",
       "    <tr>\n",
       "      <th>0</th>\n",
       "      <td>Nissan</td>\n",
       "      <td>Stanza</td>\n",
       "      <td>1991</td>\n",
       "      <td>138.0</td>\n",
       "      <td>4</td>\n",
       "      <td>MANUAL</td>\n",
       "      <td>sedan</td>\n",
       "      <td>2000</td>\n",
       "    </tr>\n",
       "    <tr>\n",
       "      <th>1</th>\n",
       "      <td>Hyundai</td>\n",
       "      <td>Sonata</td>\n",
       "      <td>2017</td>\n",
       "      <td>NaN</td>\n",
       "      <td>4</td>\n",
       "      <td>AUTOMATIC</td>\n",
       "      <td>Sedan</td>\n",
       "      <td>27150</td>\n",
       "    </tr>\n",
       "  </tbody>\n",
       "</table>\n",
       "</div>"
      ]
     },
     "execution_count": 65,
     "metadata": {},
     "output_type": "execute_result"
    }
   ],
   "execution_count": 65
  },
  {
   "metadata": {},
   "cell_type": "markdown",
   "source": "#### Series",
   "id": "7846f02f77841b73"
  },
  {
   "metadata": {
    "ExecuteTime": {
     "end_time": "2024-08-21T06:37:57.571759Z",
     "start_time": "2024-08-21T06:37:57.567975Z"
    }
   },
   "cell_type": "code",
   "source": "df.Engine HP",
   "id": "262cc139603dd0bd",
   "outputs": [
    {
     "ename": "SyntaxError",
     "evalue": "invalid syntax (3565581565.py, line 1)",
     "output_type": "error",
     "traceback": [
      "\u001B[0;36m  Cell \u001B[0;32mIn[66], line 1\u001B[0;36m\u001B[0m\n\u001B[0;31m    df.Engine HP\u001B[0m\n\u001B[0m              ^\u001B[0m\n\u001B[0;31mSyntaxError\u001B[0m\u001B[0;31m:\u001B[0m invalid syntax\n"
     ]
    }
   ],
   "execution_count": 66
  },
  {
   "metadata": {
    "ExecuteTime": {
     "end_time": "2024-08-21T06:38:02.340415Z",
     "start_time": "2024-08-21T06:38:02.337517Z"
    }
   },
   "cell_type": "code",
   "source": "df['Engine HP']",
   "id": "7d70138f06dcd239",
   "outputs": [
    {
     "data": {
      "text/plain": [
       "0    138.0\n",
       "1      NaN\n",
       "2    218.0\n",
       "3    194.0\n",
       "4    261.0\n",
       "Name: Engine HP, dtype: float64"
      ]
     },
     "execution_count": 67,
     "metadata": {},
     "output_type": "execute_result"
    }
   ],
   "execution_count": 67
  },
  {
   "metadata": {
    "ExecuteTime": {
     "end_time": "2024-08-21T07:59:28.057336Z",
     "start_time": "2024-08-21T07:59:28.050458Z"
    }
   },
   "cell_type": "code",
   "source": "df['id'] = [1, 2, 3, 4, 5]",
   "id": "2ea51e4e43fac29a",
   "outputs": [],
   "execution_count": 68
  },
  {
   "metadata": {
    "ExecuteTime": {
     "end_time": "2024-08-21T07:59:34.564450Z",
     "start_time": "2024-08-21T07:59:34.562320Z"
    }
   },
   "cell_type": "code",
   "source": "df['id'] = [10, 20, 30, 40, 50]",
   "id": "bb140d41fc1eedf5",
   "outputs": [],
   "execution_count": 69
  },
  {
   "metadata": {
    "ExecuteTime": {
     "end_time": "2024-08-21T07:59:40.120761Z",
     "start_time": "2024-08-21T07:59:40.115229Z"
    }
   },
   "cell_type": "code",
   "source": "df",
   "id": "602f71519da99d71",
   "outputs": [
    {
     "data": {
      "text/plain": [
       "      Make     Model  Year  Engine HP  Engine Cylinders Transmission Type  \\\n",
       "0   Nissan    Stanza  1991      138.0                 4            MANUAL   \n",
       "1  Hyundai    Sonata  2017        NaN                 4         AUTOMATIC   \n",
       "2    Lotus     Elise  2010      218.0                 4            MANUAL   \n",
       "3      GMC    Acadia  2017      194.0                 4         AUTOMATIC   \n",
       "4   Nissan  Frontier  2017      261.0                 6            MANUAL   \n",
       "\n",
       "  Vehicle_Style   MSRP  id  \n",
       "0         sedan   2000  10  \n",
       "1         Sedan  27150  20  \n",
       "2   convertible  54990  30  \n",
       "3       4dr SUV  34450  40  \n",
       "4        Pickup  32340  50  "
      ],
      "text/html": [
       "<div>\n",
       "<style scoped>\n",
       "    .dataframe tbody tr th:only-of-type {\n",
       "        vertical-align: middle;\n",
       "    }\n",
       "\n",
       "    .dataframe tbody tr th {\n",
       "        vertical-align: top;\n",
       "    }\n",
       "\n",
       "    .dataframe thead th {\n",
       "        text-align: right;\n",
       "    }\n",
       "</style>\n",
       "<table border=\"1\" class=\"dataframe\">\n",
       "  <thead>\n",
       "    <tr style=\"text-align: right;\">\n",
       "      <th></th>\n",
       "      <th>Make</th>\n",
       "      <th>Model</th>\n",
       "      <th>Year</th>\n",
       "      <th>Engine HP</th>\n",
       "      <th>Engine Cylinders</th>\n",
       "      <th>Transmission Type</th>\n",
       "      <th>Vehicle_Style</th>\n",
       "      <th>MSRP</th>\n",
       "      <th>id</th>\n",
       "    </tr>\n",
       "  </thead>\n",
       "  <tbody>\n",
       "    <tr>\n",
       "      <th>0</th>\n",
       "      <td>Nissan</td>\n",
       "      <td>Stanza</td>\n",
       "      <td>1991</td>\n",
       "      <td>138.0</td>\n",
       "      <td>4</td>\n",
       "      <td>MANUAL</td>\n",
       "      <td>sedan</td>\n",
       "      <td>2000</td>\n",
       "      <td>10</td>\n",
       "    </tr>\n",
       "    <tr>\n",
       "      <th>1</th>\n",
       "      <td>Hyundai</td>\n",
       "      <td>Sonata</td>\n",
       "      <td>2017</td>\n",
       "      <td>NaN</td>\n",
       "      <td>4</td>\n",
       "      <td>AUTOMATIC</td>\n",
       "      <td>Sedan</td>\n",
       "      <td>27150</td>\n",
       "      <td>20</td>\n",
       "    </tr>\n",
       "    <tr>\n",
       "      <th>2</th>\n",
       "      <td>Lotus</td>\n",
       "      <td>Elise</td>\n",
       "      <td>2010</td>\n",
       "      <td>218.0</td>\n",
       "      <td>4</td>\n",
       "      <td>MANUAL</td>\n",
       "      <td>convertible</td>\n",
       "      <td>54990</td>\n",
       "      <td>30</td>\n",
       "    </tr>\n",
       "    <tr>\n",
       "      <th>3</th>\n",
       "      <td>GMC</td>\n",
       "      <td>Acadia</td>\n",
       "      <td>2017</td>\n",
       "      <td>194.0</td>\n",
       "      <td>4</td>\n",
       "      <td>AUTOMATIC</td>\n",
       "      <td>4dr SUV</td>\n",
       "      <td>34450</td>\n",
       "      <td>40</td>\n",
       "    </tr>\n",
       "    <tr>\n",
       "      <th>4</th>\n",
       "      <td>Nissan</td>\n",
       "      <td>Frontier</td>\n",
       "      <td>2017</td>\n",
       "      <td>261.0</td>\n",
       "      <td>6</td>\n",
       "      <td>MANUAL</td>\n",
       "      <td>Pickup</td>\n",
       "      <td>32340</td>\n",
       "      <td>50</td>\n",
       "    </tr>\n",
       "  </tbody>\n",
       "</table>\n",
       "</div>"
      ]
     },
     "execution_count": 70,
     "metadata": {},
     "output_type": "execute_result"
    }
   ],
   "execution_count": 70
  },
  {
   "metadata": {},
   "cell_type": "markdown",
   "source": "# Index",
   "id": "6cdaea691d287df1"
  },
  {
   "metadata": {
    "ExecuteTime": {
     "end_time": "2024-08-21T07:59:54.205200Z",
     "start_time": "2024-08-21T07:59:54.202635Z"
    }
   },
   "cell_type": "code",
   "source": "df.index",
   "id": "cf600d17926837f1",
   "outputs": [
    {
     "data": {
      "text/plain": [
       "RangeIndex(start=0, stop=5, step=1)"
      ]
     },
     "execution_count": 71,
     "metadata": {},
     "output_type": "execute_result"
    }
   ],
   "execution_count": 71
  },
  {
   "metadata": {
    "ExecuteTime": {
     "end_time": "2024-08-21T08:00:08.479567Z",
     "start_time": "2024-08-21T08:00:08.477224Z"
    }
   },
   "cell_type": "code",
   "source": "df.Make.index\n",
   "id": "167c4a5538c51732",
   "outputs": [
    {
     "data": {
      "text/plain": [
       "RangeIndex(start=0, stop=5, step=1)"
      ]
     },
     "execution_count": 72,
     "metadata": {},
     "output_type": "execute_result"
    }
   ],
   "execution_count": 72
  },
  {
   "metadata": {
    "ExecuteTime": {
     "end_time": "2024-08-21T08:00:15.549238Z",
     "start_time": "2024-08-21T08:00:15.547396Z"
    }
   },
   "cell_type": "code",
   "source": "df.index = ['a', 'b', 'c', 'd', 'e']",
   "id": "a88e872e7fa6cbe4",
   "outputs": [],
   "execution_count": 73
  },
  {
   "metadata": {
    "ExecuteTime": {
     "end_time": "2024-08-21T08:00:20.972080Z",
     "start_time": "2024-08-21T08:00:20.967540Z"
    }
   },
   "cell_type": "code",
   "source": "df",
   "id": "d2d2cdc030d04f5a",
   "outputs": [
    {
     "data": {
      "text/plain": [
       "      Make     Model  Year  Engine HP  Engine Cylinders Transmission Type  \\\n",
       "a   Nissan    Stanza  1991      138.0                 4            MANUAL   \n",
       "b  Hyundai    Sonata  2017        NaN                 4         AUTOMATIC   \n",
       "c    Lotus     Elise  2010      218.0                 4            MANUAL   \n",
       "d      GMC    Acadia  2017      194.0                 4         AUTOMATIC   \n",
       "e   Nissan  Frontier  2017      261.0                 6            MANUAL   \n",
       "\n",
       "  Vehicle_Style   MSRP  id  \n",
       "a         sedan   2000  10  \n",
       "b         Sedan  27150  20  \n",
       "c   convertible  54990  30  \n",
       "d       4dr SUV  34450  40  \n",
       "e        Pickup  32340  50  "
      ],
      "text/html": [
       "<div>\n",
       "<style scoped>\n",
       "    .dataframe tbody tr th:only-of-type {\n",
       "        vertical-align: middle;\n",
       "    }\n",
       "\n",
       "    .dataframe tbody tr th {\n",
       "        vertical-align: top;\n",
       "    }\n",
       "\n",
       "    .dataframe thead th {\n",
       "        text-align: right;\n",
       "    }\n",
       "</style>\n",
       "<table border=\"1\" class=\"dataframe\">\n",
       "  <thead>\n",
       "    <tr style=\"text-align: right;\">\n",
       "      <th></th>\n",
       "      <th>Make</th>\n",
       "      <th>Model</th>\n",
       "      <th>Year</th>\n",
       "      <th>Engine HP</th>\n",
       "      <th>Engine Cylinders</th>\n",
       "      <th>Transmission Type</th>\n",
       "      <th>Vehicle_Style</th>\n",
       "      <th>MSRP</th>\n",
       "      <th>id</th>\n",
       "    </tr>\n",
       "  </thead>\n",
       "  <tbody>\n",
       "    <tr>\n",
       "      <th>a</th>\n",
       "      <td>Nissan</td>\n",
       "      <td>Stanza</td>\n",
       "      <td>1991</td>\n",
       "      <td>138.0</td>\n",
       "      <td>4</td>\n",
       "      <td>MANUAL</td>\n",
       "      <td>sedan</td>\n",
       "      <td>2000</td>\n",
       "      <td>10</td>\n",
       "    </tr>\n",
       "    <tr>\n",
       "      <th>b</th>\n",
       "      <td>Hyundai</td>\n",
       "      <td>Sonata</td>\n",
       "      <td>2017</td>\n",
       "      <td>NaN</td>\n",
       "      <td>4</td>\n",
       "      <td>AUTOMATIC</td>\n",
       "      <td>Sedan</td>\n",
       "      <td>27150</td>\n",
       "      <td>20</td>\n",
       "    </tr>\n",
       "    <tr>\n",
       "      <th>c</th>\n",
       "      <td>Lotus</td>\n",
       "      <td>Elise</td>\n",
       "      <td>2010</td>\n",
       "      <td>218.0</td>\n",
       "      <td>4</td>\n",
       "      <td>MANUAL</td>\n",
       "      <td>convertible</td>\n",
       "      <td>54990</td>\n",
       "      <td>30</td>\n",
       "    </tr>\n",
       "    <tr>\n",
       "      <th>d</th>\n",
       "      <td>GMC</td>\n",
       "      <td>Acadia</td>\n",
       "      <td>2017</td>\n",
       "      <td>194.0</td>\n",
       "      <td>4</td>\n",
       "      <td>AUTOMATIC</td>\n",
       "      <td>4dr SUV</td>\n",
       "      <td>34450</td>\n",
       "      <td>40</td>\n",
       "    </tr>\n",
       "    <tr>\n",
       "      <th>e</th>\n",
       "      <td>Nissan</td>\n",
       "      <td>Frontier</td>\n",
       "      <td>2017</td>\n",
       "      <td>261.0</td>\n",
       "      <td>6</td>\n",
       "      <td>MANUAL</td>\n",
       "      <td>Pickup</td>\n",
       "      <td>32340</td>\n",
       "      <td>50</td>\n",
       "    </tr>\n",
       "  </tbody>\n",
       "</table>\n",
       "</div>"
      ]
     },
     "execution_count": 74,
     "metadata": {},
     "output_type": "execute_result"
    }
   ],
   "execution_count": 74
  },
  {
   "metadata": {
    "ExecuteTime": {
     "end_time": "2024-08-21T08:00:27.302190Z",
     "start_time": "2024-08-21T08:00:27.297749Z"
    }
   },
   "cell_type": "code",
   "source": "df.iloc[[1, 2, 4]]",
   "id": "9a3fb87149577e49",
   "outputs": [
    {
     "data": {
      "text/plain": [
       "      Make     Model  Year  Engine HP  Engine Cylinders Transmission Type  \\\n",
       "b  Hyundai    Sonata  2017        NaN                 4         AUTOMATIC   \n",
       "c    Lotus     Elise  2010      218.0                 4            MANUAL   \n",
       "e   Nissan  Frontier  2017      261.0                 6            MANUAL   \n",
       "\n",
       "  Vehicle_Style   MSRP  id  \n",
       "b         Sedan  27150  20  \n",
       "c   convertible  54990  30  \n",
       "e        Pickup  32340  50  "
      ],
      "text/html": [
       "<div>\n",
       "<style scoped>\n",
       "    .dataframe tbody tr th:only-of-type {\n",
       "        vertical-align: middle;\n",
       "    }\n",
       "\n",
       "    .dataframe tbody tr th {\n",
       "        vertical-align: top;\n",
       "    }\n",
       "\n",
       "    .dataframe thead th {\n",
       "        text-align: right;\n",
       "    }\n",
       "</style>\n",
       "<table border=\"1\" class=\"dataframe\">\n",
       "  <thead>\n",
       "    <tr style=\"text-align: right;\">\n",
       "      <th></th>\n",
       "      <th>Make</th>\n",
       "      <th>Model</th>\n",
       "      <th>Year</th>\n",
       "      <th>Engine HP</th>\n",
       "      <th>Engine Cylinders</th>\n",
       "      <th>Transmission Type</th>\n",
       "      <th>Vehicle_Style</th>\n",
       "      <th>MSRP</th>\n",
       "      <th>id</th>\n",
       "    </tr>\n",
       "  </thead>\n",
       "  <tbody>\n",
       "    <tr>\n",
       "      <th>b</th>\n",
       "      <td>Hyundai</td>\n",
       "      <td>Sonata</td>\n",
       "      <td>2017</td>\n",
       "      <td>NaN</td>\n",
       "      <td>4</td>\n",
       "      <td>AUTOMATIC</td>\n",
       "      <td>Sedan</td>\n",
       "      <td>27150</td>\n",
       "      <td>20</td>\n",
       "    </tr>\n",
       "    <tr>\n",
       "      <th>c</th>\n",
       "      <td>Lotus</td>\n",
       "      <td>Elise</td>\n",
       "      <td>2010</td>\n",
       "      <td>218.0</td>\n",
       "      <td>4</td>\n",
       "      <td>MANUAL</td>\n",
       "      <td>convertible</td>\n",
       "      <td>54990</td>\n",
       "      <td>30</td>\n",
       "    </tr>\n",
       "    <tr>\n",
       "      <th>e</th>\n",
       "      <td>Nissan</td>\n",
       "      <td>Frontier</td>\n",
       "      <td>2017</td>\n",
       "      <td>261.0</td>\n",
       "      <td>6</td>\n",
       "      <td>MANUAL</td>\n",
       "      <td>Pickup</td>\n",
       "      <td>32340</td>\n",
       "      <td>50</td>\n",
       "    </tr>\n",
       "  </tbody>\n",
       "</table>\n",
       "</div>"
      ]
     },
     "execution_count": 75,
     "metadata": {},
     "output_type": "execute_result"
    }
   ],
   "execution_count": 75
  },
  {
   "metadata": {
    "ExecuteTime": {
     "end_time": "2024-08-21T08:00:32.464686Z",
     "start_time": "2024-08-21T08:00:32.461320Z"
    }
   },
   "cell_type": "code",
   "source": "df = df.reset_index(drop=True)",
   "id": "b3ca15480352d28a",
   "outputs": [],
   "execution_count": 76
  },
  {
   "metadata": {
    "ExecuteTime": {
     "end_time": "2024-08-21T08:00:35.292929Z",
     "start_time": "2024-08-21T08:00:35.288546Z"
    }
   },
   "cell_type": "code",
   "source": "df",
   "id": "e42510329bbb0206",
   "outputs": [
    {
     "data": {
      "text/plain": [
       "      Make     Model  Year  Engine HP  Engine Cylinders Transmission Type  \\\n",
       "0   Nissan    Stanza  1991      138.0                 4            MANUAL   \n",
       "1  Hyundai    Sonata  2017        NaN                 4         AUTOMATIC   \n",
       "2    Lotus     Elise  2010      218.0                 4            MANUAL   \n",
       "3      GMC    Acadia  2017      194.0                 4         AUTOMATIC   \n",
       "4   Nissan  Frontier  2017      261.0                 6            MANUAL   \n",
       "\n",
       "  Vehicle_Style   MSRP  id  \n",
       "0         sedan   2000  10  \n",
       "1         Sedan  27150  20  \n",
       "2   convertible  54990  30  \n",
       "3       4dr SUV  34450  40  \n",
       "4        Pickup  32340  50  "
      ],
      "text/html": [
       "<div>\n",
       "<style scoped>\n",
       "    .dataframe tbody tr th:only-of-type {\n",
       "        vertical-align: middle;\n",
       "    }\n",
       "\n",
       "    .dataframe tbody tr th {\n",
       "        vertical-align: top;\n",
       "    }\n",
       "\n",
       "    .dataframe thead th {\n",
       "        text-align: right;\n",
       "    }\n",
       "</style>\n",
       "<table border=\"1\" class=\"dataframe\">\n",
       "  <thead>\n",
       "    <tr style=\"text-align: right;\">\n",
       "      <th></th>\n",
       "      <th>Make</th>\n",
       "      <th>Model</th>\n",
       "      <th>Year</th>\n",
       "      <th>Engine HP</th>\n",
       "      <th>Engine Cylinders</th>\n",
       "      <th>Transmission Type</th>\n",
       "      <th>Vehicle_Style</th>\n",
       "      <th>MSRP</th>\n",
       "      <th>id</th>\n",
       "    </tr>\n",
       "  </thead>\n",
       "  <tbody>\n",
       "    <tr>\n",
       "      <th>0</th>\n",
       "      <td>Nissan</td>\n",
       "      <td>Stanza</td>\n",
       "      <td>1991</td>\n",
       "      <td>138.0</td>\n",
       "      <td>4</td>\n",
       "      <td>MANUAL</td>\n",
       "      <td>sedan</td>\n",
       "      <td>2000</td>\n",
       "      <td>10</td>\n",
       "    </tr>\n",
       "    <tr>\n",
       "      <th>1</th>\n",
       "      <td>Hyundai</td>\n",
       "      <td>Sonata</td>\n",
       "      <td>2017</td>\n",
       "      <td>NaN</td>\n",
       "      <td>4</td>\n",
       "      <td>AUTOMATIC</td>\n",
       "      <td>Sedan</td>\n",
       "      <td>27150</td>\n",
       "      <td>20</td>\n",
       "    </tr>\n",
       "    <tr>\n",
       "      <th>2</th>\n",
       "      <td>Lotus</td>\n",
       "      <td>Elise</td>\n",
       "      <td>2010</td>\n",
       "      <td>218.0</td>\n",
       "      <td>4</td>\n",
       "      <td>MANUAL</td>\n",
       "      <td>convertible</td>\n",
       "      <td>54990</td>\n",
       "      <td>30</td>\n",
       "    </tr>\n",
       "    <tr>\n",
       "      <th>3</th>\n",
       "      <td>GMC</td>\n",
       "      <td>Acadia</td>\n",
       "      <td>2017</td>\n",
       "      <td>194.0</td>\n",
       "      <td>4</td>\n",
       "      <td>AUTOMATIC</td>\n",
       "      <td>4dr SUV</td>\n",
       "      <td>34450</td>\n",
       "      <td>40</td>\n",
       "    </tr>\n",
       "    <tr>\n",
       "      <th>4</th>\n",
       "      <td>Nissan</td>\n",
       "      <td>Frontier</td>\n",
       "      <td>2017</td>\n",
       "      <td>261.0</td>\n",
       "      <td>6</td>\n",
       "      <td>MANUAL</td>\n",
       "      <td>Pickup</td>\n",
       "      <td>32340</td>\n",
       "      <td>50</td>\n",
       "    </tr>\n",
       "  </tbody>\n",
       "</table>\n",
       "</div>"
      ]
     },
     "execution_count": 77,
     "metadata": {},
     "output_type": "execute_result"
    }
   ],
   "execution_count": 77
  },
  {
   "metadata": {},
   "cell_type": "markdown",
   "source": "#### Element-wise operations",
   "id": "2f983efbdcdb2054"
  },
  {
   "metadata": {
    "ExecuteTime": {
     "end_time": "2024-08-21T08:01:13.505339Z",
     "start_time": "2024-08-21T08:01:13.501660Z"
    }
   },
   "cell_type": "code",
   "source": "df['Engine HP'] * 2",
   "id": "d3cbab9c3f5d2c09",
   "outputs": [
    {
     "data": {
      "text/plain": [
       "0    276.0\n",
       "1      NaN\n",
       "2    436.0\n",
       "3    388.0\n",
       "4    522.0\n",
       "Name: Engine HP, dtype: float64"
      ]
     },
     "execution_count": 78,
     "metadata": {},
     "output_type": "execute_result"
    }
   ],
   "execution_count": 78
  },
  {
   "metadata": {
    "ExecuteTime": {
     "end_time": "2024-08-21T08:01:18.833173Z",
     "start_time": "2024-08-21T08:01:18.830831Z"
    }
   },
   "cell_type": "code",
   "source": "df['Year'] >= 2015",
   "id": "ec539be3e0faa373",
   "outputs": [
    {
     "data": {
      "text/plain": [
       "0    False\n",
       "1     True\n",
       "2    False\n",
       "3     True\n",
       "4     True\n",
       "Name: Year, dtype: bool"
      ]
     },
     "execution_count": 79,
     "metadata": {},
     "output_type": "execute_result"
    }
   ],
   "execution_count": 79
  },
  {
   "metadata": {},
   "cell_type": "markdown",
   "source": "#### Filtering",
   "id": "91a3d048631004e8"
  },
  {
   "metadata": {
    "ExecuteTime": {
     "end_time": "2024-08-21T08:01:43.055636Z",
     "start_time": "2024-08-21T08:01:43.048396Z"
    }
   },
   "cell_type": "code",
   "source": "df[ df['Make'] == 'Nissan']",
   "id": "a879fd42392b760e",
   "outputs": [
    {
     "data": {
      "text/plain": [
       "     Make     Model  Year  Engine HP  Engine Cylinders Transmission Type  \\\n",
       "0  Nissan    Stanza  1991      138.0                 4            MANUAL   \n",
       "4  Nissan  Frontier  2017      261.0                 6            MANUAL   \n",
       "\n",
       "  Vehicle_Style   MSRP  id  \n",
       "0         sedan   2000  10  \n",
       "4        Pickup  32340  50  "
      ],
      "text/html": [
       "<div>\n",
       "<style scoped>\n",
       "    .dataframe tbody tr th:only-of-type {\n",
       "        vertical-align: middle;\n",
       "    }\n",
       "\n",
       "    .dataframe tbody tr th {\n",
       "        vertical-align: top;\n",
       "    }\n",
       "\n",
       "    .dataframe thead th {\n",
       "        text-align: right;\n",
       "    }\n",
       "</style>\n",
       "<table border=\"1\" class=\"dataframe\">\n",
       "  <thead>\n",
       "    <tr style=\"text-align: right;\">\n",
       "      <th></th>\n",
       "      <th>Make</th>\n",
       "      <th>Model</th>\n",
       "      <th>Year</th>\n",
       "      <th>Engine HP</th>\n",
       "      <th>Engine Cylinders</th>\n",
       "      <th>Transmission Type</th>\n",
       "      <th>Vehicle_Style</th>\n",
       "      <th>MSRP</th>\n",
       "      <th>id</th>\n",
       "    </tr>\n",
       "  </thead>\n",
       "  <tbody>\n",
       "    <tr>\n",
       "      <th>0</th>\n",
       "      <td>Nissan</td>\n",
       "      <td>Stanza</td>\n",
       "      <td>1991</td>\n",
       "      <td>138.0</td>\n",
       "      <td>4</td>\n",
       "      <td>MANUAL</td>\n",
       "      <td>sedan</td>\n",
       "      <td>2000</td>\n",
       "      <td>10</td>\n",
       "    </tr>\n",
       "    <tr>\n",
       "      <th>4</th>\n",
       "      <td>Nissan</td>\n",
       "      <td>Frontier</td>\n",
       "      <td>2017</td>\n",
       "      <td>261.0</td>\n",
       "      <td>6</td>\n",
       "      <td>MANUAL</td>\n",
       "      <td>Pickup</td>\n",
       "      <td>32340</td>\n",
       "      <td>50</td>\n",
       "    </tr>\n",
       "  </tbody>\n",
       "</table>\n",
       "</div>"
      ]
     },
     "execution_count": 80,
     "metadata": {},
     "output_type": "execute_result"
    }
   ],
   "execution_count": 80
  },
  {
   "metadata": {
    "ExecuteTime": {
     "end_time": "2024-08-21T08:02:07.444647Z",
     "start_time": "2024-08-21T08:02:07.440054Z"
    }
   },
   "cell_type": "code",
   "source": "df[(df['Make'] == 'Nissan') & (df['Year'] >= 2015)]",
   "id": "dee7dd829d626374",
   "outputs": [
    {
     "data": {
      "text/plain": [
       "     Make     Model  Year  Engine HP  Engine Cylinders Transmission Type  \\\n",
       "4  Nissan  Frontier  2017      261.0                 6            MANUAL   \n",
       "\n",
       "  Vehicle_Style   MSRP  id  \n",
       "4        Pickup  32340  50  "
      ],
      "text/html": [
       "<div>\n",
       "<style scoped>\n",
       "    .dataframe tbody tr th:only-of-type {\n",
       "        vertical-align: middle;\n",
       "    }\n",
       "\n",
       "    .dataframe tbody tr th {\n",
       "        vertical-align: top;\n",
       "    }\n",
       "\n",
       "    .dataframe thead th {\n",
       "        text-align: right;\n",
       "    }\n",
       "</style>\n",
       "<table border=\"1\" class=\"dataframe\">\n",
       "  <thead>\n",
       "    <tr style=\"text-align: right;\">\n",
       "      <th></th>\n",
       "      <th>Make</th>\n",
       "      <th>Model</th>\n",
       "      <th>Year</th>\n",
       "      <th>Engine HP</th>\n",
       "      <th>Engine Cylinders</th>\n",
       "      <th>Transmission Type</th>\n",
       "      <th>Vehicle_Style</th>\n",
       "      <th>MSRP</th>\n",
       "      <th>id</th>\n",
       "    </tr>\n",
       "  </thead>\n",
       "  <tbody>\n",
       "    <tr>\n",
       "      <th>4</th>\n",
       "      <td>Nissan</td>\n",
       "      <td>Frontier</td>\n",
       "      <td>2017</td>\n",
       "      <td>261.0</td>\n",
       "      <td>6</td>\n",
       "      <td>MANUAL</td>\n",
       "      <td>Pickup</td>\n",
       "      <td>32340</td>\n",
       "      <td>50</td>\n",
       "    </tr>\n",
       "  </tbody>\n",
       "</table>\n",
       "</div>"
      ]
     },
     "execution_count": 81,
     "metadata": {},
     "output_type": "execute_result"
    }
   ],
   "execution_count": 81
  },
  {
   "metadata": {},
   "cell_type": "markdown",
   "source": "#### String operations",
   "id": "e50fde3a8fc5d236"
  },
  {
   "metadata": {
    "ExecuteTime": {
     "end_time": "2024-08-21T08:02:35.728970Z",
     "start_time": "2024-08-21T08:02:35.726724Z"
    }
   },
   "cell_type": "code",
   "source": "'machine learning zoomcamp'.replace(' ', '_')",
   "id": "3ac8800ae0c86aae",
   "outputs": [
    {
     "data": {
      "text/plain": [
       "'machine_learning_zoomcamp'"
      ]
     },
     "execution_count": 82,
     "metadata": {},
     "output_type": "execute_result"
    }
   ],
   "execution_count": 82
  },
  {
   "metadata": {
    "ExecuteTime": {
     "end_time": "2024-08-21T08:02:42.584827Z",
     "start_time": "2024-08-21T08:02:42.581301Z"
    }
   },
   "cell_type": "code",
   "source": "df['Vehicle_Style'].str.lower()",
   "id": "48ad784c3a911a4d",
   "outputs": [
    {
     "data": {
      "text/plain": [
       "0          sedan\n",
       "1          sedan\n",
       "2    convertible\n",
       "3        4dr suv\n",
       "4         pickup\n",
       "Name: Vehicle_Style, dtype: object"
      ]
     },
     "execution_count": 83,
     "metadata": {},
     "output_type": "execute_result"
    }
   ],
   "execution_count": 83
  },
  {
   "metadata": {
    "ExecuteTime": {
     "end_time": "2024-08-21T08:02:52.033104Z",
     "start_time": "2024-08-21T08:02:52.028179Z"
    }
   },
   "cell_type": "code",
   "source": [
    "df['Vehicle_Style'] = df['Vehicle_Style'].str.replace(' ', '_').str.lower()\n",
    "df"
   ],
   "id": "7fcf7c913c70a37b",
   "outputs": [
    {
     "data": {
      "text/plain": [
       "      Make     Model  Year  Engine HP  Engine Cylinders Transmission Type  \\\n",
       "0   Nissan    Stanza  1991      138.0                 4            MANUAL   \n",
       "1  Hyundai    Sonata  2017        NaN                 4         AUTOMATIC   \n",
       "2    Lotus     Elise  2010      218.0                 4            MANUAL   \n",
       "3      GMC    Acadia  2017      194.0                 4         AUTOMATIC   \n",
       "4   Nissan  Frontier  2017      261.0                 6            MANUAL   \n",
       "\n",
       "  Vehicle_Style   MSRP  id  \n",
       "0         sedan   2000  10  \n",
       "1         sedan  27150  20  \n",
       "2   convertible  54990  30  \n",
       "3       4dr_suv  34450  40  \n",
       "4        pickup  32340  50  "
      ],
      "text/html": [
       "<div>\n",
       "<style scoped>\n",
       "    .dataframe tbody tr th:only-of-type {\n",
       "        vertical-align: middle;\n",
       "    }\n",
       "\n",
       "    .dataframe tbody tr th {\n",
       "        vertical-align: top;\n",
       "    }\n",
       "\n",
       "    .dataframe thead th {\n",
       "        text-align: right;\n",
       "    }\n",
       "</style>\n",
       "<table border=\"1\" class=\"dataframe\">\n",
       "  <thead>\n",
       "    <tr style=\"text-align: right;\">\n",
       "      <th></th>\n",
       "      <th>Make</th>\n",
       "      <th>Model</th>\n",
       "      <th>Year</th>\n",
       "      <th>Engine HP</th>\n",
       "      <th>Engine Cylinders</th>\n",
       "      <th>Transmission Type</th>\n",
       "      <th>Vehicle_Style</th>\n",
       "      <th>MSRP</th>\n",
       "      <th>id</th>\n",
       "    </tr>\n",
       "  </thead>\n",
       "  <tbody>\n",
       "    <tr>\n",
       "      <th>0</th>\n",
       "      <td>Nissan</td>\n",
       "      <td>Stanza</td>\n",
       "      <td>1991</td>\n",
       "      <td>138.0</td>\n",
       "      <td>4</td>\n",
       "      <td>MANUAL</td>\n",
       "      <td>sedan</td>\n",
       "      <td>2000</td>\n",
       "      <td>10</td>\n",
       "    </tr>\n",
       "    <tr>\n",
       "      <th>1</th>\n",
       "      <td>Hyundai</td>\n",
       "      <td>Sonata</td>\n",
       "      <td>2017</td>\n",
       "      <td>NaN</td>\n",
       "      <td>4</td>\n",
       "      <td>AUTOMATIC</td>\n",
       "      <td>sedan</td>\n",
       "      <td>27150</td>\n",
       "      <td>20</td>\n",
       "    </tr>\n",
       "    <tr>\n",
       "      <th>2</th>\n",
       "      <td>Lotus</td>\n",
       "      <td>Elise</td>\n",
       "      <td>2010</td>\n",
       "      <td>218.0</td>\n",
       "      <td>4</td>\n",
       "      <td>MANUAL</td>\n",
       "      <td>convertible</td>\n",
       "      <td>54990</td>\n",
       "      <td>30</td>\n",
       "    </tr>\n",
       "    <tr>\n",
       "      <th>3</th>\n",
       "      <td>GMC</td>\n",
       "      <td>Acadia</td>\n",
       "      <td>2017</td>\n",
       "      <td>194.0</td>\n",
       "      <td>4</td>\n",
       "      <td>AUTOMATIC</td>\n",
       "      <td>4dr_suv</td>\n",
       "      <td>34450</td>\n",
       "      <td>40</td>\n",
       "    </tr>\n",
       "    <tr>\n",
       "      <th>4</th>\n",
       "      <td>Nissan</td>\n",
       "      <td>Frontier</td>\n",
       "      <td>2017</td>\n",
       "      <td>261.0</td>\n",
       "      <td>6</td>\n",
       "      <td>MANUAL</td>\n",
       "      <td>pickup</td>\n",
       "      <td>32340</td>\n",
       "      <td>50</td>\n",
       "    </tr>\n",
       "  </tbody>\n",
       "</table>\n",
       "</div>"
      ]
     },
     "execution_count": 85,
     "metadata": {},
     "output_type": "execute_result"
    }
   ],
   "execution_count": 85
  },
  {
   "metadata": {},
   "cell_type": "markdown",
   "source": "#### Summarizing operations",
   "id": "1c01202c3cde22b6"
  },
  {
   "metadata": {
    "ExecuteTime": {
     "end_time": "2024-08-21T08:03:32.151657Z",
     "start_time": "2024-08-21T08:03:32.144292Z"
    }
   },
   "cell_type": "code",
   "source": [
    "print(df.describe().round(2))\n",
    "\n",
    "print(df.nunique())"
   ],
   "id": "79f8a2c9cc5ad041",
   "outputs": [
    {
     "name": "stdout",
     "output_type": "stream",
     "text": [
      "          Year  Engine HP  Engine Cylinders      MSRP     id\n",
      "count     5.00       4.00              5.00      5.00   5.00\n",
      "mean   2010.40     202.75              4.40  30186.00  30.00\n",
      "std      11.26      51.30              0.89  18985.04  15.81\n",
      "min    1991.00     138.00              4.00   2000.00  10.00\n",
      "25%    2010.00     180.00              4.00  27150.00  20.00\n",
      "50%    2017.00     206.00              4.00  32340.00  30.00\n",
      "75%    2017.00     228.75              4.00  34450.00  40.00\n",
      "max    2017.00     261.00              6.00  54990.00  50.00\n",
      "Make                 4\n",
      "Model                5\n",
      "Year                 3\n",
      "Engine HP            4\n",
      "Engine Cylinders     2\n",
      "Transmission Type    2\n",
      "Vehicle_Style        4\n",
      "MSRP                 5\n",
      "id                   5\n",
      "dtype: int64\n"
     ]
    }
   ],
   "execution_count": 87
  },
  {
   "metadata": {},
   "cell_type": "markdown",
   "source": "#### Grouping",
   "id": "2cd3f9a0ac2725e3"
  },
  {
   "metadata": {},
   "cell_type": "markdown",
   "source": [
    "SELECT \n",
    "    transmission_type,\n",
    "    AVG(MSRP)\n",
    "FROM\n",
    "    cars\n",
    "GROUP BY\n",
    "    transmission_type"
   ],
   "id": "6747a160f40f1a3f"
  },
  {
   "metadata": {
    "ExecuteTime": {
     "end_time": "2024-08-21T08:05:55.076725Z",
     "start_time": "2024-08-21T08:05:55.072227Z"
    }
   },
   "cell_type": "code",
   "source": "df.groupby('Transmission Type').MSRP.mean()",
   "id": "e858a406c3eb75b1",
   "outputs": [
    {
     "data": {
      "text/plain": [
       "Transmission Type\n",
       "AUTOMATIC    30800.000000\n",
       "MANUAL       29776.666667\n",
       "Name: MSRP, dtype: float64"
      ]
     },
     "execution_count": 91,
     "metadata": {},
     "output_type": "execute_result"
    }
   ],
   "execution_count": 91
  },
  {
   "metadata": {},
   "cell_type": "markdown",
   "source": "# Getting the NumPy arrays",
   "id": "e9dc505361779354"
  },
  {
   "metadata": {
    "ExecuteTime": {
     "end_time": "2024-08-21T08:08:59.056394Z",
     "start_time": "2024-08-21T08:08:59.053752Z"
    }
   },
   "cell_type": "code",
   "source": "df.MSRP.values",
   "id": "d1427dd85bb4462a",
   "outputs": [
    {
     "data": {
      "text/plain": [
       "array([ 2000, 27150, 54990, 34450, 32340])"
      ]
     },
     "execution_count": 92,
     "metadata": {},
     "output_type": "execute_result"
    }
   ],
   "execution_count": 92
  },
  {
   "metadata": {
    "ExecuteTime": {
     "end_time": "2024-08-21T08:09:03.818077Z",
     "start_time": "2024-08-21T08:09:03.811743Z"
    }
   },
   "cell_type": "code",
   "source": "df.to_dict(orient='records')",
   "id": "b7891569a3f8403e",
   "outputs": [
    {
     "data": {
      "text/plain": [
       "[{'Make': 'Nissan',\n",
       "  'Model': 'Stanza',\n",
       "  'Year': 1991,\n",
       "  'Engine HP': 138.0,\n",
       "  'Engine Cylinders': 4,\n",
       "  'Transmission Type': 'MANUAL',\n",
       "  'Vehicle_Style': 'sedan',\n",
       "  'MSRP': 2000,\n",
       "  'id': 10},\n",
       " {'Make': 'Hyundai',\n",
       "  'Model': 'Sonata',\n",
       "  'Year': 2017,\n",
       "  'Engine HP': nan,\n",
       "  'Engine Cylinders': 4,\n",
       "  'Transmission Type': 'AUTOMATIC',\n",
       "  'Vehicle_Style': 'sedan',\n",
       "  'MSRP': 27150,\n",
       "  'id': 20},\n",
       " {'Make': 'Lotus',\n",
       "  'Model': 'Elise',\n",
       "  'Year': 2010,\n",
       "  'Engine HP': 218.0,\n",
       "  'Engine Cylinders': 4,\n",
       "  'Transmission Type': 'MANUAL',\n",
       "  'Vehicle_Style': 'convertible',\n",
       "  'MSRP': 54990,\n",
       "  'id': 30},\n",
       " {'Make': 'GMC',\n",
       "  'Model': 'Acadia',\n",
       "  'Year': 2017,\n",
       "  'Engine HP': 194.0,\n",
       "  'Engine Cylinders': 4,\n",
       "  'Transmission Type': 'AUTOMATIC',\n",
       "  'Vehicle_Style': '4dr_suv',\n",
       "  'MSRP': 34450,\n",
       "  'id': 40},\n",
       " {'Make': 'Nissan',\n",
       "  'Model': 'Frontier',\n",
       "  'Year': 2017,\n",
       "  'Engine HP': 261.0,\n",
       "  'Engine Cylinders': 6,\n",
       "  'Transmission Type': 'MANUAL',\n",
       "  'Vehicle_Style': 'pickup',\n",
       "  'MSRP': 32340,\n",
       "  'id': 50}]"
      ]
     },
     "execution_count": 93,
     "metadata": {},
     "output_type": "execute_result"
    }
   ],
   "execution_count": 93
  },
  {
   "metadata": {},
   "cell_type": "markdown",
   "source": "# Homework",
   "id": "79fb9bd4d8b215b2"
  },
  {
   "metadata": {},
   "cell_type": "markdown",
   "source": [
    "Question 1:What's the version of Pandas that you installed?\n",
    "\n",
    "Answer: 2.2.2"
   ],
   "id": "dc25bcfea3ccddeb"
  },
  {
   "metadata": {
    "ExecuteTime": {
     "end_time": "2024-08-21T09:10:55.329703Z",
     "start_time": "2024-08-21T09:10:41.764946Z"
    }
   },
   "cell_type": "code",
   "source": [
    "import pandas as pd\n",
    "import numpy as ny"
   ],
   "id": "98b560c0207e775f",
   "outputs": [],
   "execution_count": 2
  },
  {
   "metadata": {
    "ExecuteTime": {
     "end_time": "2024-08-21T09:14:58.045968Z",
     "start_time": "2024-08-21T09:14:58.038534Z"
    }
   },
   "cell_type": "code",
   "source": "pd.__version__",
   "id": "c3f15d637195326c",
   "outputs": [
    {
     "data": {
      "text/plain": [
       "'2.2.2'"
      ]
     },
     "execution_count": 3,
     "metadata": {},
     "output_type": "execute_result"
    }
   ],
   "execution_count": 3
  },
  {
   "metadata": {
    "ExecuteTime": {
     "end_time": "2024-08-21T09:16:11.230823Z",
     "start_time": "2024-08-21T09:16:10.122930Z"
    }
   },
   "cell_type": "code",
   "source": [
    "import requests\n",
    "\n",
    "url = 'https://raw.githubusercontent.com/alexeygrigorev/datasets/master/housing.csv'\n",
    "response = requests.get(url)\n",
    "\n",
    "# Save the content to a file\n",
    "with open('housing.csv', 'wb') as file:\n",
    "    file.write(response.content)\n"
   ],
   "id": "d8405f5ddd1e1d78",
   "outputs": [],
   "execution_count": 5
  },
  {
   "metadata": {
    "ExecuteTime": {
     "end_time": "2024-08-21T13:16:48.878445Z",
     "start_time": "2024-08-21T13:16:48.823453Z"
    }
   },
   "cell_type": "code",
   "source": [
    "# Read csv and save it to df\n",
    "df = pd.read_csv('housing.csv')"
   ],
   "id": "b1eb5ef002a73d2",
   "outputs": [],
   "execution_count": 7
  },
  {
   "metadata": {},
   "cell_type": "markdown",
   "source": [
    "Question 2: How many columns are in the dataset?\n",
    "-> Answer: 10"
   ],
   "id": "b46450fc9c01a0da"
  },
  {
   "metadata": {},
   "cell_type": "markdown",
   "source": "",
   "id": "b738460850d8e668"
  },
  {
   "metadata": {
    "ExecuteTime": {
     "end_time": "2024-08-21T13:17:42.354505Z",
     "start_time": "2024-08-21T13:17:42.352148Z"
    }
   },
   "cell_type": "code",
   "source": "df.columns",
   "id": "7f8a9ba08397b7c8",
   "outputs": [
    {
     "data": {
      "text/plain": [
       "Index(['longitude', 'latitude', 'housing_median_age', 'total_rooms',\n",
       "       'total_bedrooms', 'population', 'households', 'median_income',\n",
       "       'median_house_value', 'ocean_proximity'],\n",
       "      dtype='object')"
      ]
     },
     "execution_count": 11,
     "metadata": {},
     "output_type": "execute_result"
    }
   ],
   "execution_count": 11
  },
  {
   "metadata": {},
   "cell_type": "markdown",
   "source": [
    "**Question 3: Which columns in the dataset have missing values?**\n",
    "\n",
    "Answer: total_bedrooms"
   ],
   "id": "71261b2af4ae9ec"
  },
  {
   "metadata": {
    "ExecuteTime": {
     "end_time": "2024-08-21T14:42:48.271139Z",
     "start_time": "2024-08-21T14:42:48.266852Z"
    }
   },
   "cell_type": "code",
   "source": "df.isnull().sum()",
   "id": "daf98ca2910448fb",
   "outputs": [
    {
     "data": {
      "text/plain": [
       "longitude               0\n",
       "latitude                0\n",
       "housing_median_age      0\n",
       "total_rooms             0\n",
       "total_bedrooms        207\n",
       "population              0\n",
       "households              0\n",
       "median_income           0\n",
       "median_house_value      0\n",
       "ocean_proximity         0\n",
       "dtype: int64"
      ]
     },
     "execution_count": 15,
     "metadata": {},
     "output_type": "execute_result"
    }
   ],
   "execution_count": 15
  },
  {
   "metadata": {},
   "cell_type": "markdown",
   "source": [
    "**Question 4: How many unique values does the ocean_proximity column have?**\n",
    "\n",
    "*Answer: 5*"
   ],
   "id": "cc8b7d8008227c40"
  },
  {
   "metadata": {
    "ExecuteTime": {
     "end_time": "2024-08-21T14:55:14.359220Z",
     "start_time": "2024-08-21T14:55:14.355423Z"
    }
   },
   "cell_type": "code",
   "source": "len(df.ocean_proximity.unique())",
   "id": "9ee82a2356f555ac",
   "outputs": [
    {
     "data": {
      "text/plain": [
       "5"
      ]
     },
     "execution_count": 19,
     "metadata": {},
     "output_type": "execute_result"
    }
   ],
   "execution_count": 19
  },
  {
   "metadata": {},
   "cell_type": "markdown",
   "source": [
    "**Question 6:**\n",
    "\n",
    "1. Calculate the average of total_bedrooms column in the dataset.\n",
    "2. Use the fillna method to fill the missing values in total_bedrooms with the mean value from the previous step.\n",
    "3. Now, calculate the average of total_bedrooms again.\n",
    "4. Has it changed?\n",
    "\n",
    "Has it changed?\n",
    "\n",
    "*Answer: No*"
   ],
   "id": "cf6236a202ccca10"
  },
  {
   "metadata": {
    "ExecuteTime": {
     "end_time": "2024-08-21T15:02:45.103101Z",
     "start_time": "2024-08-21T15:02:45.100857Z"
    }
   },
   "cell_type": "code",
   "source": [
    "average_bedrooms_before = round(df['total_bedrooms'].mean(),3)\n",
    "average_bedrooms_before"
   ],
   "id": "f52d145fc5ba5e0a",
   "outputs": [
    {
     "data": {
      "text/plain": [
       "537.871"
      ]
     },
     "execution_count": 35,
     "metadata": {},
     "output_type": "execute_result"
    }
   ],
   "execution_count": 35
  },
  {
   "metadata": {
    "ExecuteTime": {
     "end_time": "2024-08-21T15:01:31.807740Z",
     "start_time": "2024-08-21T15:01:31.804786Z"
    }
   },
   "cell_type": "code",
   "source": [
    "# Fill missing values in total_bedrooms with the calculated mean\n",
    "df['total_bedrooms'].fillna(average_bedrooms_before, inplace=True)"
   ],
   "id": "d30bf0d1f55ec7b9",
   "outputs": [],
   "execution_count": 32
  },
  {
   "metadata": {
    "ExecuteTime": {
     "end_time": "2024-08-21T15:02:53.793909Z",
     "start_time": "2024-08-21T15:02:53.791229Z"
    }
   },
   "cell_type": "code",
   "source": [
    "# Calculate the average of the total_bedrooms column again\n",
    "average_bedrooms_after = round(df['total_bedrooms'].mean(),3)\n",
    "average_bedrooms_after"
   ],
   "id": "282597dc5be21a68",
   "outputs": [
    {
     "data": {
      "text/plain": [
       "537.871"
      ]
     },
     "execution_count": 36,
     "metadata": {},
     "output_type": "execute_result"
    }
   ],
   "execution_count": 36
  },
  {
   "metadata": {
    "ExecuteTime": {
     "end_time": "2024-08-21T15:02:55.855308Z",
     "start_time": "2024-08-21T15:02:55.852741Z"
    }
   },
   "cell_type": "code",
   "source": [
    "if average_bedrooms_before == average_bedrooms_after:\n",
    "    print(\"The average has not changed.\")\n",
    "else:\n",
    "    print(\"The average has changed.\")"
   ],
   "id": "21d09cde920f982a",
   "outputs": [
    {
     "name": "stdout",
     "output_type": "stream",
     "text": [
      "The average has not changed.\n"
     ]
    }
   ],
   "execution_count": 37
  },
  {
   "metadata": {},
   "cell_type": "markdown",
   "source": [
    "### Question 7\n",
    "\n",
    "1. Select all the options located on islands.\n",
    "2. Select only columns `housing_median_age`, `total_rooms`, `total_bedrooms`.\n",
    "3. Get the underlying NumPy array. Let's call it `X`.\n",
    "4. Compute matrix-matrix multiplication between the transpose of `X` and `X`. To get the transpose, use `X.T`. Let's call the result `XTX`.\n",
    "5. Compute the inverse of `XTX`.\n",
    "6. Create an array `y` with values `[950, 1300, 800, 1000, 1300]`.\n",
    "7. Multiply the inverse of `XTX` with the transpose of `X`, and then multiply the result by `y`. Call the result `w`.\n",
    "8. What's the value of the last element of `w`?\n",
    "\n",
    "**Note:** You just implemented linear regression. We'll talk about it in the next lesson.\n",
    "\n",
    "- -1.4812\n",
    "- 0.001\n",
    "- *5.6992*\n",
    "- 23.1233\n"
   ],
   "id": "2497533a18438878"
  },
  {
   "metadata": {
    "ExecuteTime": {
     "end_time": "2024-08-21T15:10:40.335653Z",
     "start_time": "2024-08-21T15:10:40.330835Z"
    }
   },
   "cell_type": "code",
   "source": [
    "import numpy as np\n",
    "\n",
    "\n",
    "# 1. Select the columns\n",
    "island_df = df[df.ocean_proximity == 'ISLAND']\n",
    "island_df = island_df[['housing_median_age', 'total_rooms', 'total_bedrooms']]\n",
    "\n",
    "X = island_df.values  # 2. Convert to NumPy array\n",
    "\n",
    "# 3. Compute XTX\n",
    "XTX = X.T.dot(X)\n",
    "\n",
    "# 4. Compute the inverse of XTX\n",
    "XTX_inv = np.linalg.inv(XTX)\n",
    "\n",
    "# 5. Create the array y\n",
    "y = np.array([950, 1300, 800, 1000, 1300])\n",
    "\n",
    "# 6. Calculate w = XTX_inv * X.T * y\n",
    "w = XTX_inv.dot(X.T).dot(y)\n",
    "\n",
    "# 7. Print the last element of w\n",
    "last_element_of_w = w[-1]\n",
    "print(\"The last element of w is:\", last_element_of_w)\n"
   ],
   "id": "1b417984659ff36a",
   "outputs": [
    {
     "name": "stdout",
     "output_type": "stream",
     "text": [
      "The last element of w is: 5.699229455065565\n"
     ]
    }
   ],
   "execution_count": 46
  }
 ],
 "metadata": {
  "kernelspec": {
   "display_name": "Python 3",
   "language": "python",
   "name": "python3"
  },
  "language_info": {
   "codemirror_mode": {
    "name": "ipython",
    "version": 2
   },
   "file_extension": ".py",
   "mimetype": "text/x-python",
   "name": "python",
   "nbconvert_exporter": "python",
   "pygments_lexer": "ipython2",
   "version": "2.7.6"
  }
 },
 "nbformat": 4,
 "nbformat_minor": 5
}
